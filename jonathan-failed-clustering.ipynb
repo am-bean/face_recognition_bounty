{
  "cells": [
    {
      "cell_type": "code",
      "execution_count": 1,
      "id": "c79c128d",
      "metadata": {
        "id": "c79c128d"
      },
      "outputs": [],
      "source": [
        "import numpy as np\n",
        "import pandas as pd\n",
        "import json\n",
        "import os\n",
        "import sys\n",
        "\n",
        "from sklearn.preprocessing import LabelBinarizer\n",
        "from sklearn.model_selection import train_test_split\n",
        "from sklearn.metrics import accuracy_score, confusion_matrix\n",
        "\n",
        "import tensorflow as tf\n",
        "from tensorflow.keras.applications.inception_v3 import InceptionV3\n",
        "from tensorflow.keras.applications.inception_v3 import preprocess_input\n",
        "from tensorflow.keras.preprocessing import image\n",
        "from tensorflow.keras.preprocessing.image import img_to_array\n",
        "from sklearn.cluster import KMeans\n",
        "\n",
        "from tqdm import tqdm\n",
        "import shutil"
      ]
    },
    {
      "cell_type": "markdown",
      "id": "536f1fd6",
      "metadata": {
        "id": "536f1fd6"
      },
      "source": [
        "## Load the Data"
      ]
    },
    {
      "cell_type": "code",
      "source": [
        "from google.colab import drive\n",
        "drive.mount('/content/gdrive')"
      ],
      "metadata": {
        "colab": {
          "base_uri": "https://localhost:8080/"
        },
        "id": "-u0iUPA2bOM8",
        "outputId": "23ffd123-6306-4eca-d498-12af3bab1d5c"
      },
      "id": "-u0iUPA2bOM8",
      "execution_count": 2,
      "outputs": [
        {
          "output_type": "stream",
          "name": "stdout",
          "text": [
            "Mounted at /content/gdrive\n"
          ]
        }
      ]
    },
    {
      "cell_type": "code",
      "source": [
        "!unzip -q ./gdrive/MyDrive/data_bb1_img_recognition.zip -d ."
      ],
      "metadata": {
        "id": "LCQf-VQpbge5"
      },
      "id": "LCQf-VQpbge5",
      "execution_count": 3,
      "outputs": []
    },
    {
      "cell_type": "code",
      "execution_count": 4,
      "id": "ed4919dc",
      "metadata": {
        "colab": {
          "base_uri": "https://localhost:8080/",
          "height": 363
        },
        "id": "ed4919dc",
        "outputId": "b730bca8-ad65-4fff-b4f0-54076f48039d"
      },
      "outputs": [
        {
          "output_type": "error",
          "ename": "FileNotFoundError",
          "evalue": "ignored",
          "traceback": [
            "\u001b[0;31m---------------------------------------------------------------------------\u001b[0m",
            "\u001b[0;31mFileNotFoundError\u001b[0m                         Traceback (most recent call last)",
            "\u001b[0;32m<ipython-input-4-7e8d1020b6ed>\u001b[0m in \u001b[0;36m<module>\u001b[0;34m\u001b[0m\n\u001b[1;32m      2\u001b[0m \u001b[0mLOADPATH\u001b[0m \u001b[0;34m=\u001b[0m \u001b[0;34m'./train/'\u001b[0m\u001b[0;34m\u001b[0m\u001b[0;34m\u001b[0m\u001b[0m\n\u001b[1;32m      3\u001b[0m \u001b[0mSAVEPATH\u001b[0m \u001b[0;34m=\u001b[0m \u001b[0;34m'./models/'\u001b[0m\u001b[0;34m\u001b[0m\u001b[0;34m\u001b[0m\u001b[0m\n\u001b[0;32m----> 4\u001b[0;31m \u001b[0mdf\u001b[0m \u001b[0;34m=\u001b[0m \u001b[0mpd\u001b[0m\u001b[0;34m.\u001b[0m\u001b[0mread_csv\u001b[0m\u001b[0;34m(\u001b[0m\u001b[0;34m'labels.csv'\u001b[0m\u001b[0;34m)\u001b[0m\u001b[0;34m\u001b[0m\u001b[0;34m\u001b[0m\u001b[0m\n\u001b[0m\u001b[1;32m      5\u001b[0m \u001b[0mdf\u001b[0m\u001b[0;34m.\u001b[0m\u001b[0mhead\u001b[0m\u001b[0;34m(\u001b[0m\u001b[0;34m)\u001b[0m\u001b[0;34m\u001b[0m\u001b[0;34m\u001b[0m\u001b[0m\n",
            "\u001b[0;32m/usr/local/lib/python3.8/dist-packages/pandas/util/_decorators.py\u001b[0m in \u001b[0;36mwrapper\u001b[0;34m(*args, **kwargs)\u001b[0m\n\u001b[1;32m    309\u001b[0m                     \u001b[0mstacklevel\u001b[0m\u001b[0;34m=\u001b[0m\u001b[0mstacklevel\u001b[0m\u001b[0;34m,\u001b[0m\u001b[0;34m\u001b[0m\u001b[0;34m\u001b[0m\u001b[0m\n\u001b[1;32m    310\u001b[0m                 )\n\u001b[0;32m--> 311\u001b[0;31m             \u001b[0;32mreturn\u001b[0m \u001b[0mfunc\u001b[0m\u001b[0;34m(\u001b[0m\u001b[0;34m*\u001b[0m\u001b[0margs\u001b[0m\u001b[0;34m,\u001b[0m \u001b[0;34m**\u001b[0m\u001b[0mkwargs\u001b[0m\u001b[0;34m)\u001b[0m\u001b[0;34m\u001b[0m\u001b[0;34m\u001b[0m\u001b[0m\n\u001b[0m\u001b[1;32m    312\u001b[0m \u001b[0;34m\u001b[0m\u001b[0m\n\u001b[1;32m    313\u001b[0m         \u001b[0;32mreturn\u001b[0m \u001b[0mwrapper\u001b[0m\u001b[0;34m\u001b[0m\u001b[0;34m\u001b[0m\u001b[0m\n",
            "\u001b[0;32m/usr/local/lib/python3.8/dist-packages/pandas/io/parsers/readers.py\u001b[0m in \u001b[0;36mread_csv\u001b[0;34m(filepath_or_buffer, sep, delimiter, header, names, index_col, usecols, squeeze, prefix, mangle_dupe_cols, dtype, engine, converters, true_values, false_values, skipinitialspace, skiprows, skipfooter, nrows, na_values, keep_default_na, na_filter, verbose, skip_blank_lines, parse_dates, infer_datetime_format, keep_date_col, date_parser, dayfirst, cache_dates, iterator, chunksize, compression, thousands, decimal, lineterminator, quotechar, quoting, doublequote, escapechar, comment, encoding, encoding_errors, dialect, error_bad_lines, warn_bad_lines, on_bad_lines, delim_whitespace, low_memory, memory_map, float_precision, storage_options)\u001b[0m\n\u001b[1;32m    584\u001b[0m     \u001b[0mkwds\u001b[0m\u001b[0;34m.\u001b[0m\u001b[0mupdate\u001b[0m\u001b[0;34m(\u001b[0m\u001b[0mkwds_defaults\u001b[0m\u001b[0;34m)\u001b[0m\u001b[0;34m\u001b[0m\u001b[0;34m\u001b[0m\u001b[0m\n\u001b[1;32m    585\u001b[0m \u001b[0;34m\u001b[0m\u001b[0m\n\u001b[0;32m--> 586\u001b[0;31m     \u001b[0;32mreturn\u001b[0m \u001b[0m_read\u001b[0m\u001b[0;34m(\u001b[0m\u001b[0mfilepath_or_buffer\u001b[0m\u001b[0;34m,\u001b[0m \u001b[0mkwds\u001b[0m\u001b[0;34m)\u001b[0m\u001b[0;34m\u001b[0m\u001b[0;34m\u001b[0m\u001b[0m\n\u001b[0m\u001b[1;32m    587\u001b[0m \u001b[0;34m\u001b[0m\u001b[0m\n\u001b[1;32m    588\u001b[0m \u001b[0;34m\u001b[0m\u001b[0m\n",
            "\u001b[0;32m/usr/local/lib/python3.8/dist-packages/pandas/io/parsers/readers.py\u001b[0m in \u001b[0;36m_read\u001b[0;34m(filepath_or_buffer, kwds)\u001b[0m\n\u001b[1;32m    480\u001b[0m \u001b[0;34m\u001b[0m\u001b[0m\n\u001b[1;32m    481\u001b[0m     \u001b[0;31m# Create the parser.\u001b[0m\u001b[0;34m\u001b[0m\u001b[0;34m\u001b[0m\u001b[0;34m\u001b[0m\u001b[0m\n\u001b[0;32m--> 482\u001b[0;31m     \u001b[0mparser\u001b[0m \u001b[0;34m=\u001b[0m \u001b[0mTextFileReader\u001b[0m\u001b[0;34m(\u001b[0m\u001b[0mfilepath_or_buffer\u001b[0m\u001b[0;34m,\u001b[0m \u001b[0;34m**\u001b[0m\u001b[0mkwds\u001b[0m\u001b[0;34m)\u001b[0m\u001b[0;34m\u001b[0m\u001b[0;34m\u001b[0m\u001b[0m\n\u001b[0m\u001b[1;32m    483\u001b[0m \u001b[0;34m\u001b[0m\u001b[0m\n\u001b[1;32m    484\u001b[0m     \u001b[0;32mif\u001b[0m \u001b[0mchunksize\u001b[0m \u001b[0;32mor\u001b[0m \u001b[0miterator\u001b[0m\u001b[0;34m:\u001b[0m\u001b[0;34m\u001b[0m\u001b[0;34m\u001b[0m\u001b[0m\n",
            "\u001b[0;32m/usr/local/lib/python3.8/dist-packages/pandas/io/parsers/readers.py\u001b[0m in \u001b[0;36m__init__\u001b[0;34m(self, f, engine, **kwds)\u001b[0m\n\u001b[1;32m    809\u001b[0m             \u001b[0mself\u001b[0m\u001b[0;34m.\u001b[0m\u001b[0moptions\u001b[0m\u001b[0;34m[\u001b[0m\u001b[0;34m\"has_index_names\"\u001b[0m\u001b[0;34m]\u001b[0m \u001b[0;34m=\u001b[0m \u001b[0mkwds\u001b[0m\u001b[0;34m[\u001b[0m\u001b[0;34m\"has_index_names\"\u001b[0m\u001b[0;34m]\u001b[0m\u001b[0;34m\u001b[0m\u001b[0;34m\u001b[0m\u001b[0m\n\u001b[1;32m    810\u001b[0m \u001b[0;34m\u001b[0m\u001b[0m\n\u001b[0;32m--> 811\u001b[0;31m         \u001b[0mself\u001b[0m\u001b[0;34m.\u001b[0m\u001b[0m_engine\u001b[0m \u001b[0;34m=\u001b[0m \u001b[0mself\u001b[0m\u001b[0;34m.\u001b[0m\u001b[0m_make_engine\u001b[0m\u001b[0;34m(\u001b[0m\u001b[0mself\u001b[0m\u001b[0;34m.\u001b[0m\u001b[0mengine\u001b[0m\u001b[0;34m)\u001b[0m\u001b[0;34m\u001b[0m\u001b[0;34m\u001b[0m\u001b[0m\n\u001b[0m\u001b[1;32m    812\u001b[0m \u001b[0;34m\u001b[0m\u001b[0m\n\u001b[1;32m    813\u001b[0m     \u001b[0;32mdef\u001b[0m \u001b[0mclose\u001b[0m\u001b[0;34m(\u001b[0m\u001b[0mself\u001b[0m\u001b[0;34m)\u001b[0m\u001b[0;34m:\u001b[0m\u001b[0;34m\u001b[0m\u001b[0;34m\u001b[0m\u001b[0m\n",
            "\u001b[0;32m/usr/local/lib/python3.8/dist-packages/pandas/io/parsers/readers.py\u001b[0m in \u001b[0;36m_make_engine\u001b[0;34m(self, engine)\u001b[0m\n\u001b[1;32m   1038\u001b[0m             )\n\u001b[1;32m   1039\u001b[0m         \u001b[0;31m# error: Too many arguments for \"ParserBase\"\u001b[0m\u001b[0;34m\u001b[0m\u001b[0;34m\u001b[0m\u001b[0;34m\u001b[0m\u001b[0m\n\u001b[0;32m-> 1040\u001b[0;31m         \u001b[0;32mreturn\u001b[0m \u001b[0mmapping\u001b[0m\u001b[0;34m[\u001b[0m\u001b[0mengine\u001b[0m\u001b[0;34m]\u001b[0m\u001b[0;34m(\u001b[0m\u001b[0mself\u001b[0m\u001b[0;34m.\u001b[0m\u001b[0mf\u001b[0m\u001b[0;34m,\u001b[0m \u001b[0;34m**\u001b[0m\u001b[0mself\u001b[0m\u001b[0;34m.\u001b[0m\u001b[0moptions\u001b[0m\u001b[0;34m)\u001b[0m  \u001b[0;31m# type: ignore[call-arg]\u001b[0m\u001b[0;34m\u001b[0m\u001b[0;34m\u001b[0m\u001b[0m\n\u001b[0m\u001b[1;32m   1041\u001b[0m \u001b[0;34m\u001b[0m\u001b[0m\n\u001b[1;32m   1042\u001b[0m     \u001b[0;32mdef\u001b[0m \u001b[0m_failover_to_python\u001b[0m\u001b[0;34m(\u001b[0m\u001b[0mself\u001b[0m\u001b[0;34m)\u001b[0m\u001b[0;34m:\u001b[0m\u001b[0;34m\u001b[0m\u001b[0;34m\u001b[0m\u001b[0m\n",
            "\u001b[0;32m/usr/local/lib/python3.8/dist-packages/pandas/io/parsers/c_parser_wrapper.py\u001b[0m in \u001b[0;36m__init__\u001b[0;34m(self, src, **kwds)\u001b[0m\n\u001b[1;32m     49\u001b[0m \u001b[0;34m\u001b[0m\u001b[0m\n\u001b[1;32m     50\u001b[0m         \u001b[0;31m# open handles\u001b[0m\u001b[0;34m\u001b[0m\u001b[0;34m\u001b[0m\u001b[0;34m\u001b[0m\u001b[0m\n\u001b[0;32m---> 51\u001b[0;31m         \u001b[0mself\u001b[0m\u001b[0;34m.\u001b[0m\u001b[0m_open_handles\u001b[0m\u001b[0;34m(\u001b[0m\u001b[0msrc\u001b[0m\u001b[0;34m,\u001b[0m \u001b[0mkwds\u001b[0m\u001b[0;34m)\u001b[0m\u001b[0;34m\u001b[0m\u001b[0;34m\u001b[0m\u001b[0m\n\u001b[0m\u001b[1;32m     52\u001b[0m         \u001b[0;32massert\u001b[0m \u001b[0mself\u001b[0m\u001b[0;34m.\u001b[0m\u001b[0mhandles\u001b[0m \u001b[0;32mis\u001b[0m \u001b[0;32mnot\u001b[0m \u001b[0;32mNone\u001b[0m\u001b[0;34m\u001b[0m\u001b[0;34m\u001b[0m\u001b[0m\n\u001b[1;32m     53\u001b[0m \u001b[0;34m\u001b[0m\u001b[0m\n",
            "\u001b[0;32m/usr/local/lib/python3.8/dist-packages/pandas/io/parsers/base_parser.py\u001b[0m in \u001b[0;36m_open_handles\u001b[0;34m(self, src, kwds)\u001b[0m\n\u001b[1;32m    220\u001b[0m         \u001b[0mLet\u001b[0m \u001b[0mthe\u001b[0m \u001b[0mreaders\u001b[0m \u001b[0mopen\u001b[0m \u001b[0mIOHandles\u001b[0m \u001b[0mafter\u001b[0m \u001b[0mthey\u001b[0m \u001b[0mare\u001b[0m \u001b[0mdone\u001b[0m \u001b[0;32mwith\u001b[0m \u001b[0mtheir\u001b[0m \u001b[0mpotential\u001b[0m \u001b[0mraises\u001b[0m\u001b[0;34m.\u001b[0m\u001b[0;34m\u001b[0m\u001b[0;34m\u001b[0m\u001b[0m\n\u001b[1;32m    221\u001b[0m         \"\"\"\n\u001b[0;32m--> 222\u001b[0;31m         self.handles = get_handle(\n\u001b[0m\u001b[1;32m    223\u001b[0m             \u001b[0msrc\u001b[0m\u001b[0;34m,\u001b[0m\u001b[0;34m\u001b[0m\u001b[0;34m\u001b[0m\u001b[0m\n\u001b[1;32m    224\u001b[0m             \u001b[0;34m\"r\"\u001b[0m\u001b[0;34m,\u001b[0m\u001b[0;34m\u001b[0m\u001b[0;34m\u001b[0m\u001b[0m\n",
            "\u001b[0;32m/usr/local/lib/python3.8/dist-packages/pandas/io/common.py\u001b[0m in \u001b[0;36mget_handle\u001b[0;34m(path_or_buf, mode, encoding, compression, memory_map, is_text, errors, storage_options)\u001b[0m\n\u001b[1;32m    700\u001b[0m         \u001b[0;32mif\u001b[0m \u001b[0mioargs\u001b[0m\u001b[0;34m.\u001b[0m\u001b[0mencoding\u001b[0m \u001b[0;32mand\u001b[0m \u001b[0;34m\"b\"\u001b[0m \u001b[0;32mnot\u001b[0m \u001b[0;32min\u001b[0m \u001b[0mioargs\u001b[0m\u001b[0;34m.\u001b[0m\u001b[0mmode\u001b[0m\u001b[0;34m:\u001b[0m\u001b[0;34m\u001b[0m\u001b[0;34m\u001b[0m\u001b[0m\n\u001b[1;32m    701\u001b[0m             \u001b[0;31m# Encoding\u001b[0m\u001b[0;34m\u001b[0m\u001b[0;34m\u001b[0m\u001b[0;34m\u001b[0m\u001b[0m\n\u001b[0;32m--> 702\u001b[0;31m             handle = open(\n\u001b[0m\u001b[1;32m    703\u001b[0m                 \u001b[0mhandle\u001b[0m\u001b[0;34m,\u001b[0m\u001b[0;34m\u001b[0m\u001b[0;34m\u001b[0m\u001b[0m\n\u001b[1;32m    704\u001b[0m                 \u001b[0mioargs\u001b[0m\u001b[0;34m.\u001b[0m\u001b[0mmode\u001b[0m\u001b[0;34m,\u001b[0m\u001b[0;34m\u001b[0m\u001b[0;34m\u001b[0m\u001b[0m\n",
            "\u001b[0;31mFileNotFoundError\u001b[0m: [Errno 2] No such file or directory: 'labels.csv'"
          ]
        }
      ],
      "source": [
        "# load data\n",
        "LOADPATH = './train/'\n",
        "SAVEPATH = './models/'\n",
        "df = pd.read_csv('labels.csv')\n",
        "df.head()"
      ]
    },
    {
      "cell_type": "markdown",
      "id": "c7f88404",
      "metadata": {
        "id": "c7f88404"
      },
      "source": [
        "# Clustering"
      ]
    },
    {
      "cell_type": "code",
      "source": [
        "model = InceptionV3(weights='imagenet', include_top=False, input_shape=(128, 128, 3))\n"
      ],
      "metadata": {
        "id": "40xVaSBxcolg"
      },
      "id": "40xVaSBxcolg",
      "execution_count": null,
      "outputs": []
    },
    {
      "cell_type": "code",
      "execution_count": null,
      "id": "0dfb8b93",
      "metadata": {
        "id": "0dfb8b93"
      },
      "outputs": [],
      "source": [
        "from pathlib import Path\n",
        "\n",
        "imgs = [image.load_img(Path(\"train\") / fname, target_size=(128, 128)) for fname in df[\"name\"]]"
      ]
    },
    {
      "cell_type": "code",
      "source": [
        "img_array = np.array([img_to_array(img) for img in imgs])\n",
        "preprocessed = preprocess_input(img_array)"
      ],
      "metadata": {
        "id": "mtR4UI_QeZTA"
      },
      "id": "mtR4UI_QeZTA",
      "execution_count": null,
      "outputs": []
    },
    {
      "cell_type": "code",
      "source": [
        "preprocessed.shape"
      ],
      "metadata": {
        "id": "t8RPfqeEfTv1"
      },
      "id": "t8RPfqeEfTv1",
      "execution_count": null,
      "outputs": []
    },
    {
      "cell_type": "code",
      "source": [
        "preds = model.predict(preprocessed)"
      ],
      "metadata": {
        "id": "z_L-is_ieMXV"
      },
      "id": "z_L-is_ieMXV",
      "execution_count": null,
      "outputs": []
    },
    {
      "cell_type": "code",
      "source": [
        "vector_preds = preds.reshape(preds.shape[0], -1)\n",
        "\n",
        "np.save(\"gdrive/MyDrive/data/face_bounty_vec.npy\", vector_preds)"
      ],
      "metadata": {
        "id": "XU8swxW4h4IV"
      },
      "id": "XU8swxW4h4IV",
      "execution_count": null,
      "outputs": []
    },
    {
      "cell_type": "code",
      "source": [
        "!pip install umap-learn\n",
        "import umap\n",
        "\n",
        "vector_preds = np.load(\"gdrive/MyDrive/data/face_bounty_vec.npy\")"
      ],
      "metadata": {
        "id": "qZEnjTA1ivem",
        "outputId": "85d84539-52c2-4fba-b836-61301481e5fe",
        "colab": {
          "base_uri": "https://localhost:8080/"
        }
      },
      "id": "qZEnjTA1ivem",
      "execution_count": 5,
      "outputs": [
        {
          "output_type": "stream",
          "name": "stdout",
          "text": [
            "Looking in indexes: https://pypi.org/simple, https://us-python.pkg.dev/colab-wheels/public/simple/\n",
            "Collecting umap-learn\n",
            "  Downloading umap-learn-0.5.3.tar.gz (88 kB)\n",
            "\u001b[K     |████████████████████████████████| 88 kB 4.2 MB/s \n",
            "\u001b[?25hRequirement already satisfied: numpy>=1.17 in /usr/local/lib/python3.8/dist-packages (from umap-learn) (1.21.6)\n",
            "Requirement already satisfied: scikit-learn>=0.22 in /usr/local/lib/python3.8/dist-packages (from umap-learn) (1.0.2)\n",
            "Requirement already satisfied: scipy>=1.0 in /usr/local/lib/python3.8/dist-packages (from umap-learn) (1.7.3)\n",
            "Requirement already satisfied: numba>=0.49 in /usr/local/lib/python3.8/dist-packages (from umap-learn) (0.56.4)\n",
            "Collecting pynndescent>=0.5\n",
            "  Downloading pynndescent-0.5.8.tar.gz (1.1 MB)\n",
            "\u001b[K     |████████████████████████████████| 1.1 MB 44.4 MB/s \n",
            "\u001b[?25hRequirement already satisfied: tqdm in /usr/local/lib/python3.8/dist-packages (from umap-learn) (4.64.1)\n",
            "Requirement already satisfied: llvmlite<0.40,>=0.39.0dev0 in /usr/local/lib/python3.8/dist-packages (from numba>=0.49->umap-learn) (0.39.1)\n",
            "Requirement already satisfied: importlib-metadata in /usr/local/lib/python3.8/dist-packages (from numba>=0.49->umap-learn) (4.13.0)\n",
            "Requirement already satisfied: setuptools in /usr/local/lib/python3.8/dist-packages (from numba>=0.49->umap-learn) (57.4.0)\n",
            "Requirement already satisfied: joblib>=0.11 in /usr/local/lib/python3.8/dist-packages (from pynndescent>=0.5->umap-learn) (1.2.0)\n",
            "Requirement already satisfied: threadpoolctl>=2.0.0 in /usr/local/lib/python3.8/dist-packages (from scikit-learn>=0.22->umap-learn) (3.1.0)\n",
            "Requirement already satisfied: zipp>=0.5 in /usr/local/lib/python3.8/dist-packages (from importlib-metadata->numba>=0.49->umap-learn) (3.10.0)\n",
            "Building wheels for collected packages: umap-learn, pynndescent\n",
            "  Building wheel for umap-learn (setup.py) ... \u001b[?25l\u001b[?25hdone\n",
            "  Created wheel for umap-learn: filename=umap_learn-0.5.3-py3-none-any.whl size=82829 sha256=c2cea2df1aedd3a91c4f3b74db12cb7897e9387049cee3b3e5c82408e4ae1fe6\n",
            "  Stored in directory: /root/.cache/pip/wheels/a9/3a/67/06a8950e053725912e6a8c42c4a3a241410f6487b8402542ea\n",
            "  Building wheel for pynndescent (setup.py) ... \u001b[?25l\u001b[?25hdone\n",
            "  Created wheel for pynndescent: filename=pynndescent-0.5.8-py3-none-any.whl size=55513 sha256=45f08cd38a8912a042723bc76dda58b621d256af47e9316cd2763312930923c8\n",
            "  Stored in directory: /root/.cache/pip/wheels/1c/63/3a/29954bca1a27ba100ed8c27973a78cb71b43dc67aed62e80c3\n",
            "Successfully built umap-learn pynndescent\n",
            "Installing collected packages: pynndescent, umap-learn\n",
            "Successfully installed pynndescent-0.5.8 umap-learn-0.5.3\n"
          ]
        }
      ]
    },
    {
      "cell_type": "code",
      "source": [
        "map = umap.UMAP(\n",
        "    n_neighbors=30,\n",
        "    min_dist=0.0,\n",
        "    n_components=20,\n",
        "    random_state=42,\n",
        ")\n",
        "print(f\"{vector_preds.shape=}\")\n",
        "reduced_dat = map.fit_transform(vector_preds)"
      ],
      "metadata": {
        "id": "eIw5rPb4jIaB",
        "outputId": "788a5e1a-9b53-443a-ef15-9e34f7ae41eb",
        "colab": {
          "base_uri": "https://localhost:8080/"
        }
      },
      "id": "eIw5rPb4jIaB",
      "execution_count": 6,
      "outputs": [
        {
          "output_type": "stream",
          "name": "stdout",
          "text": [
            "vector_preds.shape=(12283, 8192)\n"
          ]
        }
      ]
    },
    {
      "cell_type": "code",
      "source": [
        "np.save(\"gdrive/MyDrive/data/umap_10d.npy\", reduced_dat)"
      ],
      "metadata": {
        "id": "EGz5calRzuCs"
      },
      "id": "EGz5calRzuCs",
      "execution_count": 8,
      "outputs": []
    },
    {
      "cell_type": "code",
      "source": [
        "import matplotlib.pyplot as plt\n",
        "\n",
        "random_idx = np.random.randint(low=0, high=reduced_dat.shape[0], size=1000)\n",
        "sample_dat = reduced_dat[random_idx, :]\n",
        "sample_dat.shape\n",
        "sample_face = df.loc[random_idx, \"real_face\"]\n",
        "\n",
        "plt.scatter(sample_dat[:, 0], sample_dat[:, 1], c=sample_face)"
      ],
      "metadata": {
        "id": "g4ICGsnpjZkj",
        "outputId": "ed85dfff-1b02-4cb1-842c-7455895cb6a6",
        "colab": {
          "base_uri": "https://localhost:8080/",
          "height": 282
        }
      },
      "id": "g4ICGsnpjZkj",
      "execution_count": null,
      "outputs": [
        {
          "output_type": "execute_result",
          "data": {
            "text/plain": [
              "<matplotlib.collections.PathCollection at 0x7fb73eb85f90>"
            ]
          },
          "metadata": {},
          "execution_count": 29
        },
        {
          "output_type": "display_data",
          "data": {
            "text/plain": [
              "<Figure size 432x288 with 1 Axes>"
            ],
            "image/png": "[encoded data removed]"
          },
          "metadata": {
            "needs_background": "light"
          }
        }
      ]
    },
    {
      "cell_type": "markdown",
      "id": "bd92218e",
      "metadata": {
        "id": "bd92218e"
      },
      "source": [
        "## Gender"
      ]
    },
    {
      "cell_type": "code",
      "execution_count": null,
      "id": "7b92b024",
      "metadata": {
        "scrolled": true,
        "id": "7b92b024"
      },
      "outputs": [],
      "source": [
        "k = 2\n",
        "clusters_gender = KMeans(k, random_state = 40)\n",
        "gender_model = clusters_gender.fit(img_features)\n"
      ]
    },
    {
      "cell_type": "code",
      "execution_count": null,
      "id": "667dbaed",
      "metadata": {
        "scrolled": true,
        "id": "667dbaed"
      },
      "outputs": [],
      "source": [
        "df_clusters_gender = pd.DataFrame(df_cluster,columns=['name'])\n",
        "df_clusters_gender[\"clusterid\"] = clusters_gender.labels_"
      ]
    },
    {
      "cell_type": "code",
      "execution_count": null,
      "id": "015054c4",
      "metadata": {
        "id": "015054c4"
      },
      "outputs": [],
      "source": [
        "df_real_gender = df[df[\"gender\"].notna()][[\"name\",\"gender\"]]       \n",
        "df_real_gender['gender'] = df_real_gender['gender'].replace(['female', 'male'],[1, 0]) # we revise these after calling retrieve_info"
      ]
    },
    {
      "cell_type": "code",
      "execution_count": null,
      "id": "93b17dab",
      "metadata": {
        "id": "93b17dab"
      },
      "outputs": [],
      "source": [
        "df_comp_gender = pd.merge(df_real_gender, df_clusters_gender, on=['name'])\n",
        "df_comp_gender['comparison_column'] = np.where(df_comp_gender[\"gender\"] == df_comp_gender[\"clusterid\"],1, 0)"
      ]
    },
    {
      "cell_type": "code",
      "execution_count": null,
      "id": "798dea07",
      "metadata": {
        "id": "798dea07"
      },
      "outputs": [],
      "source": [
        "gender_clusters = df_comp_gender[\"clusterid\"]\n",
        "real_labels = df_comp_gender[\"gender\"]"
      ]
    },
    {
      "cell_type": "code",
      "execution_count": null,
      "id": "873fbc3e",
      "metadata": {
        "id": "873fbc3e",
        "outputId": "6a240138-4c13-4d20-bb59-39d7d2b79c80"
      },
      "outputs": [
        {
          "name": "stdout",
          "output_type": "stream",
          "text": [
            "[0 0 0 ... 1 0 1]\n",
            "1\n",
            "[1 1 1 ... 0 1 0]\n",
            "1\n"
          ]
        },
        {
          "data": {
            "text/plain": [
              "{0: 1, 1: 1}"
            ]
          },
          "execution_count": 47,
          "metadata": {},
          "output_type": "execute_result"
        }
      ],
      "source": [
        "retrieve_info(gender_clusters, real_labels)"
      ]
    },
    {
      "cell_type": "code",
      "execution_count": null,
      "id": "73d5799d",
      "metadata": {
        "id": "73d5799d",
        "outputId": "78a2dda6-bb86-4362-c85f-53369e285a51"
      },
      "outputs": [
        {
          "data": {
            "text/plain": [
              "1    2237\n",
              "0    2197\n",
              "Name: comparison_column, dtype: int64"
            ]
          },
          "execution_count": 48,
          "metadata": {},
          "output_type": "execute_result"
        }
      ],
      "source": [
        "df_comp_gender['comparison_column'].value_counts()"
      ]
    },
    {
      "cell_type": "code",
      "execution_count": null,
      "id": "dc07dc39",
      "metadata": {
        "id": "dc07dc39",
        "outputId": "fe9a103b-762d-4ac1-9294-0a4d519488fc"
      },
      "outputs": [
        {
          "data": {
            "text/plain": [
              "0.504510599909788"
            ]
          },
          "execution_count": 49,
          "metadata": {},
          "output_type": "execute_result"
        }
      ],
      "source": [
        "accuracy_gender = len(df_comp_gender[df_comp_gender['comparison_column'] == 1])/len(df_comp_gender)\n",
        "accuracy_gender"
      ]
    },
    {
      "cell_type": "code",
      "execution_count": null,
      "id": "fee05587",
      "metadata": {
        "id": "fee05587",
        "outputId": "4329c405-970c-4c3e-8b4c-698e72d9b479"
      },
      "outputs": [
        {
          "data": {
            "text/plain": [
              "0.033323034823674824"
            ]
          },
          "execution_count": 50,
          "metadata": {},
          "output_type": "execute_result"
        }
      ],
      "source": [
        "disp_gender = disparity_score(df_comp_gender['gender'], df_comp_gender['clusterid'])\n",
        "disp_gender"
      ]
    },
    {
      "cell_type": "markdown",
      "id": "6c525dcb",
      "metadata": {
        "id": "6c525dcb"
      },
      "source": [
        "## Age"
      ]
    },
    {
      "cell_type": "code",
      "execution_count": null,
      "id": "8edcacdc",
      "metadata": {
        "scrolled": true,
        "id": "8edcacdc",
        "outputId": "e87007c8-035f-48f4-f8a2-a97789072955"
      },
      "outputs": [
        {
          "data": {
            "text/html": [
              "<style>#sk-container-id-2 {color: black;background-color: white;}#sk-container-id-2 pre{padding: 0;}#sk-container-id-2 div.sk-toggleable {background-color: white;}#sk-container-id-2 label.sk-toggleable__label {cursor: pointer;display: block;width: 100%;margin-bottom: 0;padding: 0.3em;box-sizing: border-box;text-align: center;}#sk-container-id-2 label.sk-toggleable__label-arrow:before {content: \"▸\";float: left;margin-right: 0.25em;color: #696969;}#sk-container-id-2 label.sk-toggleable__label-arrow:hover:before {color: black;}#sk-container-id-2 div.sk-estimator:hover label.sk-toggleable__label-arrow:before {color: black;}#sk-container-id-2 div.sk-toggleable__content {max-height: 0;max-width: 0;overflow: hidden;text-align: left;background-color: #f0f8ff;}#sk-container-id-2 div.sk-toggleable__content pre {margin: 0.2em;color: black;border-radius: 0.25em;background-color: #f0f8ff;}#sk-container-id-2 input.sk-toggleable__control:checked~div.sk-toggleable__content {max-height: 200px;max-width: 100%;overflow: auto;}#sk-container-id-2 input.sk-toggleable__control:checked~label.sk-toggleable__label-arrow:before {content: \"▾\";}#sk-container-id-2 div.sk-estimator input.sk-toggleable__control:checked~label.sk-toggleable__label {background-color: #d4ebff;}#sk-container-id-2 div.sk-label input.sk-toggleable__control:checked~label.sk-toggleable__label {background-color: #d4ebff;}#sk-container-id-2 input.sk-hidden--visually {border: 0;clip: rect(1px 1px 1px 1px);clip: rect(1px, 1px, 1px, 1px);height: 1px;margin: -1px;overflow: hidden;padding: 0;position: absolute;width: 1px;}#sk-container-id-2 div.sk-estimator {font-family: monospace;background-color: #f0f8ff;border: 1px dotted black;border-radius: 0.25em;box-sizing: border-box;margin-bottom: 0.5em;}#sk-container-id-2 div.sk-estimator:hover {background-color: #d4ebff;}#sk-container-id-2 div.sk-parallel-item::after {content: \"\";width: 100%;border-bottom: 1px solid gray;flex-grow: 1;}#sk-container-id-2 div.sk-label:hover label.sk-toggleable__label {background-color: #d4ebff;}#sk-container-id-2 div.sk-serial::before {content: \"\";position: absolute;border-left: 1px solid gray;box-sizing: border-box;top: 0;bottom: 0;left: 50%;z-index: 0;}#sk-container-id-2 div.sk-serial {display: flex;flex-direction: column;align-items: center;background-color: white;padding-right: 0.2em;padding-left: 0.2em;position: relative;}#sk-container-id-2 div.sk-item {position: relative;z-index: 1;}#sk-container-id-2 div.sk-parallel {display: flex;align-items: stretch;justify-content: center;background-color: white;position: relative;}#sk-container-id-2 div.sk-item::before, #sk-container-id-2 div.sk-parallel-item::before {content: \"\";position: absolute;border-left: 1px solid gray;box-sizing: border-box;top: 0;bottom: 0;left: 50%;z-index: -1;}#sk-container-id-2 div.sk-parallel-item {display: flex;flex-direction: column;z-index: 1;position: relative;background-color: white;}#sk-container-id-2 div.sk-parallel-item:first-child::after {align-self: flex-end;width: 50%;}#sk-container-id-2 div.sk-parallel-item:last-child::after {align-self: flex-start;width: 50%;}#sk-container-id-2 div.sk-parallel-item:only-child::after {width: 0;}#sk-container-id-2 div.sk-dashed-wrapped {border: 1px dashed gray;margin: 0 0.4em 0.5em 0.4em;box-sizing: border-box;padding-bottom: 0.4em;background-color: white;}#sk-container-id-2 div.sk-label label {font-family: monospace;font-weight: bold;display: inline-block;line-height: 1.2em;}#sk-container-id-2 div.sk-label-container {text-align: center;}#sk-container-id-2 div.sk-container {/* jupyter's `normalize.less` sets `[hidden] { display: none; }` but bootstrap.min.css set `[hidden] { display: none !important; }` so we also need the `!important` here to be able to override the default hidden behavior on the sphinx rendered scikit-learn.org. See: https://github.com/scikit-learn/scikit-learn/issues/21755 */display: inline-block !important;position: relative;}#sk-container-id-2 div.sk-text-repr-fallback {display: none;}</style><div id=\"sk-container-id-2\" class=\"sk-top-container\"><div class=\"sk-text-repr-fallback\"><pre>KMeans(n_clusters=4, random_state=40)</pre><b>In a Jupyter environment, please rerun this cell to show the HTML representation or trust the notebook. <br />On GitHub, the HTML representation is unable to render, please try loading this page with nbviewer.org.</b></div><div class=\"sk-container\" hidden><div class=\"sk-item\"><div class=\"sk-estimator sk-toggleable\"><input class=\"sk-toggleable__control sk-hidden--visually\" id=\"sk-estimator-id-2\" type=\"checkbox\" checked><label for=\"sk-estimator-id-2\" class=\"sk-toggleable__label sk-toggleable__label-arrow\">KMeans</label><div class=\"sk-toggleable__content\"><pre>KMeans(n_clusters=4, random_state=40)</pre></div></div></div></div></div>"
            ],
            "text/plain": [
              "KMeans(n_clusters=4, random_state=40)"
            ]
          },
          "execution_count": 51,
          "metadata": {},
          "output_type": "execute_result"
        }
      ],
      "source": [
        "# age\n",
        "k = 4\n",
        "clusters_age = KMeans(k, random_state = 40)\n",
        "clusters_age.fit(img_features)"
      ]
    },
    {
      "cell_type": "code",
      "execution_count": null,
      "metadata": {
        "scrolled": true,
        "id": "-VpTVad1a4lh"
      },
      "outputs": [],
      "source": [
        "df_clusters_age = pd.DataFrame(df_cluster,columns=['name'])\n",
        "df_clusters_age[\"clusterid\"] = clusters_age.labels_"
      ],
      "id": "-VpTVad1a4lh"
    },
    {
      "cell_type": "code",
      "execution_count": null,
      "id": "50793121",
      "metadata": {
        "id": "50793121"
      },
      "outputs": [],
      "source": [
        "df_real_age = df[df[\"age\"].notna()][[\"name\",\"age\"]]       \n",
        "df_real_age['age'] = df_real_age['age'].replace(['0_17', '18_30', '31_60', '61_100'],[0,1,2,3])\n",
        "\n",
        "# we revise these after calling retrieve_info\n"
      ]
    },
    {
      "cell_type": "code",
      "execution_count": null,
      "id": "511b50ef",
      "metadata": {
        "id": "511b50ef"
      },
      "outputs": [],
      "source": [
        "df_comp_age = pd.merge(df_real_age, df_clusters_age, on=['name'])\n",
        "df_comp_age['comparison_column'] = np.where(df_comp_age[\"age\"] == df_comp_age[\"clusterid\"],1, 0)\n"
      ]
    },
    {
      "cell_type": "code",
      "execution_count": null,
      "id": "ddcec922",
      "metadata": {
        "id": "ddcec922"
      },
      "outputs": [],
      "source": [
        "age_clusters = df_comp_age[\"clusterid\"]\n",
        "real_labels = df_comp_age[\"age\"]"
      ]
    },
    {
      "cell_type": "code",
      "execution_count": null,
      "id": "90bf93df",
      "metadata": {
        "id": "90bf93df"
      },
      "outputs": [],
      "source": [
        "retrieve_info(age_clusters, real_labels)"
      ]
    },
    {
      "cell_type": "code",
      "execution_count": null,
      "id": "5cceeef1",
      "metadata": {
        "id": "5cceeef1",
        "outputId": "a31ac6df-a572-46b1-eadc-88e462234593"
      },
      "outputs": [
        {
          "data": {
            "text/plain": [
              "0    2919\n",
              "1    1515\n",
              "Name: comparison_column, dtype: int64"
            ]
          },
          "execution_count": 84,
          "metadata": {},
          "output_type": "execute_result"
        }
      ],
      "source": [
        "df_comp_age['comparison_column'].value_counts()"
      ]
    },
    {
      "cell_type": "code",
      "execution_count": null,
      "id": "9e9c4974",
      "metadata": {
        "id": "9e9c4974",
        "outputId": "31eb0bdd-73cb-427c-ee27-2d87499167c1"
      },
      "outputs": [
        {
          "data": {
            "text/plain": [
              "0.3416779431664411"
            ]
          },
          "execution_count": 85,
          "metadata": {},
          "output_type": "execute_result"
        }
      ],
      "source": [
        "accuracy_age = len(df_comp_age[df_comp_age['comparison_column'] == 1])/len(df_comp_age)\n",
        "accuracy_age"
      ]
    },
    {
      "cell_type": "code",
      "execution_count": null,
      "id": "2d25a278",
      "metadata": {
        "id": "2d25a278",
        "outputId": "bcec42f5-4851-406d-e99f-4c6f6f5545e9"
      },
      "outputs": [
        {
          "data": {
            "text/plain": [
              "0.3548509718145732"
            ]
          },
          "execution_count": 86,
          "metadata": {},
          "output_type": "execute_result"
        }
      ],
      "source": [
        "disp_age = disparity_score(df_comp_age['age'], df_comp_age['clusterid'])\n",
        "disp_age"
      ]
    },
    {
      "cell_type": "markdown",
      "id": "138b4c33",
      "metadata": {
        "id": "138b4c33"
      },
      "source": [
        "# Skin Tone"
      ]
    },
    {
      "cell_type": "code",
      "execution_count": null,
      "id": "3f0f155a",
      "metadata": {
        "scrolled": true,
        "id": "3f0f155a",
        "outputId": "fc560eb5-b03b-4efa-ab62-e83459ae6cde"
      },
      "outputs": [
        {
          "data": {
            "text/html": [
              "<style>#sk-container-id-2 {color: black;background-color: white;}#sk-container-id-2 pre{padding: 0;}#sk-container-id-2 div.sk-toggleable {background-color: white;}#sk-container-id-2 label.sk-toggleable__label {cursor: pointer;display: block;width: 100%;margin-bottom: 0;padding: 0.3em;box-sizing: border-box;text-align: center;}#sk-container-id-2 label.sk-toggleable__label-arrow:before {content: \"▸\";float: left;margin-right: 0.25em;color: #696969;}#sk-container-id-2 label.sk-toggleable__label-arrow:hover:before {color: black;}#sk-container-id-2 div.sk-estimator:hover label.sk-toggleable__label-arrow:before {color: black;}#sk-container-id-2 div.sk-toggleable__content {max-height: 0;max-width: 0;overflow: hidden;text-align: left;background-color: #f0f8ff;}#sk-container-id-2 div.sk-toggleable__content pre {margin: 0.2em;color: black;border-radius: 0.25em;background-color: #f0f8ff;}#sk-container-id-2 input.sk-toggleable__control:checked~div.sk-toggleable__content {max-height: 200px;max-width: 100%;overflow: auto;}#sk-container-id-2 input.sk-toggleable__control:checked~label.sk-toggleable__label-arrow:before {content: \"▾\";}#sk-container-id-2 div.sk-estimator input.sk-toggleable__control:checked~label.sk-toggleable__label {background-color: #d4ebff;}#sk-container-id-2 div.sk-label input.sk-toggleable__control:checked~label.sk-toggleable__label {background-color: #d4ebff;}#sk-container-id-2 input.sk-hidden--visually {border: 0;clip: rect(1px 1px 1px 1px);clip: rect(1px, 1px, 1px, 1px);height: 1px;margin: -1px;overflow: hidden;padding: 0;position: absolute;width: 1px;}#sk-container-id-2 div.sk-estimator {font-family: monospace;background-color: #f0f8ff;border: 1px dotted black;border-radius: 0.25em;box-sizing: border-box;margin-bottom: 0.5em;}#sk-container-id-2 div.sk-estimator:hover {background-color: #d4ebff;}#sk-container-id-2 div.sk-parallel-item::after {content: \"\";width: 100%;border-bottom: 1px solid gray;flex-grow: 1;}#sk-container-id-2 div.sk-label:hover label.sk-toggleable__label {background-color: #d4ebff;}#sk-container-id-2 div.sk-serial::before {content: \"\";position: absolute;border-left: 1px solid gray;box-sizing: border-box;top: 0;bottom: 0;left: 50%;z-index: 0;}#sk-container-id-2 div.sk-serial {display: flex;flex-direction: column;align-items: center;background-color: white;padding-right: 0.2em;padding-left: 0.2em;position: relative;}#sk-container-id-2 div.sk-item {position: relative;z-index: 1;}#sk-container-id-2 div.sk-parallel {display: flex;align-items: stretch;justify-content: center;background-color: white;position: relative;}#sk-container-id-2 div.sk-item::before, #sk-container-id-2 div.sk-parallel-item::before {content: \"\";position: absolute;border-left: 1px solid gray;box-sizing: border-box;top: 0;bottom: 0;left: 50%;z-index: -1;}#sk-container-id-2 div.sk-parallel-item {display: flex;flex-direction: column;z-index: 1;position: relative;background-color: white;}#sk-container-id-2 div.sk-parallel-item:first-child::after {align-self: flex-end;width: 50%;}#sk-container-id-2 div.sk-parallel-item:last-child::after {align-self: flex-start;width: 50%;}#sk-container-id-2 div.sk-parallel-item:only-child::after {width: 0;}#sk-container-id-2 div.sk-dashed-wrapped {border: 1px dashed gray;margin: 0 0.4em 0.5em 0.4em;box-sizing: border-box;padding-bottom: 0.4em;background-color: white;}#sk-container-id-2 div.sk-label label {font-family: monospace;font-weight: bold;display: inline-block;line-height: 1.2em;}#sk-container-id-2 div.sk-label-container {text-align: center;}#sk-container-id-2 div.sk-container {/* jupyter's `normalize.less` sets `[hidden] { display: none; }` but bootstrap.min.css set `[hidden] { display: none !important; }` so we also need the `!important` here to be able to override the default hidden behavior on the sphinx rendered scikit-learn.org. See: https://github.com/scikit-learn/scikit-learn/issues/21755 */display: inline-block !important;position: relative;}#sk-container-id-2 div.sk-text-repr-fallback {display: none;}</style><div id=\"sk-container-id-2\" class=\"sk-top-container\"><div class=\"sk-text-repr-fallback\"><pre>KMeans(n_clusters=4, random_state=40)</pre><b>In a Jupyter environment, please rerun this cell to show the HTML representation or trust the notebook. <br />On GitHub, the HTML representation is unable to render, please try loading this page with nbviewer.org.</b></div><div class=\"sk-container\" hidden><div class=\"sk-item\"><div class=\"sk-estimator sk-toggleable\"><input class=\"sk-toggleable__control sk-hidden--visually\" id=\"sk-estimator-id-2\" type=\"checkbox\" checked><label for=\"sk-estimator-id-2\" class=\"sk-toggleable__label sk-toggleable__label-arrow\">KMeans</label><div class=\"sk-toggleable__content\"><pre>KMeans(n_clusters=4, random_state=40)</pre></div></div></div></div></div>"
            ],
            "text/plain": [
              "KMeans(n_clusters=4, random_state=40)"
            ]
          },
          "execution_count": 51,
          "metadata": {},
          "output_type": "execute_result"
        }
      ],
      "source": [
        "# skin tone\n",
        "k = 10\n",
        "clusters_age = KMeans(k, random_state = 40)\n",
        "clusters_age.fit(img_features)"
      ]
    },
    {
      "cell_type": "code",
      "execution_count": null,
      "id": "d78987eb",
      "metadata": {
        "id": "d78987eb"
      },
      "outputs": [],
      "source": [
        "# #on test data\n",
        "# clusters_test = gender_model.predict(img_features_2)\n"
      ]
    },
    {
      "cell_type": "code",
      "execution_count": null,
      "id": "5518e8fd",
      "metadata": {
        "id": "5518e8fd"
      },
      "outputs": [],
      "source": [
        "# df_test = pd.read_csv('test/labels.csv')"
      ]
    },
    {
      "cell_type": "code",
      "execution_count": null,
      "id": "748045cb",
      "metadata": {
        "scrolled": true,
        "id": "748045cb"
      },
      "outputs": [],
      "source": [
        "df_clusters_skintone = pd.DataFrame(df_cluster,columns=['name'])\n",
        "df_clusters_skintone[\"clusterid\"] = clusters_skintone.labels_"
      ]
    },
    {
      "cell_type": "code",
      "execution_count": null,
      "id": "8fc46928",
      "metadata": {
        "id": "8fc46928"
      },
      "outputs": [],
      "source": [
        "df_real_skintone = df[df[\"skin_tone\"].notna()][[\"name\",\"skin_tone\"]]       \n",
        "df_real_skintone['skin_tone'] = df_real_age['skin_tone'].replace(['monk_1', 'monk_2', 'monk_3', 'monk_4', 'monk_5', 'monk_6', 'monk_7', 'monk_8', 'monk_9', 'monk_10'],[0,1,2,3,4,5,6,7,8,9])\n",
        "\n",
        "# we revise these after calling retrieve_info\n"
      ]
    },
    {
      "cell_type": "code",
      "execution_count": null,
      "id": "4e6bc650",
      "metadata": {
        "id": "4e6bc650"
      },
      "outputs": [],
      "source": [
        "df_comp_skintone = pd.merge(df_real_skintone, df_clusters_skintone, on=['name'])\n",
        "df_comp_skintone['comparison_column'] = np.where(df_comp_skintone[\"age\"] == df_comp_skintone[\"clusterid\"],1, 0)\n"
      ]
    },
    {
      "cell_type": "code",
      "execution_count": null,
      "id": "ec272a84",
      "metadata": {
        "id": "ec272a84"
      },
      "outputs": [],
      "source": [
        "real_labels_clusters = df_comp_skintone[\"clusterid\"]\n",
        "real_labels = df_comp_skintone[\"skin_tone\"]"
      ]
    },
    {
      "cell_type": "code",
      "execution_count": null,
      "id": "6a2c16eb",
      "metadata": {
        "id": "6a2c16eb"
      },
      "outputs": [],
      "source": [
        "retrieve_info(skintone_clusters, real_labels)"
      ]
    },
    {
      "cell_type": "code",
      "execution_count": null,
      "id": "2c6a64fe",
      "metadata": {
        "id": "2c6a64fe",
        "outputId": "1f292139-6d87-4dfc-bd58-af473610bc4a"
      },
      "outputs": [
        {
          "data": {
            "text/plain": [
              "0    2919\n",
              "1    1515\n",
              "Name: comparison_column, dtype: int64"
            ]
          },
          "execution_count": 84,
          "metadata": {},
          "output_type": "execute_result"
        }
      ],
      "source": [
        "df_comp_skintone['comparison_column'].value_counts()"
      ]
    },
    {
      "cell_type": "code",
      "execution_count": null,
      "id": "829da422",
      "metadata": {
        "id": "829da422",
        "outputId": "48da9a83-2e77-4677-ed00-c8d33e4756fd"
      },
      "outputs": [
        {
          "data": {
            "text/plain": [
              "0.3416779431664411"
            ]
          },
          "execution_count": 85,
          "metadata": {},
          "output_type": "execute_result"
        }
      ],
      "source": [
        "accuracy_skintone = len(df_comp_skintone[df_comp_skintone['comparison_column'] == 1])/len(df_comp_skintone)\n",
        "accuracy_skintone"
      ]
    },
    {
      "cell_type": "code",
      "execution_count": null,
      "id": "cd78e2ff",
      "metadata": {
        "id": "cd78e2ff",
        "outputId": "70582969-a2a5-408d-909b-aa4f0dd9ff85"
      },
      "outputs": [
        {
          "data": {
            "text/plain": [
              "0.3548509718145732"
            ]
          },
          "execution_count": 86,
          "metadata": {},
          "output_type": "execute_result"
        }
      ],
      "source": [
        "disp_skintone = disparity_score(df_comp_skintone['age'], df_comp_skintone['clusterid'])\n",
        "disp_skintone"
      ]
    },
    {
      "cell_type": "markdown",
      "id": "bc21914e",
      "metadata": {
        "id": "bc21914e"
      },
      "source": [
        "### On Test Data - incomplete"
      ]
    },
    {
      "cell_type": "code",
      "execution_count": null,
      "id": "5ad2b031",
      "metadata": {
        "id": "5ad2b031"
      },
      "outputs": [],
      "source": [
        "df_test_gender = pd.DataFrame(columns=['name', 'cluster'])"
      ]
    },
    {
      "cell_type": "code",
      "execution_count": null,
      "id": "6781a60d",
      "metadata": {
        "id": "6781a60d"
      },
      "outputs": [],
      "source": [
        "df_test = pd.read_csv('test/labels.csv')"
      ]
    },
    {
      "cell_type": "code",
      "execution_count": null,
      "id": "0ee354b4",
      "metadata": {
        "id": "0ee354b4"
      },
      "outputs": [],
      "source": [
        "img_path_2=os.listdir('test')\n",
        "img_features_2,img_name_2=image_feature(img_path_2, df_test, 'test')"
      ]
    },
    {
      "cell_type": "code",
      "execution_count": null,
      "id": "92dc4495",
      "metadata": {
        "id": "92dc4495"
      },
      "outputs": [],
      "source": [
        "# direc=os.listdir('test')\n",
        "# # print(direc)\n",
        "# for i in tqdm(direc):\n",
        "#     print('in here 1')\n",
        "#     if ((i!=\".DS_Store\") & (i!=\".ipynb_checkpoints\") & (i!=\"labels.csv\")):\n",
        "# #         if (df_cluster['name'].str.contains(i).sum()):\n",
        "#         print('in here 2') # debugging\n",
        "#         fname='test'+'/'+i\n",
        "#         print(\"this is the image name\", i)\n",
        "#         img=image.load_img(fname,target_size=(224,224))\n",
        "#         x = img_to_array(img)\n",
        "#         print(img.shape)\n",
        "# #         print(len(x))\n",
        "# #         x=np.expand_dims(x,axis=0)\n",
        "# #         x=preprocess_input(x)\n",
        "# #         x=x.flatten()\n",
        "# # #         feat=model.predict(x)\n",
        "# # #         feat=feat.flatten()\n",
        "# # #         print(len(img))\n",
        "#         cluster = gender_model.predict(img)\n",
        "#         print(cluster)\n",
        "#         df_test_gender.loc[len(df_test_gender)]=[fname, cluster]\n",
        "#     else:\n",
        "#         print('outside')"
      ]
    }
  ],
  "metadata": {
    "kernelspec": {
      "display_name": "bountykernel",
      "language": "python",
      "name": "bountykernel"
    },
    "language_info": {
      "codemirror_mode": {
        "name": "ipython",
        "version": 3
      },
      "file_extension": ".py",
      "mimetype": "text/x-python",
      "name": "python",
      "nbconvert_exporter": "python",
      "pygments_lexer": "ipython3",
      "version": "3.9.5"
    },
    "colab": {
      "provenance": []
    },
    "gpuClass": "standard"
  },
  "nbformat": 4,
  "nbformat_minor": 5
}
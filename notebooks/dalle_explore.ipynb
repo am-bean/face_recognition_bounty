{
 "cells": [
  {
   "cell_type": "code",
   "execution_count": null,
   "metadata": {},
   "outputs": [],
   "source": [
    "import requests\n",
    "import openai\n",
    "import numpy as np\n",
    "import json\n",
    "import pickle\n",
    "from PIL import Image\n",
    "from io import BytesIO\n",
    "\n",
    "import tensorflow as tf"
   ]
  },
  {
   "cell_type": "code",
   "execution_count": null,
   "metadata": {},
   "outputs": [],
   "source": [
    "\n",
    "def query_dalle(prompt, n=1):\n",
    "  return openai.Image.create(\n",
    "    prompt=prompt,\n",
    "    n=n,\n",
    "    size=\"256x256\"\n",
    "  )\n",
    "\n",
    "def read_json(path) -> dict:\n",
    "    with open(path) as f:\n",
    "        return json.load(f)\n",
    "\n",
    "config = read_json(\"../openai_config.json\")\n",
    "openai.api_key = config[\"key\"]\n",
    "\n"
   ]
  },
  {
   "cell_type": "code",
   "execution_count": null,
   "metadata": {},
   "outputs": [],
   "source": [
    "\n",
    "prompt = \"a close-up face photo of a 70 year old, dark-skinned man, photo-realistic, with a smile on his face\""
   ]
  },
  {
   "cell_type": "code",
   "execution_count": null,
   "metadata": {},
   "outputs": [],
   "source": [
    "# download VGG-16 with fully connected layers\n",
    "vgg = tf.keras.applications.vgg16.VGG16(\n",
    "    include_top=True,\n",
    "    weights='imagenet',\n",
    "    input_shape=(256, 256),\n",
    "    pooling=None,\n",
    "    classes=1000,\n",
    "    classifier_activation='softmax'\n",
    ")\n",
    "\n",
    "# remove the classification layer\n",
    "new_model = tf.keras.models.Sequential()\n",
    "for layer in vgg.layers[-1]:\n",
    "    new_model.add(layer)\n",
    "\n",
    "\n"
   ]
  }
 ],
 "metadata": {
  "kernelspec": {
   "display_name": "Python 3.9.7 ('waldo')",
   "language": "python",
   "name": "python3"
  },
  "language_info": {
   "name": "python",
   "version": "3.9.7"
  },
  "orig_nbformat": 4,
  "vscode": {
   "interpreter": {
    "hash": "3728cfcf275f18009e83b3c060135d2ac0dcb2409e2f4caa1bbd460837734472"
   }
  }
 },
 "nbformat": 4,
 "nbformat_minor": 2
}

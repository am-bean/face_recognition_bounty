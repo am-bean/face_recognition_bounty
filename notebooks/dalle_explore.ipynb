{
  "cells": [
    {
      "cell_type": "code",
      "execution_count": 1,
      "metadata": {
        "id": "54lItyyM7DOx",
        "colab": {
          "base_uri": "https://localhost:8080/"
        },
        "outputId": "fb049e3b-6b88-4ec6-91f5-b83bff0298bb"
      },
      "outputs": [
        {
          "output_type": "stream",
          "name": "stdout",
          "text": [
            "Looking in indexes: https://pypi.org/simple, https://us-python.pkg.dev/colab-wheels/public/simple/\n",
            "Collecting openai\n",
            "  Downloading openai-0.25.0.tar.gz (44 kB)\n",
            "\u001b[K     |████████████████████████████████| 44 kB 3.5 MB/s \n",
            "\u001b[?25h  Installing build dependencies ... \u001b[?25l\u001b[?25hdone\n",
            "  Getting requirements to build wheel ... \u001b[?25l\u001b[?25hdone\n",
            "    Preparing wheel metadata ... \u001b[?25l\u001b[?25hdone\n",
            "Requirement already satisfied: tqdm in /usr/local/lib/python3.8/dist-packages (from openai) (4.64.1)\n",
            "Requirement already satisfied: typing-extensions in /usr/local/lib/python3.8/dist-packages (from openai) (4.1.1)\n",
            "Collecting pandas-stubs>=1.1.0.11\n",
            "  Downloading pandas_stubs-1.5.2.221124-py3-none-any.whl (146 kB)\n",
            "\u001b[K     |████████████████████████████████| 146 kB 57.8 MB/s \n",
            "\u001b[?25hRequirement already satisfied: numpy in /usr/local/lib/python3.8/dist-packages (from openai) (1.21.6)\n",
            "Requirement already satisfied: requests>=2.20 in /usr/local/lib/python3.8/dist-packages (from openai) (2.23.0)\n",
            "Requirement already satisfied: openpyxl>=3.0.7 in /usr/local/lib/python3.8/dist-packages (from openai) (3.0.10)\n",
            "Requirement already satisfied: pandas>=1.2.3 in /usr/local/lib/python3.8/dist-packages (from openai) (1.3.5)\n",
            "Requirement already satisfied: et-xmlfile in /usr/local/lib/python3.8/dist-packages (from openpyxl>=3.0.7->openai) (1.1.0)\n",
            "Requirement already satisfied: python-dateutil>=2.7.3 in /usr/local/lib/python3.8/dist-packages (from pandas>=1.2.3->openai) (2.8.2)\n",
            "Requirement already satisfied: pytz>=2017.3 in /usr/local/lib/python3.8/dist-packages (from pandas>=1.2.3->openai) (2022.6)\n",
            "Collecting types-pytz>=2022.1.1\n",
            "  Downloading types_pytz-2022.6.0.1-py3-none-any.whl (4.7 kB)\n",
            "Requirement already satisfied: six>=1.5 in /usr/local/lib/python3.8/dist-packages (from python-dateutil>=2.7.3->pandas>=1.2.3->openai) (1.15.0)\n",
            "Requirement already satisfied: certifi>=2017.4.17 in /usr/local/lib/python3.8/dist-packages (from requests>=2.20->openai) (2022.9.24)\n",
            "Requirement already satisfied: urllib3!=1.25.0,!=1.25.1,<1.26,>=1.21.1 in /usr/local/lib/python3.8/dist-packages (from requests>=2.20->openai) (1.24.3)\n",
            "Requirement already satisfied: chardet<4,>=3.0.2 in /usr/local/lib/python3.8/dist-packages (from requests>=2.20->openai) (3.0.4)\n",
            "Requirement already satisfied: idna<3,>=2.5 in /usr/local/lib/python3.8/dist-packages (from requests>=2.20->openai) (2.10)\n",
            "Building wheels for collected packages: openai\n",
            "  Building wheel for openai (PEP 517) ... \u001b[?25l\u001b[?25hdone\n",
            "  Created wheel for openai: filename=openai-0.25.0-py3-none-any.whl size=55880 sha256=b6b3ab9df5d188fd2f7500fe23d7e3afef93a833eb6a5550cef99aed2747b7fd\n",
            "  Stored in directory: /root/.cache/pip/wheels/4b/92/33/6f57c7aae0b16875267999a50570e81f15eecec577ebe05a2e\n",
            "Successfully built openai\n",
            "Installing collected packages: types-pytz, pandas-stubs, openai\n",
            "Successfully installed openai-0.25.0 pandas-stubs-1.5.2.221124 types-pytz-2022.6.0.1\n"
          ]
        }
      ],
      "source": [
        "!pip install openai\n",
        "import requests\n",
        "import openai\n",
        "import numpy as np\n",
        "import json\n",
        "import random\n",
        "import pandas as pd\n",
        "import pickle\n",
        "from pathlib import Path\n",
        "from PIL import Image\n",
        "from typing import List, Tuple\n",
        "from io import BytesIO\n",
        "\n",
        "import tensorflow as tf"
      ]
    },
    {
      "cell_type": "code",
      "source": [
        "DATA_DIR = Path(\"gdrive/MyDrive/data/\")\n"
      ],
      "metadata": {
        "id": "rKbEm92YAb4Q"
      },
      "execution_count": 11,
      "outputs": []
    },
    {
      "cell_type": "code",
      "source": [
        "from google.colab import drive\n",
        "\n",
        "drive.mount('/content/gdrive')"
      ],
      "metadata": {
        "colab": {
          "base_uri": "https://localhost:8080/"
        },
        "id": "dpTJhygg-EFm",
        "outputId": "24c976cc-ce14-4b6a-a63f-2d02dd7a6d30"
      },
      "execution_count": 2,
      "outputs": [
        {
          "output_type": "stream",
          "name": "stdout",
          "text": [
            "Mounted at /content/gdrive\n"
          ]
        }
      ]
    },
    {
      "cell_type": "code",
      "execution_count": 3,
      "metadata": {
        "id": "TuI6GSSs9iL9"
      },
      "outputs": [],
      "source": [
        "labels = pd.read_csv(\"labels.csv\")"
      ]
    },
    {
      "cell_type": "code",
      "execution_count": 4,
      "metadata": {
        "id": "vB78gZmI7DO0"
      },
      "outputs": [],
      "source": [
        "\n",
        "def query_dalle(prompt, n=1):\n",
        "  return openai.Image.create(\n",
        "    prompt=prompt,\n",
        "    n=n,\n",
        "    size=\"256x256\"\n",
        "  )\n",
        "\n",
        "def read_json(path) -> dict:\n",
        "    with open(path) as f:\n",
        "        return json.load(f)\n",
        "      \n",
        "\n",
        "config = read_json(\"openai_config.json\")\n",
        "openai.api_key = config[\"key\"]\n",
        "\n"
      ]
    },
    {
      "cell_type": "code",
      "execution_count": 9,
      "metadata": {
        "id": "6JJGdi9F7DO1"
      },
      "outputs": [],
      "source": [
        "MONK = {\n",
        "    \"monk_1\": \"very pale\",\n",
        "    \"monk_2\": \"pale\",\n",
        "    \"monk_3\": \"light\",\n",
        "    \"monk_4\": \"olive\",\n",
        "    \"monk_5\": \"light brown\",\n",
        "    \"monk_6\": \"brown\",\n",
        "    \"monk_7\": \"dark brown\",\n",
        "    \"monk_8\": \"dark\",\n",
        "    \"monk_9\": \"black\",\n",
        "    \"monk_10\": \"very black\"\n",
        "}\n",
        "\n",
        "def create_prompt(age, gender, skin_tone) -> str: \n",
        "  age_min, age_max = age.split(\"_\")\n",
        "  new_age = random.randint(a=int(age_min), b=int(age_max))\n",
        "  monk = MONK[skin_tone] \n",
        "  base_prompt =  \"a face photo of a XXX year old, YYY-skinned ZZZ, photo-realistic\"\n",
        "  return base_prompt.replace(\"XXX\", str(new_age)).replace(\"YYY\", monk).replace(\"ZZZ\", gender)\n",
        "\n"
      ]
    },
    {
      "cell_type": "code",
      "execution_count": 10,
      "metadata": {
        "id": "L9OiDc62_zzy"
      },
      "outputs": [],
      "source": [
        "import itertools\n",
        "\n",
        "combis = list(itertools.product(labels[\"age\"].dropna().unique(), [\"male\", \"female\"], MONK.keys()))\n",
        "prompts = {(age, gender, skin_tone): create_prompt(age=age, gender=gender, skin_tone=skin_tone) for age, gender, skin_tone in combis}"
      ]
    },
    {
      "cell_type": "code",
      "execution_count": 25,
      "metadata": {
        "colab": {
          "base_uri": "https://localhost:8080/"
        },
        "id": "vm7FOmJjA2Jh",
        "outputId": "07332cd1-6712-4021-e82f-575873d49298"
      },
      "outputs": [
        {
          "output_type": "stream",
          "name": "stderr",
          "text": [
            "100%|██████████| 80/80 [14:15<00:00, 10.70s/it]\n"
          ]
        }
      ],
      "source": [
        "from tqdm import tqdm\n",
        "import time\n",
        "\n",
        "responses = {cats: [] for cats in prompts}\n",
        "for cats, prompt in tqdm(prompts.items()):\n",
        "  try:\n",
        "    response = query_dalle(prompt)\n",
        "    responses[cats].append(response[\"data\"])\n",
        "  except openai.APIError:\n",
        "    print(\"caught an error!\")\n",
        "    time.sleep(10)\n",
        "    try:\n",
        "      response = query_dalle(prompt)\n",
        "      responses[cats].append(response[\"data\"])\n",
        "    except openai.APIError as e:\n",
        "      print(\"another one\")\n",
        "      raise e \n",
        "  time.sleep(5)  "
      ]
    },
    {
      "cell_type": "code",
      "execution_count": 35,
      "metadata": {
        "id": "TsVqWVV-ETMz"
      },
      "outputs": [],
      "source": [
        "def read_img(path, img_size: Tuple[int, int]=(224,224)) -> Image.Image:\n",
        "    return Image.open(path).convert(\"RGB\").resize(img_size)\n",
        "\n",
        "def read_img_url(url: str) -> Image.Image:\n",
        "    response = requests.get(url)\n",
        "    return read_img(BytesIO(response.content))\n",
        "\n",
        "imgs = {cat: read_img_url(respons[0][0][\"url\"]) for cat, respons in responses.items()}"
      ]
    },
    {
      "cell_type": "code",
      "source": [
        "img_array = np.array([np.array(img) for img in imgs.values()])\n",
        "img_array.shape\n"
      ],
      "metadata": {
        "colab": {
          "base_uri": "https://localhost:8080/"
        },
        "id": "gGgLEcjE8qc7",
        "outputId": "30650326-ca54-489b-b8a4-e9e2c528a138"
      },
      "execution_count": 43,
      "outputs": [
        {
          "output_type": "execute_result",
          "data": {
            "text/plain": [
              "(80, 224, 224, 3)"
            ]
          },
          "metadata": {},
          "execution_count": 43
        }
      ]
    },
    {
      "cell_type": "code",
      "source": [
        "import pickle \n",
        "from pathlib import Path\n",
        "\n",
        "\n",
        "with open(DATA_DIR / \"dalle_img_dict.pkl\", \"wb\") as f:\n",
        "  pickle.dump(imgs, f)"
      ],
      "metadata": {
        "id": "U7dbvzV1-SnM"
      },
      "execution_count": 46,
      "outputs": []
    },
    {
      "cell_type": "code",
      "source": [
        "def create_vgg16():\n",
        "    # download VGG-16 with fully connected layers\n",
        "    vgg = tf.keras.applications.vgg16.VGG16(\n",
        "        include_top=True,\n",
        "        weights=\"imagenet\",\n",
        "        input_shape=(224, 224, 3),\n",
        "        pooling=None,\n",
        "        classes=1000,\n",
        "        classifier_activation=\"softmax\",\n",
        "    )\n",
        "    # remove the classification layer\n",
        "    new_model = tf.keras.models.Sequential()\n",
        "    for layer in vgg.layers[:-1]:\n",
        "        new_model.add(layer)\n",
        "    inputs = tf.keras.layers.Input(shape=(224, 224, 3))\n",
        "    x = tf.keras.applications.vgg16.preprocess_input(inputs)\n",
        "    outputs = new_model(x)\n",
        "    final_vgg = tf.keras.Model(inputs, outputs)\n",
        "    return final_vgg"
      ],
      "metadata": {
        "id": "RYS3_xyE-wdr"
      },
      "execution_count": 3,
      "outputs": []
    },
    {
      "cell_type": "code",
      "source": [
        "vgg16 = create_vgg16()"
      ],
      "metadata": {
        "colab": {
          "base_uri": "https://localhost:8080/"
        },
        "id": "dpoUJPzz_sVY",
        "outputId": "64375b40-4d7f-4163-954d-72cc235bfb61"
      },
      "execution_count": 5,
      "outputs": [
        {
          "output_type": "stream",
          "name": "stdout",
          "text": [
            "Downloading data from https://storage.googleapis.com/tensorflow/keras-applications/vgg16/vgg16_weights_tf_dim_ordering_tf_kernels.h5\n",
            "553467096/553467096 [==============================] - 24s 0us/step\n"
          ]
        }
      ]
    },
    {
      "cell_type": "code",
      "source": [
        "def read_pickle(path: Path): \n",
        "  with open(path, \"rb\") as f:\n",
        "    return pickle.load(f)\n",
        "\n",
        "img_dict = read_pickle(DATA_DIR / \"dalle_img_dict.pkl\")"
      ],
      "metadata": {
        "id": "AEbz32Jy_wf4"
      },
      "execution_count": 12,
      "outputs": []
    },
    {
      "cell_type": "code",
      "source": [
        "img_arr = np.array([np.array(img) for img in img_dict.values()])"
      ],
      "metadata": {
        "id": "kNAPPi-cAlLQ"
      },
      "execution_count": 13,
      "outputs": []
    },
    {
      "cell_type": "code",
      "execution_count": 15,
      "metadata": {
        "colab": {
          "base_uri": "https://localhost:8080/"
        },
        "id": "Z5LdkiRcOhKo",
        "outputId": "f9c92195-0f7b-4b99-f716-8b890eb4e64f"
      },
      "outputs": [
        {
          "output_type": "stream",
          "name": "stdout",
          "text": [
            "3/3 [==============================] - 0s 173ms/step\n"
          ]
        }
      ],
      "source": [
        "dalle_preds = vgg16.predict(img_arr)\n",
        "assert dalle_preds.shape[0] == 80"
      ]
    },
    {
      "cell_type": "code",
      "source": [
        "from scipy.spatial import KDTree\n",
        "from collections import Counter\n",
        "from typing import Dict, Tuple, List\n",
        "\n",
        "def most_common(arr) -> int:\n",
        "  counts = np.bincount(arr.astype(int))\n",
        "  return np.argmax(counts)\n",
        "\n",
        "\n",
        "def map_to_int(x: List[str]) -> Tuple[np.array, Dict[int, str]]:\n",
        "    \"\"\"Map a list of strings to a list of ints and a dict mapping ints to strings.\"\"\"\n",
        "    mapping = {s: i for i, s in enumerate(set(x))}\n",
        "    return np.array([mapping[s] for s in x]), mapping\n",
        "\n",
        "def invert_dict(d: dict) -> dict:\n",
        "  return {v: k for k, v in d.items()}\n",
        "\n",
        "class DalleKNN:\n",
        "  def __init__(self, labels: List[Tuple[str, str, str]]):\n",
        "    self.labels = labels\n",
        "    self.ages, self.age_map = map_to_int([x[0] for x in self.labels])\n",
        "    self.genders, self.gender_map =  map_to_int([x[1] for x in self.labels])\n",
        "    self.skin_tones, self.skin_tone_map =  map_to_int([x[2] for x in self.labels])\n",
        "    assert len(np.unique(self.skin_tones)) == 10, \"mismatch!\"\n",
        "    self.age_map = invert_dict(self.age_map)\n",
        "    self.gender_map = invert_dict(self.gender_map)\n",
        "    self.skin_tone_map = invert_dict(self.skin_tone_map)\n",
        "    \n",
        "  def fit(self, dalle_preds: np.ndarray):\n",
        "    self.kdtree = KDTree(dalle_preds)\n",
        "  \n",
        "  def find_match(self, new_img, k=3) -> Tuple[str, str, str]:\n",
        "    dist, idx = self.kdtree.query(new_img, k=k)\n",
        "    age_pred = most_common(self.ages[idx])\n",
        "    gender_pred = most_common(self.genders[idx])\n",
        "    skin_tone_pred = most_common(self.skin_tones[idx])\n",
        "    return self.age_map[age_pred], self.gender_map[gender_pred], self.skin_tone_map[skin_tone_pred]\n",
        "  \n"
      ],
      "metadata": {
        "id": "4qth1j8jBIaN"
      },
      "execution_count": 86,
      "outputs": []
    },
    {
      "cell_type": "code",
      "source": [
        "test_preds = np.load(DATA_DIR / \"vgg_test_preds.npy\")"
      ],
      "metadata": {
        "id": "Qkeq1M8lDF1H"
      },
      "execution_count": 31,
      "outputs": []
    },
    {
      "cell_type": "code",
      "source": [
        "cat_list = [cat for cat in img_dict]\n",
        "\n",
        "test_knn = DalleKNN(cat_list)\n",
        "test_knn.fit(dalle_preds)\n",
        "test_knn.find_match(dalle_preds[0])\n",
        "\n",
        "with open(DATA_DIR / \"oii_unsupervised.pkl\", \"wb\") as f:\n",
        "  pickle.dump(test_knn, f)"
      ],
      "metadata": {
        "id": "SgpFwVTzC6rb"
      },
      "execution_count": 113,
      "outputs": []
    },
    {
      "cell_type": "code",
      "source": [
        "new_knn = read_pickle(DATA_DIR / \"oii_unsupervised.pkl\")"
      ],
      "metadata": {
        "id": "Z38qmuBcUgFk",
        "outputId": "b4311619-c19f-41ee-f391-2a462251872c",
        "colab": {
          "base_uri": "https://localhost:8080/"
        }
      },
      "execution_count": 115,
      "outputs": [
        {
          "output_type": "execute_result",
          "data": {
            "text/plain": [
              "('0_17', 'male', 'monk_1')"
            ]
          },
          "metadata": {},
          "execution_count": 115
        }
      ]
    },
    {
      "cell_type": "code",
      "source": [
        "test_labels = pd.read_csv(DATA_DIR / \"test_labels.csv\", index_col=0)\n",
        "test_imgs = np.load(DATA_DIR / \"vgg_test_preds.npy\")\n"
      ],
      "metadata": {
        "id": "s_Ssb1BZDe-j"
      },
      "execution_count": 79,
      "outputs": []
    },
    {
      "cell_type": "code",
      "source": [
        "preds = {\"age\": [], \"gender\": [], \"skin_tone\": []}\n",
        "\n",
        "for (i, row), test_img in zip(test_labels.iterrows(), test_imgs):\n",
        "  agepred, genderpred, skinpred = test_knn.find_match(test_img)\n",
        "  preds[\"age\"].append(agepred)  \n",
        "  preds[\"gender\"].append(genderpred)  \n",
        "  preds[\"skin_tone\"].append(skinpred)  \n"
      ],
      "metadata": {
        "id": "MT8sBu0RM-oC"
      },
      "execution_count": 97,
      "outputs": []
    },
    {
      "cell_type": "code",
      "source": [
        "from sklearn.metrics import confusion_matrix, accuracy_score\n",
        "# calculate disparity\n",
        "def disparity_score(ytrue, ypred):\n",
        "    cm = confusion_matrix(ytrue,ypred)\n",
        "    cm = cm.astype('float') / cm.sum(axis=1)[:, np.newaxis]\n",
        "    all_acc = list(cm.diagonal())\n",
        "    return max(all_acc) - min(all_acc)\n",
        "\n",
        "def evaluate_dict(test_df, pred_dict, score_func): \n",
        "  return {category: score_func(test_df[category], prediction) for category, prediction in pred_dict.items()}\n"
      ],
      "metadata": {
        "id": "CgUpRxb9OdkR"
      },
      "execution_count": 104,
      "outputs": []
    },
    {
      "cell_type": "code",
      "source": [
        "results = {}\n",
        "results[\"accuracy\"] = evaluate_dict(test_labels, pred_dict=preds, score_func=accuracy_score)\n",
        "results[\"disparity\"] = evaluate_dict(test_labels, pred_dict=preds, score_func=disparity_score)\n",
        "results"
      ],
      "metadata": {
        "id": "SiCz0F4IREUi",
        "outputId": "6000bcf0-eba7-4b6a-bd9d-60614b267e93",
        "colab": {
          "base_uri": "https://localhost:8080/"
        }
      },
      "execution_count": 106,
      "outputs": [
        {
          "output_type": "execute_result",
          "data": {
            "text/plain": [
              "{'accuracy': {'age': 0.22966666666666666,\n",
              "  'gender': 0.6896666666666667,\n",
              "  'skin_tone': 0.112},\n",
              " 'disparity': {'age': 0.47205671364672125,\n",
              "  'gender': 0.07009798793458166,\n",
              "  'skin_tone': 0.3431952662721893}}"
            ]
          },
          "metadata": {},
          "execution_count": 106
        }
      ]
    },
    {
      "cell_type": "code",
      "source": [
        "def getScore(results):\n",
        "    acc = results['accuracy']\n",
        "    disp = results['disparity']\n",
        "    ad = 2*acc['gender']*(1-disp['gender']) + 4*acc['age']*(1-disp['age']**2) + 10*acc['skin_tone']*(1-disp['skin_tone']**5)\n",
        "    return ad\n",
        "\n",
        "title = \"OII Gang Unsupervised\"\n",
        "\n",
        "submission = {\n",
        "    'submission_name': title,\n",
        "    'score': getScore(results),\n",
        "    'metrics': results\n",
        "}\n",
        "submission"
      ],
      "metadata": {
        "colab": {
          "base_uri": "https://localhost:8080/"
        },
        "id": "B-b9nSydPnzY",
        "outputId": "a8c70c37-d251-4527-a6c2-e9b647bcf80f"
      },
      "execution_count": 110,
      "outputs": [
        {
          "output_type": "execute_result",
          "data": {
            "text/plain": [
              "{'submission_name': 'OII Gang Unsupervised',\n",
              " 'score': 3.1112656662779923,\n",
              " 'metrics': {'accuracy': {'age': 0.22966666666666666,\n",
              "   'gender': 0.6896666666666667,\n",
              "   'skin_tone': 0.112},\n",
              "  'disparity': {'age': 0.47205671364672125,\n",
              "   'gender': 0.07009798793458166,\n",
              "   'skin_tone': 0.3431952662721893}}}"
            ]
          },
          "metadata": {},
          "execution_count": 110
        }
      ]
    },
    {
      "cell_type": "code",
      "source": [
        "with open(DATA_DIR / \"unsupervised_oii_results.json\", \"w\") as f:\n",
        "  json.dump(submission, f)"
      ],
      "metadata": {
        "id": "dWnJu70nS3Lo"
      },
      "execution_count": 112,
      "outputs": []
    }
  ],
  "metadata": {
    "accelerator": "GPU",
    "colab": {
      "provenance": []
    },
    "gpuClass": "standard",
    "kernelspec": {
      "display_name": "Python 3.9.7 ('waldo')",
      "language": "python",
      "name": "python3"
    },
    "language_info": {
      "codemirror_mode": {
        "name": "ipython",
        "version": 3
      },
      "file_extension": ".py",
      "mimetype": "text/x-python",
      "name": "python",
      "nbconvert_exporter": "python",
      "pygments_lexer": "ipython3",
      "version": "3.9.7"
    },
    "orig_nbformat": 4,
    "vscode": {
      "interpreter": {
        "hash": "3728cfcf275f18009e83b3c060135d2ac0dcb2409e2f4caa1bbd460837734472"
      }
    }
  },
  "nbformat": 4,
  "nbformat_minor": 0
}
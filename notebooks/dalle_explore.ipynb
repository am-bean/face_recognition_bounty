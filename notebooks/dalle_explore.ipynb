{
  "cells": [
    {
      "cell_type": "code",
      "execution_count": 1,
      "metadata": {
        "id": "54lItyyM7DOx"
      },
      "outputs": [],
      "source": [
        "#!pip install openai\n",
        "import requests\n",
        "import openai\n",
        "import numpy as np\n",
        "import json\n",
        "import random\n",
        "import pandas as pd\n",
        "import pickle\n",
        "from pathlib import Path\n",
        "from PIL import Image\n",
        "from typing import List, Tuple\n",
        "from io import BytesIO\n",
        "\n",
        "import tensorflow as tf"
      ]
    },
    {
      "cell_type": "code",
      "source": [
        "labels = pd.read_csv(\"labels.csv\")\n",
        "labels[\"skin_tone\"].unique()"
      ],
      "metadata": {
        "id": "TuI6GSSs9iL9",
        "outputId": "f8a68225-f056-4179-b9bf-0fcc7ce7c834",
        "colab": {
          "base_uri": "https://localhost:8080/"
        }
      },
      "execution_count": 18,
      "outputs": [
        {
          "output_type": "execute_result",
          "data": {
            "text/plain": [
              "array([nan, 'monk_1', 'monk_6', 'monk_3', 'monk_2', 'monk_8', 'monk_4',\n",
              "       'monk_5', 'monk_9', 'monk_7', 'monk_10'], dtype=object)"
            ]
          },
          "metadata": {},
          "execution_count": 18
        }
      ]
    },
    {
      "cell_type": "code",
      "execution_count": 9,
      "metadata": {
        "id": "vB78gZmI7DO0"
      },
      "outputs": [],
      "source": [
        "\n",
        "def query_dalle(prompt, n=1):\n",
        "  return openai.Image.create(\n",
        "    prompt=prompt,\n",
        "    n=n,\n",
        "    size=\"256x256\"\n",
        "  )\n",
        "\n",
        "def read_json(path) -> dict:\n",
        "    with open(path) as f:\n",
        "        return json.load(f)\n",
        "      \n",
        "\n",
        "config = read_json(\"openai_config.json\")\n",
        "openai.api_key = config[\"key\"]\n",
        "\n"
      ]
    },
    {
      "cell_type": "code",
      "execution_count": 29,
      "metadata": {
        "id": "6JJGdi9F7DO1"
      },
      "outputs": [],
      "source": [
        "MONK = {\n",
        "    \"monk_1\": \"very pale\",\n",
        "    \"monk_2\": \"pale\",\n",
        "    \"monk_3\": \"light\",\n",
        "    \"monk_4\": \"olive\",\n",
        "    \"monk_5\": \"light brown\",\n",
        "    \"monk_6\": \"brown\",\n",
        "    \"monk_7\": \"dark brown\",\n",
        "    \"monk_8\": \"dark\",\n",
        "    \"monk_9\": \"black\",\n",
        "    \"monk_10\": \"very black\"\n",
        "}\n",
        "\n",
        "def create_prompt(age, gender, skin_tone) -> str: \n",
        "  age_min, age_max = age.split(\"_\")\n",
        "  new_age = random.randint(a=int(age_min), b=int(age_max))\n",
        "  monk = MONK[skin_tone] \n",
        "  base_prompt =  \"a close-up face photo of a XXX year old, YYY-skinned ZZZ, photo-realistic\"\n",
        "  return base_prompt.replace(\"XXX\", str(new_age)).replace(\"YYY\", monk).replace(\"ZZZ\", gender)\n",
        "\n"
      ]
    },
    {
      "cell_type": "code",
      "source": [
        "import itertools\n",
        "\n",
        "combis = list(itertools.product(labels[\"age\"].dropna().unique(), [\"male\", \"female\"], MONK.keys()))\n",
        "prompts = [create_prompt(age=age, gender=gender, skin_tone=skin_tone) for age, gender, skin_tone in combis]"
      ],
      "metadata": {
        "id": "L9OiDc62_zzy"
      },
      "execution_count": 33,
      "outputs": []
    },
    {
      "cell_type": "code",
      "source": [
        "from tqdm import tqdm\n",
        "import time\n",
        "\n",
        "responses = []\n",
        "for prompt in tqdm(prompts):\n",
        "  try:\n",
        "    response = query_dalle(prompt)\n",
        "    responses.append(response[\"data\"])\n",
        "  except openai.APIError:\n",
        "    print(\"caught an error!\")\n",
        "    time.sleep(10)\n",
        "    try:\n",
        "      response = query_dalle(prompt)\n",
        "      responses.append(response[\"data\"])\n",
        "    except openai.APIError as e:\n",
        "      print(\"another one\")\n",
        "      raise e \n",
        "  time.sleep(5)\n",
        "  \n",
        "  \n",
        "  \n"
      ],
      "metadata": {
        "id": "vm7FOmJjA2Jh",
        "outputId": "dda905ff-9206-4689-f55e-197bc339d377",
        "colab": {
          "base_uri": "https://localhost:8080/"
        }
      },
      "execution_count": 47,
      "outputs": [
        {
          "output_type": "stream",
          "name": "stderr",
          "text": [
            "  8%|▊         | 6/80 [01:01<12:34, 10.20s/it]"
          ]
        },
        {
          "output_type": "stream",
          "name": "stdout",
          "text": [
            "caught an error!\n"
          ]
        },
        {
          "output_type": "stream",
          "name": "stderr",
          "text": [
            "100%|██████████| 80/80 [16:14<00:00, 12.18s/it]\n"
          ]
        }
      ]
    },
    {
      "cell_type": "code",
      "source": [
        "urls = [response[0][\"url\"] for response in responses]"
      ],
      "metadata": {
        "id": "tyn9kQ0zFm94"
      },
      "execution_count": 52,
      "outputs": []
    },
    {
      "cell_type": "code",
      "source": [
        "def read_img(path, img_size: Tuple[int, int]=(224,224)) -> Image.Image:\n",
        "    return Image.open(path).convert(\"RGB\").resize(img_size)\n",
        "\n",
        "def read_img_url(url: str) -> Image.Image:\n",
        "    response = requests.get(url)\n",
        "    return read_img(BytesIO(response.content))\n",
        "\n"
      ],
      "metadata": {
        "id": "TsVqWVV-ETMz"
      },
      "execution_count": 80,
      "outputs": []
    },
    {
      "cell_type": "code",
      "source": [
        "imgs = [read_img_url(url) for url in urls]"
      ],
      "metadata": {
        "id": "19mkNyYXCk_Q"
      },
      "execution_count": 74,
      "outputs": []
    },
    {
      "cell_type": "code",
      "source": [
        "imgs = [img.resize((224, 224)) for img in imgs]"
      ],
      "metadata": {
        "id": "wYQDAuIMMbv1"
      },
      "execution_count": 81,
      "outputs": []
    },
    {
      "cell_type": "code",
      "execution_count": 2,
      "metadata": {
        "id": "2H_S82eB7DO2"
      },
      "outputs": [],
      "source": [
        "# download VGG-16 with fully connected layers\n",
        "vgg = tf.keras.applications.vgg16.VGG16(\n",
        "    include_top=True,\n",
        "    weights='imagenet',\n",
        "    input_shape=(224, 224, 3),\n",
        "    pooling=None,\n",
        "    classes=1000,\n",
        "    classifier_activation='softmax'\n",
        ")\n",
        "\n",
        "# remove the classification layer\n",
        "new_model = tf.keras.models.Sequential()\n",
        "for layer in vgg.layers[:-1]:\n",
        "    new_model.add(layer)\n",
        "\n",
        "\n"
      ]
    },
    {
      "cell_type": "code",
      "source": [
        "preprocess = tf.keras.applications.vgg16.preprocess_input\n"
      ],
      "metadata": {
        "id": "geBsQ7GM72oP"
      },
      "execution_count": 3,
      "outputs": []
    },
    {
      "cell_type": "code",
      "source": [
        "from google.colab import drive\n",
        "\n",
        "drive.mount('/content/gdrive')"
      ],
      "metadata": {
        "id": "Z5LdkiRcOhKo",
        "outputId": "9cb1b86b-89e5-46eb-f3f5-b74d39f8bf92",
        "colab": {
          "base_uri": "https://localhost:8080/"
        }
      },
      "execution_count": 6,
      "outputs": [
        {
          "output_type": "stream",
          "name": "stdout",
          "text": [
            "Mounted at /content/gdrive\n"
          ]
        }
      ]
    },
    {
      "cell_type": "code",
      "source": [
        "#np.save(\"gdrive/MyDrive/data/dalle_imgs_preprocessed.npy\", processed_imgs)\n",
        "processed_imgs = np.load(\"gdrive/MyDrive/data/dalle_imgs_preprocessed.npy\")"
      ],
      "metadata": {
        "id": "VGlAlgqF7vdM"
      },
      "execution_count": 4,
      "outputs": []
    },
    {
      "cell_type": "code",
      "source": [
        "preds = new_model.predict(processed_imgs)"
      ],
      "metadata": {
        "id": "LjQgXc79QJxU",
        "outputId": "29e1c173-906b-49a2-e0e7-8d5ebbceb4a8",
        "colab": {
          "base_uri": "https://localhost:8080/"
        }
      },
      "execution_count": 5,
      "outputs": [
        {
          "output_type": "stream",
          "name": "stdout",
          "text": [
            "3/3 [==============================] - 12s 841ms/step\n"
          ]
        }
      ]
    },
    {
      "cell_type": "code",
      "source": [
        "preds.shape"
      ],
      "metadata": {
        "id": "hp2mJ4ZmQPfm",
        "outputId": "31f1deab-5ccd-4ed4-9f4c-cf0dd46083ba",
        "colab": {
          "base_uri": "https://localhost:8080/"
        }
      },
      "execution_count": 9,
      "outputs": [
        {
          "output_type": "execute_result",
          "data": {
            "text/plain": [
              "(79, 4096)"
            ]
          },
          "metadata": {},
          "execution_count": 9
        }
      ]
    },
    {
      "cell_type": "code",
      "source": [
        "import pickle\n",
        "\n",
        "with open(\"gdrive/MyDrive/data/dalle_imgs.pkl\", \"wb\") as f:\n",
        "  pickle.dump(imgs, f)"
      ],
      "metadata": {
        "id": "LUZ16q0_PJ5N"
      },
      "execution_count": 89,
      "outputs": []
    },
    {
      "cell_type": "code",
      "source": [
        "# Now lets try to load all the (test) imgs\n",
        "!unzip -q gdrive/MyDrive/data_bb1_img_recognition.zip -d ."
      ],
      "metadata": {
        "id": "dzPS7hAlQpC6"
      },
      "execution_count": 10,
      "outputs": []
    },
    {
      "cell_type": "code",
      "source": [
        "test_labels = pd.read_csv(next(Path(\"test\").glob(\"*.csv\")))\n",
        "test_imgs = [tf.keras.utils.load_img(Path(\"test\") / path, target_size=(224, 224)) for path in test_labels[\"name\"]]\n",
        "test_preprocessed = [preprocess(np.asarray(img)) for img in test_imgs]"
      ],
      "metadata": {
        "id": "ZcK_txA2Q9De"
      },
      "execution_count": 6,
      "outputs": []
    },
    {
      "cell_type": "code",
      "source": [
        "test_preds = new_model.predict(np.array(test_preprocessed))"
      ],
      "metadata": {
        "id": "IUnFt-XXR2y3",
        "outputId": "7f65bd02-a516-4140-f0cc-54f7989f3c9a",
        "colab": {
          "base_uri": "https://localhost:8080/"
        }
      },
      "execution_count": 8,
      "outputs": [
        {
          "output_type": "stream",
          "name": "stdout",
          "text": [
            "94/94 [==============================] - 15s 166ms/step\n"
          ]
        }
      ]
    },
    {
      "cell_type": "code",
      "source": [
        "np.save(\"gdrive/MyDrive/data/vgg_test_preds.npy\", test_preds)\n",
        "np.save(\"gdrive/MyDrive/data/vgg_dalle_preds.npy\", preds)\n"
      ],
      "metadata": {
        "id": "-Fg0clXXSvp0"
      },
      "execution_count": 11,
      "outputs": []
    },
    {
      "cell_type": "code",
      "source": [],
      "metadata": {
        "id": "xpewfRNVTELL"
      },
      "execution_count": null,
      "outputs": []
    }
  ],
  "metadata": {
    "kernelspec": {
      "display_name": "Python 3.9.7 ('waldo')",
      "language": "python",
      "name": "python3"
    },
    "language_info": {
      "name": "python",
      "version": "3.9.7"
    },
    "orig_nbformat": 4,
    "vscode": {
      "interpreter": {
        "hash": "3728cfcf275f18009e83b3c060135d2ac0dcb2409e2f4caa1bbd460837734472"
      }
    },
    "colab": {
      "provenance": []
    },
    "accelerator": "GPU",
    "gpuClass": "standard"
  },
  "nbformat": 4,
  "nbformat_minor": 0
}
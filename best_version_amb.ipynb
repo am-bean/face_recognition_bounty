{
  "cells": [
    {
      "cell_type": "markdown",
      "id": "bd235fb0",
      "metadata": {
        "id": "bd235fb0"
      },
      "source": [
        "# Bias Buccaneers Image Recognition Challenge: Quickstart\n",
        "\n",
        "This notebook will introduce you to the data and describe a workflow to train and evaluate a baseline model on it."
      ]
    },
    {
      "cell_type": "markdown",
      "id": "ad57b0b7",
      "metadata": {
        "id": "ad57b0b7"
      },
      "source": [
        "## Initial Setup\n",
        "\n",
        "We start with loading the required packages."
      ]
    },
    {
      "cell_type": "code",
      "execution_count": null,
      "id": "2454f20e",
      "metadata": {
        "id": "2454f20e"
      },
      "outputs": [],
      "source": [
        "# !pip install tensorflow\n",
        "import numpy as np\n",
        "import pandas as pd\n",
        "import json\n",
        "import os\n",
        "\n",
        "from sklearn.preprocessing import LabelBinarizer\n",
        "from sklearn.model_selection import train_test_split\n",
        "from sklearn.metrics import accuracy_score, confusion_matrix, ConfusionMatrixDisplay\n",
        "\n",
        "import tensorflow as tf\n",
        "import tensorflow.keras as K\n",
        "from tensorflow.keras.preprocessing import image\n",
        "from tensorflow.keras.applications.resnet50 import ResNet50"
      ]
    },
    {
      "cell_type": "code",
      "source": [
        "import tensorflow as tf\n",
        "device_name = tf.test.gpu_device_name()\n",
        "if device_name != '/device:GPU:0':\n",
        "  raise SystemError('GPU device not found')\n",
        "print('Found GPU at: {}'.format(device_name))"
      ],
      "metadata": {
        "colab": {
          "base_uri": "https://localhost:8080/"
        },
        "id": "R-S0NiG6KUfl",
        "outputId": "3fe9ce1c-eba4-4916-88a3-60821eab69fd"
      },
      "id": "R-S0NiG6KUfl",
      "execution_count": null,
      "outputs": [
        {
          "output_type": "stream",
          "name": "stdout",
          "text": [
            "Found GPU at: /device:GPU:0\n"
          ]
        }
      ]
    },
    {
      "cell_type": "code",
      "source": [
        "from google.colab import drive\n",
        "drive.mount('/content/drive')"
      ],
      "metadata": {
        "colab": {
          "base_uri": "https://localhost:8080/"
        },
        "id": "5aJShv9mG470",
        "outputId": "f09de9dd-6dc4-4164-fef9-8ee62328fa18"
      },
      "id": "5aJShv9mG470",
      "execution_count": null,
      "outputs": [
        {
          "output_type": "stream",
          "name": "stdout",
          "text": [
            "Drive already mounted at /content/drive; to attempt to forcibly remount, call drive.mount(\"/content/drive\", force_remount=True).\n"
          ]
        }
      ]
    },
    {
      "cell_type": "code",
      "source": [
        "#!unzip /content/drive/MyDrive/data_bb1_img_recognition -d /content/"
      ],
      "metadata": {
        "id": "e9jTBPqeHI__"
      },
      "id": "e9jTBPqeHI__",
      "execution_count": null,
      "outputs": []
    },
    {
      "cell_type": "markdown",
      "id": "536f1fd6",
      "metadata": {
        "id": "536f1fd6"
      },
      "source": [
        "## Load the Data\n",
        "\n",
        "Make sure to download and uncompress the data (`data_bb1_img_recognition.zip`) in the folder you're working off of.\n",
        "\n",
        "We first load the file containing the labels, binarize labels of each of the three classes as a numpy array and store them as a list."
      ]
    },
    {
      "cell_type": "code",
      "execution_count": null,
      "id": "82458e56-2c73-43cd-833c-27b182c18946",
      "metadata": {
        "id": "82458e56-2c73-43cd-833c-27b182c18946"
      },
      "outputs": [],
      "source": [
        "# load data\n",
        "LOADPATH = './train/'\n",
        "SAVEPATH = './models/limited/'\n",
        "df = pd.read_csv(LOADPATH+'labels.csv')\n",
        "df_labeled = df[df[\"skin_tone\"].notna()] # take only labeled data\n",
        "\n",
        "# filter for verified humans\n",
        "df_labeled = df_labeled[df_labeled['real_face'] == '1']\n"
      ]
    },
    {
      "cell_type": "code",
      "source": [
        "df_labeled.shape"
      ],
      "metadata": {
        "colab": {
          "base_uri": "https://localhost:8080/"
        },
        "id": "zdXaSUtVJKfd",
        "outputId": "31ca808c-128e-43a3-e026-baa18f648047"
      },
      "id": "zdXaSUtVJKfd",
      "execution_count": null,
      "outputs": [
        {
          "output_type": "execute_result",
          "data": {
            "text/plain": [
              "(4434, 5)"
            ]
          },
          "metadata": {},
          "execution_count": 6
        }
      ]
    },
    {
      "cell_type": "code",
      "execution_count": null,
      "id": "0c742f6c",
      "metadata": {
        "id": "0c742f6c"
      },
      "outputs": [],
      "source": [
        "\n",
        "# Converting labels to np array\n",
        "cat = ['skin_tone','gender','age']\n",
        "lbs = [LabelBinarizer() for i in range(3)]\n",
        "base_Y = []\n",
        "for i in range(3):\n",
        "    lab = lbs[i].fit_transform(df_labeled[cat[i]])\n",
        "    if lab.shape[1]==1:\n",
        "        base_Y.append(np.hstack((1-lab,lab)))\n",
        "    else:\n",
        "        base_Y.append(lab)"
      ]
    },
    {
      "cell_type": "markdown",
      "id": "deb73277",
      "metadata": {
        "id": "deb73277"
      },
      "source": [
        "We then load the images under the training set and convert them to numpy arrays. This may take a while."
      ]
    },
    {
      "cell_type": "code",
      "execution_count": null,
      "id": "0f957a4f",
      "metadata": {
        "colab": {
          "base_uri": "https://localhost:8080/"
        },
        "id": "0f957a4f",
        "outputId": "4df8330e-5258-490d-9161-b894df17e883"
      },
      "outputs": [
        {
          "output_type": "stream",
          "name": "stdout",
          "text": [
            "Loading images\n",
            "Converting images to np array\n"
          ]
        }
      ],
      "source": [
        "# loading and converting data into np array\n",
        "print(\"Loading images\")\n",
        "length = width = 64 # size for each input image, increase if you want\n",
        "base_nn = df_labeled.shape[0]\n",
        "all_imgs = [image.load_img(LOADPATH+df_labeled.iloc[i]['name'], target_size=(length,width)) for i in range(base_nn)]\n",
        "\n",
        "print(\"Converting images to np array\")\n",
        "base_X = np.empty([base_nn, length, width, 3], dtype=float)\n",
        "for i in range(base_nn):\n",
        "    base_X[i,:] = image.img_to_array(all_imgs[i])\n",
        "base_X = K.applications.resnet50.preprocess_input(base_X)"
      ]
    },
    {
      "cell_type": "code",
      "execution_count": null,
      "id": "ebeecc54-bd3a-4de2-aa83-92c8f76d8e45",
      "metadata": {
        "id": "ebeecc54-bd3a-4de2-aa83-92c8f76d8e45"
      },
      "outputs": [],
      "source": [
        "# Converting to triplicate to match with the different augmentations\n",
        "base_X = [base_X, base_X, base_X]"
      ]
    },
    {
      "cell_type": "code",
      "execution_count": null,
      "id": "1610c108",
      "metadata": {
        "colab": {
          "base_uri": "https://localhost:8080/",
          "height": 81
        },
        "id": "1610c108",
        "outputId": "2f4eea13-976d-425e-dcb3-d65bcffeb8a0"
      },
      "outputs": [
        {
          "output_type": "execute_result",
          "data": {
            "text/plain": [
              "<PIL.Image.Image image mode=RGB size=64x64 at 0x7F412004ED90>"
            ],
            "image/png": "[encoded data removed]"
          },
          "metadata": {},
          "execution_count": 10
        }
      ],
      "source": [
        "all_imgs[1235] # print a test image"
      ]
    },
    {
      "cell_type": "markdown",
      "id": "8fa51e88-1bda-4213-bb5c-d67734660b1b",
      "metadata": {
        "id": "8fa51e88-1bda-4213-bb5c-d67734660b1b"
      },
      "source": [
        "### Augment the data"
      ]
    },
    {
      "cell_type": "code",
      "execution_count": null,
      "id": "6f2ca289-61df-4a2f-b434-4806f1245c19",
      "metadata": {
        "id": "6f2ca289-61df-4a2f-b434-4806f1245c19"
      },
      "outputs": [],
      "source": [
        "import imgaug.augmenters as iaa\n",
        "from pathlib import Path\n",
        "import cv2\n",
        "from IPython.display import Image\n"
      ]
    },
    {
      "cell_type": "code",
      "execution_count": null,
      "id": "be4ffa0d-9e0e-41a6-bc58-992e3916e367",
      "metadata": {
        "id": "be4ffa0d-9e0e-41a6-bc58-992e3916e367"
      },
      "outputs": [],
      "source": [
        "newseq = iaa.Sequential([\n",
        "    iaa.Fliplr(0.5), # horizontal flips\n",
        "    \n",
        "    # Small gaussian blur with random sigma between 0 and 0.5.\n",
        "    # But we only blur about 50% of all images.\n",
        "    iaa.Sometimes(\n",
        "        0.5,\n",
        "        iaa.GaussianBlur(sigma=(0, 0.5))\n",
        "    ),\n",
        "    \n",
        "    # Strengthen or weaken the contrast in each image.\n",
        "    iaa.LinearContrast((0.75, 1.5)),\n",
        "   \n",
        "    # Make some images brighter and some darker.\n",
        "    # In 20% of all cases, we sample the multiplier once per channel,\n",
        "    # which can end up changing the color of the images.\n",
        "    iaa.Multiply((0.8, 1.2), per_channel=0.0),\n",
        "    \n",
        "    # Apply affine transformations to each image.\n",
        "    # Scale/zoom them, translate/move them, rotate them and shear them.\n",
        "    iaa.Affine(\n",
        "        translate_percent={\"x\": (-0.2, 0.2), \"y\": (-0.2, 0.2)},\n",
        "        rotate=(-15, 15),\n",
        "        shear=(-8, 8)\n",
        "    )\n",
        "], random_order=True)"
      ]
    },
    {
      "cell_type": "code",
      "execution_count": null,
      "id": "5bd3a9d9-ed9e-4e55-92c4-dc410a6dc2f1",
      "metadata": {
        "id": "5bd3a9d9-ed9e-4e55-92c4-dc410a6dc2f1"
      },
      "outputs": [],
      "source": [
        "def create_aug_names(names: pd.Series, cat: str) -> pd.Series:\n",
        "    augnames = names.copy()\n",
        "    for i, name in enumerate(names.values):\n",
        "        augnames.iloc[i] = \"AUG_\" + cat + \"_\" + str(i) + \"_\" + name\n",
        "    return augnames\n"
      ]
    },
    {
      "cell_type": "code",
      "execution_count": null,
      "id": "5f2d13bc-fc8a-4680-849c-c6fb43f00f1b",
      "metadata": {
        "id": "5f2d13bc-fc8a-4680-849c-c6fb43f00f1b"
      },
      "outputs": [],
      "source": [
        "def get_imgs_to_sample(series: pd.Series) -> pd.Series:\n",
        "    counts = series.value_counts()\n",
        "    return counts.max() - counts"
      ]
    },
    {
      "cell_type": "code",
      "execution_count": null,
      "id": "74027ec9-6060-4cf1-9c0a-a35145fd7f0f",
      "metadata": {
        "id": "74027ec9-6060-4cf1-9c0a-a35145fd7f0f"
      },
      "outputs": [],
      "source": [
        "def create_augs(df: pd.DataFrame, img_to_sample: pd.Series, seq: iaa.Sequential, read_dir, write_dir, colname: str = \"age\") -> pd.DataFrame:\n",
        "    new_df = pd.DataFrame()\n",
        "    for cat, count in img_to_sample.items():\n",
        "        print(f\"Sampling {count} images for {colname} {cat}\")\n",
        "        if count > 0:\n",
        "            df_sample = df[df[colname] == cat].sample(count, replace=True)\n",
        "            df_sample[\"aug_name\"] = create_aug_names(df_sample[\"name\"], cat)\n",
        "            df_sample[\"aug_cat\"] = colname\n",
        "            sample_imgs = [cv2.imread(read_dir + '/' + name) for name in df_sample[\"name\"]]\n",
        "            augs = seq.augment_images(sample_imgs)\n",
        "            for i, aug in enumerate(augs):\n",
        "                cv2.imwrite(str(write_dir + '/' + df_sample.iloc[i, 5]), aug)\n",
        "            new_df = pd.concat([new_df, df_sample])\n",
        "    return new_df\n"
      ]
    },
    {
      "cell_type": "code",
      "execution_count": null,
      "id": "e6b5e7f1-56f8-4ec6-8ab8-11751854f96c",
      "metadata": {
        "id": "e6b5e7f1-56f8-4ec6-8ab8-11751854f96c"
      },
      "outputs": [],
      "source": [
        "def upsample_imgs(df, sample_cols, seq, read_dir, write_dir):\n",
        "    aug_df = pd.DataFrame()\n",
        "    for col in sample_cols:\n",
        "        print(f\"Upsampling {col}\")\n",
        "        counts = df[col].value_counts()\n",
        "        img_to_sample = 100+counts.max() - counts\n",
        "        aug_df = pd.concat(\n",
        "            [\n",
        "                aug_df,\n",
        "                create_augs(df, img_to_sample, seq=seq, colname=col, read_dir=read_dir, write_dir=write_dir),\n",
        "            ]\n",
        "        )\n",
        "    return aug_df"
      ]
    },
    {
      "cell_type": "code",
      "execution_count": null,
      "id": "d83b12bf-459c-4e4c-9605-cd415f3c379c",
      "metadata": {
        "colab": {
          "base_uri": "https://localhost:8080/"
        },
        "id": "d83b12bf-459c-4e4c-9605-cd415f3c379c",
        "outputId": "6701f203-30bf-494a-9be8-6169db03b605"
      },
      "outputs": [
        {
          "output_type": "stream",
          "name": "stdout",
          "text": [
            "Upsampling skin_tone\n",
            "Sampling 100 images for skin_tone monk_3\n",
            "Sampling 148 images for skin_tone monk_4\n",
            "Sampling 284 images for skin_tone monk_2\n",
            "Sampling 299 images for skin_tone monk_5\n",
            "Sampling 627 images for skin_tone monk_7\n",
            "Sampling 649 images for skin_tone monk_6\n",
            "Sampling 717 images for skin_tone monk_1\n",
            "Sampling 732 images for skin_tone monk_8\n",
            "Sampling 829 images for skin_tone monk_9\n",
            "Sampling 911 images for skin_tone monk_10\n",
            "Upsampling gender\n",
            "Sampling 100 images for gender female\n",
            "Sampling 948 images for gender male\n",
            "Upsampling age\n",
            "Sampling 100 images for age 18_30\n",
            "Sampling 1111 images for age 31_60\n",
            "Sampling 1266 images for age 0_17\n",
            "Sampling 2105 images for age 61_100\n"
          ]
        }
      ],
      "source": [
        "labels = pd.read_csv('./train/labels.csv')\n",
        "labels = labels[labels[\"real_face\"] == '1'].dropna()\n",
        "# don't need to run this every time since the images are generated\n",
        "\n",
        "aug_df = upsample_imgs(labels, sample_cols=cat, seq=newseq, read_dir='./train', write_dir='./augmented_train')\n",
        "aug_df.to_csv('./augmented_train/labels.csv')"
      ]
    },
    {
      "cell_type": "code",
      "source": [
        "print(labels.shape[0])\n",
        "print(labels['skin_tone'].value_counts())\n",
        "print(labels['gender'].value_counts())\n",
        "print(labels['age'].value_counts())"
      ],
      "metadata": {
        "colab": {
          "base_uri": "https://localhost:8080/"
        },
        "id": "pWUXJ_xgFdXm",
        "outputId": "9d8158fc-9bc4-4deb-aad0-b8b2267a116c"
      },
      "id": "pWUXJ_xgFdXm",
      "execution_count": null,
      "outputs": [
        {
          "output_type": "stream",
          "name": "stdout",
          "text": [
            "4434\n",
            "monk_3     873\n",
            "monk_4     825\n",
            "monk_2     689\n",
            "monk_5     674\n",
            "monk_7     346\n",
            "monk_6     324\n",
            "monk_1     256\n",
            "monk_8     241\n",
            "monk_9     144\n",
            "monk_10     62\n",
            "Name: skin_tone, dtype: int64\n",
            "female    2641\n",
            "male      1793\n",
            "Name: gender, dtype: int64\n",
            "18_30     2154\n",
            "31_60     1143\n",
            "0_17       988\n",
            "61_100     149\n",
            "Name: age, dtype: int64\n"
          ]
        }
      ]
    },
    {
      "cell_type": "markdown",
      "id": "71959b24-4db1-4d0a-9796-a9d83189c7f0",
      "metadata": {
        "id": "71959b24-4db1-4d0a-9796-a9d83189c7f0"
      },
      "source": [
        "### Integrate the Augmented Data"
      ]
    },
    {
      "cell_type": "code",
      "execution_count": null,
      "id": "3c5bc279-1482-455a-a1e8-90180a54eb1e",
      "metadata": {
        "id": "3c5bc279-1482-455a-a1e8-90180a54eb1e"
      },
      "outputs": [],
      "source": [
        "# load data\n",
        "AUGPATH = './augmented_train/'\n",
        "aug_df = pd.read_csv(AUGPATH+'labels.csv')\n",
        "df_aug_labeled = aug_df[aug_df[\"skin_tone\"].notna()] # take only labeled data\n",
        "\n",
        "# Converting labels to np array\n",
        "aug_Y = []\n",
        "for i in range(3):\n",
        "    lab = lbs[i].transform(df_aug_labeled[df_aug_labeled['aug_cat']==cat[i]][cat[i]])\n",
        "    if lab.shape[1]==1:\n",
        "        aug_Y.append(np.hstack((1-lab,lab)))\n",
        "    else:\n",
        "        aug_Y.append(lab)"
      ]
    },
    {
      "cell_type": "code",
      "execution_count": null,
      "id": "2f658b10-38f8-41fe-9c60-7a24e0b1a81c",
      "metadata": {
        "colab": {
          "base_uri": "https://localhost:8080/"
        },
        "id": "2f658b10-38f8-41fe-9c60-7a24e0b1a81c",
        "outputId": "2f37def7-22d4-40dc-e659-664f336661cd"
      },
      "outputs": [
        {
          "output_type": "stream",
          "name": "stdout",
          "text": [
            "Loading images\n",
            "Converting images to np array\n",
            "Converting images to np array\n",
            "Converting images to np array\n"
          ]
        }
      ],
      "source": [
        "# loading and converting data into np array\n",
        "print(\"Loading images\")\n",
        "length = width = 64 # size for each input image, increase if you want\n",
        "aug_nn = [0,0,0]\n",
        "aug_X = [[],[],[]]\n",
        "\n",
        "for i in range(3):\n",
        "    aug_nn[i] = df_aug_labeled[df_aug_labeled['aug_cat']==cat[i]].shape[0]\n",
        "    imgs = [image.load_img(AUGPATH+df_aug_labeled[df_aug_labeled['aug_cat']==cat[i]].iloc[j]['aug_name'], target_size=(length,width)) for j in range(aug_nn[i])]\n",
        "\n",
        "    print(\"Converting images to np array\")\n",
        "    aug_X[i] = np.empty([aug_nn[i], length, width, 3], dtype=float)\n",
        "    for j in range(aug_nn[i]):\n",
        "        aug_X[i][j,:] = image.img_to_array(imgs[j])\n",
        "    aug_X[i] = K.applications.resnet50.preprocess_input(aug_X[i])"
      ]
    },
    {
      "cell_type": "code",
      "execution_count": null,
      "id": "f955410a-04c2-4222-ac42-b8b78865103f",
      "metadata": {
        "id": "f955410a-04c2-4222-ac42-b8b78865103f"
      },
      "outputs": [],
      "source": [
        "Y = [[],[],[]]\n",
        "X = [[],[],[]]\n",
        "\n",
        "for i in range(len(cat)):\n",
        "    Y[i] = np.concatenate([base_Y[i], aug_Y[i]])\n",
        "    X[i] = np.concatenate([base_X[i], aug_X[i]])\n",
        "\n",
        "nn = base_nn+np.array(aug_nn)"
      ]
    },
    {
      "cell_type": "code",
      "execution_count": null,
      "id": "74c51664-d1ea-4b22-aee4-f72defb6f853",
      "metadata": {
        "colab": {
          "base_uri": "https://localhost:8080/"
        },
        "id": "74c51664-d1ea-4b22-aee4-f72defb6f853",
        "outputId": "fef4173b-8e80-4b31-efc3-7d4f317757e7"
      },
      "outputs": [
        {
          "output_type": "execute_result",
          "data": {
            "text/plain": [
              "(9730, 64, 64, 3)"
            ]
          },
          "metadata": {},
          "execution_count": 22
        }
      ],
      "source": [
        "X[0].shape"
      ]
    },
    {
      "cell_type": "code",
      "execution_count": null,
      "id": "29709031-3d19-4b86-8148-1845b15e11c5",
      "metadata": {
        "colab": {
          "base_uri": "https://localhost:8080/"
        },
        "id": "29709031-3d19-4b86-8148-1845b15e11c5",
        "outputId": "1fe80cee-0d50-4887-aee1-955829d445ff"
      },
      "outputs": [
        {
          "output_type": "execute_result",
          "data": {
            "text/plain": [
              "array([973, 973, 973, 973, 973, 973, 973, 973, 973, 973])"
            ]
          },
          "metadata": {},
          "execution_count": 23
        }
      ],
      "source": [
        "Y[0].sum(axis=0)"
      ]
    },
    {
      "cell_type": "code",
      "source": [
        "del base_X, base_Y\n",
        "del aug_X, aug_Y"
      ],
      "metadata": {
        "id": "tBCiLUwFcPjs"
      },
      "id": "tBCiLUwFcPjs",
      "execution_count": null,
      "outputs": []
    },
    {
      "cell_type": "markdown",
      "source": [
        "## Testing a tiered approach to skin tone"
      ],
      "metadata": {
        "id": "-5hDbIHaU5oD"
      },
      "id": "-5hDbIHaU5oD"
    },
    {
      "cell_type": "code",
      "source": [
        "newY = np.zeros(shape=(Y[0].shape[0],2))\n",
        "for i, row in enumerate(Y[0]):\n",
        "     newY[i,0] = row[0:4].sum()\n",
        "     newY[i,1] = 1 - newY[i,0]\n",
        "Y.append(newY)\n",
        "del newY"
      ],
      "metadata": {
        "id": "mQpB_P6mU1qn"
      },
      "id": "mQpB_P6mU1qn",
      "execution_count": null,
      "outputs": []
    },
    {
      "cell_type": "markdown",
      "id": "cdf14ba8",
      "metadata": {
        "id": "cdf14ba8"
      },
      "source": [
        "## Specify the Model\n",
        "\n",
        "We define a single model class that is able train on the data in `X` and `Y` and predict outcomes for all three classes."
      ]
    },
    {
      "cell_type": "code",
      "execution_count": null,
      "id": "14e09453-9177-4847-a6e2-9cf88813101f",
      "metadata": {
        "id": "14e09453-9177-4847-a6e2-9cf88813101f"
      },
      "outputs": [],
      "source": [
        "class CategoricalDisparity(tf.keras.metrics.Metric):\n",
        "\n",
        "    def __init__(self, num_classes, name=\"disparity\", **kwargs):\n",
        "        super(CategoricalDisparity, self).__init__(name=name, **kwargs)\n",
        "\n",
        "        self.num_classes = num_classes    \n",
        "\n",
        "        self.acc_max = self.add_weight(name=\"max\", initializer=\"zeros\")\n",
        "        self.acc_min = self.add_weight(name=\"min\", initializer=\"zeros\")\n",
        "\n",
        "        self.cm = self.add_weight(name=\"cm\", shape=[num_classes,num_classes], initializer=\"zeros\")\n",
        "        \n",
        "    def update_state(self, y_true, y_pred, sample_weight=None):     \n",
        "\n",
        "        y_true = K.backend.argmax(y_true, axis=-1)\n",
        "        y_pred = K.backend.argmax(y_pred, axis=-1)\n",
        "        y_true = K.backend.flatten(y_true)\n",
        "\n",
        "        new_cm = tf.math.confusion_matrix(y_true,y_pred, num_classes = self.num_classes, dtype=tf.float32)\n",
        "        \n",
        "        if (K.backend.int_shape(new_cm) == (self.num_classes, self.num_classes)) and (self.num_classes > 0):\n",
        "            self.cm.assign_add(new_cm)\n",
        "        row_sum = K.backend.sum(self.cm, axis=0)\n",
        "        diag = K.backend.cast(tf.linalg.diag_part(self.cm), dtype=tf.float32)\n",
        "        accuracies = diag / row_sum\n",
        "        acc_max = K.backend.max(accuracies)\n",
        "        acc_min = K.backend.min(accuracies)\n",
        "        \n",
        "        self.acc_max.assign(acc_max)\n",
        "        self.acc_min.assign(acc_min)\n",
        "        \n",
        "    def result(self):\n",
        "        return self.acc_max - self.acc_min\n",
        "    \n",
        "    def reset_state(self):\n",
        "        self.acc_max.assign(0)\n",
        "        self.acc_min.assign(0)\n",
        "        self.cm.assign(np.zeros([self.num_classes, self.num_classes], dtype=np.float32))\n",
        "        \n",
        "    def get_config(self):\n",
        "        config = {'num_classes': self.num_classes}\n",
        "        base_config = super(CategoricalDisparity, self).get_config()\n",
        "        return dict(list(base_config.items()) + list(config.items()))"
      ]
    },
    {
      "cell_type": "code",
      "execution_count": null,
      "id": "e8e3c11d-d0dd-494c-83f6-de762033f036",
      "metadata": {
        "id": "e8e3c11d-d0dd-494c-83f6-de762033f036"
      },
      "outputs": [],
      "source": [
        "class CategoricalMaxAccuracy(tf.keras.metrics.Metric):\n",
        "\n",
        "    def __init__(self, num_classes, name=\"max_accuracy\", **kwargs):\n",
        "        super(CategoricalMaxAccuracy, self).__init__(name=name, **kwargs)\n",
        "\n",
        "        self.num_classes = num_classes    \n",
        "\n",
        "        self.acc_max = self.add_weight(name=\"max\", initializer=\"zeros\")\n",
        "        self.acc_min = self.add_weight(name=\"min\", initializer=\"zeros\")\n",
        "\n",
        "        self.cm = self.add_weight(name=\"cm\", shape=[num_classes,num_classes], initializer=\"zeros\")\n",
        "        \n",
        "    def update_state(self, y_true, y_pred, sample_weight=None):     \n",
        "\n",
        "        y_true = K.backend.argmax(y_true, axis=-1)\n",
        "        y_pred = K.backend.argmax(y_pred, axis=-1)\n",
        "        y_true = K.backend.flatten(y_true)\n",
        "\n",
        "        new_cm = tf.math.confusion_matrix(y_true,y_pred, num_classes = self.num_classes, dtype=tf.float32)\n",
        "        \n",
        "        if (K.backend.int_shape(new_cm) == (self.num_classes, self.num_classes)) and (self.num_classes > 0):\n",
        "            self.cm.assign_add(new_cm)\n",
        "        row_sum = K.backend.sum(self.cm, axis=0)\n",
        "        diag = K.backend.cast(tf.linalg.diag_part(self.cm), dtype=tf.float32)\n",
        "        accuracies = diag / row_sum\n",
        "        acc_max = K.backend.max(accuracies)\n",
        "        acc_min = K.backend.min(accuracies)\n",
        "        \n",
        "        self.acc_max.assign(acc_max)\n",
        "        self.acc_min.assign(acc_min)\n",
        "        \n",
        "    def result(self):\n",
        "        return self.acc_max\n",
        "    \n",
        "    def reset_state(self):\n",
        "        self.acc_max.assign(0)\n",
        "        self.acc_min.assign(0)\n",
        "        self.cm.assign(np.zeros([self.num_classes, self.num_classes], dtype=np.float32))\n",
        "        \n",
        "    def get_config(self):\n",
        "        config = {'num_classes': self.num_classes}\n",
        "        base_config = super(CategoricalMaxAccuracy, self).get_config()\n",
        "        return dict(list(base_config.items()) + list(config.items()))"
      ]
    },
    {
      "cell_type": "code",
      "execution_count": null,
      "id": "c0bb456b-f109-4d03-adb4-c1bc35d5ffe5",
      "metadata": {
        "id": "c0bb456b-f109-4d03-adb4-c1bc35d5ffe5"
      },
      "outputs": [],
      "source": [
        "class CategoricalMinAccuracy(tf.keras.metrics.Metric):\n",
        "\n",
        "    def __init__(self, num_classes, name=\"min_accuracy\", **kwargs):\n",
        "        super(CategoricalMinAccuracy, self).__init__(name=name, **kwargs)\n",
        "\n",
        "        self.num_classes = num_classes    \n",
        "\n",
        "        self.acc_max = self.add_weight(name=\"max\", initializer=\"zeros\")\n",
        "        self.acc_min = self.add_weight(name=\"min\", initializer=\"zeros\")\n",
        "\n",
        "        self.cm = self.add_weight(name=\"cm\", shape=[num_classes,num_classes], initializer=\"zeros\")\n",
        "        \n",
        "    def update_state(self, y_true, y_pred, sample_weight=None):     \n",
        "\n",
        "        y_true = K.backend.argmax(y_true, axis=-1)\n",
        "        y_pred = K.backend.argmax(y_pred, axis=-1)\n",
        "        y_true = K.backend.flatten(y_true)\n",
        "\n",
        "        new_cm = tf.math.confusion_matrix(y_true,y_pred, num_classes = self.num_classes, dtype=tf.float32)\n",
        "        \n",
        "        self.cm.assign_add(new_cm)\n",
        "        row_sum = K.backend.sum(self.cm, axis=0)\n",
        "        diag = K.backend.cast(tf.linalg.diag_part(self.cm), dtype=tf.float32)\n",
        "        accuracies = diag / row_sum\n",
        "        acc_max = K.backend.max(accuracies)\n",
        "        acc_min = K.backend.min(accuracies)\n",
        "        \n",
        "        self.acc_max.assign(acc_max)\n",
        "        self.acc_min.assign(acc_min)\n",
        "        \n",
        "    def result(self):\n",
        "        return self.acc_min\n",
        "    \n",
        "    def reset_state(self):\n",
        "        self.acc_max.assign(0)\n",
        "        self.acc_min.assign(0)\n",
        "        self.cm.assign(np.zeros([self.num_classes, self.num_classes], dtype=np.float32))\n",
        "        \n",
        "    def get_config(self):\n",
        "        config = {'num_classes': self.num_classes}\n",
        "        base_config = super(CategoricalMinAccuracy, self).get_config()\n",
        "        return dict(list(base_config.items()) + list(config.items()))"
      ]
    },
    {
      "cell_type": "code",
      "execution_count": null,
      "id": "40c55abe",
      "metadata": {
        "id": "40c55abe"
      },
      "outputs": [],
      "source": [
        "class PredictionModel():\n",
        "    def __init__(self, X, Y, idx):\n",
        "        self.X = X\n",
        "        self.Y = Y\n",
        "        self.idx = idx\n",
        "        self.trainX, self.testX = [X[i][idx[0][i],:] for i in range(3)], [X[i][idx[1][i],:] for i in range(3)]\n",
        "        self.trainY, self.testY = [Y[i][idx[0][i],:] for i in range(3)], [Y[i][idx[1][i],:] for i in range(3)]\n",
        "        self.cat = ['skin_tone','gender','age']\n",
        "        self.loss = ['categorical_crossentropy' for i in range(3)]\n",
        "        self.metrics = [['accuracy', CategoricalDisparity(num_classes=Y[i][idx[0][i],:].shape[1]),\n",
        "                         CategoricalMaxAccuracy(num_classes=Y[i][idx[0][i],:].shape[1]),\n",
        "                         CategoricalMinAccuracy(num_classes=Y[i][idx[0][i],:].shape[1])] for i in range(3)]  # \n",
        "        self.models = [None]*3\n",
        "\n",
        "    # train a model specific for a certain class index in self.cat\n",
        "    def fit(self, index, model, epochs=5, batch_size=32, save=False, save_location=None, verbose=1):\n",
        "        \n",
        "        if verbose: print(\"Training model for \"+self.cat[index])\n",
        "        \n",
        "        model.add(K.layers.Dense(self.trainY[index].shape[1], activation='softmax'))\n",
        "        model.compile(loss=self.loss[index], optimizer='Adam', metrics=self.metrics[index])\n",
        "        model.fit(\n",
        "            self.trainX[index], self.trainY[index], \n",
        "            validation_data=(self.testX[index],self.testY[index]), \n",
        "            batch_size=batch_size, epochs=epochs, verbose=verbose\n",
        "        )\n",
        "        \n",
        "        if save:\n",
        "            if os.path.exists(SAVEPATH)==False:\n",
        "                print('save location '+SAVEPATH+' did not exist. creating')\n",
        "                os.makedirs(SAVEPATH)\n",
        "            SAVE_LOCATION = save_location+'model_'+cat[index]+'.h5'\n",
        "            print(\"saving model at \"+SAVE_LOCATION)\n",
        "            model.save(SAVE_LOCATION)\n",
        "        \n",
        "        self.models[index] = model\n",
        "        \n",
        "    # train a model which updates loss weights after each epoch\n",
        "    def custom_fit(self, index, model, epochs=5, batch_size=32, save=False, save_location=None, verbose=1):\n",
        "        \n",
        "        if verbose: print(\"Training custom weight model for \"+self.cat[index])\n",
        "        \n",
        "        output_categories = self.trainY[index].shape[1]\n",
        "        counts = self.trainY[index].sum(axis=0)\n",
        "        \n",
        "        model.add(K.layers.Dense(output_categories, activation='softmax'))\n",
        "        \n",
        "        loss_weights = np.ones(output_categories)/output_categories\n",
        "        loss_weights = (loss_weights / counts) / np.sum(loss_weights / counts)\n",
        "        opt = tf.keras.optimizers.Adam(0.001)\n",
        "        \n",
        "        for i in range(epochs):\n",
        "            print(f\"Epoch {i+1}/{epochs}\")\n",
        "            class_weights = dict(enumerate(loss_weights))\n",
        "            model.compile(loss=self.loss[index], optimizer=opt, metrics=self.metrics[index])\n",
        "        \n",
        "            model.fit(\n",
        "                self.trainX[index], self.trainY[index], \n",
        "                validation_data=(self.testX[index],self.testY[index]), \n",
        "                batch_size=batch_size, epochs=1, verbose=verbose,\n",
        "                class_weight = class_weights\n",
        "            )\n",
        "\n",
        "            predy = np.argmax(model.predict(self.trainX[index]),1)\n",
        "            truey = np.argmax(self.trainY[index],1)\n",
        "            cats = max(truey) + 1\n",
        "            accs = np.zeros(cats)\n",
        "            for i in range(cats):\n",
        "                accs[i] = np.sum((predy==truey) & (truey==i))/np.sum(truey==i)\n",
        "            epsilon = 1\n",
        "            \n",
        "            loss_weights = (1/(accs + epsilon))\n",
        "            loss_weights = (loss_weights) / np.sum(loss_weights)\n",
        "            print(np.round(accs,2))\n",
        "            print(np.round(loss_weights,2))\n",
        "            \n",
        "        if save:\n",
        "            if os.path.exists(SAVEPATH)==False:\n",
        "                print('save location '+SAVEPATH+' did not exist. creating')\n",
        "                os.makedirs(SAVEPATH)\n",
        "            SAVE_LOCATION = save_location+'custommodel_'+cat[index]+'.h5'\n",
        "            print(\"saving model at \"+SAVE_LOCATION)\n",
        "            model.save(SAVE_LOCATION)\n",
        "        \n",
        "        self.models[index] = model\n",
        "            \n",
        "    def predict(self, newX):\n",
        "        predictions = [model.predict(newX) for model in self.models]\n",
        "        return predictions"
      ]
    },
    {
      "cell_type": "markdown",
      "id": "e76ae9ef",
      "metadata": {
        "id": "e76ae9ef"
      },
      "source": [
        "## Initialize and Train a Model\n",
        "\n",
        "We now train a `PredictionModel` to predict the likely skin tone, gender, and age of an input image. This baseline model is initialize on imagenet weights and uses the ResNet50 architecture. We strongly recommend using a GPU to reduce training time."
      ]
    },
    {
      "cell_type": "code",
      "execution_count": null,
      "id": "da29fedf",
      "metadata": {
        "id": "da29fedf"
      },
      "outputs": [],
      "source": [
        "# function to initialize a model\n",
        "def initializeModel():\n",
        "    res_model = ResNet50(include_top=False, weights='imagenet', input_tensor=K.Input(shape=[length,width,3]))\n",
        "\n",
        "    # freeze all but the last layer\n",
        "    for layer in res_model.layers[:143]:\n",
        "        layer.trainable = False\n",
        "    model = K.models.Sequential()\n",
        "    model.add(res_model)\n",
        "    model.add(K.layers.Flatten())\n",
        "    model.add(K.layers.BatchNormalization())\n",
        "    model.add(K.layers.Dense(512, activation='relu'))\n",
        "    model.add(K.layers.Dropout(0.5))\n",
        "    model.add(K.layers.BatchNormalization())\n",
        "    model.add(K.layers.Dense(512, activation='relu'))\n",
        "    model.add(K.layers.Dropout(0.5))\n",
        "    model.add(K.layers.BatchNormalization())\n",
        "    #model.add(K.layers.Dense(256, activation='relu'))\n",
        "    #model.add(K.layers.Dropout(0.5))\n",
        "    #model.add(K.layers.BatchNormalization())\n",
        "    return model\n",
        "\n",
        "nntrain = [[],[],[]]\n",
        "indices = [[],[],[]]\n",
        "train_idx = [[],[],[]]\n",
        "test_idx = [[],[],[]]\n",
        "\n",
        "for i in range(3):\n",
        "    nntrain[i] = int(0.7*nn[i])\n",
        "    np.random.seed(42)\n",
        "    indices = np.random.permutation(nn[i])\n",
        "    train_idx[i], test_idx[i] = indices[:nntrain[i]], indices[nntrain[i]:]\n",
        "\n"
      ]
    },
    {
      "cell_type": "code",
      "source": [
        "del mymodel"
      ],
      "metadata": {
        "id": "CGJZD5F8UcxC"
      },
      "id": "CGJZD5F8UcxC",
      "execution_count": null,
      "outputs": []
    },
    {
      "cell_type": "code",
      "execution_count": null,
      "id": "c3a3ac14-abef-49c5-b09d-1174006c600e",
      "metadata": {
        "id": "c3a3ac14-abef-49c5-b09d-1174006c600e"
      },
      "outputs": [],
      "source": [
        "mymodel = PredictionModel(X=X, Y=[Y[4],Y[1],Y[2]], idx=[train_idx,test_idx])"
      ]
    },
    {
      "cell_type": "code",
      "execution_count": null,
      "id": "7e19460a-f656-40dc-b0aa-c10195c6ec49",
      "metadata": {
        "id": "7e19460a-f656-40dc-b0aa-c10195c6ec49",
        "colab": {
          "base_uri": "https://localhost:8080/"
        },
        "outputId": "beb98a68-55ec-470c-cb0a-ab0493f59d39"
      },
      "outputs": [
        {
          "output_type": "stream",
          "name": "stdout",
          "text": [
            "Training model for skin_tone\n",
            "Epoch 1/20\n",
            "213/213 [==============================] - 17s 52ms/step - loss: 0.8243 - accuracy: 0.5984 - disparity: 0.1614 - max_accuracy: 0.6565 - min_accuracy: 0.4951 - val_loss: 3.1119 - val_accuracy: 0.5735 - val_disparity: 0.2217 - val_max_accuracy: 0.7029 - val_min_accuracy: 0.4812\n",
            "Epoch 2/20\n",
            "213/213 [==============================] - 9s 45ms/step - loss: 0.6079 - accuracy: 0.6933 - disparity: 0.0960 - max_accuracy: 0.7268 - min_accuracy: 0.6308 - val_loss: 0.6371 - val_accuracy: 0.7335 - val_disparity: 0.0257 - val_max_accuracy: 0.7417 - val_min_accuracy: 0.7160\n",
            "Epoch 3/20\n",
            "213/213 [==============================] - 9s 45ms/step - loss: 0.4932 - accuracy: 0.7740 - disparity: 0.0781 - max_accuracy: 0.8038 - min_accuracy: 0.7257 - val_loss: 0.5185 - val_accuracy: 0.7568 - val_disparity: 0.1199 - val_max_accuracy: 0.8082 - val_min_accuracy: 0.6882\n",
            "Epoch 4/20\n",
            "213/213 [==============================] - 9s 44ms/step - loss: 0.4130 - accuracy: 0.8156 - disparity: 0.0832 - max_accuracy: 0.8490 - min_accuracy: 0.7658 - val_loss: 0.5690 - val_accuracy: 0.7513 - val_disparity: 0.0156 - val_max_accuracy: 0.7563 - val_min_accuracy: 0.7407\n",
            "Epoch 5/20\n",
            "213/213 [==============================] - 10s 45ms/step - loss: 0.3285 - accuracy: 0.8585 - disparity: 0.0640 - max_accuracy: 0.8841 - min_accuracy: 0.8201 - val_loss: 0.5537 - val_accuracy: 0.7348 - val_disparity: 0.1233 - val_max_accuracy: 0.7872 - val_min_accuracy: 0.6640\n",
            "Epoch 6/20\n",
            "213/213 [==============================] - 10s 46ms/step - loss: 0.2655 - accuracy: 0.8896 - disparity: 0.0595 - max_accuracy: 0.9137 - min_accuracy: 0.8542 - val_loss: 0.5997 - val_accuracy: 0.7633 - val_disparity: 0.0176 - val_max_accuracy: 0.7692 - val_min_accuracy: 0.7515\n",
            "Epoch 7/20\n",
            "213/213 [==============================] - 9s 44ms/step - loss: 0.2157 - accuracy: 0.9137 - disparity: 0.0486 - max_accuracy: 0.9334 - min_accuracy: 0.8847 - val_loss: 0.6154 - val_accuracy: 0.7694 - val_disparity: 0.0743 - val_max_accuracy: 0.7983 - val_min_accuracy: 0.7240\n",
            "Epoch 8/20\n",
            "213/213 [==============================] - 9s 44ms/step - loss: 0.1830 - accuracy: 0.9260 - disparity: 0.0417 - max_accuracy: 0.9429 - min_accuracy: 0.9011 - val_loss: 0.6897 - val_accuracy: 0.7592 - val_disparity: 9.0319e-04 - val_max_accuracy: 0.7598 - val_min_accuracy: 0.7589\n",
            "Epoch 9/20\n",
            "213/213 [==============================] - 10s 45ms/step - loss: 0.1766 - accuracy: 0.9307 - disparity: 0.0336 - max_accuracy: 0.9442 - min_accuracy: 0.9105 - val_loss: 0.6591 - val_accuracy: 0.7763 - val_disparity: 0.0482 - val_max_accuracy: 0.7940 - val_min_accuracy: 0.7458\n",
            "Epoch 10/20\n",
            "213/213 [==============================] - 9s 45ms/step - loss: 0.1514 - accuracy: 0.9417 - disparity: 0.0299 - max_accuracy: 0.9537 - min_accuracy: 0.9238 - val_loss: 0.9107 - val_accuracy: 0.7499 - val_disparity: 0.0578 - val_max_accuracy: 0.7925 - val_min_accuracy: 0.7346\n",
            "Epoch 11/20\n",
            "213/213 [==============================] - 9s 45ms/step - loss: 0.1442 - accuracy: 0.9446 - disparity: 0.0324 - max_accuracy: 0.9577 - min_accuracy: 0.9253 - val_loss: 0.7326 - val_accuracy: 0.7468 - val_disparity: 0.1644 - val_max_accuracy: 0.8246 - val_min_accuracy: 0.6601\n",
            "Epoch 12/20\n",
            "213/213 [==============================] - 9s 44ms/step - loss: 0.1314 - accuracy: 0.9488 - disparity: 0.0281 - max_accuracy: 0.9600 - min_accuracy: 0.9320 - val_loss: 0.8821 - val_accuracy: 0.7533 - val_disparity: 0.0329 - val_max_accuracy: 0.7646 - val_min_accuracy: 0.7317\n",
            "Epoch 13/20\n",
            "213/213 [==============================] - 9s 44ms/step - loss: 0.1134 - accuracy: 0.9568 - disparity: 0.0189 - max_accuracy: 0.9644 - min_accuracy: 0.9454 - val_loss: 0.7381 - val_accuracy: 0.7677 - val_disparity: 0.0711 - val_max_accuracy: 0.7951 - val_min_accuracy: 0.7240\n",
            "Epoch 14/20\n",
            "213/213 [==============================] - 9s 44ms/step - loss: 0.0992 - accuracy: 0.9648 - disparity: 0.0161 - max_accuracy: 0.9712 - min_accuracy: 0.9551 - val_loss: 0.8574 - val_accuracy: 0.7760 - val_disparity: 0.0649 - val_max_accuracy: 0.8008 - val_min_accuracy: 0.7359\n",
            "Epoch 15/20\n",
            "213/213 [==============================] - 9s 44ms/step - loss: 0.0970 - accuracy: 0.9658 - disparity: 0.0182 - max_accuracy: 0.9731 - min_accuracy: 0.9548 - val_loss: 0.6776 - val_accuracy: 0.7708 - val_disparity: 0.0544 - val_max_accuracy: 0.7910 - val_min_accuracy: 0.7366\n",
            "Epoch 16/20\n",
            "213/213 [==============================] - 9s 44ms/step - loss: 0.0905 - accuracy: 0.9664 - disparity: 0.0169 - max_accuracy: 0.9731 - min_accuracy: 0.9563 - val_loss: 0.7442 - val_accuracy: 0.7760 - val_disparity: 0.1150 - val_max_accuracy: 0.8253 - val_min_accuracy: 0.7103\n",
            "Epoch 17/20\n",
            "213/213 [==============================] - 9s 44ms/step - loss: 0.0788 - accuracy: 0.9720 - disparity: 0.0139 - max_accuracy: 0.9775 - min_accuracy: 0.9636 - val_loss: 0.8234 - val_accuracy: 0.7849 - val_disparity: 0.0745 - val_max_accuracy: 0.8143 - val_min_accuracy: 0.7398\n",
            "Epoch 18/20\n",
            "213/213 [==============================] - 9s 44ms/step - loss: 0.0784 - accuracy: 0.9709 - disparity: 0.0152 - max_accuracy: 0.9770 - min_accuracy: 0.9618 - val_loss: 0.7629 - val_accuracy: 0.7718 - val_disparity: 0.0773 - val_max_accuracy: 0.8021 - val_min_accuracy: 0.7249\n",
            "Epoch 19/20\n",
            "213/213 [==============================] - 9s 45ms/step - loss: 0.0761 - accuracy: 0.9734 - disparity: 0.0122 - max_accuracy: 0.9783 - min_accuracy: 0.9661 - val_loss: 0.7149 - val_accuracy: 0.7893 - val_disparity: 0.0682 - val_max_accuracy: 0.8160 - val_min_accuracy: 0.7478\n",
            "Epoch 20/20\n",
            "213/213 [==============================] - 9s 44ms/step - loss: 0.0623 - accuracy: 0.9786 - disparity: 0.0068 - max_accuracy: 0.9813 - min_accuracy: 0.9745 - val_loss: 0.8936 - val_accuracy: 0.7790 - val_disparity: 0.0804 - val_max_accuracy: 0.8110 - val_min_accuracy: 0.7306\n",
            "saving model at ./content/drive/MyDrive/face_bounty/models/model_skin_tone.h5\n"
          ]
        }
      ],
      "source": [
        "# train model\n",
        "mymodel.fit(index=0, model=initializeModel(), epochs=20, save=True, save_location='./content/drive/MyDrive/face_bounty/models/')"
      ]
    },
    {
      "cell_type": "code",
      "execution_count": null,
      "id": "15ecee40-159f-4377-9d7a-e34ef7dc34a1",
      "metadata": {
        "tags": [],
        "id": "15ecee40-159f-4377-9d7a-e34ef7dc34a1"
      },
      "outputs": [],
      "source": [
        "# train model\n",
        "#mycustommodel = PredictionModel(X=X, Y=Y, idx=[train_idx,test_idx])\n",
        "#mycustommodel.custom_fit(index=0, model=initializeModel(), epochs=20, save=True, save_location='./models/test/custom/')"
      ]
    },
    {
      "cell_type": "code",
      "execution_count": null,
      "id": "0a860e5f-2008-48b5-b469-72895d384d48",
      "metadata": {
        "id": "0a860e5f-2008-48b5-b469-72895d384d48",
        "colab": {
          "base_uri": "https://localhost:8080/"
        },
        "outputId": "7c10e336-b845-4818-bf1f-751a74a30663"
      },
      "outputs": [
        {
          "output_type": "stream",
          "name": "stdout",
          "text": [
            "Training model for gender\n",
            "Epoch 1/20\n",
            "120/120 [==============================] - 14s 66ms/step - loss: 0.6238 - accuracy: 0.7464 - disparity: 0.0059 - max_accuracy: 0.7494 - min_accuracy: 0.7434 - val_loss: 1.0360 - val_accuracy: 0.8195 - val_disparity: 0.0474 - val_max_accuracy: 0.8441 - val_min_accuracy: 0.7967\n",
            "Epoch 2/20\n",
            "120/120 [==============================] - 5s 45ms/step - loss: 0.4104 - accuracy: 0.8254 - disparity: 0.0118 - max_accuracy: 0.8314 - min_accuracy: 0.8197 - val_loss: 0.4986 - val_accuracy: 0.8371 - val_disparity: 0.0095 - val_max_accuracy: 0.8420 - val_min_accuracy: 0.8326\n",
            "Epoch 3/20\n",
            "120/120 [==============================] - 5s 45ms/step - loss: 0.3112 - accuracy: 0.8819 - disparity: 0.0118 - max_accuracy: 0.8880 - min_accuracy: 0.8762 - val_loss: 0.5675 - val_accuracy: 0.8103 - val_disparity: 0.1816 - val_max_accuracy: 0.9231 - val_min_accuracy: 0.7414\n",
            "Epoch 4/20\n",
            "120/120 [==============================] - 5s 45ms/step - loss: 0.2074 - accuracy: 0.9179 - disparity: 0.0050 - max_accuracy: 0.9205 - min_accuracy: 0.9154 - val_loss: 0.4780 - val_accuracy: 0.8152 - val_disparity: 0.0790 - val_max_accuracy: 0.8583 - val_min_accuracy: 0.7793\n",
            "Epoch 5/20\n",
            "120/120 [==============================] - 5s 45ms/step - loss: 0.1607 - accuracy: 0.9388 - disparity: 0.0085 - max_accuracy: 0.9431 - min_accuracy: 0.9346 - val_loss: 0.4590 - val_accuracy: 0.8389 - val_disparity: 0.0209 - val_max_accuracy: 0.8493 - val_min_accuracy: 0.8285\n",
            "Epoch 6/20\n",
            "120/120 [==============================] - 5s 45ms/step - loss: 0.1182 - accuracy: 0.9523 - disparity: 0.0081 - max_accuracy: 0.9564 - min_accuracy: 0.9483 - val_loss: 0.4745 - val_accuracy: 0.8365 - val_disparity: 0.0201 - val_max_accuracy: 0.8472 - val_min_accuracy: 0.8270\n",
            "Epoch 7/20\n",
            "120/120 [==============================] - 5s 44ms/step - loss: 0.0905 - accuracy: 0.9687 - disparity: 4.0674e-04 - max_accuracy: 0.9689 - min_accuracy: 0.9685 - val_loss: 0.6344 - val_accuracy: 0.8207 - val_disparity: 0.1322 - val_max_accuracy: 0.8978 - val_min_accuracy: 0.7656\n",
            "Epoch 8/20\n",
            "120/120 [==============================] - 5s 45ms/step - loss: 0.0826 - accuracy: 0.9692 - disparity: 0.0025 - max_accuracy: 0.9705 - min_accuracy: 0.9680 - val_loss: 0.4821 - val_accuracy: 0.8389 - val_disparity: 0.0225 - val_max_accuracy: 0.8502 - val_min_accuracy: 0.8277\n",
            "Epoch 9/20\n",
            "120/120 [==============================] - 5s 44ms/step - loss: 0.0658 - accuracy: 0.9760 - disparity: 0.0095 - max_accuracy: 0.9809 - min_accuracy: 0.9714 - val_loss: 0.5656 - val_accuracy: 0.8359 - val_disparity: 0.0094 - val_max_accuracy: 0.8408 - val_min_accuracy: 0.8314\n",
            "Epoch 10/20\n",
            "120/120 [==============================] - 5s 44ms/step - loss: 0.0761 - accuracy: 0.9695 - disparity: 0.0059 - max_accuracy: 0.9725 - min_accuracy: 0.9665 - val_loss: 0.5620 - val_accuracy: 0.8377 - val_disparity: 4.8387e-04 - val_max_accuracy: 0.8379 - val_min_accuracy: 0.8375\n",
            "Epoch 11/20\n",
            "120/120 [==============================] - 5s 44ms/step - loss: 0.0974 - accuracy: 0.9599 - disparity: 2.2662e-04 - max_accuracy: 0.9600 - min_accuracy: 0.9598 - val_loss: 0.8580 - val_accuracy: 0.8231 - val_disparity: 0.0488 - val_max_accuracy: 0.8501 - val_min_accuracy: 0.8013\n",
            "Epoch 12/20\n",
            "120/120 [==============================] - 5s 44ms/step - loss: 0.0598 - accuracy: 0.9778 - disparity: 0.0041 - max_accuracy: 0.9799 - min_accuracy: 0.9758 - val_loss: 0.5030 - val_accuracy: 0.8413 - val_disparity: 0.0358 - val_max_accuracy: 0.8596 - val_min_accuracy: 0.8238\n",
            "Epoch 13/20\n",
            "120/120 [==============================] - 5s 44ms/step - loss: 0.0599 - accuracy: 0.9799 - disparity: 8.6647e-04 - max_accuracy: 0.9804 - min_accuracy: 0.9795 - val_loss: 0.5734 - val_accuracy: 0.8249 - val_disparity: 0.0582 - val_max_accuracy: 0.8557 - val_min_accuracy: 0.7975\n",
            "Epoch 14/20\n",
            "120/120 [==============================] - 5s 44ms/step - loss: 0.0490 - accuracy: 0.9797 - disparity: 6.2931e-04 - max_accuracy: 0.9800 - min_accuracy: 0.9794 - val_loss: 0.6027 - val_accuracy: 0.8334 - val_disparity: 0.0271 - val_max_accuracy: 0.8480 - val_min_accuracy: 0.8209\n",
            "Epoch 15/20\n",
            "120/120 [==============================] - 5s 44ms/step - loss: 0.0615 - accuracy: 0.9765 - disparity: 5.6571e-04 - max_accuracy: 0.9768 - min_accuracy: 0.9763 - val_loss: 0.5975 - val_accuracy: 0.8340 - val_disparity: 0.1226 - val_max_accuracy: 0.9044 - val_min_accuracy: 0.7818\n",
            "Epoch 16/20\n",
            "120/120 [==============================] - 5s 44ms/step - loss: 0.0583 - accuracy: 0.9797 - disparity: 0.0016 - max_accuracy: 0.9805 - min_accuracy: 0.9789 - val_loss: 0.5429 - val_accuracy: 0.8444 - val_disparity: 0.0133 - val_max_accuracy: 0.8510 - val_min_accuracy: 0.8376\n",
            "Epoch 17/20\n",
            "120/120 [==============================] - 6s 47ms/step - loss: 0.0534 - accuracy: 0.9797 - disparity: 0.0036 - max_accuracy: 0.9815 - min_accuracy: 0.9779 - val_loss: 0.5715 - val_accuracy: 0.8407 - val_disparity: 0.0518 - val_max_accuracy: 0.8694 - val_min_accuracy: 0.8176\n",
            "Epoch 18/20\n",
            "120/120 [==============================] - 5s 45ms/step - loss: 0.0695 - accuracy: 0.9755 - disparity: 4.4698e-04 - max_accuracy: 0.9757 - min_accuracy: 0.9753 - val_loss: 0.6335 - val_accuracy: 0.8328 - val_disparity: 0.0197 - val_max_accuracy: 0.8433 - val_min_accuracy: 0.8236\n",
            "Epoch 19/20\n",
            "120/120 [==============================] - 5s 44ms/step - loss: 0.0457 - accuracy: 0.9844 - disparity: 7.2467e-04 - max_accuracy: 0.9847 - min_accuracy: 0.9840 - val_loss: 0.6326 - val_accuracy: 0.8450 - val_disparity: 0.0461 - val_max_accuracy: 0.8689 - val_min_accuracy: 0.8228\n",
            "Epoch 20/20\n",
            "120/120 [==============================] - 5s 45ms/step - loss: 0.0355 - accuracy: 0.9883 - disparity: 2.9504e-04 - max_accuracy: 0.9884 - min_accuracy: 0.9881 - val_loss: 0.5885 - val_accuracy: 0.8419 - val_disparity: 0.0267 - val_max_accuracy: 0.8554 - val_min_accuracy: 0.8287\n",
            "saving model at ./models/test/base/model_gender.h5\n"
          ]
        }
      ],
      "source": [
        "# train model\n",
        "mymodel.fit(index=1, model=initializeModel(), epochs=20, save=True, save_location='./models/test/base/')"
      ]
    },
    {
      "cell_type": "code",
      "execution_count": null,
      "id": "0a43ee30-f1d4-43fe-9990-7ead60376a13",
      "metadata": {
        "id": "0a43ee30-f1d4-43fe-9990-7ead60376a13",
        "colab": {
          "base_uri": "https://localhost:8080/"
        },
        "outputId": "59cf2a5f-d9a8-46b0-cd37-e9d0c3e12f1a"
      },
      "outputs": [
        {
          "output_type": "stream",
          "name": "stdout",
          "text": [
            "Training model for age\n",
            "Epoch 1/20\n",
            "198/198 [==============================] - 16s 55ms/step - loss: 1.2600 - accuracy: 0.5154 - disparity: 0.2632 - max_accuracy: 0.6356 - min_accuracy: 0.3724 - val_loss: 1.5137 - val_accuracy: 0.6251 - val_disparity: 0.2574 - val_max_accuracy: 0.7809 - val_min_accuracy: 0.5235\n",
            "Epoch 2/20\n",
            "198/198 [==============================] - 9s 44ms/step - loss: 0.9080 - accuracy: 0.6314 - disparity: 0.3024 - max_accuracy: 0.7946 - min_accuracy: 0.4922 - val_loss: 0.7958 - val_accuracy: 0.6721 - val_disparity: 0.3242 - val_max_accuracy: 0.8153 - val_min_accuracy: 0.4911\n",
            "Epoch 3/20\n",
            "198/198 [==============================] - 9s 45ms/step - loss: 0.7428 - accuracy: 0.6981 - disparity: 0.2967 - max_accuracy: 0.8647 - min_accuracy: 0.5680 - val_loss: 0.7528 - val_accuracy: 0.6939 - val_disparity: 0.2625 - val_max_accuracy: 0.8570 - val_min_accuracy: 0.5944\n",
            "Epoch 4/20\n",
            "198/198 [==============================] - 9s 45ms/step - loss: 0.6187 - accuracy: 0.7585 - disparity: 0.2368 - max_accuracy: 0.8999 - min_accuracy: 0.6631 - val_loss: 0.8233 - val_accuracy: 0.6532 - val_disparity: 0.3170 - val_max_accuracy: 0.8034 - val_min_accuracy: 0.4864\n",
            "Epoch 5/20\n",
            "198/198 [==============================] - 9s 44ms/step - loss: 0.5845 - accuracy: 0.7683 - disparity: 0.2065 - max_accuracy: 0.8986 - min_accuracy: 0.6921 - val_loss: 1.5105 - val_accuracy: 0.6177 - val_disparity: 0.3336 - val_max_accuracy: 0.8274 - val_min_accuracy: 0.4938\n",
            "Epoch 6/20\n",
            "198/198 [==============================] - 9s 44ms/step - loss: 0.5159 - accuracy: 0.8026 - disparity: 0.2052 - max_accuracy: 0.9263 - min_accuracy: 0.7210 - val_loss: 0.8790 - val_accuracy: 0.6839 - val_disparity: 0.3496 - val_max_accuracy: 0.9278 - val_min_accuracy: 0.5781\n",
            "Epoch 7/20\n",
            "198/198 [==============================] - 9s 44ms/step - loss: 0.4601 - accuracy: 0.8289 - disparity: 0.1383 - max_accuracy: 0.9151 - min_accuracy: 0.7768 - val_loss: 0.8774 - val_accuracy: 0.6743 - val_disparity: 0.3956 - val_max_accuracy: 0.9224 - val_min_accuracy: 0.5268\n",
            "Epoch 8/20\n",
            "198/198 [==============================] - 9s 47ms/step - loss: 0.3314 - accuracy: 0.8796 - disparity: 0.1024 - max_accuracy: 0.9510 - min_accuracy: 0.8486 - val_loss: 0.9184 - val_accuracy: 0.6769 - val_disparity: 0.3294 - val_max_accuracy: 0.8760 - val_min_accuracy: 0.5467\n",
            "Epoch 9/20\n",
            "198/198 [==============================] - 9s 44ms/step - loss: 0.2755 - accuracy: 0.9016 - disparity: 0.0778 - max_accuracy: 0.9567 - min_accuracy: 0.8788 - val_loss: 1.0139 - val_accuracy: 0.6773 - val_disparity: 0.4161 - val_max_accuracy: 0.9132 - val_min_accuracy: 0.4971\n",
            "Epoch 10/20\n",
            "198/198 [==============================] - 9s 44ms/step - loss: 0.2417 - accuracy: 0.9159 - disparity: 0.0734 - max_accuracy: 0.9580 - min_accuracy: 0.8846 - val_loss: 0.9746 - val_accuracy: 0.6869 - val_disparity: 0.3340 - val_max_accuracy: 0.8990 - val_min_accuracy: 0.5650\n",
            "Epoch 11/20\n",
            "198/198 [==============================] - 9s 44ms/step - loss: 0.1911 - accuracy: 0.9327 - disparity: 0.0608 - max_accuracy: 0.9729 - min_accuracy: 0.9121 - val_loss: 1.1258 - val_accuracy: 0.6606 - val_disparity: 0.3776 - val_max_accuracy: 0.8752 - val_min_accuracy: 0.4976\n",
            "Epoch 12/20\n",
            "198/198 [==============================] - 9s 45ms/step - loss: 0.1599 - accuracy: 0.9450 - disparity: 0.0560 - max_accuracy: 0.9749 - min_accuracy: 0.9189 - val_loss: 1.1170 - val_accuracy: 0.6884 - val_disparity: 0.3213 - val_max_accuracy: 0.8829 - val_min_accuracy: 0.5616\n",
            "Epoch 13/20\n",
            "198/198 [==============================] - 9s 44ms/step - loss: 0.1324 - accuracy: 0.9553 - disparity: 0.0365 - max_accuracy: 0.9757 - min_accuracy: 0.9392 - val_loss: 1.2441 - val_accuracy: 0.6680 - val_disparity: 0.4185 - val_max_accuracy: 0.9139 - val_min_accuracy: 0.4955\n",
            "Epoch 14/20\n",
            "198/198 [==============================] - 9s 44ms/step - loss: 0.1500 - accuracy: 0.9460 - disparity: 0.0431 - max_accuracy: 0.9732 - min_accuracy: 0.9300 - val_loss: 1.2068 - val_accuracy: 0.6965 - val_disparity: 0.3674 - val_max_accuracy: 0.9316 - val_min_accuracy: 0.5641\n",
            "Epoch 15/20\n",
            "198/198 [==============================] - 9s 44ms/step - loss: 0.1339 - accuracy: 0.9526 - disparity: 0.0367 - max_accuracy: 0.9756 - min_accuracy: 0.9389 - val_loss: 1.1774 - val_accuracy: 0.6813 - val_disparity: 0.3292 - val_max_accuracy: 0.8986 - val_min_accuracy: 0.5694\n",
            "Epoch 16/20\n",
            "198/198 [==============================] - 9s 44ms/step - loss: 0.1114 - accuracy: 0.9612 - disparity: 0.0319 - max_accuracy: 0.9749 - min_accuracy: 0.9430 - val_loss: 1.2451 - val_accuracy: 0.6880 - val_disparity: 0.3475 - val_max_accuracy: 0.8930 - val_min_accuracy: 0.5455\n",
            "Epoch 17/20\n",
            "198/198 [==============================] - 9s 44ms/step - loss: 0.1236 - accuracy: 0.9617 - disparity: 0.0311 - max_accuracy: 0.9814 - min_accuracy: 0.9503 - val_loss: 1.2238 - val_accuracy: 0.6861 - val_disparity: 0.3066 - val_max_accuracy: 0.8658 - val_min_accuracy: 0.5592\n",
            "Epoch 18/20\n",
            "198/198 [==============================] - 9s 44ms/step - loss: 0.0988 - accuracy: 0.9647 - disparity: 0.0275 - max_accuracy: 0.9833 - min_accuracy: 0.9558 - val_loss: 1.3088 - val_accuracy: 0.6658 - val_disparity: 0.4240 - val_max_accuracy: 0.9298 - val_min_accuracy: 0.5058\n",
            "Epoch 19/20\n",
            "198/198 [==============================] - 9s 44ms/step - loss: 0.1326 - accuracy: 0.9567 - disparity: 0.0324 - max_accuracy: 0.9776 - min_accuracy: 0.9452 - val_loss: 1.1868 - val_accuracy: 0.6850 - val_disparity: 0.3458 - val_max_accuracy: 0.8978 - val_min_accuracy: 0.5520\n",
            "Epoch 20/20\n",
            "198/198 [==============================] - 9s 44ms/step - loss: 0.1269 - accuracy: 0.9577 - disparity: 0.0254 - max_accuracy: 0.9725 - min_accuracy: 0.9471 - val_loss: 1.2602 - val_accuracy: 0.6795 - val_disparity: 0.2442 - val_max_accuracy: 0.8434 - val_min_accuracy: 0.5992\n",
            "saving model at ./models/test/base/model_age.h5\n"
          ]
        }
      ],
      "source": [
        "# train model\n",
        "mymodel.fit(index=2, model=initializeModel(), epochs=20, save=True, save_location='./models/test/base/')"
      ]
    },
    {
      "cell_type": "markdown",
      "id": "6527b5ae",
      "metadata": {
        "id": "6527b5ae"
      },
      "source": [
        "## Evaluate the Model\n",
        "\n",
        "We now evaluate the model on the test data. To do this, let's first load up that data and structure it similarly."
      ]
    },
    {
      "cell_type": "code",
      "execution_count": null,
      "id": "43ab27c7",
      "metadata": {
        "id": "43ab27c7",
        "colab": {
          "base_uri": "https://localhost:8080/"
        },
        "outputId": "8caf1178-78f7-4342-e91f-528a88f90916"
      },
      "outputs": [
        {
          "output_type": "stream",
          "name": "stdout",
          "text": [
            "Converting test labels to np array\n",
            "Loading test images\n",
            "Converting test images to np array\n"
          ]
        }
      ],
      "source": [
        "# load labels data\n",
        "TESTPATH = './test/'\n",
        "df_test = pd.read_csv(TESTPATH+'labels.csv')\n",
        "\n",
        "# Convert labels to np array\n",
        "print(\"Converting test labels to np array\")\n",
        "testY = []\n",
        "for i in range(3):\n",
        "    lab = lbs[i].fit_transform(df_test[cat[i]])\n",
        "    if lab.shape[1]==1:\n",
        "        testY.append(np.hstack((1-lab,lab)))\n",
        "    else:\n",
        "        testY.append(lab)\n",
        "        \n",
        "# load and convert images into np array\n",
        "print(\"Loading test images\")\n",
        "nt = df_test.shape[0]\n",
        "all_imgs = [image.load_img(TESTPATH+df_test.iloc[i]['name'], target_size=(length,width)) for i in range(nt)]\n",
        "\n",
        "print(\"Converting test images to np array\")\n",
        "testX = np.empty([nt, length, width, 3], dtype=float)\n",
        "for i in range(nt):\n",
        "    testX[i,:] = image.img_to_array(all_imgs[i])\n",
        "testX = K.applications.resnet50.preprocess_input(testX)"
      ]
    },
    {
      "cell_type": "code",
      "execution_count": null,
      "id": "40c7c605-ab8a-4daf-91b1-207f5980b527",
      "metadata": {
        "id": "40c7c605-ab8a-4daf-91b1-207f5980b527"
      },
      "outputs": [],
      "source": [
        "face_indices = df_test['real_face'] == 1\n",
        "fake_indices = df_test['real_face'] != 1"
      ]
    },
    {
      "cell_type": "markdown",
      "id": "42c46e26-9e9c-4df8-81dc-51c9148eaedc",
      "metadata": {
        "id": "42c46e26-9e9c-4df8-81dc-51c9148eaedc"
      },
      "source": [
        "We also need to reload the model:"
      ]
    },
    {
      "cell_type": "code",
      "execution_count": null,
      "id": "5339ea8d-5049-4e1f-8518-2bad9686beb5",
      "metadata": {
        "id": "5339ea8d-5049-4e1f-8518-2bad9686beb5"
      },
      "outputs": [],
      "source": [
        "if False:\n",
        "  loaded_models = [[],[],[]]\n",
        "  pred = [[],[],[]]\n",
        "\n",
        "  custom_objects = {\"CategoricalDisparity\": CategoricalDisparity, \"CategoricalMaxAccuracy\": CategoricalMaxAccuracy, \"CategoricalMinAccuracy\":CategoricalMinAccuracy}\n",
        "  for i in range(3):\n",
        "      models[i] = K.models.load_model('./models/test/base/' + 'model_'+cat[i]+'.h5', custom_objects=custom_objects)\n",
        "      pred[i] = models[i].predict(testX[i])    \n",
        "    \n",
        "      predY = [[np.argmax(pred[i][j,:]) for j in range(nt)] for i in range(3)]"
      ]
    },
    {
      "cell_type": "markdown",
      "id": "b07ee94e",
      "metadata": {
        "id": "b07ee94e"
      },
      "source": [
        "We then obtain predicted labels for skin tone, gender, and age as a list of lists."
      ]
    },
    {
      "cell_type": "code",
      "execution_count": null,
      "id": "bf106302",
      "metadata": {
        "id": "bf106302",
        "colab": {
          "base_uri": "https://localhost:8080/"
        },
        "outputId": "94e380de-31b6-48c9-c092-097cb4b8ae44"
      },
      "outputs": [
        {
          "output_type": "stream",
          "name": "stdout",
          "text": [
            "94/94 [==============================] - 3s 21ms/step\n",
            "94/94 [==============================] - 3s 17ms/step\n",
            "94/94 [==============================] - 3s 17ms/step\n"
          ]
        }
      ],
      "source": [
        "pred = mymodel.predict(testX)\n",
        "predY = [[np.argmax(pred[i][j,:]) for j in range(nt)] for i in range(3)]\n",
        "predLabels = [[lbs[i].classes_[j] for j in predY[i]] for i in range(3)]"
      ]
    },
    {
      "cell_type": "markdown",
      "id": "3f0cf73d",
      "metadata": {
        "id": "3f0cf73d"
      },
      "source": [
        "Finally, we calculate the label-wise accuracy and disparity."
      ]
    },
    {
      "cell_type": "code",
      "execution_count": null,
      "id": "081d5cdc",
      "metadata": {
        "id": "081d5cdc",
        "colab": {
          "base_uri": "https://localhost:8080/"
        },
        "outputId": "27581557-4c93-437e-cc89-24d14a55c682"
      },
      "outputs": [
        {
          "output_type": "execute_result",
          "data": {
            "text/plain": [
              "{'accuracy': {'skin_tone': 0.22566666666666665,\n",
              "  'gender': 0.7586666666666667,\n",
              "  'age': 0.5016666666666667},\n",
              " 'disparity': {'skin_tone': 0.14149345650500386,\n",
              "  'gender': 0.05861143076332953,\n",
              "  'age': 0.23206459054209921}}"
            ]
          },
          "metadata": {},
          "execution_count": 39
        }
      ],
      "source": [
        "# calculate accuracy\n",
        "acc = {}\n",
        "for i in range(3):\n",
        "    icat = cat[i]\n",
        "    iacc = accuracy_score(df_test[cat[i]], predLabels[i])\n",
        "    acc[icat] = iacc\n",
        "    \n",
        "# calculate disparity\n",
        "def disparity_score(ytrue, ypred):\n",
        "    cm = confusion_matrix(ytrue,ypred)\n",
        "    cm = cm.astype('float') / cm.sum(axis=1)[:, np.newaxis]\n",
        "    all_acc = list(cm.diagonal())\n",
        "    return max(all_acc) - min(all_acc)\n",
        "\n",
        "disp = {}\n",
        "for i in range(3):\n",
        "    icat = cat[i]\n",
        "    idisp = disparity_score(df_test[cat[i]], predLabels[i])\n",
        "    disp[icat] = idisp\n",
        "disp\n",
        "\n",
        "results = {'accuracy': acc, 'disparity': disp}\n",
        "results"
      ]
    },
    {
      "cell_type": "code",
      "source": [
        "import scipy.stats as stats\n",
        "\n",
        "true_acc = {}\n",
        "for i in range(3):\n",
        "    icat = cat[i]\n",
        "    iacc = accuracy_score(df_test[face_indices.values][cat[i]], np.array(predLabels[i])[face_indices.values])\n",
        "    true_acc[icat] = iacc\n",
        "\n",
        "fake_acc = {}\n",
        "for i in range(3):\n",
        "    icat = cat[i]\n",
        "    obs = pd.Series(predLabels[i])[fake_indices.values].value_counts().values\n",
        "    e = obs.sum()/len(obs)\n",
        "    chi2 = ((obs - e)**2 / e).sum()\n",
        "    iacc = 1 - stats.chi2.cdf(chi2, df=len(obs)-1)\n",
        "    fake_acc[icat] = iacc\n"
      ],
      "metadata": {
        "id": "K7nOiCviWf0A"
      },
      "id": "K7nOiCviWf0A",
      "execution_count": null,
      "outputs": []
    },
    {
      "cell_type": "code",
      "execution_count": null,
      "id": "6aa9d711-f406-4683-9296-dbf2a3bd3a78",
      "metadata": {
        "id": "6aa9d711-f406-4683-9296-dbf2a3bd3a78",
        "colab": {
          "base_uri": "https://localhost:8080/"
        },
        "outputId": "6b1c8fef-2ac7-465d-801b-1dd6563210b3"
      },
      "outputs": [
        {
          "output_type": "stream",
          "name": "stdout",
          "text": [
            "{'true_accuracy': {'skin_tone': 0.2431791221826809, 'gender': 0.8113879003558719, 'age': 0.5272835112692764}, 'fake_chi': {'skin_tone': 0.0, 'gender': 7.11197676709352e-05, 'age': 0.0}}\n"
          ]
        }
      ],
      "source": [
        "print({'true_accuracy': true_acc, 'fake_chi': fake_acc})"
      ]
    },
    {
      "cell_type": "code",
      "execution_count": null,
      "id": "5b025eb1-6cf0-4a91-8d21-64ef27f9c385",
      "metadata": {
        "id": "5b025eb1-6cf0-4a91-8d21-64ef27f9c385",
        "colab": {
          "base_uri": "https://localhost:8080/",
          "height": 858
        },
        "outputId": "22d90c82-1263-43c7-c9c1-514a881fd410"
      },
      "outputs": [
        {
          "output_type": "stream",
          "name": "stdout",
          "text": [
            "skin_tone\n"
          ]
        },
        {
          "output_type": "display_data",
          "data": {
            "text/plain": [
              "<Figure size 432x288 with 2 Axes>"
            ],
            "image/png": "[encoded data removed]"
          },
          "metadata": {
            "needs_background": "light"
          }
        },
        {
          "output_type": "stream",
          "name": "stdout",
          "text": [
            "gender\n"
          ]
        },
        {
          "output_type": "display_data",
          "data": {
            "text/plain": [
              "<Figure size 432x288 with 2 Axes>"
            ],
            "image/png": "[encoded data removed]"
          },
          "metadata": {
            "needs_background": "light"
          }
        },
        {
          "output_type": "stream",
          "name": "stdout",
          "text": [
            "age\n"
          ]
        },
        {
          "output_type": "display_data",
          "data": {
            "text/plain": [
              "<Figure size 432x288 with 2 Axes>"
            ],
            "image/png": "[encoded data removed]"
          },
          "metadata": {
            "needs_background": "light"
          }
        }
      ],
      "source": [
        "import matplotlib.pyplot as plt\n",
        "\n",
        "for i in range(3):\n",
        "    labels = df[df[cat[i]].notna()][cat[i]].unique()\n",
        "    print(cat[i])\n",
        "    ConfusionMatrixDisplay(confusion_matrix(df_test[cat[i]], predLabels[i]),display_labels=labels).plot()\n",
        "    plt.show()"
      ]
    },
    {
      "cell_type": "markdown",
      "id": "f20b0fcd",
      "metadata": {
        "id": "f20b0fcd"
      },
      "source": [
        "# Score Model and Prepare Submission\n",
        "\n",
        "Based on the above metric, we now calculate the score to evaluate your submission. This score will be displayed in your public leaderboard."
      ]
    },
    {
      "cell_type": "code",
      "execution_count": null,
      "id": "db5b9086",
      "metadata": {
        "id": "db5b9086",
        "colab": {
          "base_uri": "https://localhost:8080/"
        },
        "outputId": "80772999-13bc-42b6-bc02-55dfba075ff7"
      },
      "outputs": [
        {
          "output_type": "execute_result",
          "data": {
            "text/plain": [
              "{'submission_name': 'OII Crew',\n",
              " 'score': 5.583538632104858,\n",
              " 'metrics': {'accuracy': {'skin_tone': 0.22566666666666665,\n",
              "   'gender': 0.7586666666666667,\n",
              "   'age': 0.5016666666666667},\n",
              "  'disparity': {'skin_tone': 0.14149345650500386,\n",
              "   'gender': 0.05861143076332953,\n",
              "   'age': 0.23206459054209921}}}"
            ]
          },
          "metadata": {},
          "execution_count": 44
        }
      ],
      "source": [
        "def getScore(results):\n",
        "    acc = results['accuracy']\n",
        "    disp = results['disparity']\n",
        "    ad = 2*acc['gender']*(1-disp['gender']) + 4*acc['age']*(1-disp['age']**2) + 10*acc['skin_tone']*(1-disp['skin_tone']**5)\n",
        "    return ad\n",
        "\n",
        "title = 'OII Crew'\n",
        "    \n",
        "submission = {\n",
        "    'submission_name': title,\n",
        "    'score': getScore(results),\n",
        "    'metrics': results\n",
        "}\n",
        "\n",
        "   \n",
        "submission"
      ]
    },
    {
      "cell_type": "code",
      "source": [
        "print(10*.3919*(1-.3422**5))\n",
        "print(10*.2256*(1-.1415**5))"
      ],
      "metadata": {
        "colab": {
          "base_uri": "https://localhost:8080/"
        },
        "id": "7KssySByEQ10",
        "outputId": "ad7f0ef7-b4ff-4629-d295-037bcc279ed7"
      },
      "id": "7KssySByEQ10",
      "execution_count": null,
      "outputs": [
        {
          "output_type": "stream",
          "name": "stdout",
          "text": [
            "3.900610272685576\n",
            "2.2558720261326037\n"
          ]
        }
      ]
    },
    {
      "cell_type": "code",
      "execution_count": null,
      "id": "15d57754-61bb-4438-8d13-6fb92df500cc",
      "metadata": {
        "id": "15d57754-61bb-4438-8d13-6fb92df500cc"
      },
      "outputs": [],
      "source": [
        "{'submission_name': 'OII Crew',\n",
        " 'score': 5.28437039172921,\n",
        " 'metrics': {'accuracy': {'skin_tone': 0.21466666666666667,\n",
        "   'gender': 0.7576666666666667,\n",
        "   'age': 0.5183333333333333},\n",
        "  'disparity': {'skin_tone': 0.34997984567545776,\n",
        "   'gender': 0.1225163022631377,\n",
        "   'age': 0.3500379778884294}}}"
      ]
    },
    {
      "cell_type": "markdown",
      "id": "19070a4e",
      "metadata": {
        "id": "19070a4e"
      },
      "source": [
        "Finally, let's export this as a json file to upload as part of filling out your [submission form](https://docs.google.com/forms/d/e/1FAIpQLSfwqtVkJBVRP6TnFp7vHbbH8SlwKZJFIjvGQy7TyYFc8HR1hw/viewform)."
      ]
    },
    {
      "cell_type": "code",
      "execution_count": null,
      "id": "34c30e37",
      "metadata": {
        "id": "34c30e37"
      },
      "outputs": [],
      "source": [
        "with open(\"model_score.json\", \"w\") as f:\n",
        "    json.dump(submission, f, indent=4)"
      ]
    }
  ],
  "metadata": {
    "kernelspec": {
      "display_name": "Python 3 (ipykernel)",
      "language": "python",
      "name": "python3"
    },
    "language_info": {
      "codemirror_mode": {
        "name": "ipython",
        "version": 3
      },
      "file_extension": ".py",
      "mimetype": "text/x-python",
      "name": "python",
      "nbconvert_exporter": "python",
      "pygments_lexer": "ipython3",
      "version": "3.9.12"
    },
    "colab": {
      "provenance": []
    },
    "accelerator": "GPU",
    "gpuClass": "standard"
  },
  "nbformat": 4,
  "nbformat_minor": 5
}
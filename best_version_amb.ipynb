{
  "cells": [
    {
      "cell_type": "markdown",
      "id": "bd235fb0",
      "metadata": {
        "id": "bd235fb0"
      },
      "source": [
        "# Bias Buccaneers Image Recognition Challenge: Quickstart\n",
        "\n",
        "This notebook will introduce you to the data and describe a workflow to train and evaluate a baseline model on it."
      ]
    },
    {
      "cell_type": "markdown",
      "id": "ad57b0b7",
      "metadata": {
        "id": "ad57b0b7"
      },
      "source": [
        "## Initial Setup\n",
        "\n",
        "We start with loading the required packages."
      ]
    },
    {
      "cell_type": "code",
      "execution_count": 14,
      "id": "2454f20e",
      "metadata": {
        "id": "2454f20e"
      },
      "outputs": [],
      "source": [
        "# !pip install tensorflow\n",
        "import numpy as np\n",
        "import pandas as pd\n",
        "import json\n",
        "import os\n",
        "\n",
        "from sklearn.preprocessing import LabelBinarizer\n",
        "from sklearn.model_selection import train_test_split\n",
        "from sklearn.metrics import accuracy_score, confusion_matrix, ConfusionMatrixDisplay\n",
        "\n",
        "import tensorflow as tf\n",
        "import tensorflow.keras as K\n",
        "from tensorflow.keras.preprocessing import image\n",
        "from tensorflow.keras.applications.resnet50 import ResNet50"
      ]
    },
    {
      "cell_type": "code",
      "source": [
        "import tensorflow as tf\n",
        "device_name = tf.test.gpu_device_name()\n",
        "if device_name != '/device:GPU:0':\n",
        "  raise SystemError('GPU device not found')\n",
        "print('Found GPU at: {}'.format(device_name))"
      ],
      "metadata": {
        "colab": {
          "base_uri": "https://localhost:8080/"
        },
        "id": "R-S0NiG6KUfl",
        "outputId": "987458d9-26bc-4e0a-9ea3-483a80259e63"
      },
      "id": "R-S0NiG6KUfl",
      "execution_count": 15,
      "outputs": [
        {
          "output_type": "stream",
          "name": "stdout",
          "text": [
            "Found GPU at: /device:GPU:0\n"
          ]
        }
      ]
    },
    {
      "cell_type": "code",
      "source": [
        "from google.colab import drive\n",
        "drive.mount('/content/drive')"
      ],
      "metadata": {
        "colab": {
          "base_uri": "https://localhost:8080/"
        },
        "id": "5aJShv9mG470",
        "outputId": "073c8d38-822e-491c-ed17-734454461ed6"
      },
      "id": "5aJShv9mG470",
      "execution_count": 16,
      "outputs": [
        {
          "output_type": "stream",
          "name": "stdout",
          "text": [
            "Drive already mounted at /content/drive; to attempt to forcibly remount, call drive.mount(\"/content/drive\", force_remount=True).\n"
          ]
        }
      ]
    },
    {
      "cell_type": "code",
      "source": [
        "#!unzip /content/drive/MyDrive/data_bb1_img_recognition -d /content/"
      ],
      "metadata": {
        "id": "e9jTBPqeHI__"
      },
      "id": "e9jTBPqeHI__",
      "execution_count": 17,
      "outputs": []
    },
    {
      "cell_type": "markdown",
      "id": "536f1fd6",
      "metadata": {
        "id": "536f1fd6"
      },
      "source": [
        "## Load the Data\n",
        "\n",
        "Make sure to download and uncompress the data (`data_bb1_img_recognition.zip`) in the folder you're working off of.\n",
        "\n",
        "We first load the file containing the labels, binarize labels of each of the three classes as a numpy array and store them as a list."
      ]
    },
    {
      "cell_type": "code",
      "execution_count": 18,
      "id": "82458e56-2c73-43cd-833c-27b182c18946",
      "metadata": {
        "id": "82458e56-2c73-43cd-833c-27b182c18946"
      },
      "outputs": [],
      "source": [
        "# load data\n",
        "LOADPATH = './train/'\n",
        "SAVEPATH = './models/limited/'\n",
        "df = pd.read_csv(LOADPATH+'labels.csv')\n",
        "df_labeled = df[df[\"skin_tone\"].notna()] # take only labeled data\n",
        "\n",
        "# filter for verified humans\n",
        "df_labeled = df_labeled[df_labeled['real_face'] == 1]\n"
      ]
    },
    {
      "cell_type": "code",
      "source": [
        "df_labeled.shape"
      ],
      "metadata": {
        "colab": {
          "base_uri": "https://localhost:8080/"
        },
        "id": "zdXaSUtVJKfd",
        "outputId": "06b8d650-9d4d-439e-aed8-97f091ef923e"
      },
      "id": "zdXaSUtVJKfd",
      "execution_count": 19,
      "outputs": [
        {
          "output_type": "execute_result",
          "data": {
            "text/plain": [
              "(6019, 5)"
            ]
          },
          "metadata": {},
          "execution_count": 19
        }
      ]
    },
    {
      "cell_type": "code",
      "execution_count": 20,
      "id": "0c742f6c",
      "metadata": {
        "id": "0c742f6c"
      },
      "outputs": [],
      "source": [
        "\n",
        "# Converting labels to np array\n",
        "cat = ['skin_tone','gender','age']\n",
        "lbs = [LabelBinarizer() for i in range(3)]\n",
        "base_Y = []\n",
        "for i in range(3):\n",
        "    lab = lbs[i].fit_transform(df_labeled[cat[i]])\n",
        "    if lab.shape[1]==1:\n",
        "        base_Y.append(np.hstack((1-lab,lab)))\n",
        "    else:\n",
        "        base_Y.append(lab)"
      ]
    },
    {
      "cell_type": "markdown",
      "id": "deb73277",
      "metadata": {
        "id": "deb73277"
      },
      "source": [
        "We then load the images under the training set and convert them to numpy arrays. This may take a while."
      ]
    },
    {
      "cell_type": "code",
      "source": [
        "length = width = 64 # size for each input image, increase if you want"
      ],
      "metadata": {
        "id": "9MkeHiijHdAJ"
      },
      "id": "9MkeHiijHdAJ",
      "execution_count": 21,
      "outputs": []
    },
    {
      "cell_type": "code",
      "execution_count": 22,
      "id": "0f957a4f",
      "metadata": {
        "colab": {
          "base_uri": "https://localhost:8080/"
        },
        "id": "0f957a4f",
        "outputId": "8ef69b5e-d275-4b94-d824-ab1ccc62fa3a"
      },
      "outputs": [
        {
          "output_type": "stream",
          "name": "stdout",
          "text": [
            "Loading images\n",
            "Converting images to np array\n"
          ]
        }
      ],
      "source": [
        "# loading and converting data into np array\n",
        "print(\"Loading images\")\n",
        "\n",
        "base_nn = df_labeled.shape[0]\n",
        "all_imgs = [image.load_img(LOADPATH+df_labeled.iloc[i]['name'], target_size=(length,width)) for i in range(base_nn)]\n",
        "\n",
        "print(\"Converting images to np array\")\n",
        "base_X = np.empty([base_nn, length, width, 3], dtype=float)\n",
        "for i in range(base_nn):\n",
        "    base_X[i,:] = image.img_to_array(all_imgs[i])\n",
        "base_X = K.applications.resnet50.preprocess_input(base_X)"
      ]
    },
    {
      "cell_type": "code",
      "execution_count": 23,
      "id": "ebeecc54-bd3a-4de2-aa83-92c8f76d8e45",
      "metadata": {
        "id": "ebeecc54-bd3a-4de2-aa83-92c8f76d8e45"
      },
      "outputs": [],
      "source": [
        "# Converting to triplicate to match with the different augmentations\n",
        "base_X = [base_X, base_X, base_X]"
      ]
    },
    {
      "cell_type": "code",
      "execution_count": 24,
      "id": "1610c108",
      "metadata": {
        "colab": {
          "base_uri": "https://localhost:8080/",
          "height": 81
        },
        "id": "1610c108",
        "outputId": "302aa0d3-ef25-4c9d-dec8-64bd893ebbe4"
      },
      "outputs": [
        {
          "output_type": "execute_result",
          "data": {
            "text/plain": [
              "<PIL.Image.Image image mode=RGB size=64x64 at 0x7F56A452D910>"
            ],
            "image/png": "[encoded data removed]"
          },
          "metadata": {},
          "execution_count": 24
        }
      ],
      "source": [
        "all_imgs[1235] # print a test image"
      ]
    },
    {
      "cell_type": "code",
      "source": [
        "del all_imgs"
      ],
      "metadata": {
        "id": "fZ53HPVRFfMT"
      },
      "id": "fZ53HPVRFfMT",
      "execution_count": 25,
      "outputs": []
    },
    {
      "cell_type": "code",
      "source": [
        "import gc\n",
        "gc.collect()"
      ],
      "metadata": {
        "colab": {
          "base_uri": "https://localhost:8080/"
        },
        "id": "iZVe7-n3FhQF",
        "outputId": "ecd5c616-af9f-4099-e7fa-f1414cba6f8d"
      },
      "id": "iZVe7-n3FhQF",
      "execution_count": 26,
      "outputs": [
        {
          "output_type": "execute_result",
          "data": {
            "text/plain": [
              "1389"
            ]
          },
          "metadata": {},
          "execution_count": 26
        }
      ]
    },
    {
      "cell_type": "markdown",
      "id": "8fa51e88-1bda-4213-bb5c-d67734660b1b",
      "metadata": {
        "id": "8fa51e88-1bda-4213-bb5c-d67734660b1b"
      },
      "source": [
        "### Augment the data"
      ]
    },
    {
      "cell_type": "code",
      "execution_count": 27,
      "id": "6f2ca289-61df-4a2f-b434-4806f1245c19",
      "metadata": {
        "id": "6f2ca289-61df-4a2f-b434-4806f1245c19"
      },
      "outputs": [],
      "source": [
        "import imgaug.augmenters as iaa\n",
        "from pathlib import Path\n",
        "import cv2\n",
        "from IPython.display import Image\n"
      ]
    },
    {
      "cell_type": "code",
      "execution_count": 28,
      "id": "be4ffa0d-9e0e-41a6-bc58-992e3916e367",
      "metadata": {
        "id": "be4ffa0d-9e0e-41a6-bc58-992e3916e367"
      },
      "outputs": [],
      "source": [
        "newseq = iaa.Sequential([\n",
        "    iaa.Fliplr(0.5), # horizontal flips\n",
        "    \n",
        "    # Small gaussian blur with random sigma between 0 and 0.5.\n",
        "    # But we only blur about 50% of all images.\n",
        "    iaa.Sometimes(\n",
        "        0.5,\n",
        "        iaa.GaussianBlur(sigma=(0, 0.5))\n",
        "    ),\n",
        "    \n",
        "    # Strengthen or weaken the contrast in each image.\n",
        "    iaa.LinearContrast((0.75, 1.5)),\n",
        "   \n",
        "    # Make some images brighter and some darker.\n",
        "    # In 20% of all cases, we sample the multiplier once per channel,\n",
        "    # which can end up changing the color of the images.\n",
        "    iaa.Multiply((0.8, 1.2), per_channel=0.0),\n",
        "    \n",
        "    # Apply affine transformations to each image.\n",
        "    # Scale/zoom them, translate/move them, rotate them and shear them.\n",
        "    iaa.Affine(\n",
        "        translate_percent={\"x\": (-0.2, 0.2), \"y\": (-0.2, 0.2)},\n",
        "        rotate=(-15, 15),\n",
        "        shear=(-8, 8)\n",
        "    )\n",
        "], random_order=True)"
      ]
    },
    {
      "cell_type": "code",
      "execution_count": 29,
      "id": "5bd3a9d9-ed9e-4e55-92c4-dc410a6dc2f1",
      "metadata": {
        "id": "5bd3a9d9-ed9e-4e55-92c4-dc410a6dc2f1"
      },
      "outputs": [],
      "source": [
        "def create_aug_names(names: pd.Series, cat: str) -> pd.Series:\n",
        "    augnames = names.copy()\n",
        "    for i, name in enumerate(names.values):\n",
        "        augnames.iloc[i] = \"AUG_\" + cat + \"_\" + str(i) + \"_\" + name\n",
        "    return augnames\n"
      ]
    },
    {
      "cell_type": "code",
      "execution_count": 30,
      "id": "5f2d13bc-fc8a-4680-849c-c6fb43f00f1b",
      "metadata": {
        "id": "5f2d13bc-fc8a-4680-849c-c6fb43f00f1b"
      },
      "outputs": [],
      "source": [
        "def get_imgs_to_sample(series: pd.Series) -> pd.Series:\n",
        "    counts = series.value_counts()\n",
        "    return counts.max() - counts"
      ]
    },
    {
      "cell_type": "code",
      "execution_count": 31,
      "id": "74027ec9-6060-4cf1-9c0a-a35145fd7f0f",
      "metadata": {
        "id": "74027ec9-6060-4cf1-9c0a-a35145fd7f0f"
      },
      "outputs": [],
      "source": [
        "def create_augs(df: pd.DataFrame, img_to_sample: pd.Series, seq: iaa.Sequential, read_dir, write_dir, colname: str = \"age\") -> pd.DataFrame:\n",
        "    new_df = pd.DataFrame()\n",
        "    for cat, count in img_to_sample.items():\n",
        "        print(f\"Sampling {count} images for {colname} {cat}\")\n",
        "        if count > 0:\n",
        "            df_sample = df[df[colname] == cat].sample(count, replace=True)\n",
        "            df_sample[\"aug_name\"] = create_aug_names(df_sample[\"name\"], cat)\n",
        "            df_sample[\"aug_cat\"] = colname\n",
        "            sample_imgs = [cv2.imread(read_dir + '/' + name) for name in df_sample[\"name\"]]\n",
        "            augs = seq.augment_images(sample_imgs)\n",
        "            for i, aug in enumerate(augs):\n",
        "                cv2.imwrite(str(write_dir + '/' + df_sample.iloc[i, 5]), aug)\n",
        "            new_df = pd.concat([new_df, df_sample])\n",
        "    return new_df\n"
      ]
    },
    {
      "cell_type": "code",
      "execution_count": 32,
      "id": "e6b5e7f1-56f8-4ec6-8ab8-11751854f96c",
      "metadata": {
        "id": "e6b5e7f1-56f8-4ec6-8ab8-11751854f96c"
      },
      "outputs": [],
      "source": [
        "def upsample_imgs(df, sample_cols, seq, read_dir, write_dir):\n",
        "    aug_df = pd.DataFrame()\n",
        "    for col in sample_cols:\n",
        "        print(f\"Upsampling {col}\")\n",
        "        counts = df[col].value_counts()\n",
        "        img_to_sample = 100+counts.max() - counts\n",
        "        aug_df = pd.concat(\n",
        "            [\n",
        "                aug_df,\n",
        "                create_augs(df, img_to_sample, seq=seq, colname=col, read_dir=read_dir, write_dir=write_dir),\n",
        "            ]\n",
        "        )\n",
        "    return aug_df"
      ]
    },
    {
      "cell_type": "code",
      "execution_count": 33,
      "id": "d83b12bf-459c-4e4c-9605-cd415f3c379c",
      "metadata": {
        "id": "d83b12bf-459c-4e4c-9605-cd415f3c379c"
      },
      "outputs": [],
      "source": [
        "labels = pd.read_csv('./train/labels.csv')\n",
        "labels = labels[labels[\"real_face\"] == 1].dropna()\n",
        "# don't need to run this every time since the images are generated\n",
        "\n",
        "#aug_df = upsample_imgs(labels, sample_cols=cat, seq=newseq, read_dir='./train', write_dir='./augmented_train')\n",
        "#aug_df.to_csv('./augmented_train/labels.csv')"
      ]
    },
    {
      "cell_type": "code",
      "source": [
        "print(labels.shape[0])\n",
        "print(labels['skin_tone'].value_counts())\n",
        "print(labels['gender'].value_counts())\n",
        "print(labels['age'].value_counts())"
      ],
      "metadata": {
        "colab": {
          "base_uri": "https://localhost:8080/"
        },
        "id": "pWUXJ_xgFdXm",
        "outputId": "07496f49-6936-44b0-e264-92cdb2d875b3"
      },
      "id": "pWUXJ_xgFdXm",
      "execution_count": 34,
      "outputs": [
        {
          "output_type": "stream",
          "name": "stdout",
          "text": [
            "6019\n",
            "monk_3     1198\n",
            "monk_4     1115\n",
            "monk_5      915\n",
            "monk_2      890\n",
            "monk_7      483\n",
            "monk_6      442\n",
            "monk_1      358\n",
            "monk_8      339\n",
            "monk_9      198\n",
            "monk_10      81\n",
            "Name: skin_tone, dtype: int64\n",
            "female    3581\n",
            "male      2438\n",
            "Name: gender, dtype: int64\n",
            "18_30     2984\n",
            "31_60     1507\n",
            "0_17      1334\n",
            "61_100     194\n",
            "Name: age, dtype: int64\n"
          ]
        }
      ]
    },
    {
      "cell_type": "markdown",
      "id": "71959b24-4db1-4d0a-9796-a9d83189c7f0",
      "metadata": {
        "id": "71959b24-4db1-4d0a-9796-a9d83189c7f0"
      },
      "source": [
        "### Integrate the Augmented Data"
      ]
    },
    {
      "cell_type": "code",
      "execution_count": 35,
      "id": "3c5bc279-1482-455a-a1e8-90180a54eb1e",
      "metadata": {
        "id": "3c5bc279-1482-455a-a1e8-90180a54eb1e"
      },
      "outputs": [],
      "source": [
        "# load data\n",
        "AUGPATH = './augmented_train/'\n",
        "aug_df = pd.read_csv(AUGPATH+'labels.csv')\n",
        "df_aug_labeled = aug_df[aug_df[\"skin_tone\"].notna()] # take only labeled data\n",
        "\n",
        "# Converting labels to np array\n",
        "aug_Y = []\n",
        "for i in range(3):\n",
        "    lab = lbs[i].transform(df_aug_labeled[df_aug_labeled['aug_cat']==cat[i]][cat[i]])\n",
        "    if lab.shape[1]==1:\n",
        "        aug_Y.append(np.hstack((1-lab,lab)))\n",
        "    else:\n",
        "        aug_Y.append(lab)"
      ]
    },
    {
      "cell_type": "code",
      "execution_count": 36,
      "id": "2f658b10-38f8-41fe-9c60-7a24e0b1a81c",
      "metadata": {
        "colab": {
          "base_uri": "https://localhost:8080/"
        },
        "id": "2f658b10-38f8-41fe-9c60-7a24e0b1a81c",
        "outputId": "684c2741-5a89-4092-95a6-0a89eb6e52c6"
      },
      "outputs": [
        {
          "output_type": "stream",
          "name": "stdout",
          "text": [
            "Loading images\n",
            "Converting images to np array\n",
            "Converting images to np array\n",
            "Converting images to np array\n"
          ]
        }
      ],
      "source": [
        "# loading and converting data into np array\n",
        "print(\"Loading images\")\n",
        "length = width = 64 # size for each input image, increase if you want\n",
        "aug_nn = [0,0,0]\n",
        "aug_X = [[],[],[]]\n",
        "\n",
        "for i in range(3):\n",
        "    aug_nn[i] = df_aug_labeled[df_aug_labeled['aug_cat']==cat[i]].shape[0]\n",
        "    imgs = [image.load_img(AUGPATH+df_aug_labeled[df_aug_labeled['aug_cat']==cat[i]].iloc[j]['aug_name'], target_size=(length,width)) for j in range(aug_nn[i])]\n",
        "\n",
        "    print(\"Converting images to np array\")\n",
        "    aug_X[i] = np.empty([aug_nn[i], length, width, 3], dtype=float)\n",
        "    for j in range(aug_nn[i]):\n",
        "        aug_X[i][j,:] = image.img_to_array(imgs[j])\n",
        "    aug_X[i] = K.applications.resnet50.preprocess_input(aug_X[i])"
      ]
    },
    {
      "cell_type": "code",
      "execution_count": 37,
      "id": "f955410a-04c2-4222-ac42-b8b78865103f",
      "metadata": {
        "id": "f955410a-04c2-4222-ac42-b8b78865103f"
      },
      "outputs": [],
      "source": [
        "Y = [[],[],[]]\n",
        "X = [[],[],[]]\n",
        "\n",
        "for i in range(len(cat)):\n",
        "    Y[i] = np.concatenate([base_Y[i], aug_Y[i]])\n",
        "    X[i] = np.concatenate([base_X[i], aug_X[i]])\n",
        "\n",
        "nn = base_nn+np.array(aug_nn)"
      ]
    },
    {
      "cell_type": "code",
      "execution_count": 38,
      "id": "74c51664-d1ea-4b22-aee4-f72defb6f853",
      "metadata": {
        "colab": {
          "base_uri": "https://localhost:8080/"
        },
        "id": "74c51664-d1ea-4b22-aee4-f72defb6f853",
        "outputId": "8c7983ba-6b77-42a3-ae18-bc00a77ac68b"
      },
      "outputs": [
        {
          "output_type": "execute_result",
          "data": {
            "text/plain": [
              "(12980, 64, 64, 3)"
            ]
          },
          "metadata": {},
          "execution_count": 38
        }
      ],
      "source": [
        "X[0].shape"
      ]
    },
    {
      "cell_type": "code",
      "execution_count": 39,
      "id": "29709031-3d19-4b86-8148-1845b15e11c5",
      "metadata": {
        "colab": {
          "base_uri": "https://localhost:8080/"
        },
        "id": "29709031-3d19-4b86-8148-1845b15e11c5",
        "outputId": "3b2ea1de-b9ec-40c6-d2c9-991fbac8c047"
      },
      "outputs": [
        {
          "output_type": "execute_result",
          "data": {
            "text/plain": [
              "array([1298, 1298, 1298, 1298, 1298, 1298, 1298, 1298, 1298, 1298])"
            ]
          },
          "metadata": {},
          "execution_count": 39
        }
      ],
      "source": [
        "Y[0].sum(axis=0)"
      ]
    },
    {
      "cell_type": "code",
      "source": [
        "del base_X, base_Y\n",
        "del aug_X, aug_Y"
      ],
      "metadata": {
        "id": "tBCiLUwFcPjs"
      },
      "id": "tBCiLUwFcPjs",
      "execution_count": 40,
      "outputs": []
    },
    {
      "cell_type": "markdown",
      "id": "cdf14ba8",
      "metadata": {
        "id": "cdf14ba8"
      },
      "source": [
        "## Specify the Model\n",
        "\n",
        "We define a single model class that is able train on the data in `X` and `Y` and predict outcomes for all three classes."
      ]
    },
    {
      "cell_type": "code",
      "execution_count": 41,
      "id": "14e09453-9177-4847-a6e2-9cf88813101f",
      "metadata": {
        "id": "14e09453-9177-4847-a6e2-9cf88813101f"
      },
      "outputs": [],
      "source": [
        "class CategoricalDisparity(tf.keras.metrics.Metric):\n",
        "\n",
        "    def __init__(self, num_classes, name=\"disparity\", **kwargs):\n",
        "        super(CategoricalDisparity, self).__init__(name=name, **kwargs)\n",
        "\n",
        "        self.num_classes = num_classes    \n",
        "\n",
        "        self.acc_max = self.add_weight(name=\"max\", initializer=\"zeros\")\n",
        "        self.acc_min = self.add_weight(name=\"min\", initializer=\"zeros\")\n",
        "\n",
        "        self.cm = self.add_weight(name=\"cm\", shape=[num_classes,num_classes], initializer=\"zeros\")\n",
        "        \n",
        "    def update_state(self, y_true, y_pred, sample_weight=None):     \n",
        "\n",
        "        y_true = K.backend.argmax(y_true, axis=-1)\n",
        "        y_pred = K.backend.argmax(y_pred, axis=-1)\n",
        "        y_true = K.backend.flatten(y_true)\n",
        "\n",
        "        new_cm = tf.math.confusion_matrix(y_true,y_pred, num_classes = self.num_classes, dtype=tf.float32)\n",
        "        \n",
        "        if (K.backend.int_shape(new_cm) == (self.num_classes, self.num_classes)) and (self.num_classes > 0):\n",
        "            self.cm.assign_add(new_cm)\n",
        "        row_sum = K.backend.sum(self.cm, axis=0)\n",
        "        diag = K.backend.cast(tf.linalg.diag_part(self.cm), dtype=tf.float32)\n",
        "        accuracies = diag / row_sum\n",
        "        acc_max = K.backend.max(accuracies)\n",
        "        acc_min = K.backend.min(accuracies)\n",
        "        \n",
        "        self.acc_max.assign(acc_max)\n",
        "        self.acc_min.assign(acc_min)\n",
        "        \n",
        "    def result(self):\n",
        "        return self.acc_max - self.acc_min\n",
        "    \n",
        "    def reset_state(self):\n",
        "        self.acc_max.assign(0)\n",
        "        self.acc_min.assign(0)\n",
        "        self.cm.assign(np.zeros([self.num_classes, self.num_classes], dtype=np.float32))\n",
        "        \n",
        "    def get_config(self):\n",
        "        config = {'num_classes': self.num_classes}\n",
        "        base_config = super(CategoricalDisparity, self).get_config()\n",
        "        return dict(list(base_config.items()) + list(config.items()))"
      ]
    },
    {
      "cell_type": "code",
      "source": [
        "class CategoricalDisparityScore(tf.keras.metrics.Metric):\n",
        "\n",
        "    def __init__(self, num_classes, name=\"disparity_score\", **kwargs):\n",
        "        super(CategoricalDisparityScore, self).__init__(name=name, **kwargs)\n",
        "\n",
        "        self.num_classes = num_classes    \n",
        "\n",
        "        self.acc_max = self.add_weight(name=\"max\", initializer=\"zeros\")\n",
        "        self.acc_min = self.add_weight(name=\"min\", initializer=\"zeros\")\n",
        "        self.score = self.add_weight(name=\"score\", initializer=\"zeros\")\n",
        "\n",
        "        self.cm = self.add_weight(name=\"cm\", shape=[num_classes,num_classes], initializer=\"zeros\")\n",
        "        \n",
        "    def update_state(self, y_true, y_pred, sample_weight=None):     \n",
        "\n",
        "        y_true = K.backend.argmax(y_true, axis=-1)\n",
        "        y_pred = K.backend.argmax(y_pred, axis=-1)\n",
        "        y_true = K.backend.flatten(y_true)\n",
        "\n",
        "        new_cm = tf.math.confusion_matrix(y_true,y_pred, num_classes = self.num_classes, dtype=tf.float32)\n",
        "        \n",
        "        if (K.backend.int_shape(new_cm) == (self.num_classes, self.num_classes)) and (self.num_classes > 0):\n",
        "            self.cm.assign_add(new_cm)\n",
        "        row_sum = K.backend.sum(self.cm, axis=0)\n",
        "        diag = K.backend.cast(tf.linalg.diag_part(self.cm), dtype=tf.float32)\n",
        "        accuracies = diag / row_sum\n",
        "        acc_max = K.backend.max(accuracies)\n",
        "        acc_min = K.backend.min(accuracies)\n",
        "        \n",
        "        acc = K.backend.sum(diag)/K.backend.sum(self.cm)\n",
        "\n",
        "        self.acc_max.assign(acc_max)\n",
        "        self.acc_min.assign(acc_min)\n",
        "        \n",
        "        if (self.num_classes == 2):\n",
        "          weight = 2\n",
        "          penalty = 1\n",
        "        elif (self.num_classes== 10):\n",
        "          weight = 10\n",
        "          penalty = 5\n",
        "        else: \n",
        "          weight = 4\n",
        "          penalty = 2\n",
        "\n",
        "        self.score.assign(weight * acc * (1 - (self.acc_max - self.acc_min)**penalty))\n",
        "\n",
        "    def result(self):\n",
        "        return self.score\n",
        "    \n",
        "    def reset_state(self):\n",
        "        self.acc_max.assign(0)\n",
        "        self.acc_min.assign(0)\n",
        "        self.score.assign(0)\n",
        "        self.cm.assign(np.zeros([self.num_classes, self.num_classes], dtype=np.float32))\n",
        "        \n",
        "    def get_config(self):\n",
        "        config = {'num_classes': self.num_classes}\n",
        "        base_config = super(CategoricalDisparityScore, self).get_config()\n",
        "        return dict(list(base_config.items()) + list(config.items()))"
      ],
      "metadata": {
        "id": "trJftScUvVT0"
      },
      "id": "trJftScUvVT0",
      "execution_count": 42,
      "outputs": []
    },
    {
      "cell_type": "code",
      "execution_count": 43,
      "id": "e8e3c11d-d0dd-494c-83f6-de762033f036",
      "metadata": {
        "id": "e8e3c11d-d0dd-494c-83f6-de762033f036"
      },
      "outputs": [],
      "source": [
        "class CategoricalMaxAccuracy(tf.keras.metrics.Metric):\n",
        "\n",
        "    def __init__(self, num_classes, name=\"max_accuracy\", **kwargs):\n",
        "        super(CategoricalMaxAccuracy, self).__init__(name=name, **kwargs)\n",
        "\n",
        "        self.num_classes = num_classes    \n",
        "\n",
        "        self.acc_max = self.add_weight(name=\"max\", initializer=\"zeros\")\n",
        "        self.acc_min = self.add_weight(name=\"min\", initializer=\"zeros\")\n",
        "\n",
        "        self.cm = self.add_weight(name=\"cm\", shape=[num_classes,num_classes], initializer=\"zeros\")\n",
        "        \n",
        "    def update_state(self, y_true, y_pred, sample_weight=None):     \n",
        "\n",
        "        y_true = K.backend.argmax(y_true, axis=-1)\n",
        "        y_pred = K.backend.argmax(y_pred, axis=-1)\n",
        "        y_true = K.backend.flatten(y_true)\n",
        "\n",
        "        new_cm = tf.math.confusion_matrix(y_true,y_pred, num_classes = self.num_classes, dtype=tf.float32)\n",
        "        \n",
        "        if (K.backend.int_shape(new_cm) == (self.num_classes, self.num_classes)) and (self.num_classes > 0):\n",
        "            self.cm.assign_add(new_cm)\n",
        "        row_sum = K.backend.sum(self.cm, axis=0)\n",
        "        diag = K.backend.cast(tf.linalg.diag_part(self.cm), dtype=tf.float32)\n",
        "        accuracies = diag / row_sum\n",
        "        acc_max = K.backend.max(accuracies)\n",
        "        acc_min = K.backend.min(accuracies)\n",
        "        \n",
        "        self.acc_max.assign(acc_max)\n",
        "        self.acc_min.assign(acc_min)\n",
        "        \n",
        "    def result(self):\n",
        "        return self.acc_max\n",
        "    \n",
        "    def reset_state(self):\n",
        "        self.acc_max.assign(0)\n",
        "        self.acc_min.assign(0)\n",
        "        self.cm.assign(np.zeros([self.num_classes, self.num_classes], dtype=np.float32))\n",
        "        \n",
        "    def get_config(self):\n",
        "        config = {'num_classes': self.num_classes}\n",
        "        base_config = super(CategoricalMaxAccuracy, self).get_config()\n",
        "        return dict(list(base_config.items()) + list(config.items()))"
      ]
    },
    {
      "cell_type": "code",
      "execution_count": 44,
      "id": "c0bb456b-f109-4d03-adb4-c1bc35d5ffe5",
      "metadata": {
        "id": "c0bb456b-f109-4d03-adb4-c1bc35d5ffe5"
      },
      "outputs": [],
      "source": [
        "class CategoricalMinAccuracy(tf.keras.metrics.Metric):\n",
        "\n",
        "    def __init__(self, num_classes, name=\"min_accuracy\", **kwargs):\n",
        "        super(CategoricalMinAccuracy, self).__init__(name=name, **kwargs)\n",
        "\n",
        "        self.num_classes = num_classes    \n",
        "\n",
        "        self.acc_max = self.add_weight(name=\"max\", initializer=\"zeros\")\n",
        "        self.acc_min = self.add_weight(name=\"min\", initializer=\"zeros\")\n",
        "\n",
        "        self.cm = self.add_weight(name=\"cm\", shape=[num_classes,num_classes], initializer=\"zeros\")\n",
        "        \n",
        "    def update_state(self, y_true, y_pred, sample_weight=None):     \n",
        "\n",
        "        y_true = K.backend.argmax(y_true, axis=-1)\n",
        "        y_pred = K.backend.argmax(y_pred, axis=-1)\n",
        "        y_true = K.backend.flatten(y_true)\n",
        "\n",
        "        new_cm = tf.math.confusion_matrix(y_true,y_pred, num_classes = self.num_classes, dtype=tf.float32)\n",
        "        \n",
        "        self.cm.assign_add(new_cm)\n",
        "        row_sum = K.backend.sum(self.cm, axis=0)\n",
        "        diag = K.backend.cast(tf.linalg.diag_part(self.cm), dtype=tf.float32)\n",
        "        accuracies = diag / row_sum\n",
        "        acc_max = K.backend.max(accuracies)\n",
        "        acc_min = K.backend.min(accuracies)\n",
        "        \n",
        "        self.acc_max.assign(acc_max)\n",
        "        self.acc_min.assign(acc_min)\n",
        "        \n",
        "    def result(self):\n",
        "        return self.acc_min\n",
        "    \n",
        "    def reset_state(self):\n",
        "        self.acc_max.assign(0)\n",
        "        self.acc_min.assign(0)\n",
        "        self.cm.assign(np.zeros([self.num_classes, self.num_classes], dtype=np.float32))\n",
        "        \n",
        "    def get_config(self):\n",
        "        config = {'num_classes': self.num_classes}\n",
        "        base_config = super(CategoricalMinAccuracy, self).get_config()\n",
        "        return dict(list(base_config.items()) + list(config.items()))"
      ]
    },
    {
      "cell_type": "code",
      "execution_count": 45,
      "id": "40c55abe",
      "metadata": {
        "id": "40c55abe"
      },
      "outputs": [],
      "source": [
        "class PredictionModel():\n",
        "    def __init__(self, X, Y, idx):\n",
        "        self.X = X\n",
        "        self.Y = Y\n",
        "        self.idx = idx\n",
        "        self.trainX, self.testX = [X[i][idx[0][i],:] for i in range(3)], [X[i][idx[1][i],:] for i in range(3)]\n",
        "        self.trainY, self.testY = [Y[i][idx[0][i],:] for i in range(3)], [Y[i][idx[1][i],:] for i in range(3)]\n",
        "        self.cat = ['skin_tone','gender','age']\n",
        "        self.loss = ['categorical_crossentropy' for i in range(3)]\n",
        "        self.metrics = [['accuracy', CategoricalDisparity(num_classes=Y[i][idx[0][i],:].shape[1]),\n",
        "                         CategoricalMaxAccuracy(num_classes=Y[i][idx[0][i],:].shape[1]),\n",
        "                         CategoricalMinAccuracy(num_classes=Y[i][idx[0][i],:].shape[1]),\n",
        "                         CategoricalDisparityScore(num_classes=Y[i][idx[0][i],:].shape[1])] for i in range(3)]  # \n",
        "        self.models = [None]*3\n",
        "        self.face_model = [None]\n",
        "\n",
        "    # train a model specific for a certain class index in self.cat\n",
        "    def fit(self, index, model, lr = 0.001, epochs=5, batch_size=32, save=False, save_location=None, verbose=1):\n",
        "        \n",
        "        if verbose: print(\"Training model for \"+self.cat[index])\n",
        "        \n",
        "        model.add(K.layers.Dense(self.trainY[index].shape[1], activation='softmax'))\n",
        "\n",
        "        opt = tf.keras.optimizers.Adam(lr)\n",
        "        callback = tf.keras.callbacks.EarlyStopping(monitor='val_disparity_score',\n",
        "                                                    mode = 'max',\n",
        "                                                    restore_best_weights = True,\n",
        "                                                    patience=3)\n",
        "\n",
        "        model.compile(loss=self.loss[index], optimizer=opt, metrics=self.metrics[index])\n",
        "        model.fit(\n",
        "            self.trainX[index], self.trainY[index], \n",
        "            validation_data=(self.testX[index],self.testY[index]), \n",
        "            batch_size=batch_size, epochs=epochs, verbose=verbose,\n",
        "            callbacks = [callback]\n",
        "        )\n",
        "        \n",
        "        if save:\n",
        "            if os.path.exists(SAVEPATH)==False:\n",
        "                print('save location '+SAVEPATH+' did not exist. creating')\n",
        "                os.makedirs(SAVEPATH)\n",
        "            SAVE_LOCATION = save_location+'model_'+cat[index]+'.h5'\n",
        "            print(\"saving model at \"+SAVE_LOCATION)\n",
        "            model.save(SAVE_LOCATION)\n",
        "        \n",
        "        self.models[index] = model\n",
        "        \n",
        "    # train a model which updates loss weights after each epoch\n",
        "    def custom_fit(self, index, model, epochs=5, batch_size=32, save=False, save_location=None, verbose=1):\n",
        "        \n",
        "        if verbose: print(\"Training custom weight model for \"+self.cat[index])\n",
        "        \n",
        "        output_categories = self.trainY[index].shape[1]\n",
        "        counts = self.trainY[index].sum(axis=0)\n",
        "        \n",
        "        model.add(K.layers.Dense(output_categories, activation='softmax'))\n",
        "        \n",
        "        loss_weights = np.ones(output_categories)/output_categories\n",
        "        loss_weights = (loss_weights / counts) / np.sum(loss_weights / counts)\n",
        "        opt = tf.keras.optimizers.Adam(0.001)\n",
        "        \n",
        "        for i in range(epochs):\n",
        "            print(f\"Epoch {i+1}/{epochs}\")\n",
        "            class_weights = dict(enumerate(loss_weights))\n",
        "            model.compile(loss=self.loss[index], optimizer=opt, metrics=self.metrics[index])\n",
        "        \n",
        "            model.fit(\n",
        "                self.trainX[index], self.trainY[index], \n",
        "                validation_data=(self.testX[index],self.testY[index]), \n",
        "                batch_size=batch_size, epochs=1, verbose=verbose,\n",
        "                class_weight = class_weights\n",
        "            )\n",
        "\n",
        "            predy = np.argmax(model.predict(self.trainX[index]),1)\n",
        "            truey = np.argmax(self.trainY[index],1)\n",
        "            cats = max(truey) + 1\n",
        "            accs = np.zeros(cats)\n",
        "            for i in range(cats):\n",
        "                accs[i] = np.sum((predy==truey) & (truey==i))/np.sum(truey==i)\n",
        "            epsilon = 1\n",
        "            \n",
        "            loss_weights = (1/(accs + epsilon))\n",
        "            loss_weights = (loss_weights) / np.sum(loss_weights)\n",
        "            print(np.round(accs,2))\n",
        "            print(np.round(loss_weights,2))\n",
        "            \n",
        "        if save:\n",
        "            if os.path.exists(SAVEPATH)==False:\n",
        "                print('save location '+SAVEPATH+' did not exist. creating')\n",
        "                os.makedirs(SAVEPATH)\n",
        "            SAVE_LOCATION = save_location+'custommodel_'+cat[index]+'.h5'\n",
        "            print(\"saving model at \"+SAVE_LOCATION)\n",
        "            model.save(SAVE_LOCATION)\n",
        "        \n",
        "        self.models[index] = model\n",
        "            \n",
        "    def predict(self, newX):\n",
        "        face_detect = self.face_model[0].predict(newX)\n",
        "        faces = np.argmax(face_detect,axis=1)\n",
        "        predictions = [np.argmax(model.predict(newX),axis=1) for model in self.models]\n",
        "        num_classes = [10,2,4]\n",
        "        clean_preds = []\n",
        "        for i in range(3):\n",
        "          clean_preds.append([np.random.randint(num_classes[i]) if (faces[j] == 0) else predictions[i][j] for j in range(predictions[i].shape[0])])\n",
        "        return clean_preds\n",
        "\n",
        "    def load(self, folder='/content/drive/MyDrive/face_bounty/models/', paths=['skin_tone.h5','gender.h5','age.h5'], face_path='face_detect.h5'):\n",
        "        custom_objects={\"CategoricalDisparity\": CategoricalDisparity,\n",
        "                  \"CategoricalDisparityScore\": CategoricalDisparityScore,\n",
        "                  \"CategoricalMinAccuracy\": CategoricalMinAccuracy,\n",
        "                  \"CategoricalMaxAccuracy\": CategoricalMaxAccuracy,\n",
        "                  }\n",
        "        for i in range(3):\n",
        "           self.models[i] = K.models.load_model(folder+paths[i], custom_objects=custom_objects)\n",
        "\n",
        "        self.face_model[0] = K.models.load_model(folder+face_path)"
      ]
    },
    {
      "cell_type": "markdown",
      "id": "e76ae9ef",
      "metadata": {
        "id": "e76ae9ef"
      },
      "source": [
        "## Initialize and Train a Model\n",
        "\n",
        "We now train a `PredictionModel` to predict the likely skin tone, gender, and age of an input image. This baseline model is initialize on imagenet weights and uses the ResNet50 architecture. We strongly recommend using a GPU to reduce training time."
      ]
    },
    {
      "cell_type": "code",
      "execution_count": 46,
      "id": "da29fedf",
      "metadata": {
        "id": "da29fedf"
      },
      "outputs": [],
      "source": [
        "# function to initialize a model\n",
        "def initializeModel():\n",
        "    res_model = ResNet50(include_top=False, weights='imagenet', input_tensor=K.Input(shape=[length,width,3]))\n",
        "\n",
        "    # freeze all but the last layer\n",
        "    for layer in res_model.layers[:143]:\n",
        "        layer.trainable = False\n",
        "    model = K.models.Sequential()\n",
        "    model.add(res_model)\n",
        "    model.add(K.layers.Flatten())\n",
        "    model.add(K.layers.BatchNormalization())\n",
        "    model.add(K.layers.Dense(512, activation='relu'))\n",
        "    model.add(K.layers.Dropout(0.5))\n",
        "    model.add(K.layers.BatchNormalization())\n",
        "    model.add(K.layers.Dense(512, activation='relu'))\n",
        "    model.add(K.layers.Dropout(0.5))\n",
        "    model.add(K.layers.BatchNormalization())\n",
        "    return model\n",
        "\n",
        "nntrain = [[],[],[]]\n",
        "indices = [[],[],[]]\n",
        "train_idx = [[],[],[]]\n",
        "test_idx = [[],[],[]]\n",
        "\n",
        "for i in range(3):\n",
        "    nntrain[i] = int(0.7*nn[i])\n",
        "    np.random.seed(42)\n",
        "    indices = np.random.permutation(nn[i])\n",
        "    train_idx[i], test_idx[i] = indices[:nntrain[i]], indices[nntrain[i]:]\n",
        "\n"
      ]
    },
    {
      "cell_type": "code",
      "source": [
        "#del mymodel"
      ],
      "metadata": {
        "id": "CGJZD5F8UcxC"
      },
      "id": "CGJZD5F8UcxC",
      "execution_count": 34,
      "outputs": []
    },
    {
      "cell_type": "code",
      "execution_count": 35,
      "id": "c3a3ac14-abef-49c5-b09d-1174006c600e",
      "metadata": {
        "id": "c3a3ac14-abef-49c5-b09d-1174006c600e"
      },
      "outputs": [],
      "source": [
        "mymodel = PredictionModel(X=X, Y=Y, idx=[train_idx,test_idx])"
      ]
    },
    {
      "cell_type": "code",
      "execution_count": 36,
      "id": "7e19460a-f656-40dc-b0aa-c10195c6ec49",
      "metadata": {
        "id": "7e19460a-f656-40dc-b0aa-c10195c6ec49",
        "colab": {
          "base_uri": "https://localhost:8080/"
        },
        "outputId": "cd117d83-62de-4dd3-9025-0a8dee342306"
      },
      "outputs": [
        {
          "output_type": "stream",
          "name": "stdout",
          "text": [
            "Training model for skin_tone\n",
            "Epoch 1/20\n",
            "284/284 [==============================] - 30s 57ms/step - loss: 2.4413 - accuracy: 0.1884 - disparity: 0.1541 - max_accuracy: 0.2702 - min_accuracy: 0.1161 - disparity_score: 1.8841 - val_loss: 5.6749 - val_accuracy: 0.2375 - val_disparity: 0.1834 - val_max_accuracy: 0.3557 - val_min_accuracy: 0.1723 - val_disparity_score: 2.3750\n",
            "Epoch 2/20\n",
            "284/284 [==============================] - 13s 45ms/step - loss: 2.0114 - accuracy: 0.2601 - disparity: 0.1995 - max_accuracy: 0.3791 - min_accuracy: 0.1796 - disparity_score: 2.5999 - val_loss: 3.4806 - val_accuracy: 0.2992 - val_disparity: 0.3427 - val_max_accuracy: 0.4965 - val_min_accuracy: 0.1538 - val_disparity_score: 2.9776\n",
            "Epoch 3/20\n",
            "284/284 [==============================] - 13s 45ms/step - loss: 1.7911 - accuracy: 0.3133 - disparity: 0.2249 - max_accuracy: 0.4678 - min_accuracy: 0.2430 - disparity_score: 3.1316 - val_loss: 2.1401 - val_accuracy: 0.3480 - val_disparity: 0.2560 - val_max_accuracy: 0.5170 - val_min_accuracy: 0.2610 - val_disparity_score: 3.4759\n",
            "Epoch 4/20\n",
            "284/284 [==============================] - 12s 44ms/step - loss: 1.6499 - accuracy: 0.3608 - disparity: 0.2703 - max_accuracy: 0.5469 - min_accuracy: 0.2766 - disparity_score: 3.6025 - val_loss: 1.7794 - val_accuracy: 0.3480 - val_disparity: 0.4138 - val_max_accuracy: 0.6694 - val_min_accuracy: 0.2556 - val_disparity_score: 3.4375\n",
            "Epoch 5/20\n",
            "284/284 [==============================] - 13s 44ms/step - loss: 1.5256 - accuracy: 0.4115 - disparity: 0.2678 - max_accuracy: 0.5994 - min_accuracy: 0.3315 - disparity_score: 4.1095 - val_loss: 1.6877 - val_accuracy: 0.3675 - val_disparity: 0.4128 - val_max_accuracy: 0.6632 - val_min_accuracy: 0.2503 - val_disparity_score: 3.6308\n",
            "Epoch 6/20\n",
            "284/284 [==============================] - 13s 44ms/step - loss: 1.4061 - accuracy: 0.4517 - disparity: 0.2947 - max_accuracy: 0.6561 - min_accuracy: 0.3613 - disparity_score: 4.5068 - val_loss: 2.1693 - val_accuracy: 0.3654 - val_disparity: 0.2979 - val_max_accuracy: 0.5592 - val_min_accuracy: 0.2613 - val_disparity_score: 3.6458\n",
            "Epoch 7/20\n",
            "284/284 [==============================] - 12s 43ms/step - loss: 1.2848 - accuracy: 0.5074 - disparity: 0.3015 - max_accuracy: 0.7067 - min_accuracy: 0.4052 - disparity_score: 5.0611 - val_loss: 2.0797 - val_accuracy: 0.3554 - val_disparity: 0.3700 - val_max_accuracy: 0.5969 - val_min_accuracy: 0.2269 - val_disparity_score: 3.5296\n",
            "Epoch 8/20\n",
            "284/284 [==============================] - 13s 45ms/step - loss: 1.1603 - accuracy: 0.5511 - disparity: 0.3035 - max_accuracy: 0.7481 - min_accuracy: 0.4446 - disparity_score: 5.4965 - val_loss: 1.8845 - val_accuracy: 0.3798 - val_disparity: 0.4261 - val_max_accuracy: 0.6765 - val_min_accuracy: 0.2503 - val_disparity_score: 3.7448\n",
            "Epoch 9/20\n",
            "284/284 [==============================] - 12s 44ms/step - loss: 1.0137 - accuracy: 0.6208 - disparity: 0.2560 - max_accuracy: 0.7887 - min_accuracy: 0.5327 - disparity_score: 6.2016 - val_loss: 2.2309 - val_accuracy: 0.3690 - val_disparity: 0.5034 - val_max_accuracy: 0.7550 - val_min_accuracy: 0.2517 - val_disparity_score: 3.5710\n",
            "Epoch 10/20\n",
            "284/284 [==============================] - 14s 48ms/step - loss: 0.9140 - accuracy: 0.6585 - disparity: 0.2401 - max_accuracy: 0.8075 - min_accuracy: 0.5674 - disparity_score: 6.5796 - val_loss: 2.3191 - val_accuracy: 0.3801 - val_disparity: 0.4823 - val_max_accuracy: 0.7374 - val_min_accuracy: 0.2552 - val_disparity_score: 3.7016\n",
            "Epoch 11/20\n",
            "284/284 [==============================] - 13s 44ms/step - loss: 0.8126 - accuracy: 0.7037 - disparity: 0.2259 - max_accuracy: 0.8473 - min_accuracy: 0.6214 - disparity_score: 7.0331 - val_loss: 2.2606 - val_accuracy: 0.3875 - val_disparity: 0.3582 - val_max_accuracy: 0.5944 - val_min_accuracy: 0.2362 - val_disparity_score: 3.8523\n",
            "Epoch 12/20\n",
            "284/284 [==============================] - 13s 45ms/step - loss: 0.7105 - accuracy: 0.7377 - disparity: 0.1736 - max_accuracy: 0.8387 - min_accuracy: 0.6652 - disparity_score: 7.3761 - val_loss: 2.2610 - val_accuracy: 0.3901 - val_disparity: 0.5810 - val_max_accuracy: 0.8303 - val_min_accuracy: 0.2493 - val_disparity_score: 3.6425\n",
            "Epoch 13/20\n",
            "284/284 [==============================] - 12s 43ms/step - loss: 0.6194 - accuracy: 0.7775 - disparity: 0.1174 - max_accuracy: 0.8520 - min_accuracy: 0.7345 - disparity_score: 7.7744 - val_loss: 2.5308 - val_accuracy: 0.3806 - val_disparity: 0.3376 - val_max_accuracy: 0.5992 - val_min_accuracy: 0.2616 - val_disparity_score: 3.7892\n",
            "Epoch 14/20\n",
            "284/284 [==============================] - 13s 44ms/step - loss: 0.5439 - accuracy: 0.8065 - disparity: 0.1014 - max_accuracy: 0.8598 - min_accuracy: 0.7585 - disparity_score: 8.0651 - val_loss: 2.3472 - val_accuracy: 0.3906 - val_disparity: 0.5215 - val_max_accuracy: 0.7695 - val_min_accuracy: 0.2480 - val_disparity_score: 3.7554\n"
          ]
        }
      ],
      "source": [
        "# train model\n",
        "mymodel.fit(index=0, model=initializeModel(), lr = 0.001, epochs=20, save=False,\n",
        "            save_location='./content/drive/MyDrive/face_bounty/models/')"
      ]
    },
    {
      "cell_type": "code",
      "source": [
        "mymodel.models[0].save('/content/drive/MyDrive/face_bounty/models/skin_tone.h5')"
      ],
      "metadata": {
        "id": "kClyxiiFy5C9"
      },
      "id": "kClyxiiFy5C9",
      "execution_count": 37,
      "outputs": []
    },
    {
      "cell_type": "code",
      "execution_count": 39,
      "id": "0a860e5f-2008-48b5-b469-72895d384d48",
      "metadata": {
        "id": "0a860e5f-2008-48b5-b469-72895d384d48",
        "colab": {
          "base_uri": "https://localhost:8080/"
        },
        "outputId": "70aa2640-42cf-40a2-b790-a35b5f082738"
      },
      "outputs": [
        {
          "output_type": "stream",
          "name": "stdout",
          "text": [
            "Training model for gender\n",
            "Epoch 1/20\n",
            "162/162 [==============================] - 15s 65ms/step - loss: 0.5912 - accuracy: 0.7504 - disparity: 0.0046 - max_accuracy: 0.7528 - min_accuracy: 0.7482 - disparity_score: 1.4940 - val_loss: 0.7037 - val_accuracy: 0.8180 - val_disparity: 0.0140 - val_max_accuracy: 0.8254 - val_min_accuracy: 0.8114 - val_disparity_score: 1.6131\n",
            "Epoch 2/20\n",
            "162/162 [==============================] - 7s 45ms/step - loss: 0.3963 - accuracy: 0.8304 - disparity: 0.0094 - max_accuracy: 0.8351 - min_accuracy: 0.8257 - disparity_score: 1.6452 - val_loss: 0.5953 - val_accuracy: 0.8067 - val_disparity: 0.1342 - val_max_accuracy: 0.8897 - val_min_accuracy: 0.7555 - val_disparity_score: 1.3969\n",
            "Epoch 3/20\n",
            "162/162 [==============================] - 7s 45ms/step - loss: 0.2851 - accuracy: 0.8853 - disparity: 0.0039 - max_accuracy: 0.8873 - min_accuracy: 0.8833 - disparity_score: 1.7637 - val_loss: 0.4217 - val_accuracy: 0.8302 - val_disparity: 0.0967 - val_max_accuracy: 0.8842 - val_min_accuracy: 0.7875 - val_disparity_score: 1.4999\n",
            "Epoch 4/20\n",
            "162/162 [==============================] - 8s 47ms/step - loss: 0.2095 - accuracy: 0.9187 - disparity: 0.0068 - max_accuracy: 0.9222 - min_accuracy: 0.9153 - disparity_score: 1.8248 - val_loss: 0.4093 - val_accuracy: 0.8239 - val_disparity: 0.0570 - val_max_accuracy: 0.8557 - val_min_accuracy: 0.7987 - val_disparity_score: 1.5539\n"
          ]
        }
      ],
      "source": [
        "# train model\n",
        "mymodel.fit(index=1, model=initializeModel(), lr = 0.001, epochs=20, save=False,\n",
        "            save_location='./content/drive/MyDrive/face_bounty/models/')"
      ]
    },
    {
      "cell_type": "code",
      "source": [
        "mymodel.models[1].save('/content/drive/MyDrive/face_bounty/models/gender.h5')"
      ],
      "metadata": {
        "id": "YztCe8KW1isX"
      },
      "id": "YztCe8KW1isX",
      "execution_count": 40,
      "outputs": []
    },
    {
      "cell_type": "code",
      "execution_count": 41,
      "id": "0a43ee30-f1d4-43fe-9990-7ead60376a13",
      "metadata": {
        "id": "0a43ee30-f1d4-43fe-9990-7ead60376a13",
        "colab": {
          "base_uri": "https://localhost:8080/"
        },
        "outputId": "3197a246-7d46-4715-d8a5-5a6a85564d86"
      },
      "outputs": [
        {
          "output_type": "stream",
          "name": "stdout",
          "text": [
            "Training model for age\n",
            "Epoch 1/20\n",
            "270/270 [==============================] - 21s 60ms/step - loss: 1.1995 - accuracy: 0.5429 - disparity: 0.2826 - max_accuracy: 0.6658 - min_accuracy: 0.3832 - disparity_score: 1.9983 - val_loss: 1.0372 - val_accuracy: 0.6242 - val_disparity: 0.3003 - val_max_accuracy: 0.8225 - val_min_accuracy: 0.5221 - val_disparity_score: 2.2714\n",
            "Epoch 2/20\n",
            "270/270 [==============================] - 13s 47ms/step - loss: 0.8447 - accuracy: 0.6565 - disparity: 0.2955 - max_accuracy: 0.7939 - min_accuracy: 0.4984 - disparity_score: 2.3967 - val_loss: 0.8567 - val_accuracy: 0.6785 - val_disparity: 0.2710 - val_max_accuracy: 0.8347 - val_min_accuracy: 0.5637 - val_disparity_score: 2.5145\n",
            "Epoch 3/20\n",
            "270/270 [==============================] - 13s 46ms/step - loss: 0.6884 - accuracy: 0.7247 - disparity: 0.2571 - max_accuracy: 0.8549 - min_accuracy: 0.5978 - disparity_score: 2.7073 - val_loss: 0.8047 - val_accuracy: 0.6947 - val_disparity: 0.2362 - val_max_accuracy: 0.8392 - val_min_accuracy: 0.6030 - val_disparity_score: 2.6237\n",
            "Epoch 4/20\n",
            "270/270 [==============================] - 12s 44ms/step - loss: 0.5888 - accuracy: 0.7710 - disparity: 0.2203 - max_accuracy: 0.8875 - min_accuracy: 0.6672 - disparity_score: 2.9346 - val_loss: 0.8167 - val_accuracy: 0.6701 - val_disparity: 0.3265 - val_max_accuracy: 0.8774 - val_min_accuracy: 0.5509 - val_disparity_score: 2.3947\n",
            "Epoch 5/20\n",
            "270/270 [==============================] - 12s 44ms/step - loss: 0.4870 - accuracy: 0.8126 - disparity: 0.1774 - max_accuracy: 0.9080 - min_accuracy: 0.7306 - disparity_score: 3.1482 - val_loss: 0.9880 - val_accuracy: 0.6228 - val_disparity: 0.4434 - val_max_accuracy: 0.9285 - val_min_accuracy: 0.4851 - val_disparity_score: 2.0015\n",
            "Epoch 6/20\n",
            "270/270 [==============================] - 12s 45ms/step - loss: 0.3992 - accuracy: 0.8472 - disparity: 0.1356 - max_accuracy: 0.9187 - min_accuracy: 0.7832 - disparity_score: 3.3267 - val_loss: 0.8928 - val_accuracy: 0.6841 - val_disparity: 0.2623 - val_max_accuracy: 0.8432 - val_min_accuracy: 0.5809 - val_disparity_score: 2.5483\n",
            "save location ./models/limited/ did not exist. creating\n",
            "saving model at ./models/test/base/model_age.h5\n"
          ]
        }
      ],
      "source": [
        "# train model\n",
        "mymodel.fit(index=2, model=initializeModel(), epochs=20, save=False, save_location='./models/test/base/')"
      ]
    },
    {
      "cell_type": "code",
      "source": [
        "mymodel.models[2].save('/content/drive/MyDrive/face_bounty/models/age.h5')"
      ],
      "metadata": {
        "id": "Xq-dmNQG08dL"
      },
      "id": "Xq-dmNQG08dL",
      "execution_count": 42,
      "outputs": []
    },
    {
      "cell_type": "markdown",
      "source": [
        "## Face Recognizer\n"
      ],
      "metadata": {
        "id": "PfMPssDdDF-V"
      },
      "id": "PfMPssDdDF-V"
    },
    {
      "cell_type": "code",
      "source": [
        "# load data\n",
        "LOADPATH = './train/'\n",
        "SAVEPATH = './models/limited/'\n",
        "df = pd.read_csv(LOADPATH+'labels.csv')\n",
        "\n",
        "df_labeled = df[df[\"real_face\"].notna()] # take only labeled data\n"
      ],
      "metadata": {
        "id": "4ae7jXj0D0yu"
      },
      "id": "4ae7jXj0D0yu",
      "execution_count": 4,
      "outputs": []
    },
    {
      "cell_type": "code",
      "source": [
        "# loading and converting data into np array\n",
        "print(\"Loading images\")\n",
        "base_nn = df_labeled.shape[0]\n",
        "all_imgs = [image.load_img(LOADPATH+df_labeled.iloc[i]['name'], target_size=(64,64)) for i in range(base_nn)]\n",
        "\n",
        "print(\"Converting images to np array\")\n",
        "face_X = np.empty([base_nn, 64, 64, 3], dtype=float)\n",
        "for i in range(base_nn):\n",
        "    face_X[i,:] = image.img_to_array(all_imgs[i])\n",
        "face_X = K.applications.resnet50.preprocess_input(face_X)"
      ],
      "metadata": {
        "colab": {
          "base_uri": "https://localhost:8080/"
        },
        "id": "UQ-dBo8wE1zL",
        "outputId": "1b786453-652b-4f54-cfb1-b9163ddbe3e4"
      },
      "id": "UQ-dBo8wE1zL",
      "execution_count": 5,
      "outputs": [
        {
          "output_type": "stream",
          "name": "stdout",
          "text": [
            "Loading images\n",
            "Converting images to np array\n"
          ]
        }
      ]
    },
    {
      "cell_type": "code",
      "source": [
        "# Converting labels to np array\n",
        "face_lbs = LabelBinarizer()\n",
        "\n",
        "face_lab = face_lbs.fit_transform(df_labeled['real_face'])\n",
        "\n",
        "face_Y = np.hstack((1-face_lab,face_lab))\n"
      ],
      "metadata": {
        "id": "m0YBxBMgEBML"
      },
      "id": "m0YBxBMgEBML",
      "execution_count": 6,
      "outputs": []
    },
    {
      "cell_type": "code",
      "source": [
        "nntrain = int(0.7*base_nn)\n",
        "np.random.seed(42)\n",
        "indices = np.random.permutation(base_nn)\n",
        "face_train_idx, face_test_idx = indices[:nntrain], indices[nntrain:]"
      ],
      "metadata": {
        "id": "Wz2KdGsfGDqs"
      },
      "id": "Wz2KdGsfGDqs",
      "execution_count": 7,
      "outputs": []
    },
    {
      "cell_type": "code",
      "source": [
        "face_model = initializeModel()\n",
        "\n",
        "face_model.add(K.layers.Dense(2, activation='softmax'))\n",
        "\n",
        "opt = tf.keras.optimizers.Adam(0.001)\n",
        "callback = tf.keras.callbacks.EarlyStopping(monitor='val_loss',\n",
        "                                            mode = 'min',\n",
        "                                            restore_best_weights = True,\n",
        "                                            patience=3)\n",
        "\n",
        "face_model.compile(loss='categorical_crossentropy', optimizer=opt)\n",
        "\n",
        "\n",
        "face_model.fit(\n",
        "    face_X[face_train_idx], face_Y[face_train_idx], \n",
        "    validation_data=(face_X[face_test_idx],face_Y[face_test_idx]), \n",
        "    batch_size=32, epochs=20,\n",
        "    callbacks = [callback]\n",
        ")"
      ],
      "metadata": {
        "colab": {
          "base_uri": "https://localhost:8080/"
        },
        "id": "yRPMVfS5DHZ0",
        "outputId": "82d14d19-6a59-41ff-ada7-d2153e26635c"
      },
      "id": "yRPMVfS5DHZ0",
      "execution_count": 11,
      "outputs": [
        {
          "output_type": "stream",
          "name": "stdout",
          "text": [
            "Epoch 1/20\n",
            "269/269 [==============================] - 26s 47ms/step - loss: 0.2427 - val_loss: 0.2312\n",
            "Epoch 2/20\n",
            "269/269 [==============================] - 11s 39ms/step - loss: 0.1601 - val_loss: 0.1275\n",
            "Epoch 3/20\n",
            "269/269 [==============================] - 10s 39ms/step - loss: 0.1142 - val_loss: 0.1222\n",
            "Epoch 4/20\n",
            "269/269 [==============================] - 10s 38ms/step - loss: 0.0974 - val_loss: 0.1288\n",
            "Epoch 5/20\n",
            "269/269 [==============================] - 10s 38ms/step - loss: 0.0658 - val_loss: 0.1414\n",
            "Epoch 6/20\n",
            "269/269 [==============================] - 10s 38ms/step - loss: 0.0546 - val_loss: 0.1681\n"
          ]
        },
        {
          "output_type": "execute_result",
          "data": {
            "text/plain": [
              "<keras.callbacks.History at 0x7f56a00c3b50>"
            ]
          },
          "metadata": {},
          "execution_count": 11
        }
      ]
    },
    {
      "cell_type": "code",
      "source": [
        "face_model.save('/content/drive/MyDrive/face_bounty/models/face_detect.h5')"
      ],
      "metadata": {
        "id": "jgcUWwr2JYgu"
      },
      "id": "jgcUWwr2JYgu",
      "execution_count": 12,
      "outputs": []
    },
    {
      "cell_type": "markdown",
      "id": "6527b5ae",
      "metadata": {
        "id": "6527b5ae"
      },
      "source": [
        "## Evaluate the Model\n",
        "\n",
        "We now evaluate the model on the test data. To do this, let's first load up that data and structure it similarly."
      ]
    },
    {
      "cell_type": "code",
      "execution_count": 51,
      "id": "43ab27c7",
      "metadata": {
        "id": "43ab27c7",
        "colab": {
          "base_uri": "https://localhost:8080/"
        },
        "outputId": "b3ab0469-6143-43d2-8dbb-098824bc64cc"
      },
      "outputs": [
        {
          "output_type": "stream",
          "name": "stdout",
          "text": [
            "Converting test labels to np array\n",
            "Loading test images\n",
            "Converting test images to np array\n"
          ]
        }
      ],
      "source": [
        "# load labels data\n",
        "TESTPATH = './test/'\n",
        "df_test = pd.read_csv(TESTPATH+'labels.csv')\n",
        "\n",
        "# Convert labels to np array\n",
        "print(\"Converting test labels to np array\")\n",
        "testY = []\n",
        "for i in range(3):\n",
        "    lab = lbs[i].fit_transform(df_test[cat[i]])\n",
        "    if lab.shape[1]==1:\n",
        "        testY.append(np.hstack((1-lab,lab)))\n",
        "    else:\n",
        "        testY.append(lab)\n",
        "        \n",
        "# load and convert images into np array\n",
        "print(\"Loading test images\")\n",
        "nt = df_test.shape[0]\n",
        "all_imgs = [image.load_img(TESTPATH+df_test.iloc[i]['name'], target_size=(length,width)) for i in range(nt)]\n",
        "\n",
        "print(\"Converting test images to np array\")\n",
        "testX = np.empty([nt, length, width, 3], dtype=float)\n",
        "for i in range(nt):\n",
        "    testX[i,:] = image.img_to_array(all_imgs[i])\n",
        "testX = K.applications.resnet50.preprocess_input(testX)"
      ]
    },
    {
      "cell_type": "code",
      "execution_count": 65,
      "id": "40c7c605-ab8a-4daf-91b1-207f5980b527",
      "metadata": {
        "id": "40c7c605-ab8a-4daf-91b1-207f5980b527"
      },
      "outputs": [],
      "source": [
        "face_indices = df_test['real_face'][:1000] == 1\n",
        "fake_indices = df_test['real_face'][:1000] != 1"
      ]
    },
    {
      "cell_type": "markdown",
      "id": "42c46e26-9e9c-4df8-81dc-51c9148eaedc",
      "metadata": {
        "id": "42c46e26-9e9c-4df8-81dc-51c9148eaedc"
      },
      "source": [
        "We also need to reload the model:"
      ]
    },
    {
      "cell_type": "code",
      "execution_count": 43,
      "id": "5339ea8d-5049-4e1f-8518-2bad9686beb5",
      "metadata": {
        "id": "5339ea8d-5049-4e1f-8518-2bad9686beb5"
      },
      "outputs": [],
      "source": [
        "if False:\n",
        "  loaded_models = [[],[],[]]\n",
        "  pred = [[],[],[]]\n",
        "\n",
        "  custom_objects = {\"CategoricalDisparity\": CategoricalDisparity, \"CategoricalMaxAccuracy\": CategoricalMaxAccuracy, \"CategoricalMinAccuracy\":CategoricalMinAccuracy}\n",
        "  for i in range(3):\n",
        "      models[i] = K.models.load_model('./models/test/base/' + 'model_'+cat[i]+'.h5', custom_objects=custom_objects)\n",
        "      pred[i] = models[i].predict(testX[i])    \n",
        "    \n",
        "      predY = [[np.argmax(pred[i][j,:]) for j in range(nt)] for i in range(3)]"
      ]
    },
    {
      "cell_type": "markdown",
      "id": "b07ee94e",
      "metadata": {
        "id": "b07ee94e"
      },
      "source": [
        "We then obtain predicted labels for skin tone, gender, and age as a list of lists."
      ]
    },
    {
      "cell_type": "code",
      "execution_count": 44,
      "id": "bf106302",
      "metadata": {
        "id": "bf106302",
        "colab": {
          "base_uri": "https://localhost:8080/"
        },
        "outputId": "f3359865-d945-4353-a8f0-6225a6686f78"
      },
      "outputs": [
        {
          "output_type": "stream",
          "name": "stdout",
          "text": [
            "94/94 [==============================] - 3s 21ms/step\n",
            "94/94 [==============================] - 3s 17ms/step\n",
            "94/94 [==============================] - 2s 16ms/step\n"
          ]
        }
      ],
      "source": [
        "pred = mymodel.predict(testX)\n",
        "predY = [[np.argmax(pred[i][j,:]) for j in range(nt)] for i in range(3)]\n",
        "predLabels = [[lbs[i].classes_[j] for j in predY[i]] for i in range(3)]"
      ]
    },
    {
      "cell_type": "markdown",
      "id": "3f0cf73d",
      "metadata": {
        "id": "3f0cf73d"
      },
      "source": [
        "Finally, we calculate the label-wise accuracy and disparity."
      ]
    },
    {
      "cell_type": "code",
      "execution_count": 55,
      "id": "081d5cdc",
      "metadata": {
        "id": "081d5cdc",
        "colab": {
          "base_uri": "https://localhost:8080/"
        },
        "outputId": "be4eeef1-03a4-496f-cd71-5807ad61de23"
      },
      "outputs": [
        {
          "output_type": "execute_result",
          "data": {
            "text/plain": [
              "{'accuracy': {'skin_tone': 0.23033333333333333,\n",
              "  'gender': 0.7496666666666667,\n",
              "  'age': 0.5523333333333333},\n",
              " 'disparity': {'skin_tone': 0.2030581039755352,\n",
              "  'gender': 0.08000139484604396,\n",
              "  'age': 0.3795038293557254}}"
            ]
          },
          "metadata": {},
          "execution_count": 55
        }
      ],
      "source": [
        "# calculate accuracy\n",
        "acc = {}\n",
        "for i in range(3):\n",
        "    icat = cat[i]\n",
        "    iacc = accuracy_score(df_test[cat[i]], predLabels[i])\n",
        "    acc[icat] = iacc\n",
        "    \n",
        "# calculate disparity\n",
        "def disparity_score(ytrue, ypred):\n",
        "    cm = confusion_matrix(ytrue,ypred)\n",
        "    cm = cm.astype('float') / cm.sum(axis=1)[:, np.newaxis]\n",
        "    all_acc = list(cm.diagonal())\n",
        "    return max(all_acc) - min(all_acc)\n",
        "\n",
        "disp = {}\n",
        "for i in range(3):\n",
        "    icat = cat[i]\n",
        "    idisp = disparity_score(df_test[cat[i]], predLabels[i])\n",
        "    disp[icat] = idisp\n",
        "disp\n",
        "\n",
        "results = {'accuracy': acc, 'disparity': disp}\n",
        "results"
      ]
    },
    {
      "cell_type": "code",
      "source": [
        "import scipy.stats as stats\n",
        "\n",
        "true_acc = {}\n",
        "for i in range(3):\n",
        "    icat = cat[i]\n",
        "    iacc = accuracy_score(df_test[:1000][face_indices.values][cat[i]], np.array(predLabels[i])[:1000][face_indices.values])\n",
        "    true_acc[icat] = iacc\n",
        "\n",
        "fake_acc = {}\n",
        "for i in range(3):\n",
        "    icat = cat[i]\n",
        "    obs = pd.Series(predLabels[i][:1000])[fake_indices.values].value_counts().values\n",
        "    e = obs.sum()/len(obs)\n",
        "    chi2 = ((obs - e)**2 / e).sum()\n",
        "    iacc = 1 - stats.chi2.cdf(chi2, df=len(obs)-1)\n",
        "    fake_acc[icat] = iacc\n"
      ],
      "metadata": {
        "id": "K7nOiCviWf0A"
      },
      "id": "K7nOiCviWf0A",
      "execution_count": 68,
      "outputs": []
    },
    {
      "cell_type": "code",
      "execution_count": 69,
      "id": "6aa9d711-f406-4683-9296-dbf2a3bd3a78",
      "metadata": {
        "id": "6aa9d711-f406-4683-9296-dbf2a3bd3a78",
        "colab": {
          "base_uri": "https://localhost:8080/"
        },
        "outputId": "2f0e1fc9-fc72-4440-cf3d-67b9fdf36e1f"
      },
      "outputs": [
        {
          "output_type": "stream",
          "name": "stdout",
          "text": [
            "{'true_accuracy': {'skin_tone': 0.25934579439252337, 'gender': 0.8271028037383178, 'age': 0.6238317757009346}, 'fake_chi': {'skin_tone': 0.9335344885888095, 'gender': 0.6170750774519739, 'age': 0.9188914116546758}}\n"
          ]
        }
      ],
      "source": [
        "print({'true_accuracy': true_acc, 'fake_chi': fake_acc})"
      ]
    },
    {
      "cell_type": "code",
      "execution_count": 58,
      "id": "5b025eb1-6cf0-4a91-8d21-64ef27f9c385",
      "metadata": {
        "id": "5b025eb1-6cf0-4a91-8d21-64ef27f9c385",
        "colab": {
          "base_uri": "https://localhost:8080/",
          "height": 860
        },
        "outputId": "912540a3-fe26-4225-fa3b-66113e95fd03"
      },
      "outputs": [
        {
          "output_type": "stream",
          "name": "stdout",
          "text": [
            "skin_tone\n"
          ]
        },
        {
          "output_type": "display_data",
          "data": {
            "text/plain": [
              "<Figure size 432x288 with 2 Axes>"
            ],
            "image/png": "[encoded data removed]"
          },
          "metadata": {
            "needs_background": "light"
          }
        },
        {
          "output_type": "stream",
          "name": "stdout",
          "text": [
            "gender\n"
          ]
        },
        {
          "output_type": "display_data",
          "data": {
            "text/plain": [
              "<Figure size 432x288 with 2 Axes>"
            ],
            "image/png": "[encoded data removed]"
          },
          "metadata": {
            "needs_background": "light"
          }
        },
        {
          "output_type": "stream",
          "name": "stdout",
          "text": [
            "age\n"
          ]
        },
        {
          "output_type": "display_data",
          "data": {
            "text/plain": [
              "<Figure size 432x288 with 2 Axes>"
            ],
            "image/png": "[encoded data removed]"
          },
          "metadata": {
            "needs_background": "light"
          }
        }
      ],
      "source": [
        "import matplotlib.pyplot as plt\n",
        "\n",
        "for i in range(3):\n",
        "    labels = df[df[cat[i]].notna()][cat[i]].unique()\n",
        "    print(cat[i])\n",
        "    ConfusionMatrixDisplay(confusion_matrix(df_test[cat[i]], predLabels[i]),display_labels=labels).plot()\n",
        "    plt.show()"
      ]
    },
    {
      "cell_type": "markdown",
      "id": "f20b0fcd",
      "metadata": {
        "id": "f20b0fcd"
      },
      "source": [
        "# Score Model and Prepare Submission\n",
        "\n",
        "Based on the above metric, we now calculate the score to evaluate your submission. This score will be displayed in your public leaderboard."
      ]
    },
    {
      "cell_type": "code",
      "execution_count": 70,
      "id": "db5b9086",
      "metadata": {
        "id": "db5b9086",
        "colab": {
          "base_uri": "https://localhost:8080/"
        },
        "outputId": "7ffb96bc-c1e1-4588-e3e7-b16889e4d8aa"
      },
      "outputs": [
        {
          "output_type": "execute_result",
          "data": {
            "text/plain": [
              "{'submission_name': 'OIICrew',\n",
              " 'score': 5.573060914433677,\n",
              " 'metrics': {'accuracy': {'skin_tone': 0.23033333333333333,\n",
              "   'gender': 0.7496666666666667,\n",
              "   'age': 0.5523333333333333},\n",
              "  'disparity': {'skin_tone': 0.2030581039755352,\n",
              "   'gender': 0.08000139484604396,\n",
              "   'age': 0.3795038293557254}}}"
            ]
          },
          "metadata": {},
          "execution_count": 70
        }
      ],
      "source": [
        "def getScore(results):\n",
        "    acc = results['accuracy']\n",
        "    disp = results['disparity']\n",
        "    ad = 2*acc['gender']*(1-disp['gender']) + 4*acc['age']*(1-disp['age']**2) + 10*acc['skin_tone']*(1-disp['skin_tone']**5)\n",
        "    return ad\n",
        "\n",
        "title = 'OIICrew'\n",
        "    \n",
        "submission = {\n",
        "    'submission_name': title,\n",
        "    'score': getScore(results),\n",
        "    'metrics': results\n",
        "}\n",
        "\n",
        "   \n",
        "submission"
      ]
    },
    {
      "cell_type": "markdown",
      "id": "19070a4e",
      "metadata": {
        "id": "19070a4e"
      },
      "source": [
        "Finally, let's export this as a json file to upload as part of filling out your [submission form](https://docs.google.com/forms/d/e/1FAIpQLSfwqtVkJBVRP6TnFp7vHbbH8SlwKZJFIjvGQy7TyYFc8HR1hw/viewform)."
      ]
    },
    {
      "cell_type": "code",
      "execution_count": 71,
      "id": "34c30e37",
      "metadata": {
        "id": "34c30e37"
      },
      "outputs": [],
      "source": [
        "with open(\"model_score.json\", \"w\") as f:\n",
        "    json.dump(submission, f, indent=4)"
      ]
    },
    {
      "cell_type": "markdown",
      "source": [
        "## Reload Model from Saved File\n"
      ],
      "metadata": {
        "id": "wTKSeUDw4r1n"
      },
      "id": "wTKSeUDw4r1n"
    },
    {
      "cell_type": "code",
      "source": [
        "loadmodel = PredictionModel(X=X, Y=Y, idx=[train_idx,test_idx])"
      ],
      "metadata": {
        "id": "Tw4FUE-O5VpA"
      },
      "id": "Tw4FUE-O5VpA",
      "execution_count": 47,
      "outputs": []
    },
    {
      "cell_type": "code",
      "source": [
        "loadmodel.load(folder = '/content/drive/MyDrive/face_bounty/models/')"
      ],
      "metadata": {
        "id": "C4wxSzoK6-5_"
      },
      "id": "C4wxSzoK6-5_",
      "execution_count": 49,
      "outputs": []
    },
    {
      "cell_type": "code",
      "source": [
        "pred = loadmodel.predict(testX)\n",
        "#predY = [[np.argmax(pred[i],axis=1)] for i in range(3)]\n",
        "#predLabels = [[lbs[i].classes_[j] for j in predY[i]] for i in range(3)]"
      ],
      "metadata": {
        "colab": {
          "base_uri": "https://localhost:8080/"
        },
        "id": "gKqke2nK7pD2",
        "outputId": "3d2ac5fd-1289-4797-9f17-520691e0aa75"
      },
      "id": "gKqke2nK7pD2",
      "execution_count": 53,
      "outputs": [
        {
          "output_type": "stream",
          "name": "stdout",
          "text": [
            "94/94 [==============================] - 4s 20ms/step\n",
            "94/94 [==============================] - 2s 16ms/step\n",
            "94/94 [==============================] - 2s 15ms/step\n",
            "94/94 [==============================] - 3s 15ms/step\n"
          ]
        }
      ]
    },
    {
      "cell_type": "code",
      "source": [
        "predLabels = [[lbs[i].classes_[j] for j in pred[i]] for i in range(3)]"
      ],
      "metadata": {
        "id": "-AdKVtoWOyY0"
      },
      "id": "-AdKVtoWOyY0",
      "execution_count": 54,
      "outputs": []
    },
    {
      "cell_type": "code",
      "source": [
        "faces = loadmodel.face_model[0].predict(testX)"
      ],
      "metadata": {
        "colab": {
          "base_uri": "https://localhost:8080/"
        },
        "id": "pHI1lFJ9rbUk",
        "outputId": "4a67b447-b344-4383-bc51-de2a61126c4d"
      },
      "id": "pHI1lFJ9rbUk",
      "execution_count": 61,
      "outputs": [
        {
          "output_type": "stream",
          "name": "stdout",
          "text": [
            "94/94 [==============================] - 2s 16ms/step\n"
          ]
        }
      ]
    },
    {
      "cell_type": "code",
      "source": [
        "faces = np.argmax(faces,axis=1)"
      ],
      "metadata": {
        "id": "_94DXKX4rhve"
      },
      "id": "_94DXKX4rhve",
      "execution_count": 64,
      "outputs": []
    },
    {
      "cell_type": "code",
      "source": [
        "confusion_matrix()"
      ],
      "metadata": {
        "id": "I4_ImbnvsA38"
      },
      "id": "I4_ImbnvsA38",
      "execution_count": null,
      "outputs": []
    }
  ],
  "metadata": {
    "kernelspec": {
      "display_name": "Python 3 (ipykernel)",
      "language": "python",
      "name": "python3"
    },
    "language_info": {
      "codemirror_mode": {
        "name": "ipython",
        "version": 3
      },
      "file_extension": ".py",
      "mimetype": "text/x-python",
      "name": "python",
      "nbconvert_exporter": "python",
      "pygments_lexer": "ipython3",
      "version": "3.9.12"
    },
    "colab": {
      "provenance": []
    },
    "accelerator": "GPU",
    "gpuClass": "standard"
  },
  "nbformat": 4,
  "nbformat_minor": 5
}
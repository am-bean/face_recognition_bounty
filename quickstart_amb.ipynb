{
 "cells": [
  {
   "cell_type": "markdown",
   "id": "bd235fb0",
   "metadata": {},
   "source": [
    "# Bias Buccaneers Image Recognition Challenge: Quickstart\n",
    "\n",
    "This notebook will introduce you to the data and describe a workflow to train and evaluate a baseline model on it."
   ]
  },
  {
   "cell_type": "markdown",
   "id": "ad57b0b7",
   "metadata": {},
   "source": [
    "## Initial Setup\n",
    "\n",
    "We start with loading the required packages."
   ]
  },
  {
   "cell_type": "code",
   "execution_count": 1,
   "id": "2454f20e",
   "metadata": {},
   "outputs": [],
   "source": [
    "# !pip install tensorflow\n",
    "import numpy as np\n",
    "import pandas as pd\n",
    "import json\n",
    "import os\n",
    "\n",
    "from sklearn.preprocessing import LabelBinarizer\n",
    "from sklearn.model_selection import train_test_split\n",
    "from sklearn.metrics import accuracy_score, confusion_matrix, ConfusionMatrixDisplay\n",
    "\n",
    "import tensorflow as tf\n",
    "import tensorflow.keras as K\n",
    "from tensorflow.keras.preprocessing import image\n",
    "from tensorflow.keras.applications.resnet50 import ResNet50"
   ]
  },
  {
   "cell_type": "markdown",
   "id": "536f1fd6",
   "metadata": {},
   "source": [
    "## Load the Data\n",
    "\n",
    "Make sure to download and uncompress the data (`data_bb1_img_recognition.zip`) in the folder you're working off of.\n",
    "\n",
    "We first load the file containing the labels, binarize labels of each of the three classes as a numpy array and store them as a list."
   ]
  },
  {
   "cell_type": "code",
   "execution_count": 2,
   "id": "0c742f6c",
   "metadata": {},
   "outputs": [],
   "source": [
    "# load data\n",
    "LOADPATH = './train/'\n",
    "SAVEPATH = './models/limited/'\n",
    "df = pd.read_csv(LOADPATH+'labels.csv')\n",
    "df_labeled = df[df[\"skin_tone\"].notna()] # take only labeled data\n",
    "\n",
    "# filter for verified humans\n",
    "df_labeled = df_labeled[df_labeled['real_face'] == 1]\n",
    "\n",
    "# Converting labels to np array\n",
    "cat = ['skin_tone','gender','age']\n",
    "lbs = [LabelBinarizer() for i in range(3)]\n",
    "base_Y = []\n",
    "for i in range(3):\n",
    "    lab = lbs[i].fit_transform(df_labeled[cat[i]])\n",
    "    if lab.shape[1]==1:\n",
    "        base_Y.append(np.hstack((1-lab,lab)))\n",
    "    else:\n",
    "        base_Y.append(lab)"
   ]
  },
  {
   "cell_type": "markdown",
   "id": "deb73277",
   "metadata": {},
   "source": [
    "We then load the images under the training set and convert them to numpy arrays. This may take a while."
   ]
  },
  {
   "cell_type": "code",
   "execution_count": 3,
   "id": "0f957a4f",
   "metadata": {},
   "outputs": [
    {
     "name": "stdout",
     "output_type": "stream",
     "text": [
      "Loading images\n",
      "Converting images to np array\n"
     ]
    }
   ],
   "source": [
    "# loading and converting data into np array\n",
    "print(\"Loading images\")\n",
    "length = width = 64 # size for each input image, increase if you want\n",
    "base_nn = df_labeled.shape[0]\n",
    "all_imgs = [image.load_img(LOADPATH+df_labeled.iloc[i]['name'], target_size=(length,width)) for i in range(base_nn)]\n",
    "\n",
    "print(\"Converting images to np array\")\n",
    "base_X = np.empty([base_nn, length, width, 3], dtype=float)\n",
    "for i in range(base_nn):\n",
    "    base_X[i,:] = image.img_to_array(all_imgs[i])\n",
    "base_X = K.applications.resnet50.preprocess_input(base_X)"
   ]
  },
  {
   "cell_type": "code",
   "execution_count": 14,
   "id": "ebeecc54-bd3a-4de2-aa83-92c8f76d8e45",
   "metadata": {},
   "outputs": [],
   "source": [
    "# Converting to triplicate to match with the different augmentations\n",
    "base_X = [base_X, base_X, base_X]"
   ]
  },
  {
   "cell_type": "code",
   "execution_count": 4,
   "id": "1610c108",
   "metadata": {},
   "outputs": [
    {
     "data": {
      "image/png": "[encoded data removed]",
      "text/plain": [
       "<PIL.Image.Image image mode=RGB size=64x64 at 0x1E4C2AA7220>"
      ]
     },
     "execution_count": 4,
     "metadata": {},
     "output_type": "execute_result"
    }
   ],
   "source": [
    "all_imgs[1235] # print a test image"
   ]
  },
  {
   "cell_type": "markdown",
   "id": "8fa51e88-1bda-4213-bb5c-d67734660b1b",
   "metadata": {},
   "source": [
    "### Augment the data"
   ]
  },
  {
   "cell_type": "code",
   "execution_count": 5,
   "id": "6f2ca289-61df-4a2f-b434-4806f1245c19",
   "metadata": {},
   "outputs": [],
   "source": [
    "import imgaug.augmenters as iaa\n",
    "from pathlib import Path\n",
    "import cv2\n",
    "from IPython.display import Image\n"
   ]
  },
  {
   "cell_type": "code",
   "execution_count": 6,
   "id": "be4ffa0d-9e0e-41a6-bc58-992e3916e367",
   "metadata": {},
   "outputs": [],
   "source": [
    "newseq = iaa.Sequential([\n",
    "    iaa.Fliplr(0.5), # horizontal flips\n",
    "    \n",
    "    # Small gaussian blur with random sigma between 0 and 0.5.\n",
    "    # But we only blur about 50% of all images.\n",
    "    iaa.Sometimes(\n",
    "        0.5,\n",
    "        iaa.GaussianBlur(sigma=(0, 0.5))\n",
    "    ),\n",
    "    \n",
    "    # Strengthen or weaken the contrast in each image.\n",
    "    iaa.LinearContrast((0.75, 1.5)),\n",
    "   \n",
    "    # Make some images brighter and some darker.\n",
    "    # In 20% of all cases, we sample the multiplier once per channel,\n",
    "    # which can end up changing the color of the images.\n",
    "    iaa.Multiply((0.8, 1.2), per_channel=0.0),\n",
    "    \n",
    "    # Apply affine transformations to each image.\n",
    "    # Scale/zoom them, translate/move them, rotate them and shear them.\n",
    "    iaa.Affine(\n",
    "        translate_percent={\"x\": (-0.2, 0.2), \"y\": (-0.2, 0.2)},\n",
    "        rotate=(-15, 15),\n",
    "        shear=(-8, 8)\n",
    "    )\n",
    "], random_order=True)"
   ]
  },
  {
   "cell_type": "code",
   "execution_count": 7,
   "id": "5bd3a9d9-ed9e-4e55-92c4-dc410a6dc2f1",
   "metadata": {},
   "outputs": [],
   "source": [
    "def create_aug_names(names: pd.Series, cat: str) -> pd.Series:\n",
    "    augnames = names.copy()\n",
    "    for i, name in enumerate(names.values):\n",
    "        augnames.iloc[i] = \"AUG_\" + cat + \"_\" + str(i) + \"_\" + name\n",
    "    return augnames\n"
   ]
  },
  {
   "cell_type": "code",
   "execution_count": 8,
   "id": "5f2d13bc-fc8a-4680-849c-c6fb43f00f1b",
   "metadata": {},
   "outputs": [],
   "source": [
    "def get_imgs_to_sample(series: pd.Series) -> pd.Series:\n",
    "    counts = series.value_counts()\n",
    "    return counts.max() - counts"
   ]
  },
  {
   "cell_type": "code",
   "execution_count": 9,
   "id": "74027ec9-6060-4cf1-9c0a-a35145fd7f0f",
   "metadata": {},
   "outputs": [],
   "source": [
    "def create_augs(df: pd.DataFrame, img_to_sample: pd.Series, seq: iaa.Sequential, read_dir, write_dir, colname: str = \"age\") -> pd.DataFrame:\n",
    "    new_df = pd.DataFrame()\n",
    "    for cat, count in img_to_sample.items():\n",
    "        print(f\"Sampling {count} images for {colname} {cat}\")\n",
    "        if count > 0:\n",
    "            df_sample = df[df[colname] == cat].sample(count, replace=True)\n",
    "            df_sample[\"aug_name\"] = create_aug_names(df_sample[\"name\"], cat)\n",
    "            df_sample[\"aug_cat\"] = colname\n",
    "            sample_imgs = [cv2.imread(read_dir + '/' + name) for name in df_sample[\"name\"]]\n",
    "            augs = seq.augment_images(sample_imgs)\n",
    "            for i, aug in enumerate(augs):\n",
    "                cv2.imwrite(str(write_dir + '/' + df_sample.iloc[i, 5]), aug)\n",
    "            new_df = pd.concat([new_df, df_sample])\n",
    "    return new_df\n"
   ]
  },
  {
   "cell_type": "code",
   "execution_count": 10,
   "id": "e6b5e7f1-56f8-4ec6-8ab8-11751854f96c",
   "metadata": {},
   "outputs": [],
   "source": [
    "def upsample_imgs(df, sample_cols, seq, read_dir, write_dir):\n",
    "    aug_df = pd.DataFrame()\n",
    "    for col in sample_cols:\n",
    "        print(f\"Upsampling {col}\")\n",
    "        counts = df[col].value_counts()\n",
    "        img_to_sample = counts.max() - counts\n",
    "        aug_df = pd.concat(\n",
    "            [\n",
    "                aug_df,\n",
    "                create_augs(df, img_to_sample, seq=seq, colname=col, read_dir=read_dir, write_dir=write_dir),\n",
    "            ]\n",
    "        )\n",
    "    return aug_df"
   ]
  },
  {
   "cell_type": "code",
   "execution_count": 11,
   "id": "d83b12bf-459c-4e4c-9605-cd415f3c379c",
   "metadata": {},
   "outputs": [
    {
     "name": "stdout",
     "output_type": "stream",
     "text": [
      "Upsampling skin_tone\n",
      "Sampling 0 images for skin_tone monk_3\n",
      "Sampling 23 images for skin_tone monk_4\n",
      "Sampling 59 images for skin_tone monk_5\n",
      "Sampling 83 images for skin_tone monk_2\n",
      "Sampling 209 images for skin_tone monk_7\n",
      "Sampling 220 images for skin_tone monk_6\n",
      "Sampling 261 images for skin_tone monk_8\n",
      "Sampling 261 images for skin_tone monk_1\n",
      "Sampling 301 images for skin_tone monk_9\n",
      "Sampling 326 images for skin_tone monk_10\n",
      "Upsampling gender\n",
      "Sampling 0 images for gender female\n",
      "Sampling 373 images for gender male\n",
      "Upsampling age\n",
      "Sampling 0 images for age 18_30\n",
      "Sampling 445 images for age 31_60\n",
      "Sampling 515 images for age 0_17\n",
      "Sampling 855 images for age 61_100\n"
     ]
    }
   ],
   "source": [
    "labels = pd.read_csv('./train/labels.csv')\n",
    "labels = labels[labels[\"real_face\"] == 1].dropna()\n",
    "aug_df = upsample_imgs(labels, sample_cols=cat, seq=newseq, read_dir='./train', write_dir='./augmented_train')"
   ]
  },
  {
   "cell_type": "code",
   "execution_count": 12,
   "id": "3258667b-ec7e-488f-823c-b5159ce2e841",
   "metadata": {},
   "outputs": [],
   "source": [
    "aug_df.to_csv('./augmented_train/labels.csv')"
   ]
  },
  {
   "cell_type": "markdown",
   "id": "71959b24-4db1-4d0a-9796-a9d83189c7f0",
   "metadata": {},
   "source": [
    "### Integrate the Augmented Data"
   ]
  },
  {
   "cell_type": "code",
   "execution_count": 13,
   "id": "3c5bc279-1482-455a-a1e8-90180a54eb1e",
   "metadata": {},
   "outputs": [],
   "source": [
    "# load data\n",
    "AUGPATH = './augmented_train/'\n",
    "aug_df = pd.read_csv(AUGPATH+'labels.csv')\n",
    "df_aug_labeled = aug_df[aug_df[\"skin_tone\"].notna()] # take only labeled data\n",
    "\n",
    "# Converting labels to np array\n",
    "aug_Y = []\n",
    "for i in range(3):\n",
    "    lab = lbs[i].transform(df_aug_labeled[df_aug_labeled['aug_cat']==cat[i]][cat[i]])\n",
    "    if lab.shape[1]==1:\n",
    "        aug_Y.append(np.hstack((1-lab,lab)))\n",
    "    else:\n",
    "        aug_Y.append(lab)"
   ]
  },
  {
   "cell_type": "markdown",
   "id": "94959dbe-ecda-4c22-9252-5eb25ed22096",
   "metadata": {},
   "source": [
    "# NEED TO MAKE X DEAL WITH DIFFERENT SETS OF DATA PER CATEGORY"
   ]
  },
  {
   "cell_type": "code",
   "execution_count": 20,
   "id": "2f658b10-38f8-41fe-9c60-7a24e0b1a81c",
   "metadata": {},
   "outputs": [
    {
     "name": "stdout",
     "output_type": "stream",
     "text": [
      "Loading images\n",
      "Converting images to np array\n",
      "Converting images to np array\n",
      "Converting images to np array\n"
     ]
    }
   ],
   "source": [
    "# loading and converting data into np array\n",
    "print(\"Loading images\")\n",
    "length = width = 64 # size for each input image, increase if you want\n",
    "aug_nn = [0,0,0]\n",
    "aug_X = [[],[],[]]\n",
    "\n",
    "for i in range(3):\n",
    "    aug_nn[i] = df_aug_labeled[df_aug_labeled['aug_cat']==cat[i]].shape[0]\n",
    "    imgs = [image.load_img(AUGPATH+df_aug_labeled[df_aug_labeled['aug_cat']==cat[i]].iloc[j]['aug_name'], target_size=(length,width)) for j in range(aug_nn[i])]\n",
    "\n",
    "    print(\"Converting images to np array\")\n",
    "    aug_X[i] = np.empty([aug_nn[i], length, width, 3], dtype=float)\n",
    "    for j in range(aug_nn[i]):\n",
    "        aug_X[i][j,:] = image.img_to_array(imgs[j])\n",
    "    aug_X[i] = K.applications.resnet50.preprocess_input(aug_X[i])"
   ]
  },
  {
   "cell_type": "code",
   "execution_count": 25,
   "id": "f955410a-04c2-4222-ac42-b8b78865103f",
   "metadata": {},
   "outputs": [],
   "source": [
    "Y = [[],[],[]]\n",
    "X = [[],[],[]]\n",
    "\n",
    "for i in range(len(cat)):\n",
    "    Y[i] = np.concatenate([base_Y[i], aug_Y[i]])\n",
    "    X[i] = np.concatenate([base_X[i], aug_X[i]])\n",
    "\n",
    "nn = base_nn+np.array(aug_nn)"
   ]
  },
  {
   "cell_type": "code",
   "execution_count": 27,
   "id": "74c51664-d1ea-4b22-aee4-f72defb6f853",
   "metadata": {},
   "outputs": [
    {
     "data": {
      "text/plain": [
       "(3580, 64, 64, 3)"
      ]
     },
     "execution_count": 27,
     "metadata": {},
     "output_type": "execute_result"
    }
   ],
   "source": [
    "X[0].shape"
   ]
  },
  {
   "cell_type": "code",
   "execution_count": 28,
   "id": "29709031-3d19-4b86-8148-1845b15e11c5",
   "metadata": {},
   "outputs": [
    {
     "data": {
      "text/plain": [
       "array([358, 358, 358, 358, 358, 358, 358, 358, 358, 358])"
      ]
     },
     "execution_count": 28,
     "metadata": {},
     "output_type": "execute_result"
    }
   ],
   "source": [
    "Y[0].sum(axis=0)"
   ]
  },
  {
   "cell_type": "markdown",
   "id": "cdf14ba8",
   "metadata": {},
   "source": [
    "## Specify the Model\n",
    "\n",
    "We define a single model class that is able train on the data in `X` and `Y` and predict outcomes for all three classes."
   ]
  },
  {
   "cell_type": "code",
   "execution_count": 44,
   "id": "40c55abe",
   "metadata": {},
   "outputs": [],
   "source": [
    "class PredictionModel():\n",
    "    def __init__(self, X, Y, idx):\n",
    "        self.X = X\n",
    "        self.Y = Y\n",
    "        self.idx = idx\n",
    "        self.trainX, self.testX = [X[i][idx[0][i],:] for i in range(3)], [X[i][idx[1][i],:] for i in range(3)]\n",
    "        self.trainY, self.testY = [Y[i][idx[0][i],:] for i in range(3)], [Y[i][idx[1][i],:] for i in range(3)]\n",
    "        self.cat = ['skin_tone','gender','age']\n",
    "        self.loss = ['categorical_crossentropy' for i in range(3)]\n",
    "        self.metrics = [['accuracy'] for i in range(3)]\n",
    "        self.models = [None]*3\n",
    "\n",
    "    # train a model specific for a certain class index in self.cat\n",
    "    def fit(self, index, model, epochs=5, batch_size=32, save=False, save_location=None, verbose=1):\n",
    "        \n",
    "        if verbose: print(\"Training model for \"+self.cat[index])\n",
    "        \n",
    "        model.add(K.layers.Dense(self.trainY[index].shape[1], activation='softmax'))\n",
    "        model.compile(loss=self.loss[index], optimizer='Adam', metrics=self.metrics[index])\n",
    "        model.fit(\n",
    "            self.trainX[index], self.trainY[index], \n",
    "            validation_data=(self.testX[index],self.testY[index]), \n",
    "            batch_size=batch_size, epochs=epochs, verbose=verbose\n",
    "        )\n",
    "        \n",
    "        if save:\n",
    "            if os.path.exists(SAVEPATH)==False:\n",
    "                print('save location '+SAVEPATH+' did not exist. creating')\n",
    "                os.makedirs(SAVEPATH)\n",
    "            SAVE_LOCATION = save_location+'model_'+cat[index]+'.h5'\n",
    "            print(\"saving model at \"+SAVE_LOCATION)\n",
    "            model.save(SAVE_LOCATION)\n",
    "        \n",
    "        self.models[index] = model\n",
    "        \n",
    "    # train a model which updates loss weights after each epoch\n",
    "    def custom_fit(self, index, model, epochs=5, batch_size=32, save=False, save_location=None, verbose=1):\n",
    "        \n",
    "        if verbose: print(\"Training custom weight model for \"+self.cat[index])\n",
    "        \n",
    "        output_categories = self.trainY[index].shape[1]\n",
    "        counts = self.trainY[index].sum(axis=0)\n",
    "        \n",
    "        model.add(K.layers.Dense(output_categories, activation='softmax'))\n",
    "        \n",
    "        loss_weights = np.ones(output_categories)/output_categories\n",
    "        loss_weights = (loss_weights / counts) / np.sum(loss_weights / counts)\n",
    "        opt = tf.keras.optimizers.Adam(0.001)\n",
    "        \n",
    "        for i in range(epochs):\n",
    "            print(f\"Epoch {i+1}/{epochs}\")\n",
    "            model.compile(loss=self.loss[index], loss_weights = loss_weights, optimizer=opt, metrics=self.metrics[index])\n",
    "        \n",
    "            model.fit(\n",
    "                self.trainX[index], self.trainY[index], \n",
    "                validation_data=(self.testX[index],self.testY[index]), \n",
    "                batch_size=batch_size, epochs=1, verbose=verbose\n",
    "            )\n",
    "\n",
    "            predy = np.argmax(model.predict(self.testX[index]),1)\n",
    "            truey = np.argmax(self.testY[index],1)\n",
    "            cats = max(truey) + 1\n",
    "            accs = np.zeros(cats)\n",
    "            for i in range(cats):\n",
    "                accs[i] = np.sum((predy==truey) & (truey==i))/np.sum(truey==i)\n",
    "            ds = max(accs) - min(accs)\n",
    "            epsilon = .001\n",
    "            \n",
    "            loss_weights = (1 - accs)\n",
    "            loss_weights = (loss_weights / counts) / np.sum(loss_weights / counts)\n",
    "            print(accs)\n",
    "            print(ds)\n",
    "            print(loss_weights)\n",
    "            \n",
    "        if save:\n",
    "            if os.path.exists(SAVEPATH)==False:\n",
    "                print('save location '+SAVEPATH+' did not exist. creating')\n",
    "                os.makedirs(SAVEPATH)\n",
    "            SAVE_LOCATION = save_location+'custommodel_'+cat[index]+'.h5'\n",
    "            print(\"saving model at \"+SAVE_LOCATION)\n",
    "            model.save(SAVE_LOCATION)\n",
    "        \n",
    "        self.models[index] = model\n",
    "            \n",
    "    def predict(self, newX):\n",
    "        predictions = [model.predict(newX) for model in self.models]\n",
    "        return predictions"
   ]
  },
  {
   "cell_type": "markdown",
   "id": "e76ae9ef",
   "metadata": {},
   "source": [
    "## Initialize and Train a Model\n",
    "\n",
    "We now train a `PredictionModel` to predict the likely skin tone, gender, and age of an input image. This baseline model is initialize on imagenet weights and uses the ResNet50 architecture. We strongly recommend using a GPU to reduce training time."
   ]
  },
  {
   "cell_type": "code",
   "execution_count": 39,
   "id": "da29fedf",
   "metadata": {},
   "outputs": [],
   "source": [
    "# function to initialize a model\n",
    "def initializeModel():\n",
    "    res_model = ResNet50(include_top=False, weights='imagenet', input_tensor=K.Input(shape=[length,width,3]))\n",
    "\n",
    "    # freeze all but the last layer\n",
    "    for layer in res_model.layers[:143]:\n",
    "        layer.trainable = False\n",
    "    model = K.models.Sequential()\n",
    "    model.add(res_model)\n",
    "    model.add(K.layers.Flatten())\n",
    "    model.add(K.layers.BatchNormalization())\n",
    "    model.add(K.layers.Dense(256, activation='relu'))\n",
    "    model.add(K.layers.Dropout(0.5))\n",
    "    model.add(K.layers.BatchNormalization())\n",
    "    model.add(K.layers.Dense(128, activation='relu'))\n",
    "    model.add(K.layers.Dropout(0.5))\n",
    "    model.add(K.layers.BatchNormalization())\n",
    "    model.add(K.layers.Dense(64, activation='relu'))\n",
    "    model.add(K.layers.Dropout(0.5))\n",
    "    model.add(K.layers.BatchNormalization())\n",
    "    return model\n",
    "\n",
    "nntrain = [[],[],[]]\n",
    "indices = [[],[],[]]\n",
    "train_idx = [[],[],[]]\n",
    "test_idx = [[],[],[]]\n",
    "\n",
    "for i in range(3):\n",
    "    nntrain[i] = int(0.7*nn[i])\n",
    "    np.random.seed(42)\n",
    "    indices = np.random.permutation(nn[i])\n",
    "    train_idx[i], test_idx[i] = indices[:nntrain[i]], indices[nntrain[i]:]\n",
    "\n"
   ]
  },
  {
   "cell_type": "code",
   "execution_count": 45,
   "id": "c3a3ac14-abef-49c5-b09d-1174006c600e",
   "metadata": {},
   "outputs": [],
   "source": [
    "mymodel = PredictionModel(X=X, Y=Y, idx=[train_idx,test_idx])\n"
   ]
  },
  {
   "cell_type": "code",
   "execution_count": 46,
   "id": "15ecee40-159f-4377-9d7a-e34ef7dc34a1",
   "metadata": {},
   "outputs": [
    {
     "name": "stdout",
     "output_type": "stream",
     "text": [
      "Training model for skin_tone\n",
      "Epoch 1/5\n",
      "79/79 [==============================] - 65s 722ms/step - loss: 2.7729 - accuracy: 0.1233 - val_loss: 17.7663 - val_accuracy: 0.0950\n",
      "Epoch 2/5\n",
      "79/79 [==============================] - 59s 748ms/step - loss: 2.5887 - accuracy: 0.1285 - val_loss: 3.9159 - val_accuracy: 0.1834\n",
      "Epoch 3/5\n",
      "79/79 [==============================] - 56s 709ms/step - loss: 2.4159 - accuracy: 0.1544 - val_loss: 2.5827 - val_accuracy: 0.2328\n",
      "Epoch 4/5\n",
      "79/79 [==============================] - 60s 765ms/step - loss: 2.3064 - accuracy: 0.1652 - val_loss: 2.0023 - val_accuracy: 0.2840\n",
      "Epoch 5/5\n",
      "79/79 [==============================] - 58s 738ms/step - loss: 2.1675 - accuracy: 0.1919 - val_loss: 1.9112 - val_accuracy: 0.2812\n",
      "saving model at ./models/balanced/model_skin_tone.h5\n",
      "Training model for gender\n",
      "Epoch 1/5\n",
      "49/49 [==============================] - 46s 787ms/step - loss: 0.8124 - accuracy: 0.6012 - val_loss: 18.4387 - val_accuracy: 0.5415\n",
      "Epoch 2/5\n",
      "49/49 [==============================] - 39s 791ms/step - loss: 0.5757 - accuracy: 0.7227 - val_loss: 4.2547 - val_accuracy: 0.7572\n",
      "Epoch 3/5\n",
      "49/49 [==============================] - 38s 782ms/step - loss: 0.4668 - accuracy: 0.7847 - val_loss: 0.4855 - val_accuracy: 0.7783\n",
      "Epoch 4/5\n",
      "49/49 [==============================] - 38s 776ms/step - loss: 0.3667 - accuracy: 0.8429 - val_loss: 0.4392 - val_accuracy: 0.8235\n",
      "Epoch 5/5\n",
      "49/49 [==============================] - 37s 765ms/step - loss: 0.3173 - accuracy: 0.8804 - val_loss: 0.4608 - val_accuracy: 0.8431\n",
      "saving model at ./models/balanced/model_gender.h5\n",
      "Training model for age\n",
      "Epoch 1/5\n",
      "80/80 [==============================] - 74s 817ms/step - loss: 1.6422 - accuracy: 0.3372 - val_loss: 1.6259 - val_accuracy: 0.5128\n",
      "Epoch 2/5\n",
      "80/80 [==============================] - 62s 770ms/step - loss: 1.3090 - accuracy: 0.4546 - val_loss: 1.1252 - val_accuracy: 0.5821\n",
      "Epoch 3/5\n",
      "80/80 [==============================] - 61s 757ms/step - loss: 1.0541 - accuracy: 0.5618 - val_loss: 0.9794 - val_accuracy: 0.6305\n",
      "Epoch 4/5\n",
      "80/80 [==============================] - 61s 767ms/step - loss: 0.9245 - accuracy: 0.6248 - val_loss: 0.8642 - val_accuracy: 0.6706\n",
      "Epoch 5/5\n",
      "80/80 [==============================] - 61s 759ms/step - loss: 0.7874 - accuracy: 0.6890 - val_loss: 0.8296 - val_accuracy: 0.6670\n",
      "saving model at ./models/balanced/model_age.h5\n"
     ]
    }
   ],
   "source": [
    "# train model\n",
    "for i in range(3):\n",
    "    mymodel.fit(index=i, model=initializeModel(), epochs=5, save=True, save_location='./models/balanced/')"
   ]
  },
  {
   "cell_type": "markdown",
   "id": "6527b5ae",
   "metadata": {},
   "source": [
    "## Evaluate the Model\n",
    "\n",
    "We now evaluate the model on the test data. To do this, let's first load up that data and structure it similarly."
   ]
  },
  {
   "cell_type": "code",
   "execution_count": 47,
   "id": "43ab27c7",
   "metadata": {},
   "outputs": [
    {
     "name": "stdout",
     "output_type": "stream",
     "text": [
      "Converting test labels to np array\n",
      "Loading test images\n",
      "Converting test images to np array\n"
     ]
    }
   ],
   "source": [
    "# load labels data\n",
    "TESTPATH = './test/'\n",
    "df_test = pd.read_csv(TESTPATH+'labels.csv')\n",
    "\n",
    "# Convert labels to np array\n",
    "print(\"Converting test labels to np array\")\n",
    "testY = []\n",
    "for i in range(3):\n",
    "    lab = lbs[i].fit_transform(df_test[cat[i]])\n",
    "    if lab.shape[1]==1:\n",
    "        testY.append(np.hstack((1-lab,lab)))\n",
    "    else:\n",
    "        testY.append(lab)\n",
    "        \n",
    "# load and convert images into np array\n",
    "print(\"Loading test images\")\n",
    "nt = df_test.shape[0]\n",
    "all_imgs = [image.load_img(TESTPATH+df_test.iloc[i]['name'], target_size=(length,width)) for i in range(nt)]\n",
    "\n",
    "print(\"Converting test images to np array\")\n",
    "testX = np.empty([nt, length, width, 3], dtype=float)\n",
    "for i in range(nt):\n",
    "    testX[i,:] = image.img_to_array(all_imgs[i])\n",
    "testX = K.applications.resnet50.preprocess_input(testX)"
   ]
  },
  {
   "cell_type": "markdown",
   "id": "42c46e26-9e9c-4df8-81dc-51c9148eaedc",
   "metadata": {},
   "source": [
    "We also need to reload the model:"
   ]
  },
  {
   "cell_type": "code",
   "execution_count": null,
   "id": "5339ea8d-5049-4e1f-8518-2bad9686beb5",
   "metadata": {},
   "outputs": [],
   "source": [
    "#index = 1\n",
    "#test_mod = K.models.load_model(SAVEPATH+'model_'+cat[index]+'.h5')\n",
    "#test_mod.compile(loss_weights = [.5,.5])\n",
    "#test_mod.predict(testX)"
   ]
  },
  {
   "cell_type": "markdown",
   "id": "b07ee94e",
   "metadata": {},
   "source": [
    "We then obtain predicted labels for skin tone, gender, and age as a list of lists."
   ]
  },
  {
   "cell_type": "code",
   "execution_count": 48,
   "id": "bf106302",
   "metadata": {},
   "outputs": [
    {
     "name": "stdout",
     "output_type": "stream",
     "text": [
      "94/94 [==============================] - 16s 160ms/step\n",
      "94/94 [==============================] - 17s 165ms/step\n",
      "94/94 [==============================] - 17s 166ms/step\n"
     ]
    }
   ],
   "source": [
    "pred = mymodel.predict(testX)\n",
    "predY = [[np.argmax(pred[i][j,:]) for j in range(nt)] for i in range(3)]\n",
    "predLabels = [[lbs[i].classes_[j] for j in predY[i]] for i in range(3)]"
   ]
  },
  {
   "cell_type": "markdown",
   "id": "3f0cf73d",
   "metadata": {},
   "source": [
    "Finally, we calculate the label-wise accuracy and disparity."
   ]
  },
  {
   "cell_type": "code",
   "execution_count": 49,
   "id": "081d5cdc",
   "metadata": {},
   "outputs": [
    {
     "data": {
      "text/plain": [
       "{'accuracy': {'skin_tone': 0.18666666666666668,\n",
       "  'gender': 0.7616666666666667,\n",
       "  'age': 0.5433333333333333},\n",
       " 'disparity': {'skin_tone': 0.4982980743697242,\n",
       "  'gender': 0.18492171426578796,\n",
       "  'age': 0.35663206459054214}}"
      ]
     },
     "execution_count": 49,
     "metadata": {},
     "output_type": "execute_result"
    }
   ],
   "source": [
    "# calculate accuracy\n",
    "acc = {}\n",
    "for i in range(3):\n",
    "    icat = cat[i]\n",
    "    iacc = accuracy_score(df_test[cat[i]], predLabels[i])\n",
    "    acc[icat] = iacc\n",
    "\n",
    "# calculate disparity\n",
    "def disparity_score(ytrue, ypred):\n",
    "    cm = confusion_matrix(ytrue,ypred)\n",
    "    cm = cm.astype('float') / cm.sum(axis=1)[:, np.newaxis]\n",
    "    all_acc = list(cm.diagonal())\n",
    "    return max(all_acc) - min(all_acc)\n",
    "\n",
    "disp = {}\n",
    "for i in range(3):\n",
    "    icat = cat[i]\n",
    "    idisp = disparity_score(df_test[cat[i]], predLabels[i])\n",
    "    disp[icat] = idisp\n",
    "disp\n",
    "\n",
    "results = {'accuracy': acc, 'disparity': disp}\n",
    "results"
   ]
  },
  {
   "cell_type": "code",
   "execution_count": 50,
   "id": "5b025eb1-6cf0-4a91-8d21-64ef27f9c385",
   "metadata": {},
   "outputs": [
    {
     "name": "stdout",
     "output_type": "stream",
     "text": [
      "skin_tone\n"
     ]
    },
    {
     "data": {
      "image/png": "[encoded data removed]",
      "text/plain": [
       "<Figure size 432x288 with 2 Axes>"
      ]
     },
     "metadata": {
      "needs_background": "light"
     },
     "output_type": "display_data"
    },
    {
     "name": "stdout",
     "output_type": "stream",
     "text": [
      "gender\n"
     ]
    },
    {
     "data": {
      "image/png": "[encoded data removed]",
      "text/plain": [
       "<Figure size 432x288 with 2 Axes>"
      ]
     },
     "metadata": {
      "needs_background": "light"
     },
     "output_type": "display_data"
    },
    {
     "name": "stdout",
     "output_type": "stream",
     "text": [
      "age\n"
     ]
    },
    {
     "data": {
      "image/png": "[encoded data removed]",
      "text/plain": [
       "<Figure size 432x288 with 2 Axes>"
      ]
     },
     "metadata": {
      "needs_background": "light"
     },
     "output_type": "display_data"
    }
   ],
   "source": [
    "import matplotlib.pyplot as plt\n",
    "\n",
    "for i in range(3):\n",
    "    labels = df[df[cat[i]].notna()][cat[i]].unique()\n",
    "    print(cat[i])\n",
    "    ConfusionMatrixDisplay(confusion_matrix(df_test[cat[i]], predLabels[i]),display_labels=labels).plot()\n",
    "    plt.show()"
   ]
  },
  {
   "cell_type": "markdown",
   "id": "f20b0fcd",
   "metadata": {},
   "source": [
    "# Score Model and Prepare Submission\n",
    "\n",
    "Based on the above metric, we now calculate the score to evaluate your submission. This score will be displayed in your public leaderboard."
   ]
  },
  {
   "cell_type": "code",
   "execution_count": 51,
   "id": "db5b9086",
   "metadata": {},
   "outputs": [
    {
     "data": {
      "text/plain": [
       "{'submission_name': 'OII Crew',\n",
       " 'score': 4.947870136133126,\n",
       " 'metrics': {'accuracy': {'skin_tone': 0.18666666666666668,\n",
       "   'gender': 0.7616666666666667,\n",
       "   'age': 0.5433333333333333},\n",
       "  'disparity': {'skin_tone': 0.4982980743697242,\n",
       "   'gender': 0.18492171426578796,\n",
       "   'age': 0.35663206459054214}}}"
      ]
     },
     "execution_count": 51,
     "metadata": {},
     "output_type": "execute_result"
    }
   ],
   "source": [
    "def getScore(results):\n",
    "    acc = results['accuracy']\n",
    "    disp = results['disparity']\n",
    "    ad = 2*acc['gender']*(1-disp['gender']) + 4*acc['age']*(1-disp['age']**2) + 10*acc['skin_tone']*(1-disp['skin_tone']**5)\n",
    "    return ad\n",
    "\n",
    "title = 'OII Crew'\n",
    "    \n",
    "submission = {\n",
    "    'submission_name': title,\n",
    "    'score': getScore(results),\n",
    "    'metrics': results\n",
    "}\n",
    "\n",
    "   \n",
    "submission"
   ]
  },
  {
   "cell_type": "markdown",
   "id": "19070a4e",
   "metadata": {},
   "source": [
    "Finally, let's export this as a json file to upload as part of filling out your [submission form](https://docs.google.com/forms/d/e/1FAIpQLSfwqtVkJBVRP6TnFp7vHbbH8SlwKZJFIjvGQy7TyYFc8HR1hw/viewform)."
   ]
  },
  {
   "cell_type": "code",
   "execution_count": null,
   "id": "7ec7777b-1f8b-459d-9c5e-c68f4759f5a6",
   "metadata": {},
   "outputs": [],
   "source": [
    "clean_data"
   ]
  },
  {
   "cell_type": "code",
   "execution_count": null,
   "id": "34c30e37",
   "metadata": {},
   "outputs": [],
   "source": [
    "with open(\"baseline_score.json\", \"w\") as f:\n",
    "    json.dump(submission, f, indent=4)"
   ]
  }
 ],
 "metadata": {
  "kernelspec": {
   "display_name": "Python 3 (ipykernel)",
   "language": "python",
   "name": "python3"
  },
  "language_info": {
   "codemirror_mode": {
    "name": "ipython",
    "version": 3
   },
   "file_extension": ".py",
   "mimetype": "text/x-python",
   "name": "python",
   "nbconvert_exporter": "python",
   "pygments_lexer": "ipython3",
   "version": "3.9.12"
  }
 },
 "nbformat": 4,
 "nbformat_minor": 5
}

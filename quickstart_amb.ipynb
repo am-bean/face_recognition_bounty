{
 "cells": [
  {
   "cell_type": "markdown",
   "id": "bd235fb0",
   "metadata": {},
   "source": [
    "# Bias Buccaneers Image Recognition Challenge: Quickstart\n",
    "\n",
    "This notebook will introduce you to the data and describe a workflow to train and evaluate a baseline model on it."
   ]
  },
  {
   "cell_type": "markdown",
   "id": "ad57b0b7",
   "metadata": {},
   "source": [
    "## Initial Setup\n",
    "\n",
    "We start with loading the required packages."
   ]
  },
  {
   "cell_type": "code",
   "execution_count": 3,
   "id": "2454f20e",
   "metadata": {},
   "outputs": [],
   "source": [
    "# !pip install tensorflow\n",
    "import numpy as np\n",
    "import pandas as pd\n",
    "import json\n",
    "import os\n",
    "\n",
    "from sklearn.preprocessing import LabelBinarizer\n",
    "from sklearn.model_selection import train_test_split\n",
    "from sklearn.metrics import accuracy_score, confusion_matrix, ConfusionMatrixDisplay\n",
    "\n",
    "import tensorflow as tf\n",
    "import tensorflow.keras as K\n",
    "from tensorflow.keras.preprocessing import image\n",
    "from tensorflow.keras.applications.resnet50 import ResNet50"
   ]
  },
  {
   "cell_type": "markdown",
   "id": "536f1fd6",
   "metadata": {},
   "source": [
    "## Load the Data\n",
    "\n",
    "Make sure to download and uncompress the data (`data_bb1_img_recognition.zip`) in the folder you're working off of.\n",
    "\n",
    "We first load the file containing the labels, binarize labels of each of the three classes as a numpy array and store them as a list."
   ]
  },
  {
   "cell_type": "code",
   "execution_count": 2,
   "id": "82458e56-2c73-43cd-833c-27b182c18946",
   "metadata": {},
   "outputs": [],
   "source": [
    "# load data\n",
    "LOADPATH = './train/'\n",
    "SAVEPATH = './models/limited/'\n",
    "df = pd.read_csv(LOADPATH+'labels.csv')\n",
    "df_labeled = df[df[\"skin_tone\"].notna()] # take only labeled data\n",
    "\n",
    "# filter for verified humans\n",
    "df_labeled = df_labeled[df_labeled['real_face'] == 1]\n"
   ]
  },
  {
   "cell_type": "code",
   "execution_count": 3,
   "id": "0c742f6c",
   "metadata": {},
   "outputs": [],
   "source": [
    "\n",
    "# Converting labels to np array\n",
    "cat = ['skin_tone','gender','age']\n",
    "lbs = [LabelBinarizer() for i in range(3)]\n",
    "base_Y = []\n",
    "for i in range(3):\n",
    "    lab = lbs[i].fit_transform(df_labeled[cat[i]])\n",
    "    if lab.shape[1]==1:\n",
    "        base_Y.append(np.hstack((1-lab,lab)))\n",
    "    else:\n",
    "        base_Y.append(lab)"
   ]
  },
  {
   "cell_type": "markdown",
   "id": "deb73277",
   "metadata": {},
   "source": [
    "We then load the images under the training set and convert them to numpy arrays. This may take a while."
   ]
  },
  {
   "cell_type": "code",
   "execution_count": 4,
   "id": "0f957a4f",
   "metadata": {},
   "outputs": [
    {
     "name": "stdout",
     "output_type": "stream",
     "text": [
      "Loading images\n",
      "Converting images to np array\n"
     ]
    }
   ],
   "source": [
    "# loading and converting data into np array\n",
    "print(\"Loading images\")\n",
    "length = width = 64 # size for each input image, increase if you want\n",
    "base_nn = df_labeled.shape[0]\n",
    "all_imgs = [image.load_img(LOADPATH+df_labeled.iloc[i]['name'], target_size=(length,width)) for i in range(base_nn)]\n",
    "\n",
    "print(\"Converting images to np array\")\n",
    "base_X = np.empty([base_nn, length, width, 3], dtype=float)\n",
    "for i in range(base_nn):\n",
    "    base_X[i,:] = image.img_to_array(all_imgs[i])\n",
    "base_X = K.applications.resnet50.preprocess_input(base_X)"
   ]
  },
  {
   "cell_type": "code",
   "execution_count": 5,
   "id": "ebeecc54-bd3a-4de2-aa83-92c8f76d8e45",
   "metadata": {},
   "outputs": [],
   "source": [
    "# Converting to triplicate to match with the different augmentations\n",
    "base_X = [base_X, base_X, base_X]"
   ]
  },
  {
   "cell_type": "code",
   "execution_count": 6,
   "id": "1610c108",
   "metadata": {},
   "outputs": [
    {
     "data": {
      "image/png": "[encoded data removed]",
      "text/plain": [
       "<PIL.Image.Image image mode=RGB size=64x64 at 0x135667D9220>"
      ]
     },
     "execution_count": 6,
     "metadata": {},
     "output_type": "execute_result"
    }
   ],
   "source": [
    "all_imgs[1235] # print a test image"
   ]
  },
  {
   "cell_type": "markdown",
   "id": "8fa51e88-1bda-4213-bb5c-d67734660b1b",
   "metadata": {},
   "source": [
    "### Augment the data"
   ]
  },
  {
   "cell_type": "code",
   "execution_count": 7,
   "id": "6f2ca289-61df-4a2f-b434-4806f1245c19",
   "metadata": {},
   "outputs": [],
   "source": [
    "import imgaug.augmenters as iaa\n",
    "from pathlib import Path\n",
    "import cv2\n",
    "from IPython.display import Image\n"
   ]
  },
  {
   "cell_type": "code",
   "execution_count": 8,
   "id": "be4ffa0d-9e0e-41a6-bc58-992e3916e367",
   "metadata": {},
   "outputs": [],
   "source": [
    "newseq = iaa.Sequential([\n",
    "    iaa.Fliplr(0.5), # horizontal flips\n",
    "    \n",
    "    # Small gaussian blur with random sigma between 0 and 0.5.\n",
    "    # But we only blur about 50% of all images.\n",
    "    iaa.Sometimes(\n",
    "        0.5,\n",
    "        iaa.GaussianBlur(sigma=(0, 0.5))\n",
    "    ),\n",
    "    \n",
    "    # Strengthen or weaken the contrast in each image.\n",
    "    iaa.LinearContrast((0.75, 1.5)),\n",
    "   \n",
    "    # Make some images brighter and some darker.\n",
    "    # In 20% of all cases, we sample the multiplier once per channel,\n",
    "    # which can end up changing the color of the images.\n",
    "    iaa.Multiply((0.8, 1.2), per_channel=0.0),\n",
    "    \n",
    "    # Apply affine transformations to each image.\n",
    "    # Scale/zoom them, translate/move them, rotate them and shear them.\n",
    "    iaa.Affine(\n",
    "        translate_percent={\"x\": (-0.2, 0.2), \"y\": (-0.2, 0.2)},\n",
    "        rotate=(-15, 15),\n",
    "        shear=(-8, 8)\n",
    "    )\n",
    "], random_order=True)"
   ]
  },
  {
   "cell_type": "code",
   "execution_count": 9,
   "id": "5bd3a9d9-ed9e-4e55-92c4-dc410a6dc2f1",
   "metadata": {},
   "outputs": [],
   "source": [
    "def create_aug_names(names: pd.Series, cat: str) -> pd.Series:\n",
    "    augnames = names.copy()\n",
    "    for i, name in enumerate(names.values):\n",
    "        augnames.iloc[i] = \"AUG_\" + cat + \"_\" + str(i) + \"_\" + name\n",
    "    return augnames\n"
   ]
  },
  {
   "cell_type": "code",
   "execution_count": 10,
   "id": "5f2d13bc-fc8a-4680-849c-c6fb43f00f1b",
   "metadata": {},
   "outputs": [],
   "source": [
    "def get_imgs_to_sample(series: pd.Series) -> pd.Series:\n",
    "    counts = series.value_counts()\n",
    "    return counts.max() - counts"
   ]
  },
  {
   "cell_type": "code",
   "execution_count": 11,
   "id": "74027ec9-6060-4cf1-9c0a-a35145fd7f0f",
   "metadata": {},
   "outputs": [],
   "source": [
    "def create_augs(df: pd.DataFrame, img_to_sample: pd.Series, seq: iaa.Sequential, read_dir, write_dir, colname: str = \"age\") -> pd.DataFrame:\n",
    "    new_df = pd.DataFrame()\n",
    "    for cat, count in img_to_sample.items():\n",
    "        print(f\"Sampling {count} images for {colname} {cat}\")\n",
    "        if count > 0:\n",
    "            df_sample = df[df[colname] == cat].sample(count, replace=True)\n",
    "            df_sample[\"aug_name\"] = create_aug_names(df_sample[\"name\"], cat)\n",
    "            df_sample[\"aug_cat\"] = colname\n",
    "            sample_imgs = [cv2.imread(read_dir + '/' + name) for name in df_sample[\"name\"]]\n",
    "            augs = seq.augment_images(sample_imgs)\n",
    "            for i, aug in enumerate(augs):\n",
    "                cv2.imwrite(str(write_dir + '/' + df_sample.iloc[i, 5]), aug)\n",
    "            new_df = pd.concat([new_df, df_sample])\n",
    "    return new_df\n"
   ]
  },
  {
   "cell_type": "code",
   "execution_count": 12,
   "id": "e6b5e7f1-56f8-4ec6-8ab8-11751854f96c",
   "metadata": {},
   "outputs": [],
   "source": [
    "def upsample_imgs(df, sample_cols, seq, read_dir, write_dir):\n",
    "    aug_df = pd.DataFrame()\n",
    "    for col in sample_cols:\n",
    "        print(f\"Upsampling {col}\")\n",
    "        counts = df[col].value_counts()\n",
    "        img_to_sample = counts.max() - counts\n",
    "        aug_df = pd.concat(\n",
    "            [\n",
    "                aug_df,\n",
    "                create_augs(df, img_to_sample, seq=seq, colname=col, read_dir=read_dir, write_dir=write_dir),\n",
    "            ]\n",
    "        )\n",
    "    return aug_df"
   ]
  },
  {
   "cell_type": "code",
   "execution_count": 13,
   "id": "d83b12bf-459c-4e4c-9605-cd415f3c379c",
   "metadata": {},
   "outputs": [],
   "source": [
    "labels = pd.read_csv('./train/labels.csv')\n",
    "labels = labels[labels[\"real_face\"] == '1'].dropna()\n",
    "# don't need to run this every time since the images are generated\n",
    "#aug_df = upsample_imgs(labels, sample_cols=cat, seq=newseq, read_dir='./train', write_dir='./augmented_train')\n",
    "#aug_df.to_csv('./augmented_train/labels.csv')"
   ]
  },
  {
   "cell_type": "markdown",
   "id": "71959b24-4db1-4d0a-9796-a9d83189c7f0",
   "metadata": {},
   "source": [
    "### Integrate the Augmented Data"
   ]
  },
  {
   "cell_type": "code",
   "execution_count": 14,
   "id": "3c5bc279-1482-455a-a1e8-90180a54eb1e",
   "metadata": {},
   "outputs": [],
   "source": [
    "# load data\n",
    "AUGPATH = './augmented_train/'\n",
    "aug_df = pd.read_csv(AUGPATH+'labels.csv')\n",
    "df_aug_labeled = aug_df[aug_df[\"skin_tone\"].notna()] # take only labeled data\n",
    "\n",
    "# Converting labels to np array\n",
    "aug_Y = []\n",
    "for i in range(3):\n",
    "    lab = lbs[i].transform(df_aug_labeled[df_aug_labeled['aug_cat']==cat[i]][cat[i]])\n",
    "    if lab.shape[1]==1:\n",
    "        aug_Y.append(np.hstack((1-lab,lab)))\n",
    "    else:\n",
    "        aug_Y.append(lab)"
   ]
  },
  {
   "cell_type": "code",
   "execution_count": 15,
   "id": "2f658b10-38f8-41fe-9c60-7a24e0b1a81c",
   "metadata": {},
   "outputs": [
    {
     "name": "stdout",
     "output_type": "stream",
     "text": [
      "Loading images\n",
      "Converting images to np array\n",
      "Converting images to np array\n",
      "Converting images to np array\n"
     ]
    }
   ],
   "source": [
    "# loading and converting data into np array\n",
    "print(\"Loading images\")\n",
    "length = width = 64 # size for each input image, increase if you want\n",
    "aug_nn = [0,0,0]\n",
    "aug_X = [[],[],[]]\n",
    "\n",
    "for i in range(3):\n",
    "    aug_nn[i] = df_aug_labeled[df_aug_labeled['aug_cat']==cat[i]].shape[0]\n",
    "    imgs = [image.load_img(AUGPATH+df_aug_labeled[df_aug_labeled['aug_cat']==cat[i]].iloc[j]['aug_name'], target_size=(length,width)) for j in range(aug_nn[i])]\n",
    "\n",
    "    print(\"Converting images to np array\")\n",
    "    aug_X[i] = np.empty([aug_nn[i], length, width, 3], dtype=float)\n",
    "    for j in range(aug_nn[i]):\n",
    "        aug_X[i][j,:] = image.img_to_array(imgs[j])\n",
    "    aug_X[i] = K.applications.resnet50.preprocess_input(aug_X[i])"
   ]
  },
  {
   "cell_type": "code",
   "execution_count": 16,
   "id": "f955410a-04c2-4222-ac42-b8b78865103f",
   "metadata": {},
   "outputs": [],
   "source": [
    "Y = [[],[],[]]\n",
    "X = [[],[],[]]\n",
    "\n",
    "for i in range(len(cat)):\n",
    "    Y[i] = np.concatenate([base_Y[i], aug_Y[i]])\n",
    "    X[i] = np.concatenate([base_X[i], aug_X[i]])\n",
    "\n",
    "nn = base_nn+np.array(aug_nn)"
   ]
  },
  {
   "cell_type": "code",
   "execution_count": 17,
   "id": "74c51664-d1ea-4b22-aee4-f72defb6f853",
   "metadata": {},
   "outputs": [
    {
     "data": {
      "text/plain": [
       "(5463, 64, 64, 3)"
      ]
     },
     "execution_count": 17,
     "metadata": {},
     "output_type": "execute_result"
    }
   ],
   "source": [
    "X[0].shape"
   ]
  },
  {
   "cell_type": "code",
   "execution_count": 18,
   "id": "29709031-3d19-4b86-8148-1845b15e11c5",
   "metadata": {},
   "outputs": [
    {
     "data": {
      "text/plain": [
       "array([532, 500, 575, 595, 590, 569, 535, 530, 523, 514])"
      ]
     },
     "execution_count": 18,
     "metadata": {},
     "output_type": "execute_result"
    }
   ],
   "source": [
    "Y[0].sum(axis=0)"
   ]
  },
  {
   "cell_type": "markdown",
   "id": "cdf14ba8",
   "metadata": {},
   "source": [
    "## Specify the Model\n",
    "\n",
    "We define a single model class that is able train on the data in `X` and `Y` and predict outcomes for all three classes."
   ]
  },
  {
   "cell_type": "code",
   "execution_count": 19,
   "id": "14e09453-9177-4847-a6e2-9cf88813101f",
   "metadata": {},
   "outputs": [],
   "source": [
    "class CategoricalDisparity(tf.keras.metrics.Metric):\n",
    "\n",
    "    def __init__(self, num_classes, name=\"disparity\", **kwargs):\n",
    "        super(CategoricalDisparity, self).__init__(name=name, **kwargs)\n",
    "\n",
    "        self.num_classes = num_classes    \n",
    "\n",
    "        self.acc_max = self.add_weight(name=\"max\", initializer=\"zeros\")\n",
    "        self.acc_min = self.add_weight(name=\"min\", initializer=\"zeros\")\n",
    "\n",
    "        self.cm = self.add_weight(name=\"cm\", shape=[num_classes,num_classes], initializer=\"zeros\")\n",
    "        \n",
    "    def update_state(self, y_true, y_pred, sample_weight=None):     \n",
    "\n",
    "        y_true = K.backend.argmax(y_true, axis=-1)\n",
    "        y_pred = K.backend.argmax(y_pred, axis=-1)\n",
    "        y_true = K.backend.flatten(y_true)\n",
    "\n",
    "        new_cm = tf.math.confusion_matrix(y_true,y_pred, num_classes = self.num_classes, dtype=tf.float32)\n",
    "        \n",
    "        if (K.backend.int_shape(new_cm) == (self.num_classes, self.num_classes)) and (self.num_classes > 0):\n",
    "            self.cm.assign_add(new_cm)\n",
    "        row_sum = K.backend.sum(self.cm, axis=0)\n",
    "        diag = K.backend.cast(tf.linalg.diag_part(self.cm), dtype=tf.float32)\n",
    "        accuracies = diag / row_sum\n",
    "        acc_max = K.backend.max(accuracies)\n",
    "        acc_min = K.backend.min(accuracies)\n",
    "        \n",
    "        self.acc_max.assign(acc_max)\n",
    "        self.acc_min.assign(acc_min)\n",
    "        \n",
    "    def result(self):\n",
    "        return self.acc_max - self.acc_min\n",
    "    \n",
    "    def reset_state(self):\n",
    "        self.acc_max.assign(0)\n",
    "        self.acc_min.assign(0)\n",
    "        self.cm.assign(np.zeros([self.num_classes, self.num_classes], dtype=np.float32))\n",
    "        \n",
    "    def get_config(self):\n",
    "        config = {'num_classes': self.num_classes}\n",
    "        base_config = super(CategoricalDisparity, self).get_config()\n",
    "        return dict(list(base_config.items()) + list(config.items()))"
   ]
  },
  {
   "cell_type": "code",
   "execution_count": 20,
   "id": "e8e3c11d-d0dd-494c-83f6-de762033f036",
   "metadata": {},
   "outputs": [],
   "source": [
    "class CategoricalMaxAccuracy(tf.keras.metrics.Metric):\n",
    "\n",
    "    def __init__(self, num_classes, name=\"max_accuracy\", **kwargs):\n",
    "        super(CategoricalMaxAccuracy, self).__init__(name=name, **kwargs)\n",
    "\n",
    "        self.num_classes = num_classes    \n",
    "\n",
    "        self.acc_max = self.add_weight(name=\"max\", initializer=\"zeros\")\n",
    "        self.acc_min = self.add_weight(name=\"min\", initializer=\"zeros\")\n",
    "\n",
    "        self.cm = self.add_weight(name=\"cm\", shape=[num_classes,num_classes], initializer=\"zeros\")\n",
    "        \n",
    "    def update_state(self, y_true, y_pred, sample_weight=None):     \n",
    "\n",
    "        y_true = K.backend.argmax(y_true, axis=-1)\n",
    "        y_pred = K.backend.argmax(y_pred, axis=-1)\n",
    "        y_true = K.backend.flatten(y_true)\n",
    "\n",
    "        new_cm = tf.math.confusion_matrix(y_true,y_pred, num_classes = self.num_classes, dtype=tf.float32)\n",
    "        \n",
    "        if (K.backend.int_shape(new_cm) == (self.num_classes, self.num_classes)) and (self.num_classes > 0):\n",
    "            self.cm.assign_add(new_cm)\n",
    "        row_sum = K.backend.sum(self.cm, axis=0)\n",
    "        diag = K.backend.cast(tf.linalg.diag_part(self.cm), dtype=tf.float32)\n",
    "        accuracies = diag / row_sum\n",
    "        acc_max = K.backend.max(accuracies)\n",
    "        acc_min = K.backend.min(accuracies)\n",
    "        \n",
    "        self.acc_max.assign(acc_max)\n",
    "        self.acc_min.assign(acc_min)\n",
    "        \n",
    "    def result(self):\n",
    "        return self.acc_max\n",
    "    \n",
    "    def reset_state(self):\n",
    "        self.acc_max.assign(0)\n",
    "        self.acc_min.assign(0)\n",
    "        self.cm.assign(np.zeros([self.num_classes, self.num_classes], dtype=np.float32))\n",
    "        \n",
    "    def get_config(self):\n",
    "        config = {'num_classes': self.num_classes}\n",
    "        base_config = super(CategoricalMaxAccuracy, self).get_config()\n",
    "        return dict(list(base_config.items()) + list(config.items()))"
   ]
  },
  {
   "cell_type": "code",
   "execution_count": 21,
   "id": "c0bb456b-f109-4d03-adb4-c1bc35d5ffe5",
   "metadata": {},
   "outputs": [],
   "source": [
    "class CategoricalMinAccuracy(tf.keras.metrics.Metric):\n",
    "\n",
    "    def __init__(self, num_classes, name=\"min_accuracy\", **kwargs):\n",
    "        super(CategoricalMinAccuracy, self).__init__(name=name, **kwargs)\n",
    "\n",
    "        self.num_classes = num_classes    \n",
    "\n",
    "        self.acc_max = self.add_weight(name=\"max\", initializer=\"zeros\")\n",
    "        self.acc_min = self.add_weight(name=\"min\", initializer=\"zeros\")\n",
    "\n",
    "        self.cm = self.add_weight(name=\"cm\", shape=[num_classes,num_classes], initializer=\"zeros\")\n",
    "        \n",
    "    def update_state(self, y_true, y_pred, sample_weight=None):     \n",
    "\n",
    "        y_true = K.backend.argmax(y_true, axis=-1)\n",
    "        y_pred = K.backend.argmax(y_pred, axis=-1)\n",
    "        y_true = K.backend.flatten(y_true)\n",
    "\n",
    "        new_cm = tf.math.confusion_matrix(y_true,y_pred, num_classes = self.num_classes, dtype=tf.float32)\n",
    "        \n",
    "        self.cm.assign_add(new_cm)\n",
    "        row_sum = K.backend.sum(self.cm, axis=0)\n",
    "        diag = K.backend.cast(tf.linalg.diag_part(self.cm), dtype=tf.float32)\n",
    "        accuracies = diag / row_sum\n",
    "        acc_max = K.backend.max(accuracies)\n",
    "        acc_min = K.backend.min(accuracies)\n",
    "        \n",
    "        self.acc_max.assign(acc_max)\n",
    "        self.acc_min.assign(acc_min)\n",
    "        \n",
    "    def result(self):\n",
    "        return self.acc_min\n",
    "    \n",
    "    def reset_state(self):\n",
    "        self.acc_max.assign(0)\n",
    "        self.acc_min.assign(0)\n",
    "        self.cm.assign(np.zeros([self.num_classes, self.num_classes], dtype=np.float32))\n",
    "        \n",
    "    def get_config(self):\n",
    "        config = {'num_classes': self.num_classes}\n",
    "        base_config = super(CategoricalMinAccuracy, self).get_config()\n",
    "        return dict(list(base_config.items()) + list(config.items()))"
   ]
  },
  {
   "cell_type": "code",
   "execution_count": 46,
   "id": "40c55abe",
   "metadata": {},
   "outputs": [],
   "source": [
    "class PredictionModel():\n",
    "    def __init__(self, X, Y, idx):\n",
    "        self.X = X\n",
    "        self.Y = Y\n",
    "        self.idx = idx\n",
    "        self.trainX, self.testX = [X[i][idx[0][i],:] for i in range(3)], [X[i][idx[1][i],:] for i in range(3)]\n",
    "        self.trainY, self.testY = [Y[i][idx[0][i],:] for i in range(3)], [Y[i][idx[1][i],:] for i in range(3)]\n",
    "        self.cat = ['skin_tone','gender','age']\n",
    "        self.loss = ['categorical_crossentropy' for i in range(3)]\n",
    "        self.metrics = [['accuracy', CategoricalDisparity(num_classes=Y[i][idx[0][i],:].shape[1]),\n",
    "                         CategoricalMaxAccuracy(num_classes=Y[i][idx[0][i],:].shape[1]),\n",
    "                         CategoricalMinAccuracy(num_classes=Y[i][idx[0][i],:].shape[1])] for i in range(3)]  # \n",
    "        self.models = [None]*3\n",
    "\n",
    "    # train a model specific for a certain class index in self.cat\n",
    "    def fit(self, index, model, epochs=5, batch_size=32, save=False, save_location=None, verbose=1):\n",
    "        \n",
    "        if verbose: print(\"Training model for \"+self.cat[index])\n",
    "        \n",
    "        model.add(K.layers.Dense(self.trainY[index].shape[1], activation='softmax'))\n",
    "        model.compile(loss=self.loss[index], optimizer='Adam', metrics=self.metrics[index])\n",
    "        model.fit(\n",
    "            self.trainX[index], self.trainY[index], \n",
    "            validation_data=(self.testX[index],self.testY[index]), \n",
    "            batch_size=batch_size, epochs=epochs, verbose=verbose\n",
    "        )\n",
    "        \n",
    "        if save:\n",
    "            if os.path.exists(SAVEPATH)==False:\n",
    "                print('save location '+SAVEPATH+' did not exist. creating')\n",
    "                os.makedirs(SAVEPATH)\n",
    "            SAVE_LOCATION = save_location+'model_'+cat[index]+'.h5'\n",
    "            print(\"saving model at \"+SAVE_LOCATION)\n",
    "            model.save(SAVE_LOCATION)\n",
    "        \n",
    "        self.models[index] = model\n",
    "        \n",
    "    # train a model which updates loss weights after each epoch\n",
    "    def custom_fit(self, index, model, epochs=5, batch_size=32, save=False, save_location=None, verbose=1):\n",
    "        \n",
    "        if verbose: print(\"Training custom weight model for \"+self.cat[index])\n",
    "        \n",
    "        output_categories = self.trainY[index].shape[1]\n",
    "        counts = self.trainY[index].sum(axis=0)\n",
    "        \n",
    "        model.add(K.layers.Dense(output_categories, activation='softmax'))\n",
    "        \n",
    "        loss_weights = np.ones(output_categories)/output_categories\n",
    "        loss_weights = (loss_weights / counts) / np.sum(loss_weights / counts)\n",
    "        opt = tf.keras.optimizers.Adam(0.001)\n",
    "        \n",
    "        for i in range(epochs):\n",
    "            print(f\"Epoch {i+1}/{epochs}\")\n",
    "            class_weights = dict(enumerate(loss_weights))\n",
    "            model.compile(loss=self.loss[index], optimizer=opt, metrics=self.metrics[index])\n",
    "        \n",
    "            model.fit(\n",
    "                self.trainX[index], self.trainY[index], \n",
    "                validation_data=(self.testX[index],self.testY[index]), \n",
    "                batch_size=batch_size, epochs=1, verbose=verbose,\n",
    "                class_weight = class_weights\n",
    "            )\n",
    "\n",
    "            predy = np.argmax(model.predict(self.trainX[index]),1)\n",
    "            truey = np.argmax(self.trainY[index],1)\n",
    "            cats = max(truey) + 1\n",
    "            accs = np.zeros(cats)\n",
    "            for i in range(cats):\n",
    "                accs[i] = np.sum((predy==truey) & (truey==i))/np.sum(truey==i)\n",
    "            epsilon = 1\n",
    "            \n",
    "            loss_weights = (1/(accs + epsilon))\n",
    "            loss_weights = (loss_weights) / np.sum(loss_weights)\n",
    "            print(np.round(accs,2))\n",
    "            print(np.round(loss_weights,2))\n",
    "            \n",
    "        if save:\n",
    "            if os.path.exists(SAVEPATH)==False:\n",
    "                print('save location '+SAVEPATH+' did not exist. creating')\n",
    "                os.makedirs(SAVEPATH)\n",
    "            SAVE_LOCATION = save_location+'custommodel_'+cat[index]+'.h5'\n",
    "            print(\"saving model at \"+SAVE_LOCATION)\n",
    "            model.save(SAVE_LOCATION)\n",
    "        \n",
    "        self.models[index] = model\n",
    "            \n",
    "    def predict(self, newX):\n",
    "        predictions = [model.predict(newX) for model in self.models]\n",
    "        return predictions"
   ]
  },
  {
   "cell_type": "code",
   "execution_count": 38,
   "id": "18082e98-91ab-44b4-89fe-8f603e4bc3f7",
   "metadata": {},
   "outputs": [
    {
     "name": "stdout",
     "output_type": "stream",
     "text": [
      "[0.1 0.2 0.3 0.4 0.5 0.6 0.7 0.8 0.9 1. ]\n",
      "[3.16227766 2.23606798 1.82574186 1.58113883 1.41421356 1.29099445\n",
      " 1.19522861 1.11803399 1.05409255 1.        ]\n",
      "[10.          5.          3.33333333  2.5         2.          1.66666667\n",
      "  1.42857143  1.25        1.11111111  1.        ]\n",
      "[100.          25.          11.11111111   6.25         4.\n",
      "   2.77777778   2.04081633   1.5625       1.2345679    1.        ]\n"
     ]
    }
   ],
   "source": [
    "a = np.linspace(.1,1,10)\n",
    "print(a)\n",
    "print(1/a**.5)\n",
    "print(1/a)\n",
    "print(1/a**2)"
   ]
  },
  {
   "cell_type": "markdown",
   "id": "e76ae9ef",
   "metadata": {},
   "source": [
    "## Initialize and Train a Model\n",
    "\n",
    "We now train a `PredictionModel` to predict the likely skin tone, gender, and age of an input image. This baseline model is initialize on imagenet weights and uses the ResNet50 architecture. We strongly recommend using a GPU to reduce training time."
   ]
  },
  {
   "cell_type": "code",
   "execution_count": 23,
   "id": "da29fedf",
   "metadata": {},
   "outputs": [],
   "source": [
    "# function to initialize a model\n",
    "def initializeModel():\n",
    "    res_model = ResNet50(include_top=False, weights='imagenet', input_tensor=K.Input(shape=[length,width,3]))\n",
    "\n",
    "    # freeze all but the last layer\n",
    "    for layer in res_model.layers[:143]:\n",
    "        layer.trainable = False\n",
    "    model = K.models.Sequential()\n",
    "    model.add(res_model)\n",
    "    model.add(K.layers.Flatten())\n",
    "    model.add(K.layers.BatchNormalization())\n",
    "    model.add(K.layers.Dense(1024, activation='relu'))\n",
    "    model.add(K.layers.Dropout(0.5))\n",
    "    model.add(K.layers.BatchNormalization())\n",
    "    model.add(K.layers.Dense(512, activation='relu'))\n",
    "    model.add(K.layers.Dropout(0.5))\n",
    "    model.add(K.layers.BatchNormalization())\n",
    "    model.add(K.layers.Dense(256, activation='relu'))\n",
    "    model.add(K.layers.Dropout(0.5))\n",
    "    model.add(K.layers.BatchNormalization())\n",
    "    return model\n",
    "\n",
    "nntrain = [[],[],[]]\n",
    "indices = [[],[],[]]\n",
    "train_idx = [[],[],[]]\n",
    "test_idx = [[],[],[]]\n",
    "\n",
    "for i in range(3):\n",
    "    nntrain[i] = int(0.7*nn[i])\n",
    "    np.random.seed(42)\n",
    "    indices = np.random.permutation(nn[i])\n",
    "    train_idx[i], test_idx[i] = indices[:nntrain[i]], indices[nntrain[i]:]\n",
    "\n"
   ]
  },
  {
   "cell_type": "code",
   "execution_count": 29,
   "id": "c3a3ac14-abef-49c5-b09d-1174006c600e",
   "metadata": {},
   "outputs": [],
   "source": [
    "mymodel = PredictionModel(X=X, Y=Y, idx=[train_idx,test_idx])\n"
   ]
  },
  {
   "cell_type": "code",
   "execution_count": 25,
   "id": "7e19460a-f656-40dc-b0aa-c10195c6ec49",
   "metadata": {},
   "outputs": [
    {
     "name": "stdout",
     "output_type": "stream",
     "text": [
      "Training model for skin_tone\n",
      "Epoch 1/20\n",
      "109/109 [==============================] - 96s 800ms/step - loss: 2.7538 - accuracy: 0.1400 - disparity: 0.1005 - max_accuracy: 0.1838 - min_accuracy: 0.0833 - val_loss: 8.1975 - val_accuracy: 0.1593 - val_disparity: nan - val_max_accuracy: nan - val_min_accuracy: nan\n",
      "Epoch 2/20\n",
      "109/109 [==============================] - 87s 795ms/step - loss: 2.2629 - accuracy: 0.2128 - disparity: 0.1946 - max_accuracy: 0.3185 - min_accuracy: 0.1239 - val_loss: 2.2234 - val_accuracy: 0.2681 - val_disparity: 0.2302 - val_max_accuracy: 0.3824 - val_min_accuracy: 0.1522\n",
      "Epoch 3/20\n",
      "109/109 [==============================] - 88s 808ms/step - loss: 1.9864 - accuracy: 0.2823 - disparity: 0.2163 - max_accuracy: 0.4163 - min_accuracy: 0.2000 - val_loss: 2.0790 - val_accuracy: 0.3004 - val_disparity: 0.3542 - val_max_accuracy: 0.4847 - val_min_accuracy: 0.1304\n",
      "Epoch 4/20\n",
      "109/109 [==============================] - 87s 801ms/step - loss: 1.7957 - accuracy: 0.3185 - disparity: 0.3302 - max_accuracy: 0.5153 - min_accuracy: 0.1851 - val_loss: 1.9601 - val_accuracy: 0.3206 - val_disparity: 0.2870 - val_max_accuracy: 0.5085 - val_min_accuracy: 0.2214\n",
      "Epoch 5/20\n",
      "109/109 [==============================] - 86s 793ms/step - loss: 1.6218 - accuracy: 0.3724 - disparity: 0.3496 - max_accuracy: 0.5950 - min_accuracy: 0.2454 - val_loss: 1.7561 - val_accuracy: 0.3441 - val_disparity: 0.4069 - val_max_accuracy: 0.5944 - val_min_accuracy: 0.1875\n",
      "Epoch 6/20\n",
      "109/109 [==============================] - 85s 781ms/step - loss: 1.4603 - accuracy: 0.4387 - disparity: 0.3697 - max_accuracy: 0.6777 - min_accuracy: 0.3079 - val_loss: 1.6864 - val_accuracy: 0.3858 - val_disparity: 0.2873 - val_max_accuracy: 0.5312 - val_min_accuracy: 0.2439\n",
      "Epoch 7/20\n",
      "109/109 [==============================] - 87s 796ms/step - loss: 1.3307 - accuracy: 0.4862 - disparity: 0.3472 - max_accuracy: 0.7161 - min_accuracy: 0.3689 - val_loss: 1.8011 - val_accuracy: 0.3515 - val_disparity: 0.5586 - val_max_accuracy: 0.7941 - val_min_accuracy: 0.2356\n",
      "Epoch 8/20\n",
      "109/109 [==============================] - 86s 792ms/step - loss: 1.1704 - accuracy: 0.5547 - disparity: 0.4094 - max_accuracy: 0.8039 - min_accuracy: 0.3945 - val_loss: 1.7399 - val_accuracy: 0.4133 - val_disparity: 0.3300 - val_max_accuracy: 0.5900 - val_min_accuracy: 0.2600\n",
      "Epoch 9/20\n",
      "109/109 [==============================] - 90s 825ms/step - loss: 1.0230 - accuracy: 0.6034 - disparity: 0.4171 - max_accuracy: 0.8487 - min_accuracy: 0.4316 - val_loss: 1.8051 - val_accuracy: 0.3824 - val_disparity: 0.5290 - val_max_accuracy: 0.7313 - val_min_accuracy: 0.2023\n",
      "Epoch 10/20\n",
      "109/109 [==============================] - 86s 789ms/step - loss: 0.9149 - accuracy: 0.6596 - disparity: 0.3630 - max_accuracy: 0.8567 - min_accuracy: 0.4938 - val_loss: 1.9714 - val_accuracy: 0.3905 - val_disparity: 0.3811 - val_max_accuracy: 0.6053 - val_min_accuracy: 0.2242\n",
      "Epoch 11/20\n",
      "109/109 [==============================] - 87s 798ms/step - loss: 0.8625 - accuracy: 0.6815 - disparity: 0.3516 - max_accuracy: 0.8817 - min_accuracy: 0.5301 - val_loss: 2.0024 - val_accuracy: 0.3777 - val_disparity: 0.5269 - val_max_accuracy: 0.7865 - val_min_accuracy: 0.2596\n",
      "Epoch 12/20\n",
      "109/109 [==============================] - 86s 789ms/step - loss: 0.7533 - accuracy: 0.7203 - disparity: 0.3402 - max_accuracy: 0.8974 - min_accuracy: 0.5572 - val_loss: 2.0123 - val_accuracy: 0.3824 - val_disparity: 0.5212 - val_max_accuracy: 0.7303 - val_min_accuracy: 0.2091\n",
      "Epoch 13/20\n",
      "109/109 [==============================] - 85s 777ms/step - loss: 0.6468 - accuracy: 0.7581 - disparity: 0.3692 - max_accuracy: 0.8997 - min_accuracy: 0.5305 - val_loss: 2.0477 - val_accuracy: 0.4106 - val_disparity: 0.4774 - val_max_accuracy: 0.6578 - val_min_accuracy: 0.1803\n",
      "Epoch 14/20\n",
      "109/109 [==============================] - 86s 787ms/step - loss: 0.5680 - accuracy: 0.7912 - disparity: 0.3037 - max_accuracy: 0.9148 - min_accuracy: 0.6111 - val_loss: 2.0293 - val_accuracy: 0.4032 - val_disparity: 0.4055 - val_max_accuracy: 0.6211 - val_min_accuracy: 0.2155\n",
      "Epoch 15/20\n",
      "109/109 [==============================] - 86s 787ms/step - loss: 0.4742 - accuracy: 0.8361 - disparity: 0.2352 - max_accuracy: 0.9460 - min_accuracy: 0.7108 - val_loss: 2.2494 - val_accuracy: 0.3905 - val_disparity: 0.5113 - val_max_accuracy: 0.7197 - val_min_accuracy: 0.2085\n",
      "Epoch 16/20\n",
      "109/109 [==============================] - 84s 775ms/step - loss: 0.4414 - accuracy: 0.8378 - disparity: 0.2456 - max_accuracy: 0.9542 - min_accuracy: 0.7086 - val_loss: 2.0843 - val_accuracy: 0.4261 - val_disparity: 0.4948 - val_max_accuracy: 0.7886 - val_min_accuracy: 0.2938\n",
      "Epoch 17/20\n",
      "109/109 [==============================] - 85s 781ms/step - loss: 0.4112 - accuracy: 0.8465 - disparity: 0.2117 - max_accuracy: 0.9343 - min_accuracy: 0.7225 - val_loss: 2.1812 - val_accuracy: 0.4120 - val_disparity: 0.5195 - val_max_accuracy: 0.7535 - val_min_accuracy: 0.2340\n",
      "Epoch 18/20\n",
      "109/109 [==============================] - 87s 802ms/step - loss: 0.3793 - accuracy: 0.8695 - disparity: 0.1922 - max_accuracy: 0.9715 - min_accuracy: 0.7793 - val_loss: 2.2402 - val_accuracy: 0.4093 - val_disparity: 0.4122 - val_max_accuracy: 0.6122 - val_min_accuracy: 0.2000\n",
      "Epoch 19/20\n",
      "109/109 [==============================] - 86s 789ms/step - loss: 0.3403 - accuracy: 0.8785 - disparity: 0.2126 - max_accuracy: 0.9511 - min_accuracy: 0.7385 - val_loss: 2.3888 - val_accuracy: 0.4167 - val_disparity: 0.3812 - val_max_accuracy: 0.6119 - val_min_accuracy: 0.2308\n",
      "Epoch 20/20\n",
      "109/109 [==============================] - 85s 775ms/step - loss: 0.4061 - accuracy: 0.8603 - disparity: 0.1786 - max_accuracy: 0.9257 - min_accuracy: 0.7472 - val_loss: 2.3080 - val_accuracy: 0.4207 - val_disparity: 0.3777 - val_max_accuracy: 0.6117 - val_min_accuracy: 0.2340\n",
      "saving model at ./models/test/base/model_skin_tone.h5\n"
     ]
    }
   ],
   "source": [
    "# train model\n",
    "mymodel.fit(index=0, model=initializeModel(), epochs=20, save=True, save_location='./models/test/base/')"
   ]
  },
  {
   "cell_type": "code",
   "execution_count": null,
   "id": "15ecee40-159f-4377-9d7a-e34ef7dc34a1",
   "metadata": {
    "tags": []
   },
   "outputs": [
    {
     "name": "stdout",
     "output_type": "stream",
     "text": [
      "Training custom weight model for skin_tone\n",
      "Epoch 1/20\n",
      "120/120 [==============================] - 209s 2s/step - loss: 0.2670 - accuracy: 0.1449 - disparity: 0.0919 - max_accuracy: 0.1983 - min_accuracy: 0.1064 - val_loss: 6.1262 - val_accuracy: 0.1897 - val_disparity: 0.8947 - val_max_accuracy: 1.0000 - val_min_accuracy: 0.1053\n",
      "120/120 [==============================] - 64s 509ms/step\n",
      "[0.31 0.44 0.   0.02 0.54 0.05 0.   0.02 0.03 0.58]\n",
      "[0.09 0.08 0.12 0.11 0.08 0.11 0.12 0.11 0.11 0.07]\n",
      "Epoch 2/20\n",
      "120/120 [==============================] - 222s 2s/step - loss: 0.2306 - accuracy: 0.2019 - disparity: 0.1712 - max_accuracy: 0.3051 - min_accuracy: 0.1340 - val_loss: 4.7518 - val_accuracy: 0.2422 - val_disparity: 0.3580 - val_max_accuracy: 0.3580 - val_min_accuracy: 0.0000e+00\n",
      "120/120 [==============================] - 60s 490ms/step\n",
      "[0.5  0.95 0.25 0.02 0.38 0.23 0.11 0.3  0.13 0.01]\n",
      "[0.08 0.06 0.1  0.12 0.09 0.1  0.11 0.1  0.11 0.12]\n",
      "Epoch 3/20\n",
      "120/120 [==============================] - 228s 2s/step - loss: 0.2008 - accuracy: 0.2594 - disparity: 0.2739 - max_accuracy: 0.4471 - min_accuracy: 0.1732 - val_loss: 1.9381 - val_accuracy: 0.3154 - val_disparity: 0.2390 - val_max_accuracy: 0.4431 - val_min_accuracy: 0.2041\n",
      "120/120 [==============================] - 61s 497ms/step\n",
      "[0.81 0.79 0.18 0.41 0.03 0.4  0.22 0.29 0.5  0.24]\n",
      "[0.07 0.08 0.11 0.1  0.13 0.1  0.11 0.1  0.09 0.11]\n",
      "Epoch 4/20\n",
      "120/120 [==============================] - 231s 2s/step - loss: 0.1871 - accuracy: 0.2806 - disparity: 0.2527 - max_accuracy: 0.4667 - min_accuracy: 0.2139 - val_loss: 1.8212 - val_accuracy: 0.3106 - val_disparity: 0.3668 - val_max_accuracy: 0.5607 - val_min_accuracy: 0.1939\n",
      "120/120 [==============================] - 64s 527ms/step\n",
      "[0.58 0.75 0.32 0.05 0.55 0.52 0.45 0.62 0.07 0.61]\n",
      "[0.09 0.08 0.11 0.13 0.09 0.09 0.1  0.09 0.13 0.09]\n",
      "Epoch 5/20\n",
      "120/120 [==============================] - 242s 2s/step - loss: 0.1688 - accuracy: 0.3387 - disparity: 0.3773 - max_accuracy: 0.6105 - min_accuracy: 0.2332 - val_loss: 1.9163 - val_accuracy: 0.3191 - val_disparity: 0.6176 - val_max_accuracy: 0.6176 - val_min_accuracy: 0.0000e+00\n",
      "120/120 [==============================] - 72s 590ms/step\n",
      "[0.68 0.68 0.11 0.95 0.04 0.43 0.59 0.39 0.58 0.36]\n",
      "[0.09 0.09 0.13 0.07 0.14 0.1  0.09 0.1  0.09 0.11]\n",
      "Epoch 6/20\n",
      "120/120 [==============================] - 258s 2s/step - loss: 0.1535 - accuracy: 0.3902 - disparity: 0.3552 - max_accuracy: 0.6032 - min_accuracy: 0.2481 - val_loss: 1.7921 - val_accuracy: 0.3234 - val_disparity: nan - val_max_accuracy: nan - val_min_accuracy: nan\n",
      "120/120 [==============================] - 80s 657ms/step\n",
      "[0.82 0.74 0.55 0.   0.62 0.4  0.54 0.78 0.15 0.87]\n",
      "[0.08 0.09 0.1  0.15 0.09 0.11 0.1  0.08 0.13 0.08]\n",
      "Epoch 7/20\n",
      "120/120 [==============================] - 279s 2s/step - loss: 0.1438 - accuracy: 0.4414 - disparity: 0.4092 - max_accuracy: 0.6949 - min_accuracy: 0.2857 - val_loss: 1.8419 - val_accuracy: 0.3398 - val_disparity: 0.4111 - val_max_accuracy: 0.5957 - val_min_accuracy: 0.1846\n",
      "120/120 [==============================] - 87s 719ms/step\n",
      "[0.75 0.94 0.49 0.73 0.2  0.68 0.71 0.39 0.71 0.47]\n",
      "[0.09 0.08 0.11 0.09 0.13 0.09 0.09 0.11 0.09 0.11]\n",
      "Epoch 8/20\n",
      "120/120 [==============================] - 288s 2s/step - loss: 0.1284 - accuracy: 0.4969 - disparity: 0.3866 - max_accuracy: 0.7157 - min_accuracy: 0.3291 - val_loss: 1.9399 - val_accuracy: 0.3246 - val_disparity: 0.5184 - val_max_accuracy: 0.6723 - val_min_accuracy: 0.1538\n",
      "120/120 [==============================] - 92s 762ms/step\n",
      "[0.7  0.93 0.66 0.13 0.66 0.47 0.56 0.88 0.37 0.83]\n",
      "[0.09 0.08 0.1  0.14 0.1  0.11 0.1  0.08 0.12 0.09]\n",
      "Epoch 9/20\n",
      "120/120 [==============================] - 295s 2s/step - loss: 0.1170 - accuracy: 0.5567 - disparity: 0.4178 - max_accuracy: 0.7866 - min_accuracy: 0.3688 - val_loss: 1.8283 - val_accuracy: 0.3795 - val_disparity: 0.5566 - val_max_accuracy: 0.8053 - val_min_accuracy: 0.2487\n",
      "120/120 [==============================] - 95s 784ms/step\n",
      "[0.89 0.92 0.32 0.69 0.15 0.75 0.83 0.74 0.84 0.94]\n",
      "[0.09 0.09 0.13 0.1  0.14 0.09 0.09 0.1  0.09 0.09]\n",
      "Epoch 10/20\n",
      "120/120 [==============================] - 297s 2s/step - loss: 0.1036 - accuracy: 0.5978 - disparity: 0.4788 - max_accuracy: 0.8477 - min_accuracy: 0.3688 - val_loss: 2.0307 - val_accuracy: 0.3392 - val_disparity: 0.5057 - val_max_accuracy: 0.6892 - val_min_accuracy: 0.1835\n",
      "120/120 [==============================] - 97s 797ms/step\n",
      "[0.65 1.   0.57 0.55 0.74 0.42 0.84 0.8  0.64 0.86]\n",
      "[0.1  0.08 0.11 0.11 0.1  0.12 0.09 0.09 0.1  0.09]\n",
      "Epoch 11/20\n",
      "120/120 [==============================] - 303s 2s/step - loss: 0.0921 - accuracy: 0.6574 - disparity: 0.4276 - max_accuracy: 0.8038 - min_accuracy: 0.3762 - val_loss: 2.0064 - val_accuracy: 0.3691 - val_disparity: 0.6433 - val_max_accuracy: 0.8800 - val_min_accuracy: 0.2367\n",
      "120/120 [==============================] - 101s 819ms/step\n",
      "[0.77 0.92 0.53 0.83 0.49 0.78 0.85 0.86 0.85 0.91]\n",
      "[0.1  0.09 0.12 0.1  0.12 0.1  0.1  0.09 0.1  0.09]\n",
      "Epoch 12/20\n",
      "120/120 [==============================] - 308s 3s/step - loss: 0.0831 - accuracy: 0.6851 - disparity: 0.4740 - max_accuracy: 0.8659 - min_accuracy: 0.3919 - val_loss: 1.9602 - val_accuracy: 0.3978 - val_disparity: 0.5323 - val_max_accuracy: 0.7949 - val_min_accuracy: 0.2626\n",
      "120/120 [==============================] - 99s 813ms/step\n",
      "[0.95 0.93 0.76 0.56 0.86 0.82 0.93 0.95 0.9  1.  ]\n",
      "[0.1  0.1  0.11 0.12 0.1  0.1  0.1  0.1  0.1  0.09]\n",
      "Epoch 13/20\n",
      " 54/120 [============>.................] - ETA: 2:18 - loss: 0.0697 - accuracy: 0.7402 - disparity: 0.3950 - max_accuracy: 0.8544 - min_accuracy: 0.4594"
     ]
    }
   ],
   "source": [
    "# train model\n",
    "mycustommodel = PredictionModel(X=X, Y=Y, idx=[train_idx,test_idx])\n",
    "mycustommodel.custom_fit(index=0, model=initializeModel(), epochs=20, save=True, save_location='./models/test/custom/')"
   ]
  },
  {
   "cell_type": "code",
   "execution_count": 27,
   "id": "0a860e5f-2008-48b5-b469-72895d384d48",
   "metadata": {},
   "outputs": [
    {
     "name": "stdout",
     "output_type": "stream",
     "text": [
      "Training model for gender\n",
      "Epoch 1/20\n",
      "67/67 [==============================] - 69s 892ms/step - loss: 0.7049 - accuracy: 0.6917 - disparity: 0.0039 - max_accuracy: 0.6937 - min_accuracy: 0.6898 - val_loss: 1.1548 - val_accuracy: 0.7967 - val_disparity: 0.0131 - val_max_accuracy: 0.8037 - val_min_accuracy: 0.7906\n",
      "Epoch 2/20\n",
      "67/67 [==============================] - 55s 828ms/step - loss: 0.4214 - accuracy: 0.8172 - disparity: 0.0129 - max_accuracy: 0.8236 - min_accuracy: 0.8108 - val_loss: 1.1133 - val_accuracy: 0.8130 - val_disparity: 0.0525 - val_max_accuracy: 0.8424 - val_min_accuracy: 0.7899\n",
      "Epoch 3/20\n",
      "67/67 [==============================] - 55s 818ms/step - loss: 0.3090 - accuracy: 0.8899 - disparity: 0.0195 - max_accuracy: 0.8998 - min_accuracy: 0.8803 - val_loss: 0.6614 - val_accuracy: 0.8185 - val_disparity: 0.0241 - val_max_accuracy: 0.8314 - val_min_accuracy: 0.8073\n",
      "Epoch 4/20\n",
      "67/67 [==============================] - 55s 821ms/step - loss: 0.1992 - accuracy: 0.9277 - disparity: 0.0149 - max_accuracy: 0.9352 - min_accuracy: 0.9203 - val_loss: 0.6036 - val_accuracy: 0.8326 - val_disparity: 0.1032 - val_max_accuracy: 0.8936 - val_min_accuracy: 0.7904\n",
      "Epoch 5/20\n",
      "67/67 [==============================] - 54s 809ms/step - loss: 0.1673 - accuracy: 0.9352 - disparity: 0.0029 - max_accuracy: 0.9366 - min_accuracy: 0.9338 - val_loss: 0.5800 - val_accuracy: 0.8033 - val_disparity: 0.0984 - val_max_accuracy: 0.8586 - val_min_accuracy: 0.7602\n",
      "Epoch 6/20\n",
      "67/67 [==============================] - 55s 827ms/step - loss: 0.1282 - accuracy: 0.9529 - disparity: 3.3915e-05 - max_accuracy: 0.9529 - min_accuracy: 0.9529 - val_loss: 0.6003 - val_accuracy: 0.8217 - val_disparity: 0.0780 - val_max_accuracy: 0.8667 - val_min_accuracy: 0.7887\n",
      "Epoch 7/20\n",
      "67/67 [==============================] - 54s 808ms/step - loss: 0.1117 - accuracy: 0.9552 - disparity: 0.0059 - max_accuracy: 0.9582 - min_accuracy: 0.9522 - val_loss: 0.5663 - val_accuracy: 0.8380 - val_disparity: 0.0478 - val_max_accuracy: 0.8644 - val_min_accuracy: 0.8166\n",
      "Epoch 8/20\n",
      "67/67 [==============================] - 56s 844ms/step - loss: 0.0872 - accuracy: 0.9669 - disparity: 0.0107 - max_accuracy: 0.9724 - min_accuracy: 0.9616 - val_loss: 0.6493 - val_accuracy: 0.8348 - val_disparity: 0.0305 - val_max_accuracy: 0.8502 - val_min_accuracy: 0.8197\n",
      "Epoch 9/20\n",
      "67/67 [==============================] - 54s 811ms/step - loss: 0.0594 - accuracy: 0.9771 - disparity: 0.0049 - max_accuracy: 0.9796 - min_accuracy: 0.9747 - val_loss: 0.5760 - val_accuracy: 0.8500 - val_disparity: 0.0302 - val_max_accuracy: 0.8662 - val_min_accuracy: 0.8360\n",
      "Epoch 10/20\n",
      "67/67 [==============================] - 56s 833ms/step - loss: 0.0560 - accuracy: 0.9799 - disparity: 0.0031 - max_accuracy: 0.9815 - min_accuracy: 0.9784 - val_loss: 0.6237 - val_accuracy: 0.8337 - val_disparity: 0.0802 - val_max_accuracy: 0.8798 - val_min_accuracy: 0.7996\n",
      "Epoch 11/20\n",
      "67/67 [==============================] - 54s 803ms/step - loss: 0.0774 - accuracy: 0.9688 - disparity: 0.0067 - max_accuracy: 0.9721 - min_accuracy: 0.9654 - val_loss: 0.6074 - val_accuracy: 0.8326 - val_disparity: 0.0276 - val_max_accuracy: 0.8474 - val_min_accuracy: 0.8198\n",
      "Epoch 12/20\n",
      "67/67 [==============================] - 55s 827ms/step - loss: 0.0702 - accuracy: 0.9711 - disparity: 0.0012 - max_accuracy: 0.9717 - min_accuracy: 0.9705 - val_loss: 0.5310 - val_accuracy: 0.8337 - val_disparity: 0.0895 - val_max_accuracy: 0.8857 - val_min_accuracy: 0.7963\n",
      "Epoch 13/20\n",
      "67/67 [==============================] - 54s 809ms/step - loss: 0.0651 - accuracy: 0.9781 - disparity: 0.0067 - max_accuracy: 0.9814 - min_accuracy: 0.9747 - val_loss: 0.5228 - val_accuracy: 0.8380 - val_disparity: 0.0379 - val_max_accuracy: 0.8575 - val_min_accuracy: 0.8195\n",
      "Epoch 14/20\n",
      "67/67 [==============================] - 56s 833ms/step - loss: 0.0403 - accuracy: 0.9869 - disparity: 0.0016 - max_accuracy: 0.9877 - min_accuracy: 0.9862 - val_loss: 0.6105 - val_accuracy: 0.8304 - val_disparity: 0.0304 - val_max_accuracy: 0.8458 - val_min_accuracy: 0.8155\n",
      "Epoch 15/20\n",
      "67/67 [==============================] - 55s 825ms/step - loss: 0.0643 - accuracy: 0.9767 - disparity: 0.0058 - max_accuracy: 0.9796 - min_accuracy: 0.9738 - val_loss: 0.6693 - val_accuracy: 0.8087 - val_disparity: 0.1452 - val_max_accuracy: 0.8952 - val_min_accuracy: 0.7500\n",
      "Epoch 16/20\n",
      "67/67 [==============================] - 55s 815ms/step - loss: 0.0529 - accuracy: 0.9809 - disparity: 0.0013 - max_accuracy: 0.9815 - min_accuracy: 0.9802 - val_loss: 0.5254 - val_accuracy: 0.8522 - val_disparity: 0.0336 - val_max_accuracy: 0.8703 - val_min_accuracy: 0.8367\n",
      "Epoch 17/20\n",
      "67/67 [==============================] - 55s 815ms/step - loss: 0.0287 - accuracy: 0.9888 - disparity: 0.0039 - max_accuracy: 0.9907 - min_accuracy: 0.9869 - val_loss: 0.5661 - val_accuracy: 0.8402 - val_disparity: 0.0332 - val_max_accuracy: 0.8582 - val_min_accuracy: 0.8249\n",
      "Epoch 18/20\n",
      "67/67 [==============================] - 53s 797ms/step - loss: 0.0244 - accuracy: 0.9925 - disparity: 0.0020 - max_accuracy: 0.9935 - min_accuracy: 0.9915 - val_loss: 0.6288 - val_accuracy: 0.8359 - val_disparity: 0.0643 - val_max_accuracy: 0.8701 - val_min_accuracy: 0.8057\n",
      "Epoch 19/20\n",
      "67/67 [==============================] - 55s 820ms/step - loss: 0.0712 - accuracy: 0.9790 - disparity: 5.0217e-04 - max_accuracy: 0.9793 - min_accuracy: 0.9788 - val_loss: 0.5731 - val_accuracy: 0.8446 - val_disparity: 0.0503 - val_max_accuracy: 0.8707 - val_min_accuracy: 0.8205\n",
      "Epoch 20/20\n",
      "67/67 [==============================] - 53s 793ms/step - loss: 0.0489 - accuracy: 0.9823 - disparity: 0.0057 - max_accuracy: 0.9851 - min_accuracy: 0.9794 - val_loss: 0.5021 - val_accuracy: 0.8435 - val_disparity: 0.0322 - val_max_accuracy: 0.8608 - val_min_accuracy: 0.8286\n",
      "saving model at ./models/test/base/model_gender.h5\n"
     ]
    }
   ],
   "source": [
    "# train model\n",
    "mymodel.fit(index=1, model=initializeModel(), epochs=20, save=True, save_location='./models/test/base/')"
   ]
  },
  {
   "cell_type": "code",
   "execution_count": 28,
   "id": "0a43ee30-f1d4-43fe-9990-7ead60376a13",
   "metadata": {},
   "outputs": [
    {
     "name": "stdout",
     "output_type": "stream",
     "text": [
      "Training model for age\n",
      "Epoch 1/20\n",
      "111/111 [==============================] - 105s 839ms/step - loss: 1.4478 - accuracy: 0.4407 - disparity: 0.2167 - max_accuracy: 0.5272 - min_accuracy: 0.3105 - val_loss: 25.4975 - val_accuracy: 0.4403 - val_disparity: 0.5045 - val_max_accuracy: 0.8095 - val_min_accuracy: 0.3050\n",
      "Epoch 2/20\n",
      "111/111 [==============================] - 92s 829ms/step - loss: 1.0279 - accuracy: 0.5839 - disparity: 0.3521 - max_accuracy: 0.7567 - min_accuracy: 0.4046 - val_loss: 2.2477 - val_accuracy: 0.6191 - val_disparity: 0.4100 - val_max_accuracy: 0.8438 - val_min_accuracy: 0.4337\n",
      "Epoch 3/20\n",
      "111/111 [==============================] - 90s 812ms/step - loss: 0.8711 - accuracy: 0.6502 - disparity: 0.3075 - max_accuracy: 0.8015 - min_accuracy: 0.4940 - val_loss: 1.0522 - val_accuracy: 0.6271 - val_disparity: 0.2984 - val_max_accuracy: 0.7757 - val_min_accuracy: 0.4773\n",
      "Epoch 4/20\n",
      "111/111 [==============================] - 89s 803ms/step - loss: 0.6912 - accuracy: 0.7206 - disparity: 0.2714 - max_accuracy: 0.8719 - min_accuracy: 0.6005 - val_loss: 0.9083 - val_accuracy: 0.6455 - val_disparity: 0.2597 - val_max_accuracy: 0.7375 - val_min_accuracy: 0.4779\n",
      "Epoch 5/20\n",
      "111/111 [==============================] - 91s 818ms/step - loss: 0.5651 - accuracy: 0.7645 - disparity: 0.2648 - max_accuracy: 0.9050 - min_accuracy: 0.6402 - val_loss: 0.9949 - val_accuracy: 0.6350 - val_disparity: 0.3339 - val_max_accuracy: 0.7857 - val_min_accuracy: 0.4518\n",
      "Epoch 6/20\n",
      "111/111 [==============================] - 89s 803ms/step - loss: 0.4593 - accuracy: 0.8143 - disparity: 0.2107 - max_accuracy: 0.9296 - min_accuracy: 0.7189 - val_loss: 0.8486 - val_accuracy: 0.6601 - val_disparity: 0.3925 - val_max_accuracy: 0.8901 - val_min_accuracy: 0.4976\n",
      "Epoch 7/20\n",
      "111/111 [==============================] - 89s 800ms/step - loss: 0.3419 - accuracy: 0.8740 - disparity: 0.1517 - max_accuracy: 0.9579 - min_accuracy: 0.8062 - val_loss: 1.1066 - val_accuracy: 0.6244 - val_disparity: 0.3686 - val_max_accuracy: 0.8957 - val_min_accuracy: 0.5271\n",
      "Epoch 8/20\n",
      "111/111 [==============================] - 88s 796ms/step - loss: 0.3296 - accuracy: 0.8746 - disparity: 0.1402 - max_accuracy: 0.9584 - min_accuracy: 0.8182 - val_loss: 0.9729 - val_accuracy: 0.6799 - val_disparity: 0.2406 - val_max_accuracy: 0.8141 - val_min_accuracy: 0.5734\n",
      "Epoch 9/20\n",
      "111/111 [==============================] - 89s 798ms/step - loss: 0.2838 - accuracy: 0.8922 - disparity: 0.1326 - max_accuracy: 0.9713 - min_accuracy: 0.8387 - val_loss: 1.0605 - val_accuracy: 0.6660 - val_disparity: 0.3531 - val_max_accuracy: 0.8621 - val_min_accuracy: 0.5090\n",
      "Epoch 10/20\n",
      "111/111 [==============================] - 89s 800ms/step - loss: 0.2558 - accuracy: 0.9015 - disparity: 0.1115 - max_accuracy: 0.9641 - min_accuracy: 0.8527 - val_loss: 1.3632 - val_accuracy: 0.6488 - val_disparity: 0.4145 - val_max_accuracy: 0.9316 - val_min_accuracy: 0.5171\n",
      "Epoch 11/20\n",
      "111/111 [==============================] - 88s 792ms/step - loss: 0.2514 - accuracy: 0.9086 - disparity: 0.1072 - max_accuracy: 0.9588 - min_accuracy: 0.8516 - val_loss: 1.0791 - val_accuracy: 0.6983 - val_disparity: 0.2717 - val_max_accuracy: 0.8416 - val_min_accuracy: 0.5699\n",
      "Epoch 12/20\n",
      "111/111 [==============================] - 89s 798ms/step - loss: 0.2978 - accuracy: 0.8854 - disparity: 0.1246 - max_accuracy: 0.9511 - min_accuracy: 0.8265 - val_loss: 1.1391 - val_accuracy: 0.6568 - val_disparity: 0.2888 - val_max_accuracy: 0.8304 - val_min_accuracy: 0.5415\n",
      "Epoch 13/20\n",
      "111/111 [==============================] - 91s 820ms/step - loss: 0.2646 - accuracy: 0.8990 - disparity: 0.0947 - max_accuracy: 0.9549 - min_accuracy: 0.8601 - val_loss: 1.0050 - val_accuracy: 0.6865 - val_disparity: 0.2882 - val_max_accuracy: 0.8514 - val_min_accuracy: 0.5632\n",
      "Epoch 14/20\n",
      "111/111 [==============================] - 90s 814ms/step - loss: 0.1973 - accuracy: 0.9261 - disparity: 0.0751 - max_accuracy: 0.9672 - min_accuracy: 0.8921 - val_loss: 1.1362 - val_accuracy: 0.6733 - val_disparity: 0.3425 - val_max_accuracy: 0.8586 - val_min_accuracy: 0.5161\n",
      "Epoch 15/20\n",
      "111/111 [==============================] - 88s 795ms/step - loss: 0.1705 - accuracy: 0.9341 - disparity: 0.0803 - max_accuracy: 0.9783 - min_accuracy: 0.8981 - val_loss: 1.1028 - val_accuracy: 0.6838 - val_disparity: 0.3255 - val_max_accuracy: 0.8600 - val_min_accuracy: 0.5345\n",
      "Epoch 16/20\n",
      "111/111 [==============================] - 89s 800ms/step - loss: 0.2044 - accuracy: 0.9244 - disparity: 0.0808 - max_accuracy: 0.9641 - min_accuracy: 0.8834 - val_loss: 1.2259 - val_accuracy: 0.6766 - val_disparity: 0.3781 - val_max_accuracy: 0.8923 - val_min_accuracy: 0.5142\n",
      "Epoch 17/20\n",
      "111/111 [==============================] - 89s 804ms/step - loss: 0.1725 - accuracy: 0.9298 - disparity: 0.0720 - max_accuracy: 0.9683 - min_accuracy: 0.8963 - val_loss: 1.1665 - val_accuracy: 0.6673 - val_disparity: 0.3360 - val_max_accuracy: 0.8810 - val_min_accuracy: 0.5450\n",
      "Epoch 18/20\n",
      "111/111 [==============================] - 89s 803ms/step - loss: 0.1444 - accuracy: 0.9442 - disparity: 0.0811 - max_accuracy: 0.9852 - min_accuracy: 0.9041 - val_loss: 1.1636 - val_accuracy: 0.6700 - val_disparity: 0.2578 - val_max_accuracy: 0.8061 - val_min_accuracy: 0.5483\n",
      "Epoch 19/20\n",
      "111/111 [==============================] - 87s 786ms/step - loss: 0.1393 - accuracy: 0.9539 - disparity: 0.0618 - max_accuracy: 0.9808 - min_accuracy: 0.9190 - val_loss: 1.2713 - val_accuracy: 0.6851 - val_disparity: 0.2363 - val_max_accuracy: 0.8350 - val_min_accuracy: 0.5987\n",
      "Epoch 20/20\n",
      "111/111 [==============================] - 88s 798ms/step - loss: 0.1739 - accuracy: 0.9391 - disparity: 0.0568 - max_accuracy: 0.9630 - min_accuracy: 0.9062 - val_loss: 1.2166 - val_accuracy: 0.6766 - val_disparity: 0.2427 - val_max_accuracy: 0.8227 - val_min_accuracy: 0.5800\n",
      "saving model at ./models/test/base/model_age.h5\n"
     ]
    }
   ],
   "source": [
    "# train model\n",
    "mymodel.fit(index=2, model=initializeModel(), epochs=20, save=True, save_location='./models/test/base/')"
   ]
  },
  {
   "cell_type": "markdown",
   "id": "6527b5ae",
   "metadata": {},
   "source": [
    "## Evaluate the Model\n",
    "\n",
    "We now evaluate the model on the test data. To do this, let's first load up that data and structure it similarly."
   ]
  },
  {
   "cell_type": "code",
   "execution_count": 4,
   "id": "43ab27c7",
   "metadata": {},
   "outputs": [
    {
     "name": "stdout",
     "output_type": "stream",
     "text": [
      "Converting test labels to np array\n"
     ]
    },
    {
     "ename": "NameError",
     "evalue": "name 'lbs' is not defined",
     "output_type": "error",
     "traceback": [
      "\u001b[1;31m---------------------------------------------------------------------------\u001b[0m",
      "\u001b[1;31mNameError\u001b[0m                                 Traceback (most recent call last)",
      "Input \u001b[1;32mIn [4]\u001b[0m, in \u001b[0;36m<cell line: 8>\u001b[1;34m()\u001b[0m\n\u001b[0;32m      7\u001b[0m testY \u001b[38;5;241m=\u001b[39m []\n\u001b[0;32m      8\u001b[0m \u001b[38;5;28;01mfor\u001b[39;00m i \u001b[38;5;129;01min\u001b[39;00m \u001b[38;5;28mrange\u001b[39m(\u001b[38;5;241m3\u001b[39m):\n\u001b[1;32m----> 9\u001b[0m     lab \u001b[38;5;241m=\u001b[39m \u001b[43mlbs\u001b[49m[i]\u001b[38;5;241m.\u001b[39mfit_transform(df_test[cat[i]])\n\u001b[0;32m     10\u001b[0m     \u001b[38;5;28;01mif\u001b[39;00m lab\u001b[38;5;241m.\u001b[39mshape[\u001b[38;5;241m1\u001b[39m]\u001b[38;5;241m==\u001b[39m\u001b[38;5;241m1\u001b[39m:\n\u001b[0;32m     11\u001b[0m         testY\u001b[38;5;241m.\u001b[39mappend(np\u001b[38;5;241m.\u001b[39mhstack((\u001b[38;5;241m1\u001b[39m\u001b[38;5;241m-\u001b[39mlab,lab)))\n",
      "\u001b[1;31mNameError\u001b[0m: name 'lbs' is not defined"
     ]
    }
   ],
   "source": [
    "# load labels data\n",
    "TESTPATH = './test/'\n",
    "df_test = pd.read_csv(TESTPATH+'labels.csv')\n",
    "\n",
    "# Convert labels to np array\n",
    "print(\"Converting test labels to np array\")\n",
    "testY = []\n",
    "for i in range(3):\n",
    "    lab = lbs[i].fit_transform(df_test[cat[i]])\n",
    "    if lab.shape[1]==1:\n",
    "        testY.append(np.hstack((1-lab,lab)))\n",
    "    else:\n",
    "        testY.append(lab)\n",
    "        \n",
    "# load and convert images into np array\n",
    "print(\"Loading test images\")\n",
    "nt = df_test.shape[0]\n",
    "all_imgs = [image.load_img(TESTPATH+df_test.iloc[i]['name'], target_size=(length,width)) for i in range(nt)]\n",
    "\n",
    "print(\"Converting test images to np array\")\n",
    "testX = np.empty([nt, length, width, 3], dtype=float)\n",
    "for i in range(nt):\n",
    "    testX[i,:] = image.img_to_array(all_imgs[i])\n",
    "testX = K.applications.resnet50.preprocess_input(testX)"
   ]
  },
  {
   "cell_type": "code",
   "execution_count": 5,
   "id": "40c7c605-ab8a-4daf-91b1-207f5980b527",
   "metadata": {},
   "outputs": [],
   "source": [
    "face_indices = df_test['real_face'] == 1\n",
    "fake_indices = df_test['real_face'] != 1"
   ]
  },
  {
   "cell_type": "markdown",
   "id": "42c46e26-9e9c-4df8-81dc-51c9148eaedc",
   "metadata": {},
   "source": [
    "We also need to reload the model:"
   ]
  },
  {
   "cell_type": "code",
   "execution_count": 40,
   "id": "5339ea8d-5049-4e1f-8518-2bad9686beb5",
   "metadata": {},
   "outputs": [
    {
     "ename": "TypeError",
     "evalue": "__init__() missing 1 required positional argument: 'num_classes'",
     "output_type": "error",
     "traceback": [
      "\u001b[1;31m---------------------------------------------------------------------------\u001b[0m",
      "\u001b[1;31mTypeError\u001b[0m                                 Traceback (most recent call last)",
      "Input \u001b[1;32mIn [40]\u001b[0m, in \u001b[0;36m<cell line: 5>\u001b[1;34m()\u001b[0m\n\u001b[0;32m      4\u001b[0m custom_objects \u001b[38;5;241m=\u001b[39m {\u001b[38;5;124m\"\u001b[39m\u001b[38;5;124mCategoricalDisparity\u001b[39m\u001b[38;5;124m\"\u001b[39m: CategoricalDisparity, \u001b[38;5;124m\"\u001b[39m\u001b[38;5;124mCategoricalMaxAccuracy\u001b[39m\u001b[38;5;124m\"\u001b[39m: CategoricalMaxAccuracy, \u001b[38;5;124m\"\u001b[39m\u001b[38;5;124mCategoricalMinAccuracy\u001b[39m\u001b[38;5;124m\"\u001b[39m:CategoricalMinAccuracy}\n\u001b[0;32m      5\u001b[0m \u001b[38;5;28;01mfor\u001b[39;00m i \u001b[38;5;129;01min\u001b[39;00m \u001b[38;5;28mrange\u001b[39m(\u001b[38;5;241m3\u001b[39m):\n\u001b[1;32m----> 6\u001b[0m     models[i] \u001b[38;5;241m=\u001b[39m \u001b[43mK\u001b[49m\u001b[38;5;241;43m.\u001b[39;49m\u001b[43mmodels\u001b[49m\u001b[38;5;241;43m.\u001b[39;49m\u001b[43mload_model\u001b[49m\u001b[43m(\u001b[49m\u001b[38;5;124;43m'\u001b[39;49m\u001b[38;5;124;43m./models/test/base/\u001b[39;49m\u001b[38;5;124;43m'\u001b[39;49m\u001b[43m \u001b[49m\u001b[38;5;241;43m+\u001b[39;49m\u001b[43m \u001b[49m\u001b[38;5;124;43m'\u001b[39;49m\u001b[38;5;124;43mmodel_\u001b[39;49m\u001b[38;5;124;43m'\u001b[39;49m\u001b[38;5;241;43m+\u001b[39;49m\u001b[43mcat\u001b[49m\u001b[43m[\u001b[49m\u001b[43mi\u001b[49m\u001b[43m]\u001b[49m\u001b[38;5;241;43m+\u001b[39;49m\u001b[38;5;124;43m'\u001b[39;49m\u001b[38;5;124;43m.h5\u001b[39;49m\u001b[38;5;124;43m'\u001b[39;49m\u001b[43m,\u001b[49m\u001b[43m \u001b[49m\u001b[43mcustom_objects\u001b[49m\u001b[38;5;241;43m=\u001b[39;49m\u001b[43mcustom_objects\u001b[49m\u001b[43m)\u001b[49m\n\u001b[0;32m      7\u001b[0m     pred[i] \u001b[38;5;241m=\u001b[39m models[i]\u001b[38;5;241m.\u001b[39mpredict(testX[i])    \n\u001b[0;32m      9\u001b[0m     predY \u001b[38;5;241m=\u001b[39m [[np\u001b[38;5;241m.\u001b[39margmax(pred[i][j,:]) \u001b[38;5;28;01mfor\u001b[39;00m j \u001b[38;5;129;01min\u001b[39;00m \u001b[38;5;28mrange\u001b[39m(nt)] \u001b[38;5;28;01mfor\u001b[39;00m i \u001b[38;5;129;01min\u001b[39;00m \u001b[38;5;28mrange\u001b[39m(\u001b[38;5;241m3\u001b[39m)]\n",
      "File \u001b[1;32m~\\anaconda3\\lib\\site-packages\\keras\\utils\\traceback_utils.py:70\u001b[0m, in \u001b[0;36mfilter_traceback.<locals>.error_handler\u001b[1;34m(*args, **kwargs)\u001b[0m\n\u001b[0;32m     67\u001b[0m     filtered_tb \u001b[38;5;241m=\u001b[39m _process_traceback_frames(e\u001b[38;5;241m.\u001b[39m__traceback__)\n\u001b[0;32m     68\u001b[0m     \u001b[38;5;66;03m# To get the full stack trace, call:\u001b[39;00m\n\u001b[0;32m     69\u001b[0m     \u001b[38;5;66;03m# `tf.debugging.disable_traceback_filtering()`\u001b[39;00m\n\u001b[1;32m---> 70\u001b[0m     \u001b[38;5;28;01mraise\u001b[39;00m e\u001b[38;5;241m.\u001b[39mwith_traceback(filtered_tb) \u001b[38;5;28;01mfrom\u001b[39;00m \u001b[38;5;28mNone\u001b[39m\n\u001b[0;32m     71\u001b[0m \u001b[38;5;28;01mfinally\u001b[39;00m:\n\u001b[0;32m     72\u001b[0m     \u001b[38;5;28;01mdel\u001b[39;00m filtered_tb\n",
      "File \u001b[1;32m~\\anaconda3\\lib\\site-packages\\keras\\engine\\base_layer.py:860\u001b[0m, in \u001b[0;36mLayer.from_config\u001b[1;34m(cls, config)\u001b[0m\n\u001b[0;32m    844\u001b[0m \u001b[38;5;129m@classmethod\u001b[39m\n\u001b[0;32m    845\u001b[0m \u001b[38;5;28;01mdef\u001b[39;00m \u001b[38;5;21mfrom_config\u001b[39m(\u001b[38;5;28mcls\u001b[39m, config):\n\u001b[0;32m    846\u001b[0m     \u001b[38;5;124;03m\"\"\"Creates a layer from its config.\u001b[39;00m\n\u001b[0;32m    847\u001b[0m \n\u001b[0;32m    848\u001b[0m \u001b[38;5;124;03m    This method is the reverse of `get_config`,\u001b[39;00m\n\u001b[1;32m   (...)\u001b[0m\n\u001b[0;32m    858\u001b[0m \u001b[38;5;124;03m        A layer instance.\u001b[39;00m\n\u001b[0;32m    859\u001b[0m \u001b[38;5;124;03m    \"\"\"\u001b[39;00m\n\u001b[1;32m--> 860\u001b[0m     \u001b[38;5;28;01mreturn\u001b[39;00m \u001b[38;5;28mcls\u001b[39m(\u001b[38;5;241m*\u001b[39m\u001b[38;5;241m*\u001b[39mconfig)\n",
      "\u001b[1;31mTypeError\u001b[0m: __init__() missing 1 required positional argument: 'num_classes'"
     ]
    }
   ],
   "source": [
    "loaded_models = [[],[],[]]\n",
    "pred = [[],[],[]]\n",
    "\n",
    "custom_objects = {\"CategoricalDisparity\": CategoricalDisparity, \"CategoricalMaxAccuracy\": CategoricalMaxAccuracy, \"CategoricalMinAccuracy\":CategoricalMinAccuracy}\n",
    "for i in range(3):\n",
    "    models[i] = K.models.load_model('./models/test/base/' + 'model_'+cat[i]+'.h5', custom_objects=custom_objects)\n",
    "    pred[i] = models[i].predict(testX[i])    \n",
    "    \n",
    "    predY = [[np.argmax(pred[i][j,:]) for j in range(nt)] for i in range(3)]"
   ]
  },
  {
   "cell_type": "markdown",
   "id": "b07ee94e",
   "metadata": {},
   "source": [
    "We then obtain predicted labels for skin tone, gender, and age as a list of lists."
   ]
  },
  {
   "cell_type": "code",
   "execution_count": 31,
   "id": "bf106302",
   "metadata": {},
   "outputs": [
    {
     "name": "stdout",
     "output_type": "stream",
     "text": [
      "94/94 [==============================] - 17s 170ms/step\n",
      "94/94 [==============================] - 18s 180ms/step\n",
      "94/94 [==============================] - 18s 177ms/step\n"
     ]
    }
   ],
   "source": [
    "pred = mymodel.predict(testX)\n",
    "predY = [[np.argmax(pred[i][j,:]) for j in range(nt)] for i in range(3)]\n",
    "predLabels = [[lbs[i].classes_[j] for j in predY[i]] for i in range(3)]"
   ]
  },
  {
   "cell_type": "markdown",
   "id": "3f0cf73d",
   "metadata": {},
   "source": [
    "Finally, we calculate the label-wise accuracy and disparity."
   ]
  },
  {
   "cell_type": "code",
   "execution_count": 32,
   "id": "081d5cdc",
   "metadata": {},
   "outputs": [
    {
     "data": {
      "text/plain": [
       "{'accuracy': {'skin_tone': 0.209,\n",
       "  'gender': 0.7596666666666667,\n",
       "  'age': 0.5123333333333333},\n",
       " 'disparity': {'skin_tone': 0.40904893045236335,\n",
       "  'gender': 0.08200997314921366,\n",
       "  'age': 0.24037471516583675}}"
      ]
     },
     "execution_count": 32,
     "metadata": {},
     "output_type": "execute_result"
    }
   ],
   "source": [
    "# calculate accuracy\n",
    "acc = {}\n",
    "for i in range(3):\n",
    "    icat = cat[i]\n",
    "    iacc = accuracy_score(df_test[cat[i]], predLabels[i])\n",
    "    acc[icat] = iacc\n",
    "\n",
    "true_acc = {}\n",
    "for i in range(3):\n",
    "    icat = cat[i]\n",
    "    iacc = accuracy_score(df_test[face_indices][cat[i]], predLabels[i][face_indices])\n",
    "    true_acc[icat] = iacc\n",
    "\n",
    "fake_acc = {}\n",
    "for i in range(3):\n",
    "    icat = cat[i]\n",
    "    iacc = accuracy_score(df_test[fake_indices][cat[i]], predLabels[i][fake_indices])\n",
    "    fake_acc[icat] = iacc\n",
    "\n",
    "    \n",
    "# calculate disparity\n",
    "def disparity_score(ytrue, ypred):\n",
    "    cm = confusion_matrix(ytrue,ypred)\n",
    "    cm = cm.astype('float') / cm.sum(axis=1)[:, np.newaxis]\n",
    "    all_acc = list(cm.diagonal())\n",
    "    return max(all_acc) - min(all_acc)\n",
    "\n",
    "disp = {}\n",
    "for i in range(3):\n",
    "    icat = cat[i]\n",
    "    idisp = disparity_score(df_test[cat[i]], predLabels[i])\n",
    "    disp[icat] = idisp\n",
    "disp\n",
    "\n",
    "results = {'accuracy': acc, 'disparity': disp}\n",
    "results"
   ]
  },
  {
   "cell_type": "code",
   "execution_count": null,
   "id": "6aa9d711-f406-4683-9296-dbf2a3bd3a78",
   "metadata": {},
   "outputs": [],
   "source": [
    "print({'true_accuracy': true_acc, 'fake_accuracy': fake_acc})"
   ]
  },
  {
   "cell_type": "code",
   "execution_count": 33,
   "id": "5b025eb1-6cf0-4a91-8d21-64ef27f9c385",
   "metadata": {},
   "outputs": [
    {
     "name": "stdout",
     "output_type": "stream",
     "text": [
      "skin_tone\n"
     ]
    },
    {
     "data": {
      "image/png": "[encoded data removed]",
      "text/plain": [
       "<Figure size 432x288 with 2 Axes>"
      ]
     },
     "metadata": {
      "needs_background": "light"
     },
     "output_type": "display_data"
    },
    {
     "name": "stdout",
     "output_type": "stream",
     "text": [
      "gender\n"
     ]
    },
    {
     "data": {
      "image/png": "[encoded data removed]",
      "text/plain": [
       "<Figure size 432x288 with 2 Axes>"
      ]
     },
     "metadata": {
      "needs_background": "light"
     },
     "output_type": "display_data"
    },
    {
     "name": "stdout",
     "output_type": "stream",
     "text": [
      "age\n"
     ]
    },
    {
     "data": {
      "image/png": "[encoded data removed]",
      "text/plain": [
       "<Figure size 432x288 with 2 Axes>"
      ]
     },
     "metadata": {
      "needs_background": "light"
     },
     "output_type": "display_data"
    }
   ],
   "source": [
    "import matplotlib.pyplot as plt\n",
    "\n",
    "for i in range(3):\n",
    "    labels = df[df[cat[i]].notna()][cat[i]].unique()\n",
    "    print(cat[i])\n",
    "    ConfusionMatrixDisplay(confusion_matrix(df_test[cat[i]], predLabels[i]),display_labels=labels).plot()\n",
    "    plt.show()"
   ]
  },
  {
   "cell_type": "markdown",
   "id": "f20b0fcd",
   "metadata": {},
   "source": [
    "# Score Model and Prepare Submission\n",
    "\n",
    "Based on the above metric, we now calculate the score to evaluate your submission. This score will be displayed in your public leaderboard."
   ]
  },
  {
   "cell_type": "code",
   "execution_count": 34,
   "id": "db5b9086",
   "metadata": {},
   "outputs": [
    {
     "data": {
      "text/plain": [
       "{'submission_name': 'OII Crew',\n",
       " 'score': 5.391721290559164,\n",
       " 'metrics': {'accuracy': {'skin_tone': 0.209,\n",
       "   'gender': 0.7596666666666667,\n",
       "   'age': 0.5123333333333333},\n",
       "  'disparity': {'skin_tone': 0.40904893045236335,\n",
       "   'gender': 0.08200997314921366,\n",
       "   'age': 0.24037471516583675}}}"
      ]
     },
     "execution_count": 34,
     "metadata": {},
     "output_type": "execute_result"
    }
   ],
   "source": [
    "def getScore(results):\n",
    "    acc = results['accuracy']\n",
    "    disp = results['disparity']\n",
    "    ad = 2*acc['gender']*(1-disp['gender']) + 4*acc['age']*(1-disp['age']**2) + 10*acc['skin_tone']*(1-disp['skin_tone']**5)\n",
    "    return ad\n",
    "\n",
    "title = 'OII Crew'\n",
    "    \n",
    "submission = {\n",
    "    'submission_name': title,\n",
    "    'score': getScore(results),\n",
    "    'metrics': results\n",
    "}\n",
    "\n",
    "   \n",
    "submission"
   ]
  },
  {
   "cell_type": "code",
   "execution_count": 35,
   "id": "15d57754-61bb-4438-8d13-6fb92df500cc",
   "metadata": {},
   "outputs": [
    {
     "data": {
      "text/plain": [
       "{'submission_name': 'OII Crew',\n",
       " 'score': 5.28437039172921,\n",
       " 'metrics': {'accuracy': {'skin_tone': 0.21466666666666667,\n",
       "   'gender': 0.7576666666666667,\n",
       "   'age': 0.5183333333333333},\n",
       "  'disparity': {'skin_tone': 0.34997984567545776,\n",
       "   'gender': 0.1225163022631377,\n",
       "   'age': 0.3500379778884294}}}"
      ]
     },
     "execution_count": 35,
     "metadata": {},
     "output_type": "execute_result"
    }
   ],
   "source": [
    "{'submission_name': 'OII Crew',\n",
    " 'score': 5.28437039172921,\n",
    " 'metrics': {'accuracy': {'skin_tone': 0.21466666666666667,\n",
    "   'gender': 0.7576666666666667,\n",
    "   'age': 0.5183333333333333},\n",
    "  'disparity': {'skin_tone': 0.34997984567545776,\n",
    "   'gender': 0.1225163022631377,\n",
    "   'age': 0.3500379778884294}}}"
   ]
  },
  {
   "cell_type": "markdown",
   "id": "19070a4e",
   "metadata": {},
   "source": [
    "Finally, let's export this as a json file to upload as part of filling out your [submission form](https://docs.google.com/forms/d/e/1FAIpQLSfwqtVkJBVRP6TnFp7vHbbH8SlwKZJFIjvGQy7TyYFc8HR1hw/viewform)."
   ]
  },
  {
   "cell_type": "code",
   "execution_count": 36,
   "id": "34c30e37",
   "metadata": {},
   "outputs": [],
   "source": [
    "with open(\"model_score.json\", \"w\") as f:\n",
    "    json.dump(submission, f, indent=4)"
   ]
  }
 ],
 "metadata": {
  "kernelspec": {
   "display_name": "Python 3 (ipykernel)",
   "language": "python",
   "name": "python3"
  },
  "language_info": {
   "codemirror_mode": {
    "name": "ipython",
    "version": 3
   },
   "file_extension": ".py",
   "mimetype": "text/x-python",
   "name": "python",
   "nbconvert_exporter": "python",
   "pygments_lexer": "ipython3",
   "version": "3.9.12"
  }
 },
 "nbformat": 4,
 "nbformat_minor": 5
}

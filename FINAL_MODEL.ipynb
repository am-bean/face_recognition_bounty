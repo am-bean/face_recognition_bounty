{
  "cells": [
    {
      "cell_type": "markdown",
      "id": "bd235fb0",
      "metadata": {
        "id": "bd235fb0"
      },
      "source": [
        "# Bias Buccaneers Image Recognition Challenge: Quickstart\n",
        "\n",
        "This notebook will introduce you to the data and describe a workflow to train and evaluate a baseline model on it."
      ]
    },
    {
      "cell_type": "markdown",
      "id": "ad57b0b7",
      "metadata": {
        "id": "ad57b0b7"
      },
      "source": [
        "## Initial Setup\n",
        "\n",
        "We start with loading the required packages."
      ]
    },
    {
      "cell_type": "code",
      "execution_count": 1,
      "id": "2454f20e",
      "metadata": {
        "id": "2454f20e"
      },
      "outputs": [],
      "source": [
        "# !pip install tensorflow\n",
        "import numpy as np\n",
        "import pandas as pd\n",
        "import json\n",
        "import os\n",
        "\n",
        "from sklearn.preprocessing import LabelBinarizer\n",
        "from sklearn.model_selection import train_test_split\n",
        "from sklearn.metrics import accuracy_score, confusion_matrix, ConfusionMatrixDisplay\n",
        "\n",
        "import tensorflow as tf\n",
        "import tensorflow.keras as K\n",
        "from tensorflow.keras.preprocessing import image\n",
        "from tensorflow.keras.applications.resnet50 import ResNet50"
      ]
    },
    {
      "cell_type": "code",
      "source": [
        "import tensorflow as tf\n",
        "device_name = tf.test.gpu_device_name()\n",
        "if device_name != '/device:GPU:0':\n",
        "  raise SystemError('GPU device not found')\n",
        "print('Found GPU at: {}'.format(device_name))"
      ],
      "metadata": {
        "colab": {
          "base_uri": "https://localhost:8080/"
        },
        "id": "R-S0NiG6KUfl",
        "outputId": "2898c816-4bc2-4021-ec0e-b72686de3f5c"
      },
      "id": "R-S0NiG6KUfl",
      "execution_count": 2,
      "outputs": [
        {
          "output_type": "stream",
          "name": "stdout",
          "text": [
            "Found GPU at: /device:GPU:0\n"
          ]
        }
      ]
    },
    {
      "cell_type": "code",
      "source": [
        "from google.colab import drive\n",
        "drive.mount('/content/drive')"
      ],
      "metadata": {
        "colab": {
          "base_uri": "https://localhost:8080/"
        },
        "id": "5aJShv9mG470",
        "outputId": "073c8d38-822e-491c-ed17-734454461ed6"
      },
      "id": "5aJShv9mG470",
      "execution_count": 16,
      "outputs": [
        {
          "output_type": "stream",
          "name": "stdout",
          "text": [
            "Drive already mounted at /content/drive; to attempt to forcibly remount, call drive.mount(\"/content/drive\", force_remount=True).\n"
          ]
        }
      ]
    },
    {
      "cell_type": "markdown",
      "id": "cdf14ba8",
      "metadata": {
        "id": "cdf14ba8"
      },
      "source": [
        "## Specify the Model\n",
        "\n",
        "We define a single model class that is able train on the data in `X` and `Y` and predict outcomes for all three classes."
      ]
    },
    {
      "cell_type": "markdown",
      "source": [
        "### Custom Metrics"
      ],
      "metadata": {
        "id": "LU4uEtYouwfk"
      },
      "id": "LU4uEtYouwfk"
    },
    {
      "cell_type": "code",
      "execution_count": 3,
      "id": "14e09453-9177-4847-a6e2-9cf88813101f",
      "metadata": {
        "id": "14e09453-9177-4847-a6e2-9cf88813101f"
      },
      "outputs": [],
      "source": [
        "class CategoricalDisparity(tf.keras.metrics.Metric):\n",
        "\n",
        "    def __init__(self, num_classes, name=\"disparity\", **kwargs):\n",
        "        super(CategoricalDisparity, self).__init__(name=name, **kwargs)\n",
        "\n",
        "        self.num_classes = num_classes    \n",
        "\n",
        "        self.acc_max = self.add_weight(name=\"max\", initializer=\"zeros\")\n",
        "        self.acc_min = self.add_weight(name=\"min\", initializer=\"zeros\")\n",
        "\n",
        "        self.cm = self.add_weight(name=\"cm\", shape=[num_classes,num_classes], initializer=\"zeros\")\n",
        "        \n",
        "    def update_state(self, y_true, y_pred, sample_weight=None):     \n",
        "\n",
        "        y_true = K.backend.argmax(y_true, axis=-1)\n",
        "        y_pred = K.backend.argmax(y_pred, axis=-1)\n",
        "        y_true = K.backend.flatten(y_true)\n",
        "\n",
        "        new_cm = tf.math.confusion_matrix(y_true,y_pred, num_classes = self.num_classes, dtype=tf.float32)\n",
        "        \n",
        "        if (K.backend.int_shape(new_cm) == (self.num_classes, self.num_classes)) and (self.num_classes > 0):\n",
        "            self.cm.assign_add(new_cm)\n",
        "        row_sum = K.backend.sum(self.cm, axis=0)\n",
        "        diag = K.backend.cast(tf.linalg.diag_part(self.cm), dtype=tf.float32)\n",
        "        accuracies = diag / row_sum\n",
        "        acc_max = K.backend.max(accuracies)\n",
        "        acc_min = K.backend.min(accuracies)\n",
        "        \n",
        "        self.acc_max.assign(acc_max)\n",
        "        self.acc_min.assign(acc_min)\n",
        "        \n",
        "    def result(self):\n",
        "        return self.acc_max - self.acc_min\n",
        "    \n",
        "    def reset_state(self):\n",
        "        self.acc_max.assign(0)\n",
        "        self.acc_min.assign(0)\n",
        "        self.cm.assign(np.zeros([self.num_classes, self.num_classes], dtype=np.float32))\n",
        "        \n",
        "    def get_config(self):\n",
        "        config = {'num_classes': self.num_classes}\n",
        "        base_config = super(CategoricalDisparity, self).get_config()\n",
        "        return dict(list(base_config.items()) + list(config.items()))"
      ]
    },
    {
      "cell_type": "code",
      "source": [
        "class CategoricalDisparityScore(tf.keras.metrics.Metric):\n",
        "\n",
        "    def __init__(self, num_classes, name=\"disparity_score\", **kwargs):\n",
        "        super(CategoricalDisparityScore, self).__init__(name=name, **kwargs)\n",
        "\n",
        "        self.num_classes = num_classes    \n",
        "\n",
        "        self.acc_max = self.add_weight(name=\"max\", initializer=\"zeros\")\n",
        "        self.acc_min = self.add_weight(name=\"min\", initializer=\"zeros\")\n",
        "        self.score = self.add_weight(name=\"score\", initializer=\"zeros\")\n",
        "\n",
        "        self.cm = self.add_weight(name=\"cm\", shape=[num_classes,num_classes], initializer=\"zeros\")\n",
        "        \n",
        "    def update_state(self, y_true, y_pred, sample_weight=None):     \n",
        "\n",
        "        y_true = K.backend.argmax(y_true, axis=-1)\n",
        "        y_pred = K.backend.argmax(y_pred, axis=-1)\n",
        "        y_true = K.backend.flatten(y_true)\n",
        "\n",
        "        new_cm = tf.math.confusion_matrix(y_true,y_pred, num_classes = self.num_classes, dtype=tf.float32)\n",
        "        \n",
        "        if (K.backend.int_shape(new_cm) == (self.num_classes, self.num_classes)) and (self.num_classes > 0):\n",
        "            self.cm.assign_add(new_cm)\n",
        "        row_sum = K.backend.sum(self.cm, axis=0)\n",
        "        diag = K.backend.cast(tf.linalg.diag_part(self.cm), dtype=tf.float32)\n",
        "        accuracies = diag / row_sum\n",
        "        acc_max = K.backend.max(accuracies)\n",
        "        acc_min = K.backend.min(accuracies)\n",
        "        \n",
        "        acc = K.backend.sum(diag)/K.backend.sum(self.cm)\n",
        "\n",
        "        self.acc_max.assign(acc_max)\n",
        "        self.acc_min.assign(acc_min)\n",
        "        \n",
        "        if (self.num_classes == 2):\n",
        "          weight = 2\n",
        "          penalty = 1\n",
        "        elif (self.num_classes== 10):\n",
        "          weight = 10\n",
        "          penalty = 5\n",
        "        else: \n",
        "          weight = 4\n",
        "          penalty = 2\n",
        "\n",
        "        self.score.assign(weight * acc * (1 - (self.acc_max - self.acc_min)**penalty))\n",
        "\n",
        "    def result(self):\n",
        "        return self.score\n",
        "    \n",
        "    def reset_state(self):\n",
        "        self.acc_max.assign(0)\n",
        "        self.acc_min.assign(0)\n",
        "        self.score.assign(0)\n",
        "        self.cm.assign(np.zeros([self.num_classes, self.num_classes], dtype=np.float32))\n",
        "        \n",
        "    def get_config(self):\n",
        "        config = {'num_classes': self.num_classes}\n",
        "        base_config = super(CategoricalDisparityScore, self).get_config()\n",
        "        return dict(list(base_config.items()) + list(config.items()))"
      ],
      "metadata": {
        "id": "trJftScUvVT0"
      },
      "id": "trJftScUvVT0",
      "execution_count": 4,
      "outputs": []
    },
    {
      "cell_type": "code",
      "execution_count": 5,
      "id": "e8e3c11d-d0dd-494c-83f6-de762033f036",
      "metadata": {
        "id": "e8e3c11d-d0dd-494c-83f6-de762033f036"
      },
      "outputs": [],
      "source": [
        "class CategoricalMaxAccuracy(tf.keras.metrics.Metric):\n",
        "\n",
        "    def __init__(self, num_classes, name=\"max_accuracy\", **kwargs):\n",
        "        super(CategoricalMaxAccuracy, self).__init__(name=name, **kwargs)\n",
        "\n",
        "        self.num_classes = num_classes    \n",
        "\n",
        "        self.acc_max = self.add_weight(name=\"max\", initializer=\"zeros\")\n",
        "        self.acc_min = self.add_weight(name=\"min\", initializer=\"zeros\")\n",
        "\n",
        "        self.cm = self.add_weight(name=\"cm\", shape=[num_classes,num_classes], initializer=\"zeros\")\n",
        "        \n",
        "    def update_state(self, y_true, y_pred, sample_weight=None):     \n",
        "\n",
        "        y_true = K.backend.argmax(y_true, axis=-1)\n",
        "        y_pred = K.backend.argmax(y_pred, axis=-1)\n",
        "        y_true = K.backend.flatten(y_true)\n",
        "\n",
        "        new_cm = tf.math.confusion_matrix(y_true,y_pred, num_classes = self.num_classes, dtype=tf.float32)\n",
        "        \n",
        "        if (K.backend.int_shape(new_cm) == (self.num_classes, self.num_classes)) and (self.num_classes > 0):\n",
        "            self.cm.assign_add(new_cm)\n",
        "        row_sum = K.backend.sum(self.cm, axis=0)\n",
        "        diag = K.backend.cast(tf.linalg.diag_part(self.cm), dtype=tf.float32)\n",
        "        accuracies = diag / row_sum\n",
        "        acc_max = K.backend.max(accuracies)\n",
        "        acc_min = K.backend.min(accuracies)\n",
        "        \n",
        "        self.acc_max.assign(acc_max)\n",
        "        self.acc_min.assign(acc_min)\n",
        "        \n",
        "    def result(self):\n",
        "        return self.acc_max\n",
        "    \n",
        "    def reset_state(self):\n",
        "        self.acc_max.assign(0)\n",
        "        self.acc_min.assign(0)\n",
        "        self.cm.assign(np.zeros([self.num_classes, self.num_classes], dtype=np.float32))\n",
        "        \n",
        "    def get_config(self):\n",
        "        config = {'num_classes': self.num_classes}\n",
        "        base_config = super(CategoricalMaxAccuracy, self).get_config()\n",
        "        return dict(list(base_config.items()) + list(config.items()))"
      ]
    },
    {
      "cell_type": "code",
      "execution_count": 6,
      "id": "c0bb456b-f109-4d03-adb4-c1bc35d5ffe5",
      "metadata": {
        "id": "c0bb456b-f109-4d03-adb4-c1bc35d5ffe5"
      },
      "outputs": [],
      "source": [
        "class CategoricalMinAccuracy(tf.keras.metrics.Metric):\n",
        "\n",
        "    def __init__(self, num_classes, name=\"min_accuracy\", **kwargs):\n",
        "        super(CategoricalMinAccuracy, self).__init__(name=name, **kwargs)\n",
        "\n",
        "        self.num_classes = num_classes    \n",
        "\n",
        "        self.acc_max = self.add_weight(name=\"max\", initializer=\"zeros\")\n",
        "        self.acc_min = self.add_weight(name=\"min\", initializer=\"zeros\")\n",
        "\n",
        "        self.cm = self.add_weight(name=\"cm\", shape=[num_classes,num_classes], initializer=\"zeros\")\n",
        "        \n",
        "    def update_state(self, y_true, y_pred, sample_weight=None):     \n",
        "\n",
        "        y_true = K.backend.argmax(y_true, axis=-1)\n",
        "        y_pred = K.backend.argmax(y_pred, axis=-1)\n",
        "        y_true = K.backend.flatten(y_true)\n",
        "\n",
        "        new_cm = tf.math.confusion_matrix(y_true,y_pred, num_classes = self.num_classes, dtype=tf.float32)\n",
        "        \n",
        "        self.cm.assign_add(new_cm)\n",
        "        row_sum = K.backend.sum(self.cm, axis=0)\n",
        "        diag = K.backend.cast(tf.linalg.diag_part(self.cm), dtype=tf.float32)\n",
        "        accuracies = diag / row_sum\n",
        "        acc_max = K.backend.max(accuracies)\n",
        "        acc_min = K.backend.min(accuracies)\n",
        "        \n",
        "        self.acc_max.assign(acc_max)\n",
        "        self.acc_min.assign(acc_min)\n",
        "        \n",
        "    def result(self):\n",
        "        return self.acc_min\n",
        "    \n",
        "    def reset_state(self):\n",
        "        self.acc_max.assign(0)\n",
        "        self.acc_min.assign(0)\n",
        "        self.cm.assign(np.zeros([self.num_classes, self.num_classes], dtype=np.float32))\n",
        "        \n",
        "    def get_config(self):\n",
        "        config = {'num_classes': self.num_classes}\n",
        "        base_config = super(CategoricalMinAccuracy, self).get_config()\n",
        "        return dict(list(base_config.items()) + list(config.items()))"
      ]
    },
    {
      "cell_type": "code",
      "execution_count": 9,
      "id": "40c55abe",
      "metadata": {
        "id": "40c55abe"
      },
      "outputs": [],
      "source": [
        "class PredictionModel():\n",
        "    def __init__(self):\n",
        "        self.models = [None]*3\n",
        "        self.face_model = [None]\n",
        "\n",
        "    def load(self, folder='/content/drive/MyDrive/face_bounty/models/', paths=['skin_tone.h5','gender.h5','age.h5'], face_path='face_detect.h5'):\n",
        "        custom_objects={\"CategoricalDisparity\": CategoricalDisparity,\n",
        "                  \"CategoricalDisparityScore\": CategoricalDisparityScore,\n",
        "                  \"CategoricalMinAccuracy\": CategoricalMinAccuracy,\n",
        "                  \"CategoricalMaxAccuracy\": CategoricalMaxAccuracy,\n",
        "                  }\n",
        "        for i in range(3):\n",
        "           self.models[i] = K.models.load_model(folder+paths[i], custom_objects=custom_objects)\n",
        "\n",
        "        self.face_model[0] = K.models.load_model(folder+face_path)\n",
        "\n",
        "        \n",
        "    def predict(self, newX):\n",
        "        face_detect = self.face_model[0].predict(newX)\n",
        "        faces = np.argmax(face_detect,axis=1)\n",
        "        predictions = [np.argmax(model.predict(newX),axis=1) for model in self.models]\n",
        "        num_classes = [10,2,4]\n",
        "        clean_preds = []\n",
        "        for i in range(3):\n",
        "          clean_preds.append([np.random.randint(num_classes[i]) if (faces[j] == 0) else predictions[i][j] for j in range(predictions[i].shape[0])])\n",
        "        return clean_preds"
      ]
    },
    {
      "cell_type": "markdown",
      "source": [
        "## Reload Model from Saved File\n"
      ],
      "metadata": {
        "id": "wTKSeUDw4r1n"
      },
      "id": "wTKSeUDw4r1n"
    },
    {
      "cell_type": "code",
      "source": [
        "loadmodel = PredictionModel()"
      ],
      "metadata": {
        "id": "Tw4FUE-O5VpA"
      },
      "id": "Tw4FUE-O5VpA",
      "execution_count": 13,
      "outputs": []
    },
    {
      "cell_type": "code",
      "source": [
        "loadmodel.load(folder = '/content/drive/MyDrive/face_bounty/models/')"
      ],
      "metadata": {
        "id": "C4wxSzoK6-5_"
      },
      "id": "C4wxSzoK6-5_",
      "execution_count": 14,
      "outputs": []
    },
    {
      "cell_type": "markdown",
      "id": "6527b5ae",
      "metadata": {
        "id": "6527b5ae"
      },
      "source": [
        "## Evaluate the Model\n",
        "\n",
        "We now evaluate the model on the test data. To do this, let's first load up that data and structure it similarly."
      ]
    },
    {
      "cell_type": "code",
      "execution_count": 19,
      "id": "43ab27c7",
      "metadata": {
        "id": "43ab27c7",
        "colab": {
          "base_uri": "https://localhost:8080/"
        },
        "outputId": "b0b547b2-34be-4f2a-cc63-7867ed71f6da"
      },
      "outputs": [
        {
          "output_type": "stream",
          "name": "stdout",
          "text": [
            "Converting test labels to np array\n",
            "Loading test images\n",
            "Converting test images to np array\n"
          ]
        }
      ],
      "source": [
        "# load labels data\n",
        "TESTPATH = './test/'\n",
        "df_test = pd.read_csv(TESTPATH+'labels.csv')\n",
        "\n",
        "cat = ['skin_tone','gender','age']\n",
        "lbs = [LabelBinarizer() for i in range(3)]\n",
        "\n",
        "length = width = 64\n",
        "\n",
        "# Convert labels to np array\n",
        "print(\"Converting test labels to np array\")\n",
        "testY = []\n",
        "for i in range(3):\n",
        "    lab = lbs[i].fit_transform(df_test[cat[i]])\n",
        "    if lab.shape[1]==1:\n",
        "        testY.append(np.hstack((1-lab,lab)))\n",
        "    else:\n",
        "        testY.append(lab)\n",
        "        \n",
        "# load and convert images into np array\n",
        "print(\"Loading test images\")\n",
        "nt = df_test.shape[0]\n",
        "all_imgs = [image.load_img(TESTPATH+df_test.iloc[i]['name'], target_size=(length,width)) for i in range(nt)]\n",
        "\n",
        "print(\"Converting test images to np array\")\n",
        "testX = np.empty([nt, length, width, 3], dtype=float)\n",
        "for i in range(nt):\n",
        "    testX[i,:] = image.img_to_array(all_imgs[i])\n",
        "testX = K.applications.resnet50.preprocess_input(testX)"
      ]
    },
    {
      "cell_type": "code",
      "execution_count": 20,
      "id": "40c7c605-ab8a-4daf-91b1-207f5980b527",
      "metadata": {
        "id": "40c7c605-ab8a-4daf-91b1-207f5980b527"
      },
      "outputs": [],
      "source": [
        "face_indices = df_test['real_face'][:1000] == 1\n",
        "fake_indices = df_test['real_face'][:1000] != 1"
      ]
    },
    {
      "cell_type": "markdown",
      "source": [
        "Next we predict the test data"
      ],
      "metadata": {
        "id": "SZWZJA0BxM0W"
      },
      "id": "SZWZJA0BxM0W"
    },
    {
      "cell_type": "code",
      "source": [
        "preds = loadmodel.predict(testX)"
      ],
      "metadata": {
        "colab": {
          "base_uri": "https://localhost:8080/"
        },
        "id": "ke51HnaXxONn",
        "outputId": "8b5c6415-49b6-45f4-9277-6d443c1e0c85"
      },
      "id": "ke51HnaXxONn",
      "execution_count": 22,
      "outputs": [
        {
          "output_type": "stream",
          "name": "stdout",
          "text": [
            "94/94 [==============================] - 12s 19ms/step\n",
            "94/94 [==============================] - 2s 15ms/step\n",
            "94/94 [==============================] - 2s 17ms/step\n",
            "94/94 [==============================] - 3s 16ms/step\n"
          ]
        }
      ]
    },
    {
      "cell_type": "code",
      "source": [
        "predLabels = [[lbs[i].classes_[j] for j in preds[i]] for i in range(3)]"
      ],
      "metadata": {
        "id": "fkCiZ8AwxMfy"
      },
      "id": "fkCiZ8AwxMfy",
      "execution_count": 23,
      "outputs": []
    },
    {
      "cell_type": "markdown",
      "id": "3f0cf73d",
      "metadata": {
        "id": "3f0cf73d"
      },
      "source": [
        "Finally, we calculate the label-wise accuracy and disparity."
      ]
    },
    {
      "cell_type": "code",
      "execution_count": 24,
      "id": "081d5cdc",
      "metadata": {
        "id": "081d5cdc",
        "colab": {
          "base_uri": "https://localhost:8080/"
        },
        "outputId": "eb14a583-49f3-4ba5-8459-530d47e8f007"
      },
      "outputs": [
        {
          "output_type": "execute_result",
          "data": {
            "text/plain": [
              "{'accuracy': {'skin_tone': 0.22533333333333333,\n",
              "  'gender': 0.7523333333333333,\n",
              "  'age': 0.5546666666666666},\n",
              " 'disparity': {'skin_tone': 0.22036391792489352,\n",
              "  'gender': 0.09417303065174187,\n",
              "  'age': 0.3951245763691837}}"
            ]
          },
          "metadata": {},
          "execution_count": 24
        }
      ],
      "source": [
        "# calculate accuracy\n",
        "acc = {}\n",
        "for i in range(3):\n",
        "    icat = cat[i]\n",
        "    iacc = accuracy_score(df_test[cat[i]], predLabels[i])\n",
        "    acc[icat] = iacc\n",
        "    \n",
        "# calculate disparity\n",
        "def disparity_score(ytrue, ypred):\n",
        "    cm = confusion_matrix(ytrue,ypred)\n",
        "    cm = cm.astype('float') / cm.sum(axis=1)[:, np.newaxis]\n",
        "    all_acc = list(cm.diagonal())\n",
        "    return max(all_acc) - min(all_acc)\n",
        "\n",
        "disp = {}\n",
        "for i in range(3):\n",
        "    icat = cat[i]\n",
        "    idisp = disparity_score(df_test[cat[i]], predLabels[i])\n",
        "    disp[icat] = idisp\n",
        "disp\n",
        "\n",
        "results = {'accuracy': acc, 'disparity': disp}\n",
        "results"
      ]
    },
    {
      "cell_type": "code",
      "source": [
        "import scipy.stats as stats\n",
        "\n",
        "true_acc = {}\n",
        "true_disp = {}\n",
        "for i in range(3):\n",
        "    icat = cat[i]\n",
        "    iacc = accuracy_score(df_test[:1000][face_indices.values][cat[i]], np.array(predLabels[i])[:1000][face_indices.values])\n",
        "    idisp = disparity_score(df_test[:1000][face_indices.values][cat[i]], np.array(predLabels[i])[:1000][face_indices.values])\n",
        "    true_acc[icat] = iacc\n",
        "    true_disp[icat] = idisp\n",
        "\n",
        "\n",
        "fake_acc = {}\n",
        "for i in range(3):\n",
        "    icat = cat[i]\n",
        "    obs = pd.Series(predLabels[i][:1000])[fake_indices.values].value_counts().values\n",
        "    e = obs.sum()/len(obs)\n",
        "    chi2 = ((obs - e)**2 / e).sum()\n",
        "    iacc = 1 - stats.chi2.cdf(chi2, df=len(obs)-1)\n",
        "    fake_acc[icat] = iacc\n",
        "\n",
        "true_results = {'accuracy': true_acc, 'disparity': true_disp, 'chi_square': fake_acc}\n"
      ],
      "metadata": {
        "id": "K7nOiCviWf0A"
      },
      "id": "K7nOiCviWf0A",
      "execution_count": 30,
      "outputs": []
    },
    {
      "cell_type": "code",
      "execution_count": 33,
      "id": "6aa9d711-f406-4683-9296-dbf2a3bd3a78",
      "metadata": {
        "id": "6aa9d711-f406-4683-9296-dbf2a3bd3a78",
        "colab": {
          "base_uri": "https://localhost:8080/"
        },
        "outputId": "b9e5798b-7173-428e-bb5e-d065b935c31f"
      },
      "outputs": [
        {
          "output_type": "stream",
          "name": "stdout",
          "text": [
            "{'accuracy': {'skin_tone': 0.2605140186915888, 'gender': 0.830607476635514, 'age': 0.625}, 'disparity': {'skin_tone': 0.2346610588817417, 'gender': 0.1157741913701128, 'age': 0.3774009858915519}, 'chi_square': {'skin_tone': 0.27570893677222197, 'gender': 0.8676323347781927, 'age': 0.16777400211514304}}\n"
          ]
        }
      ],
      "source": [
        "print(true_results)"
      ]
    },
    {
      "cell_type": "code",
      "execution_count": 28,
      "id": "5b025eb1-6cf0-4a91-8d21-64ef27f9c385",
      "metadata": {
        "id": "5b025eb1-6cf0-4a91-8d21-64ef27f9c385",
        "colab": {
          "base_uri": "https://localhost:8080/",
          "height": 855
        },
        "outputId": "c87649f2-8ccd-401f-809d-a11f3de7338c"
      },
      "outputs": [
        {
          "output_type": "stream",
          "name": "stdout",
          "text": [
            "skin_tone\n"
          ]
        },
        {
          "output_type": "display_data",
          "data": {
            "text/plain": [
              "<Figure size 432x288 with 2 Axes>"
            ],
            "image/png": "[encoded data removed]"
          },
          "metadata": {
            "needs_background": "light"
          }
        },
        {
          "output_type": "stream",
          "name": "stdout",
          "text": [
            "gender\n"
          ]
        },
        {
          "output_type": "display_data",
          "data": {
            "text/plain": [
              "<Figure size 432x288 with 2 Axes>"
            ],
            "image/png": "[encoded data removed]"
          },
          "metadata": {
            "needs_background": "light"
          }
        },
        {
          "output_type": "stream",
          "name": "stdout",
          "text": [
            "age\n"
          ]
        },
        {
          "output_type": "display_data",
          "data": {
            "text/plain": [
              "<Figure size 432x288 with 2 Axes>"
            ],
            "image/png": "[encoded data removed]"
          },
          "metadata": {
            "needs_background": "light"
          }
        }
      ],
      "source": [
        "import matplotlib.pyplot as plt\n",
        "\n",
        "for i in range(3):\n",
        "    print(cat[i])\n",
        "    ConfusionMatrixDisplay(confusion_matrix(df_test[cat[i]], predLabels[i])).plot()\n",
        "    plt.show()"
      ]
    },
    {
      "cell_type": "markdown",
      "id": "f20b0fcd",
      "metadata": {
        "id": "f20b0fcd"
      },
      "source": [
        "# Score Model and Prepare Submission\n",
        "\n",
        "Based on the above metric, we now calculate the score to evaluate your submission. This score will be displayed in your public leaderboard."
      ]
    },
    {
      "cell_type": "code",
      "execution_count": 32,
      "id": "db5b9086",
      "metadata": {
        "id": "db5b9086",
        "colab": {
          "base_uri": "https://localhost:8080/"
        },
        "outputId": "b208e65b-fcc1-4347-d86e-753837ce37f8"
      },
      "outputs": [
        {
          "output_type": "execute_result",
          "data": {
            "text/plain": [
              "{'submission_name': 'OIICrew',\n",
              " 'score': 5.487410872896863,\n",
              " 'metrics': {'accuracy': {'skin_tone': 0.22533333333333333,\n",
              "   'gender': 0.7523333333333333,\n",
              "   'age': 0.5546666666666666},\n",
              "  'disparity': {'skin_tone': 0.22036391792489352,\n",
              "   'gender': 0.09417303065174187,\n",
              "   'age': 0.3951245763691837}}}"
            ]
          },
          "metadata": {},
          "execution_count": 32
        }
      ],
      "source": [
        "def getScore(results):\n",
        "    acc = results['accuracy']\n",
        "    disp = results['disparity']\n",
        "    ad = 2*acc['gender']*(1-disp['gender']) + 4*acc['age']*(1-disp['age']**2) + 10*acc['skin_tone']*(1-disp['skin_tone']**5)\n",
        "    return ad\n",
        "\n",
        "title = 'OIICrew'\n",
        "    \n",
        "submission = {\n",
        "    'submission_name': title,\n",
        "    'score': getScore(results),\n",
        "    'metrics': results\n",
        "}\n",
        "\n",
        "   \n",
        "submission"
      ]
    },
    {
      "cell_type": "code",
      "source": [
        "getScore(true_results)"
      ],
      "metadata": {
        "colab": {
          "base_uri": "https://localhost:8080/"
        },
        "id": "BBFYy1T0ycET",
        "outputId": "f9043d90-483e-4d6d-91ef-779443b5804f"
      },
      "id": "BBFYy1T0ycET",
      "execution_count": 35,
      "outputs": [
        {
          "output_type": "execute_result",
          "data": {
            "text/plain": [
              "6.21609687564982"
            ]
          },
          "metadata": {},
          "execution_count": 35
        }
      ]
    },
    {
      "cell_type": "markdown",
      "id": "19070a4e",
      "metadata": {
        "id": "19070a4e"
      },
      "source": [
        "Finally, let's export this as a json file to upload as part of filling out your [submission form](https://docs.google.com/forms/d/e/1FAIpQLSfwqtVkJBVRP6TnFp7vHbbH8SlwKZJFIjvGQy7TyYFc8HR1hw/viewform)."
      ]
    },
    {
      "cell_type": "code",
      "execution_count": null,
      "id": "34c30e37",
      "metadata": {
        "id": "34c30e37"
      },
      "outputs": [],
      "source": [
        "with open(\"model_score.json\", \"w\") as f:\n",
        "    json.dump(submission, f, indent=4)"
      ]
    }
  ],
  "metadata": {
    "kernelspec": {
      "display_name": "Python 3 (ipykernel)",
      "language": "python",
      "name": "python3"
    },
    "language_info": {
      "codemirror_mode": {
        "name": "ipython",
        "version": 3
      },
      "file_extension": ".py",
      "mimetype": "text/x-python",
      "name": "python",
      "nbconvert_exporter": "python",
      "pygments_lexer": "ipython3",
      "version": "3.9.12"
    },
    "colab": {
      "provenance": []
    },
    "accelerator": "GPU",
    "gpuClass": "standard"
  },
  "nbformat": 4,
  "nbformat_minor": 5
}